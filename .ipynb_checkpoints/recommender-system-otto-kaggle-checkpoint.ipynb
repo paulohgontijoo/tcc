{
 "cells": [
  {
   "cell_type": "markdown",
   "metadata": {
    "id": "IXZTgN3G2-pZ"
   },
   "source": [
    "# Artigo 7\n",
    "* Aluno: Paulo Henrique Costa Gontijo\n",
    "* Matrícula: 15/0143800\n",
    "* Lição: **\n",
    "* Notebooks: \n",
    "  * **\n",
    "  * **\n",
    "\n",
    "| Hitórico de versão | Data |\n",
    "|:--------------------:|:------:|\n",
    "| v1 | 24/01/2023 |\n",
    "\n",
    "## Propósito\n",
    "Este artigo tem a intenção de documentar o passo a passo da quarta lição do curso, mostrando os blocos de códigos, o resultado das execuções, eventuais problemas encontrados e, se houver, as possíveis soluções para os problemas.\n",
    "\n",
    "## Tema\n",
    "A lição 7 do curso FastAi contempla conceitos como Filtro Colaborativo, viés de usuário e produto. Dentre estes tópicos, são apresentadas técnicas de análise e treinamento de modelos específico para o tema."
   ]
  },
  {
   "cell_type": "code",
   "execution_count": 1,
   "metadata": {
    "colab": {
     "base_uri": "https://localhost:8080/"
    },
    "executionInfo": {
     "elapsed": 74339,
     "status": "ok",
     "timestamp": 1684604077869,
     "user": {
      "displayName": "",
      "userId": ""
     },
     "user_tz": 180
    },
    "id": "h0PdKSSg3IgE",
    "outputId": "aac648cb-da07-4d25-d3ed-4543ae204c5a"
   },
   "outputs": [],
   "source": [
    "# !pip install pyspark fastai fastbook -q"
   ]
  },
  {
   "cell_type": "code",
   "execution_count": 2,
   "metadata": {
    "id": "A3M3dnOX3wv_"
   },
   "outputs": [],
   "source": [
    "# from google.colab import drive\n",
    "# drive.mount('/content/gdrive')"
   ]
  },
  {
   "cell_type": "code",
   "execution_count": 3,
   "metadata": {
    "colab": {
     "base_uri": "https://localhost:8080/",
     "height": 160
    },
    "executionInfo": {
     "elapsed": 43927,
     "status": "ok",
     "timestamp": 1684604197647,
     "user": {
      "displayName": "",
      "userId": ""
     },
     "user_tz": 180
    },
    "id": "5bjScV4J32zG",
    "outputId": "8c0a56fb-00b3-4515-ce66-4f9863c28b72"
   },
   "outputs": [],
   "source": [
    "# # from google.colab import files\n",
    "# #\n",
    "# # files.upload() #this will prompt you to upload the kaggle.json\n",
    "#\n",
    "# !ls -lha kaggle.json\n",
    "#\n",
    "# # Install kaggle API client\n",
    "# !pip install -q kaggle\n",
    "#\n",
    "# # kaggle API client expects the file to be in ~/.kaggle\n",
    "#\n",
    "# # so move it there\n",
    "# !mkdir -p ~/.kaggle\n",
    "# !cp kaggle.json ~/.kaggle/\n",
    "#\n",
    "# # we need to set permissions\n",
    "# !chmod 600 /root/.kaggle/kaggle.json\n",
    "#\n",
    "# # check your directory before downloading the datasets\n",
    "# !pwd\n",
    "#\n",
    "# # # list all available datasets\n",
    "# # !kaggle datasets list\n",
    "#\n",
    "# # download the required dataset from kaggle\n",
    "# !kaggle competitions download -c otto-recommender-system\n",
    "\n",
    "# # If your file is a zip file you can unzip with the following code\n",
    "# !unzip /content/otto-recommender-system.zip"
   ]
  },
  {
   "cell_type": "code",
   "execution_count": 4,
   "metadata": {
    "colab": {
     "base_uri": "https://localhost:8080/"
    },
    "executionInfo": {
     "elapsed": 147220,
     "status": "ok",
     "timestamp": 1684604409560,
     "user": {
      "displayName": "",
      "userId": ""
     },
     "user_tz": 180
    },
    "id": "49F5e7Io4w6B",
    "outputId": "056bb381-3098-48f4-b9d4-967c1f9e18b2"
   },
   "outputs": [],
   "source": [
    "# !unzip ./otto-recommender-system.zip"
   ]
  },
  {
   "cell_type": "markdown",
   "metadata": {
    "id": "Szr4Tj2M2-pb"
   },
   "source": [
    "## Importação das Bibliotecas"
   ]
  },
  {
   "cell_type": "code",
   "execution_count": 5,
   "metadata": {
    "id": "fL6U9GSO2-pc",
    "pycharm": {
     "name": "#%%\n"
    }
   },
   "outputs": [],
   "source": [
    "import os\n",
    "import pandas as pd\n",
    "\n",
    "file_name = 'train.jsonl'\n",
    "file_path = '/'.join([os.getcwd(), file_name])"
   ]
  },
  {
   "cell_type": "markdown",
   "metadata": {
    "id": "YRidSkR12-pc"
   },
   "source": [
    "## Criando Cluster Spark"
   ]
  },
  {
   "cell_type": "code",
   "execution_count": 6,
   "metadata": {
    "colab": {
     "base_uri": "https://localhost:8080/"
    },
    "executionInfo": {
     "elapsed": 11226,
     "status": "ok",
     "timestamp": 1684604598002,
     "user": {
      "displayName": "",
      "userId": ""
     },
     "user_tz": 180
    },
    "id": "tn2FFG2I2-pc",
    "outputId": "aa718515-9216-4b5e-84de-08d048dab075",
    "pycharm": {
     "name": "#%%\n"
    }
   },
   "outputs": [
    {
     "name": "stderr",
     "output_type": "stream",
     "text": [
      "23/05/20 18:41:55 WARN Utils: Your hostname, gobellek-B660M-DS3H-DDR4 resolves to a loopback address: 127.0.1.1; using 192.168.0.37 instead (on interface enp3s0)\n",
      "23/05/20 18:41:55 WARN Utils: Set SPARK_LOCAL_IP if you need to bind to another address\n",
      "Setting default log level to \"WARN\".\n",
      "To adjust logging level use sc.setLogLevel(newLevel). For SparkR, use setLogLevel(newLevel).\n",
      "23/05/20 18:41:56 WARN NativeCodeLoader: Unable to load native-hadoop library for your platform... using builtin-java classes where applicable\n"
     ]
    },
    {
     "name": "stdout",
     "output_type": "stream",
     "text": [
      "[('spark.executor.pyspark.memory', '24g'), ('spark.checkpoint.compress', 'true'), ('spark.app.submitTime', '1684618916165'), ('spark.app.name', 'otto-reccomender-competition-kaggle'), ('spark.sql.execution.arrow.pyspark.fallback.enabled', 'true'), ('spark.sql.catalogImplementation', 'hive'), ('spark.driver.memory', '8g'), ('spark.driver.maxResultSize', '0'), ('spark.sql.shuffle.partitions', '200'), ('spark.master', 'local[*]'), ('spark.submit.pyFiles', ''), ('spark.submit.deployMode', 'client'), ('spark.ui.showConsoleProgress', 'true'), ('spark.sql.warehouse.dir', '/home/gobellek/Documents/UnB/Tcc/spark-warehouse'), ('spark.sql.execution.arrow.pyspark.enabled', 'true'), ('spark.sql.files.maxPartitionBytes', '1g')]\n"
     ]
    }
   ],
   "source": [
    "from pyspark.sql import SparkSession\n",
    "from pyspark import SparkConf\n",
    "from os.path import abspath\n",
    "\n",
    "warehouse_location = abspath('spark-warehouse')\n",
    "\n",
    "    # init session\n",
    "spark = SparkSession \\\n",
    "        .builder \\\n",
    "        .appName(\"otto-reccomender-competition-kaggle\") \\\n",
    "        .config(\"spark.sql.warehouse.dir\", abspath('spark-warehouse')) \\\n",
    "        .config(\"spark.sql.execution.arrow.pyspark.enabled\", \"true\")\\\n",
    "        .config(\"spark.sql.execution.arrow.pyspark.fallback.enabled\", \"true\")\\\n",
    "        .config(\"spark.sql.files.maxPartitionBytes\", \"1g\")\\\n",
    "        .config(\"spark.sql.shuffle.partitions\", \"200\")\\\n",
    "        .config(\"spark.driver.maxResultSize\", \"0\")\\\n",
    "        .config(\"spark.driver.memory\", \"8g\")\\\n",
    "        .config(\"spark.executor.pyspark.memory\", \"24g\")\\\n",
    "        .config(\"spark.checkpoint.compress\", \"true\")\\\n",
    "        .enableHiveSupport() \\\n",
    "        .getOrCreate()\n",
    "\n",
    "# show configured parameters\n",
    "print(SparkConf().getAll())\n",
    "\n",
    "# set log level\n",
    "spark.sparkContext.setLogLevel(\"FATAL\")"
   ]
  },
  {
   "cell_type": "markdown",
   "metadata": {
    "id": "Bm3hqaH02-pd"
   },
   "source": [
    "* Conferindo o instanciamento"
   ]
  },
  {
   "cell_type": "code",
   "execution_count": 7,
   "metadata": {
    "colab": {
     "base_uri": "https://localhost:8080/",
     "height": 219
    },
    "executionInfo": {
     "elapsed": 1819,
     "status": "ok",
     "timestamp": 1684604599818,
     "user": {
      "displayName": "",
      "userId": ""
     },
     "user_tz": 180
    },
    "id": "HlT2vZL12-pd",
    "outputId": "989d5f12-7fdd-424d-ced7-40ed32d5717c",
    "pycharm": {
     "name": "#%%\n"
    }
   },
   "outputs": [
    {
     "data": {
      "text/html": [
       "\n",
       "            <div>\n",
       "                <p><b>SparkSession - hive</b></p>\n",
       "                \n",
       "        <div>\n",
       "            <p><b>SparkContext</b></p>\n",
       "\n",
       "            <p><a href=\"http://192.168.0.37:4040\">Spark UI</a></p>\n",
       "\n",
       "            <dl>\n",
       "              <dt>Version</dt>\n",
       "                <dd><code>v3.4.0</code></dd>\n",
       "              <dt>Master</dt>\n",
       "                <dd><code>local[*]</code></dd>\n",
       "              <dt>AppName</dt>\n",
       "                <dd><code>otto-reccomender-competition-kaggle</code></dd>\n",
       "            </dl>\n",
       "        </div>\n",
       "        \n",
       "            </div>\n",
       "        "
      ],
      "text/plain": [
       "<pyspark.sql.session.SparkSession at 0x7f9039cfd6f0>"
      ]
     },
     "execution_count": 7,
     "metadata": {},
     "output_type": "execute_result"
    }
   ],
   "source": [
    "spark"
   ]
  },
  {
   "cell_type": "code",
   "execution_count": 8,
   "metadata": {
    "colab": {
     "base_uri": "https://localhost:8080/"
    },
    "executionInfo": {
     "elapsed": 416,
     "status": "ok",
     "timestamp": 1684604600230,
     "user": {
      "displayName": "",
      "userId": ""
     },
     "user_tz": 180
    },
    "id": "33y55OoM2-pd",
    "outputId": "787a2254-2dc1-461d-fb43-dcd15a3673a4",
    "pycharm": {
     "name": "#%%\n"
    }
   },
   "outputs": [],
   "source": [
    "# import pyspark.pandas as ps\n",
    "# ps.set_option('compute.ops_on_diff_frames', True)"
   ]
  },
  {
   "cell_type": "markdown",
   "metadata": {
    "id": "2yC64SUC2-pd"
   },
   "source": [
    "* Leitura do arquivo disponibilizado na competição kaggle: [link.](https://www.kaggle.com/competitions/otto-recommender-system/overview/)"
   ]
  },
  {
   "cell_type": "code",
   "execution_count": 9,
   "metadata": {
    "colab": {
     "base_uri": "https://localhost:8080/"
    },
    "executionInfo": {
     "elapsed": 242155,
     "status": "ok",
     "timestamp": 1684604842382,
     "user": {
      "displayName": "",
      "userId": ""
     },
     "user_tz": 180
    },
    "id": "020WZgkA2-pe",
    "outputId": "626bf217-dcfe-4419-f511-d6b18f957e28",
    "pycharm": {
     "name": "#%%\n"
    }
   },
   "outputs": [
    {
     "name": "stderr",
     "output_type": "stream",
     "text": [
      "                                                                                \r"
     ]
    },
    {
     "data": {
      "text/plain": [
       "['events', 'session']"
      ]
     },
     "execution_count": 9,
     "metadata": {},
     "output_type": "execute_result"
    }
   ],
   "source": [
    "df_raw = spark.read \\\n",
    "    .format(\"json\") \\\n",
    "    .option(\"inferSchema\", \"true\") \\\n",
    "    .option(\"header\", \"true\") \\\n",
    "    .json(file_path).persist()\n",
    "df_raw.columns"
   ]
  },
  {
   "cell_type": "markdown",
   "metadata": {
    "id": "TeMQZn0v2-pe"
   },
   "source": [
    "* Conferindo número de partições e conteúdo"
   ]
  },
  {
   "cell_type": "code",
   "execution_count": 10,
   "metadata": {
    "colab": {
     "base_uri": "https://localhost:8080/"
    },
    "executionInfo": {
     "elapsed": 8,
     "status": "ok",
     "timestamp": 1684604842382,
     "user": {
      "displayName": "",
      "userId": ""
     },
     "user_tz": 180
    },
    "id": "7qQiUs1v2-pe",
    "outputId": "b978eb4c-2266-463c-a3ba-5579720cbe22",
    "pycharm": {
     "name": "#%%\n"
    }
   },
   "outputs": [
    {
     "name": "stdout",
     "output_type": "stream",
     "text": [
      "20\n"
     ]
    }
   ],
   "source": [
    "print(df_raw.rdd.getNumPartitions())"
   ]
  },
  {
   "cell_type": "code",
   "execution_count": 9,
   "metadata": {
    "pycharm": {
     "name": "#%%\n"
    }
   },
   "outputs": [
    {
     "name": "stderr",
     "output_type": "stream",
     "text": [
      "[Stage 1:>                                                          (0 + 1) / 1]\r"
     ]
    },
    {
     "name": "stdout",
     "output_type": "stream",
     "text": [
      "+--------------------+-------+\n",
      "|              events|session|\n",
      "+--------------------+-------+\n",
      "|[{1517085, 165930...|      0|\n",
      "|[{424964, 1659304...|      1|\n",
      "|[{763743, 1659304...|      2|\n",
      "|[{1425967, 165930...|      3|\n",
      "|[{613619, 1659304...|      4|\n",
      "|[{1098089, 165930...|      5|\n",
      "|[{137164, 1659304...|      6|\n",
      "|[{87774, 16593048...|      7|\n",
      "|[{1814223, 165930...|      8|\n",
      "|[{847707, 1659304...|      9|\n",
      "+--------------------+-------+\n",
      "only showing top 10 rows\n",
      "\n"
     ]
    },
    {
     "name": "stderr",
     "output_type": "stream",
     "text": [
      "                                                                                \r"
     ]
    }
   ],
   "source": [
    "df_raw.show(10)"
   ]
  },
  {
   "cell_type": "markdown",
   "metadata": {
    "id": "GODq7Emr2-pe"
   },
   "source": [
    "* Contagem de linhas em arquivo bruto"
   ]
  },
  {
   "cell_type": "code",
   "execution_count": 10,
   "metadata": {
    "colab": {
     "base_uri": "https://localhost:8080/"
    },
    "executionInfo": {
     "elapsed": 122663,
     "status": "ok",
     "timestamp": 1684604965854,
     "user": {
      "displayName": "",
      "userId": ""
     },
     "user_tz": 180
    },
    "id": "9pVb84I72-pe",
    "outputId": "05574ab2-ef56-40f8-85a3-67c1d34944c3",
    "pycharm": {
     "name": "#%%\n"
    }
   },
   "outputs": [
    {
     "name": "stderr",
     "output_type": "stream",
     "text": [
      "ERROR:root:Exception while sending command.                       (1 + 19) / 20]\n",
      "Traceback (most recent call last):\n",
      "  File \"/home/gobellek/Documents/UnB/Tcc/venv/lib/python3.10/site-packages/py4j/clientserver.py\", line 516, in send_command\n",
      "    raise Py4JNetworkError(\"Answer from Java side is empty\")\n",
      "py4j.protocol.Py4JNetworkError: Answer from Java side is empty\n",
      "\n",
      "During handling of the above exception, another exception occurred:\n",
      "\n",
      "Traceback (most recent call last):\n",
      "  File \"/home/gobellek/Documents/UnB/Tcc/venv/lib/python3.10/site-packages/py4j/java_gateway.py\", line 1038, in send_command\n",
      "    response = connection.send_command(command)\n",
      "  File \"/home/gobellek/Documents/UnB/Tcc/venv/lib/python3.10/site-packages/py4j/clientserver.py\", line 539, in send_command\n",
      "    raise Py4JNetworkError(\n",
      "py4j.protocol.Py4JNetworkError: Error while sending or receiving\n"
     ]
    },
    {
     "ename": "Py4JError",
     "evalue": "An error occurred while calling o72.count",
     "output_type": "error",
     "traceback": [
      "\u001b[0;31m---------------------------------------------------------------------------\u001b[0m",
      "\u001b[0;31mPy4JError\u001b[0m                                 Traceback (most recent call last)",
      "Cell \u001b[0;32mIn[10], line 1\u001b[0m\n\u001b[0;32m----> 1\u001b[0m \u001b[43mdf_raw\u001b[49m\u001b[38;5;241;43m.\u001b[39;49m\u001b[43mcount\u001b[49m\u001b[43m(\u001b[49m\u001b[43m)\u001b[49m\n",
      "File \u001b[0;32m~/Documents/UnB/Tcc/venv/lib/python3.10/site-packages/pyspark/sql/dataframe.py:1193\u001b[0m, in \u001b[0;36mDataFrame.count\u001b[0;34m(self)\u001b[0m\n\u001b[1;32m   1170\u001b[0m \u001b[38;5;28;01mdef\u001b[39;00m \u001b[38;5;21mcount\u001b[39m(\u001b[38;5;28mself\u001b[39m) \u001b[38;5;241m-\u001b[39m\u001b[38;5;241m>\u001b[39m \u001b[38;5;28mint\u001b[39m:\n\u001b[1;32m   1171\u001b[0m \u001b[38;5;250m    \u001b[39m\u001b[38;5;124;03m\"\"\"Returns the number of rows in this :class:`DataFrame`.\u001b[39;00m\n\u001b[1;32m   1172\u001b[0m \n\u001b[1;32m   1173\u001b[0m \u001b[38;5;124;03m    .. versionadded:: 1.3.0\u001b[39;00m\n\u001b[0;32m   (...)\u001b[0m\n\u001b[1;32m   1191\u001b[0m \u001b[38;5;124;03m    3\u001b[39;00m\n\u001b[1;32m   1192\u001b[0m \u001b[38;5;124;03m    \"\"\"\u001b[39;00m\n\u001b[0;32m-> 1193\u001b[0m     \u001b[38;5;28;01mreturn\u001b[39;00m \u001b[38;5;28mint\u001b[39m(\u001b[38;5;28;43mself\u001b[39;49m\u001b[38;5;241;43m.\u001b[39;49m\u001b[43m_jdf\u001b[49m\u001b[38;5;241;43m.\u001b[39;49m\u001b[43mcount\u001b[49m\u001b[43m(\u001b[49m\u001b[43m)\u001b[49m)\n",
      "File \u001b[0;32m~/Documents/UnB/Tcc/venv/lib/python3.10/site-packages/py4j/java_gateway.py:1322\u001b[0m, in \u001b[0;36mJavaMember.__call__\u001b[0;34m(self, *args)\u001b[0m\n\u001b[1;32m   1316\u001b[0m command \u001b[38;5;241m=\u001b[39m proto\u001b[38;5;241m.\u001b[39mCALL_COMMAND_NAME \u001b[38;5;241m+\u001b[39m\\\n\u001b[1;32m   1317\u001b[0m     \u001b[38;5;28mself\u001b[39m\u001b[38;5;241m.\u001b[39mcommand_header \u001b[38;5;241m+\u001b[39m\\\n\u001b[1;32m   1318\u001b[0m     args_command \u001b[38;5;241m+\u001b[39m\\\n\u001b[1;32m   1319\u001b[0m     proto\u001b[38;5;241m.\u001b[39mEND_COMMAND_PART\n\u001b[1;32m   1321\u001b[0m answer \u001b[38;5;241m=\u001b[39m \u001b[38;5;28mself\u001b[39m\u001b[38;5;241m.\u001b[39mgateway_client\u001b[38;5;241m.\u001b[39msend_command(command)\n\u001b[0;32m-> 1322\u001b[0m return_value \u001b[38;5;241m=\u001b[39m \u001b[43mget_return_value\u001b[49m\u001b[43m(\u001b[49m\n\u001b[1;32m   1323\u001b[0m \u001b[43m    \u001b[49m\u001b[43manswer\u001b[49m\u001b[43m,\u001b[49m\u001b[43m \u001b[49m\u001b[38;5;28;43mself\u001b[39;49m\u001b[38;5;241;43m.\u001b[39;49m\u001b[43mgateway_client\u001b[49m\u001b[43m,\u001b[49m\u001b[43m \u001b[49m\u001b[38;5;28;43mself\u001b[39;49m\u001b[38;5;241;43m.\u001b[39;49m\u001b[43mtarget_id\u001b[49m\u001b[43m,\u001b[49m\u001b[43m \u001b[49m\u001b[38;5;28;43mself\u001b[39;49m\u001b[38;5;241;43m.\u001b[39;49m\u001b[43mname\u001b[49m\u001b[43m)\u001b[49m\n\u001b[1;32m   1325\u001b[0m \u001b[38;5;28;01mfor\u001b[39;00m temp_arg \u001b[38;5;129;01min\u001b[39;00m temp_args:\n\u001b[1;32m   1326\u001b[0m     \u001b[38;5;28;01mif\u001b[39;00m \u001b[38;5;28mhasattr\u001b[39m(temp_arg, \u001b[38;5;124m\"\u001b[39m\u001b[38;5;124m_detach\u001b[39m\u001b[38;5;124m\"\u001b[39m):\n",
      "File \u001b[0;32m~/Documents/UnB/Tcc/venv/lib/python3.10/site-packages/pyspark/errors/exceptions/captured.py:169\u001b[0m, in \u001b[0;36mcapture_sql_exception.<locals>.deco\u001b[0;34m(*a, **kw)\u001b[0m\n\u001b[1;32m    167\u001b[0m \u001b[38;5;28;01mdef\u001b[39;00m \u001b[38;5;21mdeco\u001b[39m(\u001b[38;5;241m*\u001b[39ma: Any, \u001b[38;5;241m*\u001b[39m\u001b[38;5;241m*\u001b[39mkw: Any) \u001b[38;5;241m-\u001b[39m\u001b[38;5;241m>\u001b[39m Any:\n\u001b[1;32m    168\u001b[0m     \u001b[38;5;28;01mtry\u001b[39;00m:\n\u001b[0;32m--> 169\u001b[0m         \u001b[38;5;28;01mreturn\u001b[39;00m \u001b[43mf\u001b[49m\u001b[43m(\u001b[49m\u001b[38;5;241;43m*\u001b[39;49m\u001b[43ma\u001b[49m\u001b[43m,\u001b[49m\u001b[43m \u001b[49m\u001b[38;5;241;43m*\u001b[39;49m\u001b[38;5;241;43m*\u001b[39;49m\u001b[43mkw\u001b[49m\u001b[43m)\u001b[49m\n\u001b[1;32m    170\u001b[0m     \u001b[38;5;28;01mexcept\u001b[39;00m Py4JJavaError \u001b[38;5;28;01mas\u001b[39;00m e:\n\u001b[1;32m    171\u001b[0m         converted \u001b[38;5;241m=\u001b[39m convert_exception(e\u001b[38;5;241m.\u001b[39mjava_exception)\n",
      "File \u001b[0;32m~/Documents/UnB/Tcc/venv/lib/python3.10/site-packages/py4j/protocol.py:334\u001b[0m, in \u001b[0;36mget_return_value\u001b[0;34m(answer, gateway_client, target_id, name)\u001b[0m\n\u001b[1;32m    330\u001b[0m             \u001b[38;5;28;01mraise\u001b[39;00m Py4JError(\n\u001b[1;32m    331\u001b[0m                 \u001b[38;5;124m\"\u001b[39m\u001b[38;5;124mAn error occurred while calling \u001b[39m\u001b[38;5;132;01m{0}\u001b[39;00m\u001b[38;5;132;01m{1}\u001b[39;00m\u001b[38;5;132;01m{2}\u001b[39;00m\u001b[38;5;124m. Trace:\u001b[39m\u001b[38;5;130;01m\\n\u001b[39;00m\u001b[38;5;132;01m{3}\u001b[39;00m\u001b[38;5;130;01m\\n\u001b[39;00m\u001b[38;5;124m\"\u001b[39m\u001b[38;5;241m.\u001b[39m\n\u001b[1;32m    332\u001b[0m                 \u001b[38;5;28mformat\u001b[39m(target_id, \u001b[38;5;124m\"\u001b[39m\u001b[38;5;124m.\u001b[39m\u001b[38;5;124m\"\u001b[39m, name, value))\n\u001b[1;32m    333\u001b[0m     \u001b[38;5;28;01melse\u001b[39;00m:\n\u001b[0;32m--> 334\u001b[0m         \u001b[38;5;28;01mraise\u001b[39;00m Py4JError(\n\u001b[1;32m    335\u001b[0m             \u001b[38;5;124m\"\u001b[39m\u001b[38;5;124mAn error occurred while calling \u001b[39m\u001b[38;5;132;01m{0}\u001b[39;00m\u001b[38;5;132;01m{1}\u001b[39;00m\u001b[38;5;132;01m{2}\u001b[39;00m\u001b[38;5;124m\"\u001b[39m\u001b[38;5;241m.\u001b[39m\n\u001b[1;32m    336\u001b[0m             \u001b[38;5;28mformat\u001b[39m(target_id, \u001b[38;5;124m\"\u001b[39m\u001b[38;5;124m.\u001b[39m\u001b[38;5;124m\"\u001b[39m, name))\n\u001b[1;32m    337\u001b[0m \u001b[38;5;28;01melse\u001b[39;00m:\n\u001b[1;32m    338\u001b[0m     \u001b[38;5;28mtype\u001b[39m \u001b[38;5;241m=\u001b[39m answer[\u001b[38;5;241m1\u001b[39m]\n",
      "\u001b[0;31mPy4JError\u001b[0m: An error occurred while calling o72.count"
     ]
    }
   ],
   "source": [
    "df_raw.count()"
   ]
  },
  {
   "cell_type": "code",
   "execution_count": null,
   "metadata": {
    "colab": {
     "base_uri": "https://localhost:8080/"
    },
    "executionInfo": {
     "elapsed": 12,
     "status": "ok",
     "timestamp": 1684604965854,
     "user": {
      "displayName": "",
      "userId": ""
     },
     "user_tz": 180
    },
    "id": "FfeSe3Cv2-pf",
    "outputId": "400b16fd-b888-4253-e7a5-e9d737cf0067",
    "pycharm": {
     "is_executing": true,
     "name": "#%%\n"
    }
   },
   "outputs": [],
   "source": [
    "df_raw.printSchema()"
   ]
  },
  {
   "cell_type": "markdown",
   "metadata": {
    "id": "YLWu6w3R2-pf"
   },
   "source": [
    "* Processamento de Json para formato tabular"
   ]
  },
  {
   "cell_type": "code",
   "execution_count": null,
   "metadata": {
    "colab": {
     "base_uri": "https://localhost:8080/"
    },
    "executionInfo": {
     "elapsed": 702,
     "status": "ok",
     "timestamp": 1684604966546,
     "user": {
      "displayName": "",
      "userId": ""
     },
     "user_tz": 180
    },
    "id": "1KhqqFOX2-pf",
    "outputId": "79149793-333d-4e68-b275-08094da666dc",
    "pycharm": {
     "is_executing": true,
     "name": "#%%\n"
    }
   },
   "outputs": [],
   "source": [
    "from pyspark.sql import functions as F\n",
    "from pyspark.sql import types as T\n",
    "df_explode = df_raw.withColumn('events_explode', F.explode('events'))\\\n",
    "                    .withColumn('session', F.col('session').cast(T.IntegerType()))\\\n",
    "                    .withColumn('aid', F.col('events_explode.aid').cast(T.IntegerType()))\\\n",
    "                    .withColumn('ts', F.col('events_explode.ts'))\\\n",
    "                    .withColumn('type', F.col('events_explode.type'))\\\n",
    "                    .drop('events', 'events_explode')\n",
    "df_explode.show(10)"
   ]
  },
  {
   "cell_type": "markdown",
   "metadata": {
    "id": "Zzfeydt02-pf"
   },
   "source": [
    "* Contagem de linhas após o tratamento"
   ]
  },
  {
   "cell_type": "code",
   "execution_count": null,
   "metadata": {
    "colab": {
     "base_uri": "https://localhost:8080/"
    },
    "executionInfo": {
     "elapsed": 429864,
     "status": "ok",
     "timestamp": 1684605396407,
     "user": {
      "displayName": "",
      "userId": ""
     },
     "user_tz": 180
    },
    "id": "ySwmjzMS2-pf",
    "outputId": "17e64b00-47bd-45cd-f64b-ba1a3b890e04",
    "pycharm": {
     "is_executing": true,
     "name": "#%%\n"
    }
   },
   "outputs": [],
   "source": [
    "df_explode.count()"
   ]
  },
  {
   "cell_type": "markdown",
   "metadata": {
    "id": "x7yVJdnI2-pf"
   },
   "source": [
    "* Schema pós tratamento"
   ]
  },
  {
   "cell_type": "code",
   "execution_count": null,
   "metadata": {
    "colab": {
     "base_uri": "https://localhost:8080/"
    },
    "executionInfo": {
     "elapsed": 11,
     "status": "ok",
     "timestamp": 1684605396407,
     "user": {
      "displayName": "",
      "userId": ""
     },
     "user_tz": 180
    },
    "id": "8ZxgIbj32-pf",
    "outputId": "847edba3-7bad-4675-d84b-c6530f370f64",
    "pycharm": {
     "is_executing": true,
     "name": "#%%\n"
    }
   },
   "outputs": [],
   "source": [
    "df_explode.printSchema()"
   ]
  },
  {
   "cell_type": "markdown",
   "metadata": {
    "id": "5TT0UYu02-pf"
   },
   "source": [
    "* Categorização de coluna alvo string"
   ]
  },
  {
   "cell_type": "code",
   "execution_count": null,
   "metadata": {
    "id": "SqWrsvrd2-pg",
    "pycharm": {
     "is_executing": true,
     "name": "#%%\n"
    }
   },
   "outputs": [],
   "source": [
    "from pyspark.ml.feature import StringIndexer\n",
    "indexer = StringIndexer(inputCol='type', outputCol='type_cat')\n",
    "indexer_fitted = indexer.fit(df_explode)\n",
    "df_indexed = indexer_fitted.transform(df_explode)\n",
    "df_indexed = df_indexed.withColumn('type_cat', F.col('type_cat').cast(T.IntegerType())).drop('type')\n",
    "df_indexed = df_indexed.drop('ts').persist()\n",
    "df_indexed.show(10)"
   ]
  },
  {
   "cell_type": "markdown",
   "metadata": {
    "id": "9sBflvQP2-pg"
   },
   "source": [
    "* Conferência de schema pós tratativas"
   ]
  },
  {
   "cell_type": "code",
   "execution_count": null,
   "metadata": {
    "id": "XlYapJnq2-pg",
    "pycharm": {
     "is_executing": true,
     "name": "#%%\n"
    }
   },
   "outputs": [],
   "source": [
    "df_indexed.printSchema()"
   ]
  },
  {
   "cell_type": "markdown",
   "metadata": {
    "id": "KV9OHMjl2-pg"
   },
   "source": [
    "* Estatísticas em amostra"
   ]
  },
  {
   "cell_type": "markdown",
   "metadata": {
    "id": "uz5hvXWe2-pg"
   },
   "source": [
    "## Análise de Clientes"
   ]
  },
  {
   "cell_type": "markdown",
   "metadata": {
    "id": "g-hOLkW72-pg"
   },
   "source": [
    "* Quantidade de clientes únicos"
   ]
  },
  {
   "cell_type": "code",
   "execution_count": null,
   "metadata": {
    "id": "88JSNEcL2-pg",
    "pycharm": {
     "is_executing": true,
     "name": "#%%\n"
    }
   },
   "outputs": [],
   "source": [
    "# df_indexed.select('session').distinct().count()"
   ]
  },
  {
   "cell_type": "markdown",
   "metadata": {
    "id": "_QhaPkaL2-pg"
   },
   "source": [
    "## Análise de Produtos"
   ]
  },
  {
   "cell_type": "markdown",
   "metadata": {
    "id": "kyGzhjmU2-pg"
   },
   "source": [
    "* Quantidade de produtos únicos"
   ]
  },
  {
   "cell_type": "code",
   "execution_count": null,
   "metadata": {
    "id": "Kovb8Gd02-pg",
    "pycharm": {
     "is_executing": true,
     "name": "#%%\n"
    }
   },
   "outputs": [],
   "source": [
    "# df_indexed.select('aid').distinct().count()"
   ]
  },
  {
   "cell_type": "markdown",
   "metadata": {
    "id": "LJEw7zThN6sq"
   },
   "source": [
    "# Preparando matrizes\n",
    "* Esparsa - binária se usuário interagiu com produto\n",
    "* Probabilidade - modelo de regressão para target de interação\n",
    "\n",
    "A multiplicação dessas matrizes devem resultar na matriz probalididade, a quel deve ser rankeada com N melhores produtos para cada usuário."
   ]
  },
  {
   "cell_type": "code",
   "execution_count": 28,
   "metadata": {
    "id": "peZCGm4aN5-6"
   },
   "outputs": [
    {
     "name": "stderr",
     "output_type": "stream",
     "text": [
      "                                                                                \r"
     ]
    },
    {
     "data": {
      "text/plain": [
       "150785701"
      ]
     },
     "execution_count": 28,
     "metadata": {},
     "output_type": "execute_result"
    }
   ],
   "source": [
    "df_indexed_droped = df_indexed.dropDuplicates().persist()\n",
    "df_indexed_droped.count()"
   ]
  },
  {
   "cell_type": "code",
   "execution_count": 29,
   "metadata": {
    "id": "dOufeEDdN56X"
   },
   "outputs": [
    {
     "name": "stdout",
     "output_type": "stream",
     "text": [
      "+-------+-------+--------+\n",
      "|session|    aid|type_cat|\n",
      "+-------+-------+--------+\n",
      "|      0| 892659|       0|\n",
      "|      3| 727609|       0|\n",
      "|      7|1209125|       0|\n",
      "|     11|1237227|       0|\n",
      "|     13|  22195|       0|\n",
      "|     14|1547907|       0|\n",
      "|     17|1181318|       0|\n",
      "|     19| 814283|       0|\n",
      "|     21|1390765|       0|\n",
      "|     21| 502632|       0|\n",
      "|     23| 365121|       0|\n",
      "|     28|1708372|       2|\n",
      "|     28| 647338|       0|\n",
      "|     35| 729054|       0|\n",
      "|     37| 151775|       0|\n",
      "|     47|1308823|       1|\n",
      "|     48|1806232|       0|\n",
      "|     49|1677243|       0|\n",
      "|     53| 238804|       1|\n",
      "|     55| 401912|       0|\n",
      "|     56| 558628|       0|\n",
      "|     62| 397851|       0|\n",
      "|     68| 328871|       0|\n",
      "|     68| 664765|       0|\n",
      "|     71|1110150|       0|\n",
      "|     73| 485979|       0|\n",
      "|     73|  83659|       0|\n",
      "|     73| 859173|       0|\n",
      "|     73| 554660|       0|\n",
      "|     81| 842072|       1|\n",
      "|     87|1088080|       0|\n",
      "|     89| 191876|       0|\n",
      "|     90| 293074|       0|\n",
      "|     91|1688422|       0|\n",
      "|     93| 782529|       0|\n",
      "|     94|   1089|       0|\n",
      "|     94| 845900|       0|\n",
      "|    102|1500761|       0|\n",
      "|    103|1559521|       2|\n",
      "|    108| 560714|       0|\n",
      "|    108|1803129|       0|\n",
      "|    114| 659148|       0|\n",
      "|    122| 864762|       0|\n",
      "|    124| 621189|       0|\n",
      "|    127| 811371|       0|\n",
      "|    134| 593949|       0|\n",
      "|    140|1768746|       1|\n",
      "|    147| 311352|       0|\n",
      "|    148| 533675|       0|\n",
      "|    148| 921656|       0|\n",
      "|    149| 917563|       0|\n",
      "|    156| 655424|       0|\n",
      "|    158|1642425|       1|\n",
      "|    163| 505311|       1|\n",
      "|    163|1344942|       0|\n",
      "|    167|1635995|       0|\n",
      "|    175| 718513|       1|\n",
      "|    175|  37217|       0|\n",
      "|    176| 448520|       1|\n",
      "|    179| 714397|       0|\n",
      "|    180|1494593|       0|\n",
      "|    182|1709091|       0|\n",
      "|    183|1275603|       1|\n",
      "|    183| 385958|       1|\n",
      "|    184|1786283|       0|\n",
      "|    184| 987383|       0|\n",
      "|    191|1248502|       0|\n",
      "|    191| 971886|       0|\n",
      "|    191| 598802|       0|\n",
      "|    200|1094071|       0|\n",
      "|    204| 481042|       0|\n",
      "|    204| 971341|       0|\n",
      "|    209| 386263|       0|\n",
      "|    215| 873293|       0|\n",
      "|    223|1606160|       0|\n",
      "|    227| 782770|       0|\n",
      "|    227| 546089|       0|\n",
      "|    227|1507087|       0|\n",
      "|    227|1384549|       0|\n",
      "|    227|1232112|       0|\n",
      "|    227| 138343|       0|\n",
      "|    228| 203379|       0|\n",
      "|    231|1066554|       0|\n",
      "|    232| 241889|       0|\n",
      "|    237| 691043|       0|\n",
      "|    239| 612630|       0|\n",
      "|    243| 404224|       0|\n",
      "|    244|1603001|       2|\n",
      "|    253| 437719|       0|\n",
      "|    253|1369595|       0|\n",
      "|    261| 343323|       0|\n",
      "|    269| 278907|       0|\n",
      "|    271| 792785|       0|\n",
      "|    271| 681547|       0|\n",
      "|    273|1548688|       0|\n",
      "|    276|1526307|       0|\n",
      "|    276| 871728|       0|\n",
      "|    276| 851894|       0|\n",
      "|    280|1088746|       0|\n",
      "|    280| 680527|       0|\n",
      "|    280| 359940|       0|\n",
      "|    295|1155389|       0|\n",
      "|    297| 909660|       0|\n",
      "|    305|1441150|       0|\n",
      "|    313| 791412|       0|\n",
      "|    332|1572293|       1|\n",
      "|    332|  25082|       0|\n",
      "|    332|1221809|       0|\n",
      "|    334| 933275|       0|\n",
      "|    335|1318164|       0|\n",
      "|    335| 521529|       0|\n",
      "|    335|1062579|       0|\n",
      "|    343|1112103|       0|\n",
      "|    343| 349706|       0|\n",
      "|    345|  67359|       0|\n",
      "|    347| 212695|       0|\n",
      "|    361| 809151|       0|\n",
      "|    376| 761557|       0|\n",
      "|    378|1767992|       1|\n",
      "|    380| 570128|       0|\n",
      "|    396| 357159|       2|\n",
      "|    396| 135295|       0|\n",
      "|    396| 399091|       0|\n",
      "|    396| 733782|       1|\n",
      "|    399| 224039|       0|\n",
      "|    414| 547575|       0|\n",
      "|    417|1160231|       0|\n",
      "|    426| 149804|       0|\n",
      "|    428| 998148|       0|\n",
      "|    429|1314988|       0|\n",
      "|    429| 328886|       1|\n",
      "|    430|1837818|       0|\n",
      "|    434| 484692|       0|\n",
      "|    435|1026707|       0|\n",
      "|    435|1118471|       0|\n",
      "|    436| 277043|       0|\n",
      "|    452| 586206|       0|\n",
      "|    453| 358794|       1|\n",
      "|    455|1670605|       0|\n",
      "|    464| 876460|       0|\n",
      "|    464| 819193|       0|\n",
      "|    474| 924095|       1|\n",
      "|    477|  53976|       0|\n",
      "|    477|1571264|       0|\n",
      "|    489|1006198|       0|\n",
      "|    491|1193209|       0|\n",
      "|    501| 659846|       1|\n",
      "|    502| 994165|       0|\n",
      "|    503|1659885|       0|\n",
      "|    515|1648527|       0|\n",
      "+-------+-------+--------+\n",
      "only showing top 150 rows\n",
      "\n"
     ]
    }
   ],
   "source": [
    "df_indexed_droped.show(150)"
   ]
  },
  {
   "cell_type": "code",
   "execution_count": 30,
   "metadata": {
    "pycharm": {
     "name": "#%%\n"
    }
   },
   "outputs": [
    {
     "name": "stderr",
     "output_type": "stream",
     "text": [
      "[Stage 33:>                                                        (0 + 9) / 10]\r"
     ]
    },
    {
     "ename": "Py4JJavaError",
     "evalue": "An error occurred while calling o266.fit.\n: org.apache.spark.SparkException: Job aborted due to stage failure: Task 0 in stage 33.0 failed 1 times, most recent failure: Lost task 0.0 in stage 33.0 (TID 1208) (192.168.0.37 executor driver): java.lang.OutOfMemoryError: Java heap space\n\tat java.base/java.util.Arrays.copyOf(Arrays.java:3793)\n\tat scala.collection.mutable.ArrayBuilder$ofInt.mkArray(ArrayBuilder.scala:339)\n\tat scala.collection.mutable.ArrayBuilder$ofInt.result(ArrayBuilder.scala:383)\n\tat scala.collection.mutable.ArrayBuilder$ofInt.result(ArrayBuilder.scala:330)\n\tat org.apache.spark.ml.recommendation.ALS$UncompressedInBlockBuilder.build(ALS.scala:1452)\n\tat org.apache.spark.ml.recommendation.ALS$.$anonfun$makeBlocks$5(ALS.scala:1660)\n\tat org.apache.spark.ml.recommendation.ALS$$$Lambda$6468/0x0000000841583840.apply(Unknown Source)\n\tat org.apache.spark.rdd.PairRDDFunctions.$anonfun$mapValues$3(PairRDDFunctions.scala:752)\n\tat org.apache.spark.rdd.PairRDDFunctions$$Lambda$6463/0x000000084157d040.apply(Unknown Source)\n\tat scala.collection.Iterator$$anon$10.next(Iterator.scala:461)\n\tat org.apache.spark.storage.memory.MemoryStore.putIterator(MemoryStore.scala:224)\n\tat org.apache.spark.storage.memory.MemoryStore.putIteratorAsValues(MemoryStore.scala:302)\n\tat org.apache.spark.storage.BlockManager.$anonfun$doPutIterator$1(BlockManager.scala:1535)\n\tat org.apache.spark.storage.BlockManager$$Lambda$2373/0x00000008410d7040.apply(Unknown Source)\n\tat org.apache.spark.storage.BlockManager.org$apache$spark$storage$BlockManager$$doPut(BlockManager.scala:1462)\n\tat org.apache.spark.storage.BlockManager.doPutIterator(BlockManager.scala:1526)\n\tat org.apache.spark.storage.BlockManager.getOrElseUpdate(BlockManager.scala:1349)\n\tat org.apache.spark.rdd.RDD.getOrCompute(RDD.scala:375)\n\tat org.apache.spark.rdd.RDD.iterator(RDD.scala:326)\n\tat org.apache.spark.rdd.MapPartitionsRDD.compute(MapPartitionsRDD.scala:52)\n\tat org.apache.spark.rdd.RDD.computeOrReadCheckpoint(RDD.scala:364)\n\tat org.apache.spark.rdd.RDD.$anonfun$getOrCompute$1(RDD.scala:377)\n\tat org.apache.spark.rdd.RDD$$Lambda$4335/0x0000000841879c40.apply(Unknown Source)\n\tat org.apache.spark.storage.BlockManager.$anonfun$doPutIterator$1(BlockManager.scala:1535)\n\tat org.apache.spark.storage.BlockManager$$Lambda$2373/0x00000008410d7040.apply(Unknown Source)\n\tat org.apache.spark.storage.BlockManager.org$apache$spark$storage$BlockManager$$doPut(BlockManager.scala:1462)\n\tat org.apache.spark.storage.BlockManager.doPutIterator(BlockManager.scala:1526)\n\tat org.apache.spark.storage.BlockManager.getOrElseUpdate(BlockManager.scala:1349)\n\tat org.apache.spark.rdd.RDD.getOrCompute(RDD.scala:375)\n\tat org.apache.spark.rdd.RDD.iterator(RDD.scala:326)\n\tat org.apache.spark.scheduler.ResultTask.runTask(ResultTask.scala:92)\n\tat org.apache.spark.TaskContext.runTaskWithListeners(TaskContext.scala:161)\n\nDriver stacktrace:\n\tat org.apache.spark.scheduler.DAGScheduler.failJobAndIndependentStages(DAGScheduler.scala:2785)\n\tat org.apache.spark.scheduler.DAGScheduler.$anonfun$abortStage$2(DAGScheduler.scala:2721)\n\tat org.apache.spark.scheduler.DAGScheduler.$anonfun$abortStage$2$adapted(DAGScheduler.scala:2720)\n\tat scala.collection.mutable.ResizableArray.foreach(ResizableArray.scala:62)\n\tat scala.collection.mutable.ResizableArray.foreach$(ResizableArray.scala:55)\n\tat scala.collection.mutable.ArrayBuffer.foreach(ArrayBuffer.scala:49)\n\tat org.apache.spark.scheduler.DAGScheduler.abortStage(DAGScheduler.scala:2720)\n\tat org.apache.spark.scheduler.DAGScheduler.$anonfun$handleTaskSetFailed$1(DAGScheduler.scala:1206)\n\tat org.apache.spark.scheduler.DAGScheduler.$anonfun$handleTaskSetFailed$1$adapted(DAGScheduler.scala:1206)\n\tat scala.Option.foreach(Option.scala:407)\n\tat org.apache.spark.scheduler.DAGScheduler.handleTaskSetFailed(DAGScheduler.scala:1206)\n\tat org.apache.spark.scheduler.DAGSchedulerEventProcessLoop.doOnReceive(DAGScheduler.scala:2984)\n\tat org.apache.spark.scheduler.DAGSchedulerEventProcessLoop.onReceive(DAGScheduler.scala:2923)\n\tat org.apache.spark.scheduler.DAGSchedulerEventProcessLoop.onReceive(DAGScheduler.scala:2912)\n\tat org.apache.spark.util.EventLoop$$anon$1.run(EventLoop.scala:49)\n\tat org.apache.spark.scheduler.DAGScheduler.runJob(DAGScheduler.scala:971)\n\tat org.apache.spark.SparkContext.runJob(SparkContext.scala:2263)\n\tat org.apache.spark.SparkContext.runJob(SparkContext.scala:2284)\n\tat org.apache.spark.SparkContext.runJob(SparkContext.scala:2303)\n\tat org.apache.spark.SparkContext.runJob(SparkContext.scala:2328)\n\tat org.apache.spark.rdd.RDD.count(RDD.scala:1266)\n\tat org.apache.spark.ml.recommendation.ALS$.train(ALS.scala:988)\n\tat org.apache.spark.ml.recommendation.ALS.$anonfun$fit$1(ALS.scala:737)\n\tat org.apache.spark.ml.util.Instrumentation$.$anonfun$instrumented$1(Instrumentation.scala:191)\n\tat scala.util.Try$.apply(Try.scala:213)\n\tat org.apache.spark.ml.util.Instrumentation$.instrumented(Instrumentation.scala:191)\n\tat org.apache.spark.ml.recommendation.ALS.fit(ALS.scala:714)\n\tat org.apache.spark.ml.recommendation.ALS.fit(ALS.scala:616)\n\tat java.base/jdk.internal.reflect.NativeMethodAccessorImpl.invoke0(Native Method)\n\tat java.base/jdk.internal.reflect.NativeMethodAccessorImpl.invoke(NativeMethodAccessorImpl.java:62)\n\tat java.base/jdk.internal.reflect.DelegatingMethodAccessorImpl.invoke(DelegatingMethodAccessorImpl.java:43)\n\tat java.base/java.lang.reflect.Method.invoke(Method.java:566)\n\tat py4j.reflection.MethodInvoker.invoke(MethodInvoker.java:244)\n\tat py4j.reflection.ReflectionEngine.invoke(ReflectionEngine.java:374)\n\tat py4j.Gateway.invoke(Gateway.java:282)\n\tat py4j.commands.AbstractCommand.invokeMethod(AbstractCommand.java:132)\n\tat py4j.commands.CallCommand.execute(CallCommand.java:79)\n\tat py4j.ClientServerConnection.waitForCommands(ClientServerConnection.java:182)\n\tat py4j.ClientServerConnection.run(ClientServerConnection.java:106)\n\tat java.base/java.lang.Thread.run(Thread.java:829)\nCaused by: java.lang.OutOfMemoryError: Java heap space\n\tat java.base/java.util.Arrays.copyOf(Arrays.java:3793)\n\tat scala.collection.mutable.ArrayBuilder$ofInt.mkArray(ArrayBuilder.scala:339)\n\tat scala.collection.mutable.ArrayBuilder$ofInt.result(ArrayBuilder.scala:383)\n\tat scala.collection.mutable.ArrayBuilder$ofInt.result(ArrayBuilder.scala:330)\n\tat org.apache.spark.ml.recommendation.ALS$UncompressedInBlockBuilder.build(ALS.scala:1452)\n\tat org.apache.spark.ml.recommendation.ALS$.$anonfun$makeBlocks$5(ALS.scala:1660)\n\tat org.apache.spark.ml.recommendation.ALS$$$Lambda$6468/0x0000000841583840.apply(Unknown Source)\n\tat org.apache.spark.rdd.PairRDDFunctions.$anonfun$mapValues$3(PairRDDFunctions.scala:752)\n\tat org.apache.spark.rdd.PairRDDFunctions$$Lambda$6463/0x000000084157d040.apply(Unknown Source)\n\tat scala.collection.Iterator$$anon$10.next(Iterator.scala:461)\n\tat org.apache.spark.storage.memory.MemoryStore.putIterator(MemoryStore.scala:224)\n\tat org.apache.spark.storage.memory.MemoryStore.putIteratorAsValues(MemoryStore.scala:302)\n\tat org.apache.spark.storage.BlockManager.$anonfun$doPutIterator$1(BlockManager.scala:1535)\n\tat org.apache.spark.storage.BlockManager$$Lambda$2373/0x00000008410d7040.apply(Unknown Source)\n\tat org.apache.spark.storage.BlockManager.org$apache$spark$storage$BlockManager$$doPut(BlockManager.scala:1462)\n\tat org.apache.spark.storage.BlockManager.doPutIterator(BlockManager.scala:1526)\n\tat org.apache.spark.storage.BlockManager.getOrElseUpdate(BlockManager.scala:1349)\n\tat org.apache.spark.rdd.RDD.getOrCompute(RDD.scala:375)\n\tat org.apache.spark.rdd.RDD.iterator(RDD.scala:326)\n\tat org.apache.spark.rdd.MapPartitionsRDD.compute(MapPartitionsRDD.scala:52)\n\tat org.apache.spark.rdd.RDD.computeOrReadCheckpoint(RDD.scala:364)\n\tat org.apache.spark.rdd.RDD.$anonfun$getOrCompute$1(RDD.scala:377)\n\tat org.apache.spark.rdd.RDD$$Lambda$4335/0x0000000841879c40.apply(Unknown Source)\n\tat org.apache.spark.storage.BlockManager.$anonfun$doPutIterator$1(BlockManager.scala:1535)\n\tat org.apache.spark.storage.BlockManager$$Lambda$2373/0x00000008410d7040.apply(Unknown Source)\n\tat org.apache.spark.storage.BlockManager.org$apache$spark$storage$BlockManager$$doPut(BlockManager.scala:1462)\n\tat org.apache.spark.storage.BlockManager.doPutIterator(BlockManager.scala:1526)\n\tat org.apache.spark.storage.BlockManager.getOrElseUpdate(BlockManager.scala:1349)\n\tat org.apache.spark.rdd.RDD.getOrCompute(RDD.scala:375)\n\tat org.apache.spark.rdd.RDD.iterator(RDD.scala:326)\n\tat org.apache.spark.scheduler.ResultTask.runTask(ResultTask.scala:92)\n\tat org.apache.spark.TaskContext.runTaskWithListeners(TaskContext.scala:161)\n",
     "output_type": "error",
     "traceback": [
      "\u001b[0;31m---------------------------------------------------------------------------\u001b[0m",
      "\u001b[0;31mPy4JJavaError\u001b[0m                             Traceback (most recent call last)",
      "Cell \u001b[0;32mIn[30], line 12\u001b[0m\n\u001b[1;32m      8\u001b[0m \u001b[38;5;66;03m# Build the recommendation model using ALS on the training data\u001b[39;00m\n\u001b[1;32m      9\u001b[0m \u001b[38;5;66;03m# Note we set cold start strategy to 'drop' to ensure we don't get NaN evaluation metrics\u001b[39;00m\n\u001b[1;32m     10\u001b[0m als \u001b[38;5;241m=\u001b[39m ALS(maxIter\u001b[38;5;241m=\u001b[39m\u001b[38;5;241m5\u001b[39m, regParam\u001b[38;5;241m=\u001b[39m\u001b[38;5;241m0.01\u001b[39m, userCol\u001b[38;5;241m=\u001b[39m\u001b[38;5;124m\"\u001b[39m\u001b[38;5;124msession\u001b[39m\u001b[38;5;124m\"\u001b[39m, itemCol\u001b[38;5;241m=\u001b[39m\u001b[38;5;124m\"\u001b[39m\u001b[38;5;124maid\u001b[39m\u001b[38;5;124m\"\u001b[39m, ratingCol\u001b[38;5;241m=\u001b[39m\u001b[38;5;124m\"\u001b[39m\u001b[38;5;124mtype_cat\u001b[39m\u001b[38;5;124m\"\u001b[39m,\n\u001b[1;32m     11\u001b[0m           coldStartStrategy\u001b[38;5;241m=\u001b[39m\u001b[38;5;124m\"\u001b[39m\u001b[38;5;124mdrop\u001b[39m\u001b[38;5;124m\"\u001b[39m)\n\u001b[0;32m---> 12\u001b[0m model \u001b[38;5;241m=\u001b[39m \u001b[43mals\u001b[49m\u001b[38;5;241;43m.\u001b[39;49m\u001b[43mfit\u001b[49m\u001b[43m(\u001b[49m\u001b[43mtraining\u001b[49m\u001b[43m)\u001b[49m\n\u001b[1;32m     14\u001b[0m \u001b[38;5;66;03m# Evaluate the model by computing the RMSE on the test data\u001b[39;00m\n\u001b[1;32m     15\u001b[0m predictions \u001b[38;5;241m=\u001b[39m model\u001b[38;5;241m.\u001b[39mtransform(test)\n",
      "File \u001b[0;32m~/Documents/UnB/Tcc/venv/lib/python3.10/site-packages/pyspark/ml/base.py:205\u001b[0m, in \u001b[0;36mEstimator.fit\u001b[0;34m(self, dataset, params)\u001b[0m\n\u001b[1;32m    203\u001b[0m         \u001b[38;5;28;01mreturn\u001b[39;00m \u001b[38;5;28mself\u001b[39m\u001b[38;5;241m.\u001b[39mcopy(params)\u001b[38;5;241m.\u001b[39m_fit(dataset)\n\u001b[1;32m    204\u001b[0m     \u001b[38;5;28;01melse\u001b[39;00m:\n\u001b[0;32m--> 205\u001b[0m         \u001b[38;5;28;01mreturn\u001b[39;00m \u001b[38;5;28;43mself\u001b[39;49m\u001b[38;5;241;43m.\u001b[39;49m\u001b[43m_fit\u001b[49m\u001b[43m(\u001b[49m\u001b[43mdataset\u001b[49m\u001b[43m)\u001b[49m\n\u001b[1;32m    206\u001b[0m \u001b[38;5;28;01melse\u001b[39;00m:\n\u001b[1;32m    207\u001b[0m     \u001b[38;5;28;01mraise\u001b[39;00m \u001b[38;5;167;01mTypeError\u001b[39;00m(\n\u001b[1;32m    208\u001b[0m         \u001b[38;5;124m\"\u001b[39m\u001b[38;5;124mParams must be either a param map or a list/tuple of param maps, \u001b[39m\u001b[38;5;124m\"\u001b[39m\n\u001b[1;32m    209\u001b[0m         \u001b[38;5;124m\"\u001b[39m\u001b[38;5;124mbut got \u001b[39m\u001b[38;5;132;01m%s\u001b[39;00m\u001b[38;5;124m.\u001b[39m\u001b[38;5;124m\"\u001b[39m \u001b[38;5;241m%\u001b[39m \u001b[38;5;28mtype\u001b[39m(params)\n\u001b[1;32m    210\u001b[0m     )\n",
      "File \u001b[0;32m~/Documents/UnB/Tcc/venv/lib/python3.10/site-packages/pyspark/ml/wrapper.py:381\u001b[0m, in \u001b[0;36mJavaEstimator._fit\u001b[0;34m(self, dataset)\u001b[0m\n\u001b[1;32m    380\u001b[0m \u001b[38;5;28;01mdef\u001b[39;00m \u001b[38;5;21m_fit\u001b[39m(\u001b[38;5;28mself\u001b[39m, dataset: DataFrame) \u001b[38;5;241m-\u001b[39m\u001b[38;5;241m>\u001b[39m JM:\n\u001b[0;32m--> 381\u001b[0m     java_model \u001b[38;5;241m=\u001b[39m \u001b[38;5;28;43mself\u001b[39;49m\u001b[38;5;241;43m.\u001b[39;49m\u001b[43m_fit_java\u001b[49m\u001b[43m(\u001b[49m\u001b[43mdataset\u001b[49m\u001b[43m)\u001b[49m\n\u001b[1;32m    382\u001b[0m     model \u001b[38;5;241m=\u001b[39m \u001b[38;5;28mself\u001b[39m\u001b[38;5;241m.\u001b[39m_create_model(java_model)\n\u001b[1;32m    383\u001b[0m     \u001b[38;5;28;01mreturn\u001b[39;00m \u001b[38;5;28mself\u001b[39m\u001b[38;5;241m.\u001b[39m_copyValues(model)\n",
      "File \u001b[0;32m~/Documents/UnB/Tcc/venv/lib/python3.10/site-packages/pyspark/ml/wrapper.py:378\u001b[0m, in \u001b[0;36mJavaEstimator._fit_java\u001b[0;34m(self, dataset)\u001b[0m\n\u001b[1;32m    375\u001b[0m \u001b[38;5;28;01massert\u001b[39;00m \u001b[38;5;28mself\u001b[39m\u001b[38;5;241m.\u001b[39m_java_obj \u001b[38;5;129;01mis\u001b[39;00m \u001b[38;5;129;01mnot\u001b[39;00m \u001b[38;5;28;01mNone\u001b[39;00m\n\u001b[1;32m    377\u001b[0m \u001b[38;5;28mself\u001b[39m\u001b[38;5;241m.\u001b[39m_transfer_params_to_java()\n\u001b[0;32m--> 378\u001b[0m \u001b[38;5;28;01mreturn\u001b[39;00m \u001b[38;5;28;43mself\u001b[39;49m\u001b[38;5;241;43m.\u001b[39;49m\u001b[43m_java_obj\u001b[49m\u001b[38;5;241;43m.\u001b[39;49m\u001b[43mfit\u001b[49m\u001b[43m(\u001b[49m\u001b[43mdataset\u001b[49m\u001b[38;5;241;43m.\u001b[39;49m\u001b[43m_jdf\u001b[49m\u001b[43m)\u001b[49m\n",
      "File \u001b[0;32m~/Documents/UnB/Tcc/venv/lib/python3.10/site-packages/py4j/java_gateway.py:1322\u001b[0m, in \u001b[0;36mJavaMember.__call__\u001b[0;34m(self, *args)\u001b[0m\n\u001b[1;32m   1316\u001b[0m command \u001b[38;5;241m=\u001b[39m proto\u001b[38;5;241m.\u001b[39mCALL_COMMAND_NAME \u001b[38;5;241m+\u001b[39m\\\n\u001b[1;32m   1317\u001b[0m     \u001b[38;5;28mself\u001b[39m\u001b[38;5;241m.\u001b[39mcommand_header \u001b[38;5;241m+\u001b[39m\\\n\u001b[1;32m   1318\u001b[0m     args_command \u001b[38;5;241m+\u001b[39m\\\n\u001b[1;32m   1319\u001b[0m     proto\u001b[38;5;241m.\u001b[39mEND_COMMAND_PART\n\u001b[1;32m   1321\u001b[0m answer \u001b[38;5;241m=\u001b[39m \u001b[38;5;28mself\u001b[39m\u001b[38;5;241m.\u001b[39mgateway_client\u001b[38;5;241m.\u001b[39msend_command(command)\n\u001b[0;32m-> 1322\u001b[0m return_value \u001b[38;5;241m=\u001b[39m \u001b[43mget_return_value\u001b[49m\u001b[43m(\u001b[49m\n\u001b[1;32m   1323\u001b[0m \u001b[43m    \u001b[49m\u001b[43manswer\u001b[49m\u001b[43m,\u001b[49m\u001b[43m \u001b[49m\u001b[38;5;28;43mself\u001b[39;49m\u001b[38;5;241;43m.\u001b[39;49m\u001b[43mgateway_client\u001b[49m\u001b[43m,\u001b[49m\u001b[43m \u001b[49m\u001b[38;5;28;43mself\u001b[39;49m\u001b[38;5;241;43m.\u001b[39;49m\u001b[43mtarget_id\u001b[49m\u001b[43m,\u001b[49m\u001b[43m \u001b[49m\u001b[38;5;28;43mself\u001b[39;49m\u001b[38;5;241;43m.\u001b[39;49m\u001b[43mname\u001b[49m\u001b[43m)\u001b[49m\n\u001b[1;32m   1325\u001b[0m \u001b[38;5;28;01mfor\u001b[39;00m temp_arg \u001b[38;5;129;01min\u001b[39;00m temp_args:\n\u001b[1;32m   1326\u001b[0m     \u001b[38;5;28;01mif\u001b[39;00m \u001b[38;5;28mhasattr\u001b[39m(temp_arg, \u001b[38;5;124m\"\u001b[39m\u001b[38;5;124m_detach\u001b[39m\u001b[38;5;124m\"\u001b[39m):\n",
      "File \u001b[0;32m~/Documents/UnB/Tcc/venv/lib/python3.10/site-packages/pyspark/errors/exceptions/captured.py:169\u001b[0m, in \u001b[0;36mcapture_sql_exception.<locals>.deco\u001b[0;34m(*a, **kw)\u001b[0m\n\u001b[1;32m    167\u001b[0m \u001b[38;5;28;01mdef\u001b[39;00m \u001b[38;5;21mdeco\u001b[39m(\u001b[38;5;241m*\u001b[39ma: Any, \u001b[38;5;241m*\u001b[39m\u001b[38;5;241m*\u001b[39mkw: Any) \u001b[38;5;241m-\u001b[39m\u001b[38;5;241m>\u001b[39m Any:\n\u001b[1;32m    168\u001b[0m     \u001b[38;5;28;01mtry\u001b[39;00m:\n\u001b[0;32m--> 169\u001b[0m         \u001b[38;5;28;01mreturn\u001b[39;00m \u001b[43mf\u001b[49m\u001b[43m(\u001b[49m\u001b[38;5;241;43m*\u001b[39;49m\u001b[43ma\u001b[49m\u001b[43m,\u001b[49m\u001b[43m \u001b[49m\u001b[38;5;241;43m*\u001b[39;49m\u001b[38;5;241;43m*\u001b[39;49m\u001b[43mkw\u001b[49m\u001b[43m)\u001b[49m\n\u001b[1;32m    170\u001b[0m     \u001b[38;5;28;01mexcept\u001b[39;00m Py4JJavaError \u001b[38;5;28;01mas\u001b[39;00m e:\n\u001b[1;32m    171\u001b[0m         converted \u001b[38;5;241m=\u001b[39m convert_exception(e\u001b[38;5;241m.\u001b[39mjava_exception)\n",
      "File \u001b[0;32m~/Documents/UnB/Tcc/venv/lib/python3.10/site-packages/py4j/protocol.py:326\u001b[0m, in \u001b[0;36mget_return_value\u001b[0;34m(answer, gateway_client, target_id, name)\u001b[0m\n\u001b[1;32m    324\u001b[0m value \u001b[38;5;241m=\u001b[39m OUTPUT_CONVERTER[\u001b[38;5;28mtype\u001b[39m](answer[\u001b[38;5;241m2\u001b[39m:], gateway_client)\n\u001b[1;32m    325\u001b[0m \u001b[38;5;28;01mif\u001b[39;00m answer[\u001b[38;5;241m1\u001b[39m] \u001b[38;5;241m==\u001b[39m REFERENCE_TYPE:\n\u001b[0;32m--> 326\u001b[0m     \u001b[38;5;28;01mraise\u001b[39;00m Py4JJavaError(\n\u001b[1;32m    327\u001b[0m         \u001b[38;5;124m\"\u001b[39m\u001b[38;5;124mAn error occurred while calling \u001b[39m\u001b[38;5;132;01m{0}\u001b[39;00m\u001b[38;5;132;01m{1}\u001b[39;00m\u001b[38;5;132;01m{2}\u001b[39;00m\u001b[38;5;124m.\u001b[39m\u001b[38;5;130;01m\\n\u001b[39;00m\u001b[38;5;124m\"\u001b[39m\u001b[38;5;241m.\u001b[39m\n\u001b[1;32m    328\u001b[0m         \u001b[38;5;28mformat\u001b[39m(target_id, \u001b[38;5;124m\"\u001b[39m\u001b[38;5;124m.\u001b[39m\u001b[38;5;124m\"\u001b[39m, name), value)\n\u001b[1;32m    329\u001b[0m \u001b[38;5;28;01melse\u001b[39;00m:\n\u001b[1;32m    330\u001b[0m     \u001b[38;5;28;01mraise\u001b[39;00m Py4JError(\n\u001b[1;32m    331\u001b[0m         \u001b[38;5;124m\"\u001b[39m\u001b[38;5;124mAn error occurred while calling \u001b[39m\u001b[38;5;132;01m{0}\u001b[39;00m\u001b[38;5;132;01m{1}\u001b[39;00m\u001b[38;5;132;01m{2}\u001b[39;00m\u001b[38;5;124m. Trace:\u001b[39m\u001b[38;5;130;01m\\n\u001b[39;00m\u001b[38;5;132;01m{3}\u001b[39;00m\u001b[38;5;130;01m\\n\u001b[39;00m\u001b[38;5;124m\"\u001b[39m\u001b[38;5;241m.\u001b[39m\n\u001b[1;32m    332\u001b[0m         \u001b[38;5;28mformat\u001b[39m(target_id, \u001b[38;5;124m\"\u001b[39m\u001b[38;5;124m.\u001b[39m\u001b[38;5;124m\"\u001b[39m, name, value))\n",
      "\u001b[0;31mPy4JJavaError\u001b[0m: An error occurred while calling o266.fit.\n: org.apache.spark.SparkException: Job aborted due to stage failure: Task 0 in stage 33.0 failed 1 times, most recent failure: Lost task 0.0 in stage 33.0 (TID 1208) (192.168.0.37 executor driver): java.lang.OutOfMemoryError: Java heap space\n\tat java.base/java.util.Arrays.copyOf(Arrays.java:3793)\n\tat scala.collection.mutable.ArrayBuilder$ofInt.mkArray(ArrayBuilder.scala:339)\n\tat scala.collection.mutable.ArrayBuilder$ofInt.result(ArrayBuilder.scala:383)\n\tat scala.collection.mutable.ArrayBuilder$ofInt.result(ArrayBuilder.scala:330)\n\tat org.apache.spark.ml.recommendation.ALS$UncompressedInBlockBuilder.build(ALS.scala:1452)\n\tat org.apache.spark.ml.recommendation.ALS$.$anonfun$makeBlocks$5(ALS.scala:1660)\n\tat org.apache.spark.ml.recommendation.ALS$$$Lambda$6468/0x0000000841583840.apply(Unknown Source)\n\tat org.apache.spark.rdd.PairRDDFunctions.$anonfun$mapValues$3(PairRDDFunctions.scala:752)\n\tat org.apache.spark.rdd.PairRDDFunctions$$Lambda$6463/0x000000084157d040.apply(Unknown Source)\n\tat scala.collection.Iterator$$anon$10.next(Iterator.scala:461)\n\tat org.apache.spark.storage.memory.MemoryStore.putIterator(MemoryStore.scala:224)\n\tat org.apache.spark.storage.memory.MemoryStore.putIteratorAsValues(MemoryStore.scala:302)\n\tat org.apache.spark.storage.BlockManager.$anonfun$doPutIterator$1(BlockManager.scala:1535)\n\tat org.apache.spark.storage.BlockManager$$Lambda$2373/0x00000008410d7040.apply(Unknown Source)\n\tat org.apache.spark.storage.BlockManager.org$apache$spark$storage$BlockManager$$doPut(BlockManager.scala:1462)\n\tat org.apache.spark.storage.BlockManager.doPutIterator(BlockManager.scala:1526)\n\tat org.apache.spark.storage.BlockManager.getOrElseUpdate(BlockManager.scala:1349)\n\tat org.apache.spark.rdd.RDD.getOrCompute(RDD.scala:375)\n\tat org.apache.spark.rdd.RDD.iterator(RDD.scala:326)\n\tat org.apache.spark.rdd.MapPartitionsRDD.compute(MapPartitionsRDD.scala:52)\n\tat org.apache.spark.rdd.RDD.computeOrReadCheckpoint(RDD.scala:364)\n\tat org.apache.spark.rdd.RDD.$anonfun$getOrCompute$1(RDD.scala:377)\n\tat org.apache.spark.rdd.RDD$$Lambda$4335/0x0000000841879c40.apply(Unknown Source)\n\tat org.apache.spark.storage.BlockManager.$anonfun$doPutIterator$1(BlockManager.scala:1535)\n\tat org.apache.spark.storage.BlockManager$$Lambda$2373/0x00000008410d7040.apply(Unknown Source)\n\tat org.apache.spark.storage.BlockManager.org$apache$spark$storage$BlockManager$$doPut(BlockManager.scala:1462)\n\tat org.apache.spark.storage.BlockManager.doPutIterator(BlockManager.scala:1526)\n\tat org.apache.spark.storage.BlockManager.getOrElseUpdate(BlockManager.scala:1349)\n\tat org.apache.spark.rdd.RDD.getOrCompute(RDD.scala:375)\n\tat org.apache.spark.rdd.RDD.iterator(RDD.scala:326)\n\tat org.apache.spark.scheduler.ResultTask.runTask(ResultTask.scala:92)\n\tat org.apache.spark.TaskContext.runTaskWithListeners(TaskContext.scala:161)\n\nDriver stacktrace:\n\tat org.apache.spark.scheduler.DAGScheduler.failJobAndIndependentStages(DAGScheduler.scala:2785)\n\tat org.apache.spark.scheduler.DAGScheduler.$anonfun$abortStage$2(DAGScheduler.scala:2721)\n\tat org.apache.spark.scheduler.DAGScheduler.$anonfun$abortStage$2$adapted(DAGScheduler.scala:2720)\n\tat scala.collection.mutable.ResizableArray.foreach(ResizableArray.scala:62)\n\tat scala.collection.mutable.ResizableArray.foreach$(ResizableArray.scala:55)\n\tat scala.collection.mutable.ArrayBuffer.foreach(ArrayBuffer.scala:49)\n\tat org.apache.spark.scheduler.DAGScheduler.abortStage(DAGScheduler.scala:2720)\n\tat org.apache.spark.scheduler.DAGScheduler.$anonfun$handleTaskSetFailed$1(DAGScheduler.scala:1206)\n\tat org.apache.spark.scheduler.DAGScheduler.$anonfun$handleTaskSetFailed$1$adapted(DAGScheduler.scala:1206)\n\tat scala.Option.foreach(Option.scala:407)\n\tat org.apache.spark.scheduler.DAGScheduler.handleTaskSetFailed(DAGScheduler.scala:1206)\n\tat org.apache.spark.scheduler.DAGSchedulerEventProcessLoop.doOnReceive(DAGScheduler.scala:2984)\n\tat org.apache.spark.scheduler.DAGSchedulerEventProcessLoop.onReceive(DAGScheduler.scala:2923)\n\tat org.apache.spark.scheduler.DAGSchedulerEventProcessLoop.onReceive(DAGScheduler.scala:2912)\n\tat org.apache.spark.util.EventLoop$$anon$1.run(EventLoop.scala:49)\n\tat org.apache.spark.scheduler.DAGScheduler.runJob(DAGScheduler.scala:971)\n\tat org.apache.spark.SparkContext.runJob(SparkContext.scala:2263)\n\tat org.apache.spark.SparkContext.runJob(SparkContext.scala:2284)\n\tat org.apache.spark.SparkContext.runJob(SparkContext.scala:2303)\n\tat org.apache.spark.SparkContext.runJob(SparkContext.scala:2328)\n\tat org.apache.spark.rdd.RDD.count(RDD.scala:1266)\n\tat org.apache.spark.ml.recommendation.ALS$.train(ALS.scala:988)\n\tat org.apache.spark.ml.recommendation.ALS.$anonfun$fit$1(ALS.scala:737)\n\tat org.apache.spark.ml.util.Instrumentation$.$anonfun$instrumented$1(Instrumentation.scala:191)\n\tat scala.util.Try$.apply(Try.scala:213)\n\tat org.apache.spark.ml.util.Instrumentation$.instrumented(Instrumentation.scala:191)\n\tat org.apache.spark.ml.recommendation.ALS.fit(ALS.scala:714)\n\tat org.apache.spark.ml.recommendation.ALS.fit(ALS.scala:616)\n\tat java.base/jdk.internal.reflect.NativeMethodAccessorImpl.invoke0(Native Method)\n\tat java.base/jdk.internal.reflect.NativeMethodAccessorImpl.invoke(NativeMethodAccessorImpl.java:62)\n\tat java.base/jdk.internal.reflect.DelegatingMethodAccessorImpl.invoke(DelegatingMethodAccessorImpl.java:43)\n\tat java.base/java.lang.reflect.Method.invoke(Method.java:566)\n\tat py4j.reflection.MethodInvoker.invoke(MethodInvoker.java:244)\n\tat py4j.reflection.ReflectionEngine.invoke(ReflectionEngine.java:374)\n\tat py4j.Gateway.invoke(Gateway.java:282)\n\tat py4j.commands.AbstractCommand.invokeMethod(AbstractCommand.java:132)\n\tat py4j.commands.CallCommand.execute(CallCommand.java:79)\n\tat py4j.ClientServerConnection.waitForCommands(ClientServerConnection.java:182)\n\tat py4j.ClientServerConnection.run(ClientServerConnection.java:106)\n\tat java.base/java.lang.Thread.run(Thread.java:829)\nCaused by: java.lang.OutOfMemoryError: Java heap space\n\tat java.base/java.util.Arrays.copyOf(Arrays.java:3793)\n\tat scala.collection.mutable.ArrayBuilder$ofInt.mkArray(ArrayBuilder.scala:339)\n\tat scala.collection.mutable.ArrayBuilder$ofInt.result(ArrayBuilder.scala:383)\n\tat scala.collection.mutable.ArrayBuilder$ofInt.result(ArrayBuilder.scala:330)\n\tat org.apache.spark.ml.recommendation.ALS$UncompressedInBlockBuilder.build(ALS.scala:1452)\n\tat org.apache.spark.ml.recommendation.ALS$.$anonfun$makeBlocks$5(ALS.scala:1660)\n\tat org.apache.spark.ml.recommendation.ALS$$$Lambda$6468/0x0000000841583840.apply(Unknown Source)\n\tat org.apache.spark.rdd.PairRDDFunctions.$anonfun$mapValues$3(PairRDDFunctions.scala:752)\n\tat org.apache.spark.rdd.PairRDDFunctions$$Lambda$6463/0x000000084157d040.apply(Unknown Source)\n\tat scala.collection.Iterator$$anon$10.next(Iterator.scala:461)\n\tat org.apache.spark.storage.memory.MemoryStore.putIterator(MemoryStore.scala:224)\n\tat org.apache.spark.storage.memory.MemoryStore.putIteratorAsValues(MemoryStore.scala:302)\n\tat org.apache.spark.storage.BlockManager.$anonfun$doPutIterator$1(BlockManager.scala:1535)\n\tat org.apache.spark.storage.BlockManager$$Lambda$2373/0x00000008410d7040.apply(Unknown Source)\n\tat org.apache.spark.storage.BlockManager.org$apache$spark$storage$BlockManager$$doPut(BlockManager.scala:1462)\n\tat org.apache.spark.storage.BlockManager.doPutIterator(BlockManager.scala:1526)\n\tat org.apache.spark.storage.BlockManager.getOrElseUpdate(BlockManager.scala:1349)\n\tat org.apache.spark.rdd.RDD.getOrCompute(RDD.scala:375)\n\tat org.apache.spark.rdd.RDD.iterator(RDD.scala:326)\n\tat org.apache.spark.rdd.MapPartitionsRDD.compute(MapPartitionsRDD.scala:52)\n\tat org.apache.spark.rdd.RDD.computeOrReadCheckpoint(RDD.scala:364)\n\tat org.apache.spark.rdd.RDD.$anonfun$getOrCompute$1(RDD.scala:377)\n\tat org.apache.spark.rdd.RDD$$Lambda$4335/0x0000000841879c40.apply(Unknown Source)\n\tat org.apache.spark.storage.BlockManager.$anonfun$doPutIterator$1(BlockManager.scala:1535)\n\tat org.apache.spark.storage.BlockManager$$Lambda$2373/0x00000008410d7040.apply(Unknown Source)\n\tat org.apache.spark.storage.BlockManager.org$apache$spark$storage$BlockManager$$doPut(BlockManager.scala:1462)\n\tat org.apache.spark.storage.BlockManager.doPutIterator(BlockManager.scala:1526)\n\tat org.apache.spark.storage.BlockManager.getOrElseUpdate(BlockManager.scala:1349)\n\tat org.apache.spark.rdd.RDD.getOrCompute(RDD.scala:375)\n\tat org.apache.spark.rdd.RDD.iterator(RDD.scala:326)\n\tat org.apache.spark.scheduler.ResultTask.runTask(ResultTask.scala:92)\n\tat org.apache.spark.TaskContext.runTaskWithListeners(TaskContext.scala:161)\n"
     ]
    }
   ],
   "source": [
    "from pyspark.ml.evaluation import RegressionEvaluator\n",
    "from pyspark.ml.recommendation import ALS\n",
    "from pyspark.sql import Row\n",
    "\n",
    "\n",
    "(training, test) = df_indexed_droped.randomSplit([0.6, 0.4])\n",
    "\n",
    "# Build the recommendation model using ALS on the training data\n",
    "# Note we set cold start strategy to 'drop' to ensure we don't get NaN evaluation metrics\n",
    "als = ALS(maxIter=5, regParam=0.01, userCol=\"session\", itemCol=\"aid\", ratingCol=\"type_cat\",\n",
    "          coldStartStrategy=\"drop\")\n",
    "model = als.fit(training)\n",
    "\n",
    "# Evaluate the model by computing the RMSE on the test data\n",
    "predictions = model.transform(test)\n",
    "evaluator = RegressionEvaluator(metricName=\"rmse\", labelCol=\"type_cat\",\n",
    "                                predictionCol=\"prediction\")\n",
    "rmse = evaluator.evaluate(predictions)\n",
    "print(\"Root-mean-square error = \" + str(rmse))\n",
    "\n",
    "# Generate top 10 movie recommendations for each user\n",
    "userRecs = model.recommendForAllUsers(10)"
   ]
  },
  {
   "cell_type": "code",
   "execution_count": null,
   "metadata": {
    "pycharm": {
     "name": "#%%\n"
    }
   },
   "outputs": [],
   "source": []
  },
  {
   "cell_type": "code",
   "execution_count": null,
   "metadata": {
    "pycharm": {
     "name": "#%%\n"
    }
   },
   "outputs": [],
   "source": []
  },
  {
   "cell_type": "code",
   "execution_count": 33,
   "metadata": {
    "id": "97Ljj1uvN505"
   },
   "outputs": [],
   "source": [
    "from pyspark.sql import SparkSession\n",
    "from pyspark.ml.linalg import SparseVector\n",
    "from pyspark.sql.functions import col"
   ]
  },
  {
   "cell_type": "code",
   "execution_count": 34,
   "metadata": {
    "id": "oMr-zQslN5y1"
   },
   "outputs": [],
   "source": [
    "df_pre_sparse = df_indexed_droped.withColumn(\"session\", col(\"session\").cast(\"integer\"))\\\n",
    "                                 .withColumn(\"aid\", col(\"aid\").cast(\"integer\"))\n"
   ]
  },
  {
   "cell_type": "code",
   "execution_count": 35,
   "metadata": {
    "id": "oUKyuWHvN5wk"
   },
   "outputs": [
    {
     "name": "stderr",
     "output_type": "stream",
     "text": [
      "                                                                                \r"
     ]
    }
   ],
   "source": [
    "user_ids = df_indexed_droped.select(\"session\").distinct().rdd.flatMap(lambda x: x).collect()\n",
    "product_ids = df_indexed_droped.select(\"aid\").distinct().rdd.flatMap(lambda x: x).collect()"
   ]
  },
  {
   "cell_type": "code",
   "execution_count": 40,
   "metadata": {
    "id": "4ae4qoKUN5uS"
   },
   "outputs": [
    {
     "data": {
      "text/plain": [
       "PythonRDD[166] at RDD at PythonRDD.scala:53"
      ]
     },
     "execution_count": 40,
     "metadata": {},
     "output_type": "execute_result"
    }
   ],
   "source": [
    "def map_to_sparse_vector(row):\n",
    "    return row[0], SparseVector(len(product_ids), {row[1]: row[2]})\n",
    "\n",
    "sparse_data = df_indexed_droped.rdd.map(map_to_sparse_vector)"
   ]
  },
  {
   "cell_type": "code",
   "execution_count": 46,
   "metadata": {
    "id": "LEja8-GsN5rG"
   },
   "outputs": [
    {
     "name": "stdout",
     "output_type": "stream",
     "text": [
      "+-------+-------------------------+\n",
      "|session|aid                      |\n",
      "+-------+-------------------------+\n",
      "|0      |(1855603,[892659],[0.0]) |\n",
      "|3      |(1855603,[727609],[0.0]) |\n",
      "|7      |(1855603,[1209125],[0.0])|\n",
      "|11     |(1855603,[1237227],[0.0])|\n",
      "|13     |(1855603,[22195],[0.0])  |\n",
      "|14     |(1855603,[1547907],[0.0])|\n",
      "|17     |(1855603,[1181318],[0.0])|\n",
      "|19     |(1855603,[814283],[0.0]) |\n",
      "|21     |(1855603,[502632],[0.0]) |\n",
      "|21     |(1855603,[1390765],[0.0])|\n",
      "|23     |(1855603,[365121],[0.0]) |\n",
      "|28     |(1855603,[647338],[0.0]) |\n",
      "|28     |(1855603,[1708372],[2.0])|\n",
      "|35     |(1855603,[729054],[0.0]) |\n",
      "|37     |(1855603,[151775],[0.0]) |\n",
      "|47     |(1855603,[1308823],[1.0])|\n",
      "|48     |(1855603,[1806232],[0.0])|\n",
      "|49     |(1855603,[1677243],[0.0])|\n",
      "|53     |(1855603,[238804],[1.0]) |\n",
      "|55     |(1855603,[401912],[0.0]) |\n",
      "|56     |(1855603,[558628],[0.0]) |\n",
      "|62     |(1855603,[397851],[0.0]) |\n",
      "|68     |(1855603,[328871],[0.0]) |\n",
      "|68     |(1855603,[664765],[0.0]) |\n",
      "|71     |(1855603,[1110150],[0.0])|\n",
      "|73     |(1855603,[83659],[0.0])  |\n",
      "|73     |(1855603,[485979],[0.0]) |\n",
      "|73     |(1855603,[554660],[0.0]) |\n",
      "|73     |(1855603,[859173],[0.0]) |\n",
      "|81     |(1855603,[842072],[1.0]) |\n",
      "|87     |(1855603,[1088080],[0.0])|\n",
      "|89     |(1855603,[191876],[0.0]) |\n",
      "|90     |(1855603,[293074],[0.0]) |\n",
      "|91     |(1855603,[1688422],[0.0])|\n",
      "|93     |(1855603,[782529],[0.0]) |\n",
      "|94     |(1855603,[1089],[0.0])   |\n",
      "|94     |(1855603,[845900],[0.0]) |\n",
      "|102    |(1855603,[1500761],[0.0])|\n",
      "|103    |(1855603,[1559521],[2.0])|\n",
      "|108    |(1855603,[560714],[0.0]) |\n",
      "|108    |(1855603,[1803129],[0.0])|\n",
      "|114    |(1855603,[659148],[0.0]) |\n",
      "|122    |(1855603,[864762],[0.0]) |\n",
      "|124    |(1855603,[621189],[0.0]) |\n",
      "|127    |(1855603,[811371],[0.0]) |\n",
      "|134    |(1855603,[593949],[0.0]) |\n",
      "|140    |(1855603,[1768746],[1.0])|\n",
      "|147    |(1855603,[311352],[0.0]) |\n",
      "|148    |(1855603,[533675],[0.0]) |\n",
      "|148    |(1855603,[921656],[0.0]) |\n",
      "|149    |(1855603,[917563],[0.0]) |\n",
      "|156    |(1855603,[655424],[0.0]) |\n",
      "|158    |(1855603,[1642425],[1.0])|\n",
      "|163    |(1855603,[505311],[1.0]) |\n",
      "|163    |(1855603,[1344942],[0.0])|\n",
      "|167    |(1855603,[1635995],[0.0])|\n",
      "|175    |(1855603,[37217],[0.0])  |\n",
      "|175    |(1855603,[718513],[1.0]) |\n",
      "|176    |(1855603,[448520],[1.0]) |\n",
      "|179    |(1855603,[714397],[0.0]) |\n",
      "|180    |(1855603,[1494593],[0.0])|\n",
      "|182    |(1855603,[1709091],[0.0])|\n",
      "|183    |(1855603,[385958],[1.0]) |\n",
      "|183    |(1855603,[1275603],[1.0])|\n",
      "|184    |(1855603,[987383],[0.0]) |\n",
      "|184    |(1855603,[1786283],[0.0])|\n",
      "|191    |(1855603,[598802],[0.0]) |\n",
      "|191    |(1855603,[971886],[0.0]) |\n",
      "|191    |(1855603,[1248502],[0.0])|\n",
      "|200    |(1855603,[1094071],[0.0])|\n",
      "|204    |(1855603,[481042],[0.0]) |\n",
      "|204    |(1855603,[971341],[0.0]) |\n",
      "|209    |(1855603,[386263],[0.0]) |\n",
      "|215    |(1855603,[873293],[0.0]) |\n",
      "|223    |(1855603,[1606160],[0.0])|\n",
      "|227    |(1855603,[138343],[0.0]) |\n",
      "|227    |(1855603,[546089],[0.0]) |\n",
      "|227    |(1855603,[782770],[0.0]) |\n",
      "|227    |(1855603,[1232112],[0.0])|\n",
      "|227    |(1855603,[1384549],[0.0])|\n",
      "|227    |(1855603,[1507087],[0.0])|\n",
      "|228    |(1855603,[203379],[0.0]) |\n",
      "|231    |(1855603,[1066554],[0.0])|\n",
      "|232    |(1855603,[241889],[0.0]) |\n",
      "|237    |(1855603,[691043],[0.0]) |\n",
      "|239    |(1855603,[612630],[0.0]) |\n",
      "|243    |(1855603,[404224],[0.0]) |\n",
      "|244    |(1855603,[1603001],[2.0])|\n",
      "|253    |(1855603,[437719],[0.0]) |\n",
      "|253    |(1855603,[1369595],[0.0])|\n",
      "|261    |(1855603,[343323],[0.0]) |\n",
      "|269    |(1855603,[278907],[0.0]) |\n",
      "|271    |(1855603,[681547],[0.0]) |\n",
      "|271    |(1855603,[792785],[0.0]) |\n",
      "|273    |(1855603,[1548688],[0.0])|\n",
      "|276    |(1855603,[851894],[0.0]) |\n",
      "|276    |(1855603,[871728],[0.0]) |\n",
      "|276    |(1855603,[1526307],[0.0])|\n",
      "|280    |(1855603,[359940],[0.0]) |\n",
      "|280    |(1855603,[680527],[0.0]) |\n",
      "|280    |(1855603,[1088746],[0.0])|\n",
      "|295    |(1855603,[1155389],[0.0])|\n",
      "|297    |(1855603,[909660],[0.0]) |\n",
      "|305    |(1855603,[1441150],[0.0])|\n",
      "|313    |(1855603,[791412],[0.0]) |\n",
      "|332    |(1855603,[25082],[0.0])  |\n",
      "|332    |(1855603,[1221809],[0.0])|\n",
      "|332    |(1855603,[1572293],[1.0])|\n",
      "|334    |(1855603,[933275],[0.0]) |\n",
      "|335    |(1855603,[521529],[0.0]) |\n",
      "|335    |(1855603,[1062579],[0.0])|\n",
      "|335    |(1855603,[1318164],[0.0])|\n",
      "|343    |(1855603,[349706],[0.0]) |\n",
      "|343    |(1855603,[1112103],[0.0])|\n",
      "|345    |(1855603,[67359],[0.0])  |\n",
      "|347    |(1855603,[212695],[0.0]) |\n",
      "|361    |(1855603,[809151],[0.0]) |\n",
      "|376    |(1855603,[761557],[0.0]) |\n",
      "|378    |(1855603,[1767992],[1.0])|\n",
      "|380    |(1855603,[570128],[0.0]) |\n",
      "|396    |(1855603,[135295],[0.0]) |\n",
      "|396    |(1855603,[357159],[2.0]) |\n",
      "|396    |(1855603,[399091],[0.0]) |\n",
      "|396    |(1855603,[733782],[1.0]) |\n",
      "|399    |(1855603,[224039],[0.0]) |\n",
      "|414    |(1855603,[547575],[0.0]) |\n",
      "|417    |(1855603,[1160231],[0.0])|\n",
      "|426    |(1855603,[149804],[0.0]) |\n",
      "|428    |(1855603,[998148],[0.0]) |\n",
      "|429    |(1855603,[328886],[1.0]) |\n",
      "|429    |(1855603,[1314988],[0.0])|\n",
      "|430    |(1855603,[1837818],[0.0])|\n",
      "|434    |(1855603,[484692],[0.0]) |\n",
      "|435    |(1855603,[1026707],[0.0])|\n",
      "|435    |(1855603,[1118471],[0.0])|\n",
      "|436    |(1855603,[277043],[0.0]) |\n",
      "|452    |(1855603,[586206],[0.0]) |\n",
      "|453    |(1855603,[358794],[1.0]) |\n",
      "|455    |(1855603,[1670605],[0.0])|\n",
      "|464    |(1855603,[819193],[0.0]) |\n",
      "|464    |(1855603,[876460],[0.0]) |\n",
      "|474    |(1855603,[924095],[1.0]) |\n",
      "|477    |(1855603,[53976],[0.0])  |\n",
      "|477    |(1855603,[1571264],[0.0])|\n",
      "|489    |(1855603,[1006198],[0.0])|\n",
      "|491    |(1855603,[1193209],[0.0])|\n",
      "|501    |(1855603,[659846],[1.0]) |\n",
      "|502    |(1855603,[994165],[0.0]) |\n",
      "|503    |(1855603,[1659885],[0.0])|\n",
      "|515    |(1855603,[858585],[0.0]) |\n",
      "+-------+-------------------------+\n",
      "only showing top 150 rows\n",
      "\n"
     ]
    }
   ],
   "source": [
    "df_sparse = spark.createDataFrame(sparse_data, [\"session\", \"aid\"])\n",
    "df_sparse.show(150, truncate=False)"
   ]
  },
  {
   "cell_type": "code",
   "execution_count": null,
   "metadata": {
    "id": "E7G1RBkBN5pA"
   },
   "outputs": [],
   "source": []
  },
  {
   "cell_type": "code",
   "execution_count": null,
   "metadata": {
    "id": "VvTLxDWmN5lk"
   },
   "outputs": [],
   "source": []
  },
  {
   "cell_type": "code",
   "execution_count": null,
   "metadata": {
    "id": "FlrFTFQqN5j0"
   },
   "outputs": [],
   "source": []
  },
  {
   "cell_type": "code",
   "execution_count": null,
   "metadata": {
    "id": "_222ZpYlN5hs"
   },
   "outputs": [],
   "source": []
  },
  {
   "cell_type": "code",
   "execution_count": null,
   "metadata": {
    "id": "DqWUnMPGN5fo"
   },
   "outputs": [],
   "source": []
  },
  {
   "cell_type": "code",
   "execution_count": null,
   "metadata": {
    "id": "RzaIBlahN5da"
   },
   "outputs": [],
   "source": []
  },
  {
   "cell_type": "code",
   "execution_count": null,
   "metadata": {
    "id": "9KZknPkCN5bH"
   },
   "outputs": [],
   "source": []
  },
  {
   "cell_type": "code",
   "execution_count": null,
   "metadata": {
    "id": "v7ll5rgSN5ZU"
   },
   "outputs": [],
   "source": []
  },
  {
   "cell_type": "code",
   "execution_count": null,
   "metadata": {
    "id": "fi518hMXN5W0"
   },
   "outputs": [],
   "source": []
  },
  {
   "cell_type": "code",
   "execution_count": null,
   "metadata": {
    "id": "LLU9pdR0N5Ug"
   },
   "outputs": [],
   "source": []
  },
  {
   "cell_type": "code",
   "execution_count": null,
   "metadata": {
    "id": "pIMRppWJN5SU"
   },
   "outputs": [],
   "source": []
  },
  {
   "cell_type": "code",
   "execution_count": null,
   "metadata": {
    "id": "WhRKBAOXN5NK"
   },
   "outputs": [],
   "source": []
  },
  {
   "cell_type": "markdown",
   "metadata": {
    "id": "vfXHYO5S2-pp"
   },
   "source": [
    "* Escrita do dataset, em formato CSV, em única partição"
   ]
  },
  {
   "cell_type": "code",
   "execution_count": null,
   "metadata": {
    "id": "IDe1DrMu2-pp",
    "pycharm": {
     "name": "#%%\n"
    }
   },
   "outputs": [],
   "source": [
    "# df_indexed.coalesce(1)\\\n",
    "#         .write.format('csv')\\\n",
    "#         .option(\"header\", \"True\")\\\n",
    "#         .mode(\"overwrite\")\\\n",
    "#         .save('/'.join([os.getcwd(), 'test.csv']))\n",
    "\n",
    "spark.stop()"
   ]
  },
  {
   "cell_type": "markdown",
   "metadata": {
    "id": "MenCBcT82-pp"
   },
   "source": [
    "## Colaborative Filtering\n"
   ]
  },
  {
   "cell_type": "markdown",
   "metadata": {
    "id": "c7W2ewLY2-pp"
   },
   "source": [
    "* Função para listar arquivos em pasta com prefixo .csv"
   ]
  },
  {
   "cell_type": "code",
   "execution_count": null,
   "metadata": {
    "id": "h5UVcDlz2-pp",
    "outputId": "31132e22-2f52-4bd7-83e9-91576c144fad",
    "pycharm": {
     "name": "#%%\n"
    }
   },
   "outputs": [
    {
     "data": {
      "text/plain": [
       "['part-00001-e6bfdd99-73da-4ebc-a420-d71150c63f00-c000.csv',\n",
       " 'part-00000-e6bfdd99-73da-4ebc-a420-d71150c63f00-c000.csv']"
      ]
     },
     "execution_count": 25,
     "metadata": {},
     "output_type": "execute_result"
    }
   ],
   "source": [
    "def list_csv_in_dir(path):\n",
    "    dir_path = '/'.join([os.getcwd(), path])\n",
    "    list_files = []\n",
    "    for path in os.scandir(dir_path):\n",
    "        if path.is_file():\n",
    "            if path.name.endswith('.csv'):\n",
    "                list_files.append(path.name)\n",
    "    return list_files\n",
    "list_files = list_csv_in_dir('data.csv')\n",
    "list_files"
   ]
  },
  {
   "cell_type": "markdown",
   "metadata": {
    "id": "VVzMFc5n2-pp"
   },
   "source": [
    "* Leitura dos dados em um DataFrame"
   ]
  },
  {
   "cell_type": "code",
   "execution_count": null,
   "metadata": {
    "id": "6X5eGbhj2-pp",
    "outputId": "13d74814-8b0a-4495-a7b9-7adb40c342b9",
    "pycharm": {
     "name": "#%%\n"
    }
   },
   "outputs": [
    {
     "data": {
      "text/html": [
       "<div>\n",
       "<style scoped>\n",
       "    .dataframe tbody tr th:only-of-type {\n",
       "        vertical-align: middle;\n",
       "    }\n",
       "\n",
       "    .dataframe tbody tr th {\n",
       "        vertical-align: top;\n",
       "    }\n",
       "\n",
       "    .dataframe thead th {\n",
       "        text-align: right;\n",
       "    }\n",
       "</style>\n",
       "<table border=\"1\" class=\"dataframe\">\n",
       "  <thead>\n",
       "    <tr style=\"text-align: right;\">\n",
       "      <th></th>\n",
       "      <th>session</th>\n",
       "      <th>aid</th>\n",
       "      <th>type_cat</th>\n",
       "    </tr>\n",
       "  </thead>\n",
       "  <tbody>\n",
       "    <tr>\n",
       "      <th>0</th>\n",
       "      <td>3983334</td>\n",
       "      <td>1668263</td>\n",
       "      <td>0</td>\n",
       "    </tr>\n",
       "    <tr>\n",
       "      <th>1</th>\n",
       "      <td>3983334</td>\n",
       "      <td>198635</td>\n",
       "      <td>0</td>\n",
       "    </tr>\n",
       "    <tr>\n",
       "      <th>2</th>\n",
       "      <td>3983334</td>\n",
       "      <td>75856</td>\n",
       "      <td>0</td>\n",
       "    </tr>\n",
       "    <tr>\n",
       "      <th>3</th>\n",
       "      <td>3983334</td>\n",
       "      <td>559635</td>\n",
       "      <td>0</td>\n",
       "    </tr>\n",
       "    <tr>\n",
       "      <th>4</th>\n",
       "      <td>3983335</td>\n",
       "      <td>1019238</td>\n",
       "      <td>0</td>\n",
       "    </tr>\n",
       "    <tr>\n",
       "      <th>5</th>\n",
       "      <td>3983335</td>\n",
       "      <td>1672025</td>\n",
       "      <td>0</td>\n",
       "    </tr>\n",
       "    <tr>\n",
       "      <th>6</th>\n",
       "      <td>3983335</td>\n",
       "      <td>1500899</td>\n",
       "      <td>0</td>\n",
       "    </tr>\n",
       "    <tr>\n",
       "      <th>7</th>\n",
       "      <td>3983335</td>\n",
       "      <td>1628617</td>\n",
       "      <td>0</td>\n",
       "    </tr>\n",
       "    <tr>\n",
       "      <th>8</th>\n",
       "      <td>3983335</td>\n",
       "      <td>246358</td>\n",
       "      <td>0</td>\n",
       "    </tr>\n",
       "    <tr>\n",
       "      <th>9</th>\n",
       "      <td>3983335</td>\n",
       "      <td>1628617</td>\n",
       "      <td>0</td>\n",
       "    </tr>\n",
       "    <tr>\n",
       "      <th>10</th>\n",
       "      <td>3983335</td>\n",
       "      <td>246358</td>\n",
       "      <td>0</td>\n",
       "    </tr>\n",
       "    <tr>\n",
       "      <th>11</th>\n",
       "      <td>3983335</td>\n",
       "      <td>1628617</td>\n",
       "      <td>0</td>\n",
       "    </tr>\n",
       "    <tr>\n",
       "      <th>12</th>\n",
       "      <td>3983335</td>\n",
       "      <td>711099</td>\n",
       "      <td>0</td>\n",
       "    </tr>\n",
       "    <tr>\n",
       "      <th>13</th>\n",
       "      <td>3983335</td>\n",
       "      <td>378827</td>\n",
       "      <td>0</td>\n",
       "    </tr>\n",
       "    <tr>\n",
       "      <th>14</th>\n",
       "      <td>3983335</td>\n",
       "      <td>493740</td>\n",
       "      <td>0</td>\n",
       "    </tr>\n",
       "    <tr>\n",
       "      <th>15</th>\n",
       "      <td>3983335</td>\n",
       "      <td>1611032</td>\n",
       "      <td>0</td>\n",
       "    </tr>\n",
       "    <tr>\n",
       "      <th>16</th>\n",
       "      <td>3983335</td>\n",
       "      <td>178829</td>\n",
       "      <td>1</td>\n",
       "    </tr>\n",
       "    <tr>\n",
       "      <th>17</th>\n",
       "      <td>3983335</td>\n",
       "      <td>1454889</td>\n",
       "      <td>1</td>\n",
       "    </tr>\n",
       "    <tr>\n",
       "      <th>18</th>\n",
       "      <td>3983335</td>\n",
       "      <td>178829</td>\n",
       "      <td>0</td>\n",
       "    </tr>\n",
       "    <tr>\n",
       "      <th>19</th>\n",
       "      <td>3983335</td>\n",
       "      <td>881286</td>\n",
       "      <td>0</td>\n",
       "    </tr>\n",
       "  </tbody>\n",
       "</table>\n",
       "</div>"
      ],
      "text/plain": [
       "    session      aid  type_cat\n",
       "0   3983334  1668263         0\n",
       "1   3983334   198635         0\n",
       "2   3983334    75856         0\n",
       "3   3983334   559635         0\n",
       "4   3983335  1019238         0\n",
       "5   3983335  1672025         0\n",
       "6   3983335  1500899         0\n",
       "7   3983335  1628617         0\n",
       "8   3983335   246358         0\n",
       "9   3983335  1628617         0\n",
       "10  3983335   246358         0\n",
       "11  3983335  1628617         0\n",
       "12  3983335   711099         0\n",
       "13  3983335   378827         0\n",
       "14  3983335   493740         0\n",
       "15  3983335  1611032         0\n",
       "16  3983335   178829         1\n",
       "17  3983335  1454889         1\n",
       "18  3983335   178829         0\n",
       "19  3983335   881286         0"
      ]
     },
     "execution_count": 27,
     "metadata": {},
     "output_type": "execute_result"
    }
   ],
   "source": [
    "path = '/'.join([os.getcwd(),'data.csv',list_files[0]])\n",
    "df = pd.read_csv(filepath_or_buffer=path, nrows=2000000)\n",
    "df = df.fillna(df.mode().iloc[0])\n",
    "df.head(20)"
   ]
  },
  {
   "cell_type": "markdown",
   "metadata": {
    "id": "Kva0cz6s2-pp"
   },
   "source": [
    "* Reposicionando colunas para se adequar ao padrão do framework Fastai"
   ]
  },
  {
   "cell_type": "code",
   "execution_count": null,
   "metadata": {
    "id": "4L9rb13x2-pq",
    "pycharm": {
     "name": "#%%\n"
    }
   },
   "outputs": [],
   "source": [
    "df = df[['session', 'aid', 'type_cat']]"
   ]
  },
  {
   "cell_type": "markdown",
   "metadata": {
    "id": "dx42ICab2-pq"
   },
   "source": [
    "* Dividindo o Dataset em treino e teste"
   ]
  },
  {
   "cell_type": "code",
   "execution_count": null,
   "metadata": {
    "id": "UWoTSeO32-pq",
    "pycharm": {
     "name": "#%%\n"
    }
   },
   "outputs": [],
   "source": [
    "from sklearn.model_selection import train_test_split\n",
    "train_df, test_df = train_test_split(df, test_size=0.4, shuffle=True, random_state=104)\n",
    "del df"
   ]
  },
  {
   "cell_type": "code",
   "execution_count": null,
   "metadata": {
    "id": "8I1zdCMa2-pq",
    "outputId": "98c349b2-6641-4505-d4ce-a859b6af9bf9",
    "pycharm": {
     "name": "#%%\n"
    }
   },
   "outputs": [
    {
     "data": {
      "text/html": [
       "<div>\n",
       "<style scoped>\n",
       "    .dataframe tbody tr th:only-of-type {\n",
       "        vertical-align: middle;\n",
       "    }\n",
       "\n",
       "    .dataframe tbody tr th {\n",
       "        vertical-align: top;\n",
       "    }\n",
       "\n",
       "    .dataframe thead th {\n",
       "        text-align: right;\n",
       "    }\n",
       "</style>\n",
       "<table border=\"1\" class=\"dataframe\">\n",
       "  <thead>\n",
       "    <tr style=\"text-align: right;\">\n",
       "      <th></th>\n",
       "      <th>session</th>\n",
       "      <th>aid</th>\n",
       "      <th>type_cat</th>\n",
       "    </tr>\n",
       "  </thead>\n",
       "  <tbody>\n",
       "    <tr>\n",
       "      <th>371119</th>\n",
       "      <td>4002966</td>\n",
       "      <td>933530</td>\n",
       "      <td>0</td>\n",
       "    </tr>\n",
       "    <tr>\n",
       "      <th>1859605</th>\n",
       "      <td>4084066</td>\n",
       "      <td>1737348</td>\n",
       "      <td>0</td>\n",
       "    </tr>\n",
       "    <tr>\n",
       "      <th>218841</th>\n",
       "      <td>3995283</td>\n",
       "      <td>688602</td>\n",
       "      <td>0</td>\n",
       "    </tr>\n",
       "    <tr>\n",
       "      <th>606372</th>\n",
       "      <td>4015536</td>\n",
       "      <td>285096</td>\n",
       "      <td>0</td>\n",
       "    </tr>\n",
       "    <tr>\n",
       "      <th>1538856</th>\n",
       "      <td>4066733</td>\n",
       "      <td>206561</td>\n",
       "      <td>0</td>\n",
       "    </tr>\n",
       "  </tbody>\n",
       "</table>\n",
       "</div>"
      ],
      "text/plain": [
       "         session      aid  type_cat\n",
       "371119   4002966   933530         0\n",
       "1859605  4084066  1737348         0\n",
       "218841   3995283   688602         0\n",
       "606372   4015536   285096         0\n",
       "1538856  4066733   206561         0"
      ]
     },
     "execution_count": 30,
     "metadata": {},
     "output_type": "execute_result"
    }
   ],
   "source": [
    "train_df.head()"
   ]
  },
  {
   "cell_type": "code",
   "execution_count": null,
   "metadata": {
    "id": "abIn9tgG2-pq",
    "outputId": "1c2cef63-fb5b-4c6f-ca3f-097b6e649446",
    "pycharm": {
     "name": "#%%\n"
    }
   },
   "outputs": [
    {
     "data": {
      "text/html": [
       "<div>\n",
       "<style scoped>\n",
       "    .dataframe tbody tr th:only-of-type {\n",
       "        vertical-align: middle;\n",
       "    }\n",
       "\n",
       "    .dataframe tbody tr th {\n",
       "        vertical-align: top;\n",
       "    }\n",
       "\n",
       "    .dataframe thead th {\n",
       "        text-align: right;\n",
       "    }\n",
       "</style>\n",
       "<table border=\"1\" class=\"dataframe\">\n",
       "  <thead>\n",
       "    <tr style=\"text-align: right;\">\n",
       "      <th></th>\n",
       "      <th>session</th>\n",
       "      <th>aid</th>\n",
       "      <th>type_cat</th>\n",
       "    </tr>\n",
       "  </thead>\n",
       "  <tbody>\n",
       "    <tr>\n",
       "      <th>68860</th>\n",
       "      <td>3987145</td>\n",
       "      <td>1224794</td>\n",
       "      <td>1</td>\n",
       "    </tr>\n",
       "    <tr>\n",
       "      <th>962017</th>\n",
       "      <td>4034883</td>\n",
       "      <td>419628</td>\n",
       "      <td>0</td>\n",
       "    </tr>\n",
       "    <tr>\n",
       "      <th>1186264</th>\n",
       "      <td>4047485</td>\n",
       "      <td>416172</td>\n",
       "      <td>0</td>\n",
       "    </tr>\n",
       "    <tr>\n",
       "      <th>302814</th>\n",
       "      <td>3999536</td>\n",
       "      <td>231487</td>\n",
       "      <td>0</td>\n",
       "    </tr>\n",
       "    <tr>\n",
       "      <th>803153</th>\n",
       "      <td>4026200</td>\n",
       "      <td>1685214</td>\n",
       "      <td>0</td>\n",
       "    </tr>\n",
       "  </tbody>\n",
       "</table>\n",
       "</div>"
      ],
      "text/plain": [
       "         session      aid  type_cat\n",
       "68860    3987145  1224794         1\n",
       "962017   4034883   419628         0\n",
       "1186264  4047485   416172         0\n",
       "302814   3999536   231487         0\n",
       "803153   4026200  1685214         0"
      ]
     },
     "execution_count": 31,
     "metadata": {},
     "output_type": "execute_result"
    }
   ],
   "source": [
    "test_df.head()"
   ]
  },
  {
   "cell_type": "markdown",
   "metadata": {
    "id": "nD8aiMJv2-pq"
   },
   "source": [
    "* Carga em CollabDLS"
   ]
  },
  {
   "cell_type": "code",
   "execution_count": null,
   "metadata": {
    "id": "A9OAFTHz2-pq",
    "outputId": "3804406b-a492-4a62-c170-88bcec584c4a",
    "pycharm": {
     "name": "#%%\n"
    }
   },
   "outputs": [
    {
     "data": {
      "text/html": [
       "<table border=\"1\" class=\"dataframe\">\n",
       "  <thead>\n",
       "    <tr style=\"text-align: right;\">\n",
       "      <th></th>\n",
       "      <th>session</th>\n",
       "      <th>aid</th>\n",
       "      <th>type_cat</th>\n",
       "    </tr>\n",
       "  </thead>\n",
       "  <tbody>\n",
       "    <tr>\n",
       "      <th>0</th>\n",
       "      <td>4029609</td>\n",
       "      <td>46400</td>\n",
       "      <td>2</td>\n",
       "    </tr>\n",
       "    <tr>\n",
       "      <th>1</th>\n",
       "      <td>4026130</td>\n",
       "      <td>1537866</td>\n",
       "      <td>0</td>\n",
       "    </tr>\n",
       "    <tr>\n",
       "      <th>2</th>\n",
       "      <td>4004682</td>\n",
       "      <td>1560585</td>\n",
       "      <td>0</td>\n",
       "    </tr>\n",
       "    <tr>\n",
       "      <th>3</th>\n",
       "      <td>4062727</td>\n",
       "      <td>967233</td>\n",
       "      <td>1</td>\n",
       "    </tr>\n",
       "    <tr>\n",
       "      <th>4</th>\n",
       "      <td>4086185</td>\n",
       "      <td>194308</td>\n",
       "      <td>0</td>\n",
       "    </tr>\n",
       "    <tr>\n",
       "      <th>5</th>\n",
       "      <td>3985752</td>\n",
       "      <td>1573047</td>\n",
       "      <td>0</td>\n",
       "    </tr>\n",
       "    <tr>\n",
       "      <th>6</th>\n",
       "      <td>4043501</td>\n",
       "      <td>221265</td>\n",
       "      <td>1</td>\n",
       "    </tr>\n",
       "    <tr>\n",
       "      <th>7</th>\n",
       "      <td>4074386</td>\n",
       "      <td>385065</td>\n",
       "      <td>0</td>\n",
       "    </tr>\n",
       "    <tr>\n",
       "      <th>8</th>\n",
       "      <td>4009100</td>\n",
       "      <td>1604220</td>\n",
       "      <td>0</td>\n",
       "    </tr>\n",
       "    <tr>\n",
       "      <th>9</th>\n",
       "      <td>4011536</td>\n",
       "      <td>1164435</td>\n",
       "      <td>0</td>\n",
       "    </tr>\n",
       "  </tbody>\n",
       "</table>"
      ],
      "text/plain": [
       "<IPython.core.display.HTML object>"
      ]
     },
     "metadata": {},
     "output_type": "display_data"
    }
   ],
   "source": [
    "from fastai.collab import *\n",
    "dls = CollabDataLoaders.from_df(train_df, item_name='aid', bs=1024)\n",
    "dls.train.show_batch()"
   ]
  },
  {
   "cell_type": "code",
   "execution_count": null,
   "metadata": {
    "id": "x3Zg0_OT2-pq",
    "outputId": "30fcb753-cfd9-4040-a9c6-051b566970c7",
    "pycharm": {
     "name": "#%%\n"
    }
   },
   "outputs": [
    {
     "data": {
      "text/plain": [
       "\"{'session': ['#na#', 3983334, 3983335, 3983336, 3983337, 3983338, 3983339, 3983340, 3983341, 3983342, 3983343, 3983344, 3983345, 3983346, 3983347, 3983348, 3983349, 3983350, 3983351, 3983352, 3983353,\""
      ]
     },
     "execution_count": 33,
     "metadata": {},
     "output_type": "execute_result"
    }
   ],
   "source": [
    "str(dls.classes)[:200]"
   ]
  },
  {
   "cell_type": "markdown",
   "metadata": {
    "id": "WVCKRWlO2-pq"
   },
   "source": [
    "* Sugestão de taxa de aprendizado"
   ]
  },
  {
   "cell_type": "code",
   "execution_count": null,
   "metadata": {
    "id": "ngWmJDje2-pq",
    "outputId": "790ff619-8099-4c14-ef5b-b6e7733dcad7",
    "pycharm": {
     "name": "#%%\n"
    }
   },
   "outputs": [
    {
     "data": {
      "text/html": [
       "\n",
       "<style>\n",
       "    /* Turns off some styling */\n",
       "    progress {\n",
       "        /* gets rid of default border in Firefox and Opera. */\n",
       "        border: none;\n",
       "        /* Needs to be in here for Safari polyfill so background images work as expected. */\n",
       "        background-size: auto;\n",
       "    }\n",
       "    progress:not([value]), progress:not([value])::-webkit-progress-bar {\n",
       "        background: repeating-linear-gradient(45deg, #7e7e7e, #7e7e7e 10px, #5c5c5c 10px, #5c5c5c 20px);\n",
       "    }\n",
       "    .progress-bar-interrupted, .progress-bar-interrupted::-webkit-progress-bar {\n",
       "        background: #F44336;\n",
       "    }\n",
       "</style>\n"
      ],
      "text/plain": [
       "<IPython.core.display.HTML object>"
      ]
     },
     "metadata": {},
     "output_type": "display_data"
    },
    {
     "data": {
      "text/html": [],
      "text/plain": [
       "<IPython.core.display.HTML object>"
      ]
     },
     "metadata": {},
     "output_type": "display_data"
    },
    {
     "name": "stdout",
     "output_type": "stream",
     "text": [
      "SuggestedLRs(valley=0.02290867641568184)\n",
      "Learning Rate:  0.02290867641568184\n"
     ]
    },
    {
     "data": {
      "image/png": "[encoded data removed]",
      "text/plain": [
       "<Figure size 640x480 with 1 Axes>"
      ]
     },
     "metadata": {},
     "output_type": "display_data"
    }
   ],
   "source": [
    "learn = collab_learner(dls, n_factors=5, y_range=(0, 3.5))\n",
    "lr_rate = learn.lr_find()\n",
    "print(lr_rate)\n",
    "lr=(lr_rate[0])\n",
    "print('Learning Rate: ',lr)"
   ]
  },
  {
   "cell_type": "markdown",
   "metadata": {
    "id": "8ewoUssJ2-pq"
   },
   "source": [
    "* Treinamento do modelo"
   ]
  },
  {
   "cell_type": "code",
   "execution_count": null,
   "metadata": {
    "id": "w9a49ea_2-pq",
    "outputId": "68bdd9ff-1e98-49dd-bc79-0627f5bfac52",
    "pycharm": {
     "name": "#%%\n"
    }
   },
   "outputs": [
    {
     "data": {
      "text/html": [
       "\n",
       "<style>\n",
       "    /* Turns off some styling */\n",
       "    progress {\n",
       "        /* gets rid of default border in Firefox and Opera. */\n",
       "        border: none;\n",
       "        /* Needs to be in here for Safari polyfill so background images work as expected. */\n",
       "        background-size: auto;\n",
       "    }\n",
       "    progress:not([value]), progress:not([value])::-webkit-progress-bar {\n",
       "        background: repeating-linear-gradient(45deg, #7e7e7e, #7e7e7e 10px, #5c5c5c 10px, #5c5c5c 20px);\n",
       "    }\n",
       "    .progress-bar-interrupted, .progress-bar-interrupted::-webkit-progress-bar {\n",
       "        background: #F44336;\n",
       "    }\n",
       "</style>\n"
      ],
      "text/plain": [
       "<IPython.core.display.HTML object>"
      ]
     },
     "metadata": {},
     "output_type": "display_data"
    },
    {
     "data": {
      "text/html": [
       "<table border=\"1\" class=\"dataframe\">\n",
       "  <thead>\n",
       "    <tr style=\"text-align: left;\">\n",
       "      <th>epoch</th>\n",
       "      <th>train_loss</th>\n",
       "      <th>valid_loss</th>\n",
       "      <th>time</th>\n",
       "    </tr>\n",
       "  </thead>\n",
       "  <tbody>\n",
       "    <tr>\n",
       "      <td>0</td>\n",
       "      <td>0.363568</td>\n",
       "      <td>0.443931</td>\n",
       "      <td>00:13</td>\n",
       "    </tr>\n",
       "    <tr>\n",
       "      <td>1</td>\n",
       "      <td>0.250039</td>\n",
       "      <td>0.305049</td>\n",
       "      <td>00:15</td>\n",
       "    </tr>\n",
       "    <tr>\n",
       "      <td>2</td>\n",
       "      <td>0.187528</td>\n",
       "      <td>0.270822</td>\n",
       "      <td>00:19</td>\n",
       "    </tr>\n",
       "    <tr>\n",
       "      <td>3</td>\n",
       "      <td>0.156639</td>\n",
       "      <td>0.266532</td>\n",
       "      <td>00:18</td>\n",
       "    </tr>\n",
       "    <tr>\n",
       "      <td>4</td>\n",
       "      <td>0.140322</td>\n",
       "      <td>0.266607</td>\n",
       "      <td>00:19</td>\n",
       "    </tr>\n",
       "    <tr>\n",
       "      <td>5</td>\n",
       "      <td>0.128551</td>\n",
       "      <td>0.266973</td>\n",
       "      <td>00:18</td>\n",
       "    </tr>\n",
       "    <tr>\n",
       "      <td>6</td>\n",
       "      <td>0.118113</td>\n",
       "      <td>0.269231</td>\n",
       "      <td>00:16</td>\n",
       "    </tr>\n",
       "    <tr>\n",
       "      <td>7</td>\n",
       "      <td>0.108440</td>\n",
       "      <td>0.271916</td>\n",
       "      <td>00:14</td>\n",
       "    </tr>\n",
       "    <tr>\n",
       "      <td>8</td>\n",
       "      <td>0.096966</td>\n",
       "      <td>0.273762</td>\n",
       "      <td>00:13</td>\n",
       "    </tr>\n",
       "    <tr>\n",
       "      <td>9</td>\n",
       "      <td>0.091332</td>\n",
       "      <td>0.274051</td>\n",
       "      <td>00:11</td>\n",
       "    </tr>\n",
       "  </tbody>\n",
       "</table>"
      ],
      "text/plain": [
       "<IPython.core.display.HTML object>"
      ]
     },
     "metadata": {},
     "output_type": "display_data"
    }
   ],
   "source": [
    "learn.fit_one_cycle(10, lr)"
   ]
  },
  {
   "cell_type": "markdown",
   "metadata": {
    "id": "xj4vMnfV2-pq"
   },
   "source": [
    "* Resultado do treinamento"
   ]
  },
  {
   "cell_type": "code",
   "execution_count": null,
   "metadata": {
    "id": "YofDuvwz2-pr",
    "outputId": "72ee99be-61f6-4ded-bb0a-1f869f909b15",
    "pycharm": {
     "name": "#%%\n"
    }
   },
   "outputs": [
    {
     "data": {
      "text/html": [
       "\n",
       "<style>\n",
       "    /* Turns off some styling */\n",
       "    progress {\n",
       "        /* gets rid of default border in Firefox and Opera. */\n",
       "        border: none;\n",
       "        /* Needs to be in here for Safari polyfill so background images work as expected. */\n",
       "        background-size: auto;\n",
       "    }\n",
       "    progress:not([value]), progress:not([value])::-webkit-progress-bar {\n",
       "        background: repeating-linear-gradient(45deg, #7e7e7e, #7e7e7e 10px, #5c5c5c 10px, #5c5c5c 20px);\n",
       "    }\n",
       "    .progress-bar-interrupted, .progress-bar-interrupted::-webkit-progress-bar {\n",
       "        background: #F44336;\n",
       "    }\n",
       "</style>\n"
      ],
      "text/plain": [
       "<IPython.core.display.HTML object>"
      ]
     },
     "metadata": {},
     "output_type": "display_data"
    },
    {
     "data": {
      "text/html": [],
      "text/plain": [
       "<IPython.core.display.HTML object>"
      ]
     },
     "metadata": {},
     "output_type": "display_data"
    },
    {
     "data": {
      "text/html": [
       "<table border=\"1\" class=\"dataframe\">\n",
       "  <thead>\n",
       "    <tr style=\"text-align: right;\">\n",
       "      <th></th>\n",
       "      <th>session</th>\n",
       "      <th>aid</th>\n",
       "      <th>type_cat</th>\n",
       "      <th>type_cat_pred</th>\n",
       "    </tr>\n",
       "  </thead>\n",
       "  <tbody>\n",
       "    <tr>\n",
       "      <th>0</th>\n",
       "      <td>85856</td>\n",
       "      <td>108414</td>\n",
       "      <td>0</td>\n",
       "      <td>0.070616</td>\n",
       "    </tr>\n",
       "    <tr>\n",
       "      <th>1</th>\n",
       "      <td>37517</td>\n",
       "      <td>24049</td>\n",
       "      <td>2</td>\n",
       "      <td>0.542122</td>\n",
       "    </tr>\n",
       "    <tr>\n",
       "      <th>2</th>\n",
       "      <td>90298</td>\n",
       "      <td>57821</td>\n",
       "      <td>0</td>\n",
       "      <td>0.237704</td>\n",
       "    </tr>\n",
       "    <tr>\n",
       "      <th>3</th>\n",
       "      <td>84249</td>\n",
       "      <td>307828</td>\n",
       "      <td>0</td>\n",
       "      <td>0.198043</td>\n",
       "    </tr>\n",
       "    <tr>\n",
       "      <th>4</th>\n",
       "      <td>38553</td>\n",
       "      <td>176831</td>\n",
       "      <td>0</td>\n",
       "      <td>0.374463</td>\n",
       "    </tr>\n",
       "    <tr>\n",
       "      <th>5</th>\n",
       "      <td>16237</td>\n",
       "      <td>109055</td>\n",
       "      <td>0</td>\n",
       "      <td>0.270299</td>\n",
       "    </tr>\n",
       "    <tr>\n",
       "      <th>6</th>\n",
       "      <td>34152</td>\n",
       "      <td>105465</td>\n",
       "      <td>0</td>\n",
       "      <td>0.886329</td>\n",
       "    </tr>\n",
       "    <tr>\n",
       "      <th>7</th>\n",
       "      <td>87608</td>\n",
       "      <td>182628</td>\n",
       "      <td>0</td>\n",
       "      <td>0.107478</td>\n",
       "    </tr>\n",
       "    <tr>\n",
       "      <th>8</th>\n",
       "      <td>61814</td>\n",
       "      <td>219944</td>\n",
       "      <td>0</td>\n",
       "      <td>0.073866</td>\n",
       "    </tr>\n",
       "  </tbody>\n",
       "</table>"
      ],
      "text/plain": [
       "<IPython.core.display.HTML object>"
      ]
     },
     "metadata": {},
     "output_type": "display_data"
    }
   ],
   "source": [
    "learn.show_results()"
   ]
  },
  {
   "cell_type": "markdown",
   "metadata": {
    "id": "pupgHb9_2-pr"
   },
   "source": [
    "* Análise de argumentos utilizados pelo CollaborativeFiltering"
   ]
  },
  {
   "cell_type": "code",
   "execution_count": null,
   "metadata": {
    "id": "lDxiO1lB2-pr",
    "outputId": "7e210eb0-e8a5-4450-becb-c25ba2897264",
    "pycharm": {
     "name": "#%%\n"
    }
   },
   "outputs": [
    {
     "name": "stdout",
     "output_type": "stream",
     "text": [
      "User_bias:  tensor([-4.0833e-04, -9.7270e-01, -2.7936e+00,  ..., -1.5469e+00, -8.6124e-01, -1.3168e+00], grad_fn \n",
      "Lenght:  103632\n",
      "\n",
      "Users_biases_idxs:  tensor([26547, 79280, 39877,  ..., 23506, 18188, 42222]) \n",
      "Lenght:  103632\n",
      "\n",
      "Value in Users_biases_idxs:  [4011077, 4066328, 4025051, 4017320, 4036811, 4036988, 4005960, 3989463, 4006567, 4030996, 4010000,  \n",
      "Lenght:  103632\n",
      "\n",
      "Item_bias:  tensor([-9.5174e-04, -2.5355e-01, -1.3728e+00,  ..., -4.7397e-01, -1.0598e+00, -5.8486e-01], grad_fn \n",
      "Lenght:  323710\n",
      "\n",
      "Item_biases_idxs:  tensor([208876,   2829, 308858,  ..., 252262, 185646,  16665]) \n",
      "Lenght:  323710\n",
      "\n",
      "Value in Item_biases_idxs:  [1200182, 15972, 1770937, 752064, 826931, 120593, 334639, 1592578, 901576, 353918, 108631, 577850, 9 \n",
      "Lenght:  323710\n",
      "\n"
     ]
    }
   ],
   "source": [
    "users_bias = learn.model.u_bias.weight.squeeze()\n",
    "print('User_bias: ', str(users_bias)[:100], '\\nLenght: ', len(users_bias))\n",
    "print()\n",
    "\n",
    "user_idxs = users_bias.argsort(descending=True)[:]\n",
    "print('Users_biases_idxs: ', str(user_idxs)[:100], '\\nLenght: ', len(user_idxs))\n",
    "print()\n",
    "\n",
    "users_values = [dls.classes['session'][i] for i in user_idxs]\n",
    "print('Value in Users_biases_idxs: ', str(users_values)[:100], '\\nLenght: ',len(users_values))\n",
    "print()\n",
    "\n",
    "item_bias = learn.model.i_bias.weight.squeeze()\n",
    "print('Item_bias: ', str(item_bias)[:100],'\\nLenght: ', len(item_bias))\n",
    "print()\n",
    "\n",
    "item_idxs = item_bias.argsort(descending=True)[:]\n",
    "print('Item_biases_idxs: ', str(item_idxs)[:100],'\\nLenght: ', len(item_idxs))\n",
    "print()\n",
    "\n",
    "item_values = [dls.classes['aid'][i] for i in item_idxs]\n",
    "print('Value in Item_biases_idxs: ', str(item_values)[:100], '\\nLenght: ', len(item_values))\n",
    "print()"
   ]
  },
  {
   "cell_type": "markdown",
   "metadata": {
    "id": "cCjXhXiU2-pr"
   },
   "source": [
    "* Exportação do modelo treinado"
   ]
  },
  {
   "cell_type": "code",
   "execution_count": null,
   "metadata": {
    "id": "1SSEgjla2-pr",
    "outputId": "77120bdf-6ad6-4114-de20-bdf6f99135bb",
    "pycharm": {
     "name": "#%%\n"
    }
   },
   "outputs": [
    {
     "data": {
      "text/plain": [
       "Path('models/collab_model_light.pth')"
      ]
     },
     "execution_count": 43,
     "metadata": {},
     "output_type": "execute_result"
    }
   ],
   "source": [
    "learn.save(\"collab_model_light\")"
   ]
  },
  {
   "cell_type": "markdown",
   "metadata": {
    "id": "0Q4ppljZ2-pr"
   },
   "source": [
    "## Predição"
   ]
  },
  {
   "cell_type": "markdown",
   "metadata": {
    "id": "FTYVlaYI2-pr"
   },
   "source": [
    "* Caputura de path"
   ]
  },
  {
   "cell_type": "code",
   "execution_count": null,
   "metadata": {
    "id": "PxyT0Xjb2-pr",
    "outputId": "317c95ab-71fd-4dd2-f4b1-d66f6eb771fc",
    "pycharm": {
     "name": "#%%\n"
    }
   },
   "outputs": [
    {
     "data": {
      "text/plain": [
       "['part-00000-984d7694-fcfb-4478-9d92-365147c91c54-c000.csv']"
      ]
     },
     "execution_count": 44,
     "metadata": {},
     "output_type": "execute_result"
    }
   ],
   "source": [
    "list_files = list_csv_in_dir('test.csv')\n",
    "list_files"
   ]
  },
  {
   "cell_type": "markdown",
   "metadata": {
    "id": "CGf2Ibec2-pr"
   },
   "source": [
    "* Carga em DataFrame de validação"
   ]
  },
  {
   "cell_type": "code",
   "execution_count": null,
   "metadata": {
    "id": "7uWV74va2-pr",
    "outputId": "023ae330-022e-4e12-e8c4-e11b55a2ae87",
    "pycharm": {
     "name": "#%%\n"
    }
   },
   "outputs": [
    {
     "data": {
      "text/html": [
       "<div>\n",
       "<style scoped>\n",
       "    .dataframe tbody tr th:only-of-type {\n",
       "        vertical-align: middle;\n",
       "    }\n",
       "\n",
       "    .dataframe tbody tr th {\n",
       "        vertical-align: top;\n",
       "    }\n",
       "\n",
       "    .dataframe thead th {\n",
       "        text-align: right;\n",
       "    }\n",
       "</style>\n",
       "<table border=\"1\" class=\"dataframe\">\n",
       "  <thead>\n",
       "    <tr style=\"text-align: right;\">\n",
       "      <th></th>\n",
       "      <th>session</th>\n",
       "      <th>aid</th>\n",
       "      <th>type_cat</th>\n",
       "    </tr>\n",
       "  </thead>\n",
       "  <tbody>\n",
       "    <tr>\n",
       "      <th>0</th>\n",
       "      <td>12899779</td>\n",
       "      <td>59625</td>\n",
       "      <td>0</td>\n",
       "    </tr>\n",
       "    <tr>\n",
       "      <th>1</th>\n",
       "      <td>12899780</td>\n",
       "      <td>1142000</td>\n",
       "      <td>0</td>\n",
       "    </tr>\n",
       "    <tr>\n",
       "      <th>2</th>\n",
       "      <td>12899780</td>\n",
       "      <td>582732</td>\n",
       "      <td>0</td>\n",
       "    </tr>\n",
       "    <tr>\n",
       "      <th>3</th>\n",
       "      <td>12899780</td>\n",
       "      <td>973453</td>\n",
       "      <td>0</td>\n",
       "    </tr>\n",
       "    <tr>\n",
       "      <th>4</th>\n",
       "      <td>12899780</td>\n",
       "      <td>736515</td>\n",
       "      <td>0</td>\n",
       "    </tr>\n",
       "    <tr>\n",
       "      <th>5</th>\n",
       "      <td>12899780</td>\n",
       "      <td>1142000</td>\n",
       "      <td>0</td>\n",
       "    </tr>\n",
       "    <tr>\n",
       "      <th>6</th>\n",
       "      <td>12899781</td>\n",
       "      <td>141736</td>\n",
       "      <td>0</td>\n",
       "    </tr>\n",
       "    <tr>\n",
       "      <th>7</th>\n",
       "      <td>12899781</td>\n",
       "      <td>199008</td>\n",
       "      <td>0</td>\n",
       "    </tr>\n",
       "    <tr>\n",
       "      <th>8</th>\n",
       "      <td>12899781</td>\n",
       "      <td>57315</td>\n",
       "      <td>0</td>\n",
       "    </tr>\n",
       "    <tr>\n",
       "      <th>9</th>\n",
       "      <td>12899781</td>\n",
       "      <td>194067</td>\n",
       "      <td>0</td>\n",
       "    </tr>\n",
       "    <tr>\n",
       "      <th>10</th>\n",
       "      <td>12899781</td>\n",
       "      <td>199008</td>\n",
       "      <td>0</td>\n",
       "    </tr>\n",
       "    <tr>\n",
       "      <th>11</th>\n",
       "      <td>12899781</td>\n",
       "      <td>199008</td>\n",
       "      <td>0</td>\n",
       "    </tr>\n",
       "    <tr>\n",
       "      <th>12</th>\n",
       "      <td>12899781</td>\n",
       "      <td>199008</td>\n",
       "      <td>1</td>\n",
       "    </tr>\n",
       "    <tr>\n",
       "      <th>13</th>\n",
       "      <td>12899781</td>\n",
       "      <td>199008</td>\n",
       "      <td>0</td>\n",
       "    </tr>\n",
       "    <tr>\n",
       "      <th>14</th>\n",
       "      <td>12899781</td>\n",
       "      <td>199008</td>\n",
       "      <td>0</td>\n",
       "    </tr>\n",
       "    <tr>\n",
       "      <th>15</th>\n",
       "      <td>12899781</td>\n",
       "      <td>199008</td>\n",
       "      <td>0</td>\n",
       "    </tr>\n",
       "    <tr>\n",
       "      <th>16</th>\n",
       "      <td>12899781</td>\n",
       "      <td>918667</td>\n",
       "      <td>0</td>\n",
       "    </tr>\n",
       "    <tr>\n",
       "      <th>17</th>\n",
       "      <td>12899782</td>\n",
       "      <td>1669402</td>\n",
       "      <td>0</td>\n",
       "    </tr>\n",
       "    <tr>\n",
       "      <th>18</th>\n",
       "      <td>12899782</td>\n",
       "      <td>1494780</td>\n",
       "      <td>0</td>\n",
       "    </tr>\n",
       "    <tr>\n",
       "      <th>19</th>\n",
       "      <td>12899782</td>\n",
       "      <td>1494780</td>\n",
       "      <td>0</td>\n",
       "    </tr>\n",
       "  </tbody>\n",
       "</table>\n",
       "</div>"
      ],
      "text/plain": [
       "     session      aid  type_cat\n",
       "0   12899779    59625         0\n",
       "1   12899780  1142000         0\n",
       "2   12899780   582732         0\n",
       "3   12899780   973453         0\n",
       "4   12899780   736515         0\n",
       "5   12899780  1142000         0\n",
       "6   12899781   141736         0\n",
       "7   12899781   199008         0\n",
       "8   12899781    57315         0\n",
       "9   12899781   194067         0\n",
       "10  12899781   199008         0\n",
       "11  12899781   199008         0\n",
       "12  12899781   199008         1\n",
       "13  12899781   199008         0\n",
       "14  12899781   199008         0\n",
       "15  12899781   199008         0\n",
       "16  12899781   918667         0\n",
       "17  12899782  1669402         0\n",
       "18  12899782  1494780         0\n",
       "19  12899782  1494780         0"
      ]
     },
     "execution_count": 45,
     "metadata": {},
     "output_type": "execute_result"
    }
   ],
   "source": [
    "path = '/'.join([os.getcwd(),'test.csv',list_files[0]])\n",
    "df_test = pd.read_csv(filepath_or_buffer=path)\n",
    "df_test = df_test.fillna(df_test.mode().iloc[0])\n",
    "df_test.head(20)"
   ]
  },
  {
   "cell_type": "markdown",
   "metadata": {
    "id": "JHL0pXHP2-pr"
   },
   "source": [
    "* Carga em DataLoader de validação"
   ]
  },
  {
   "cell_type": "code",
   "execution_count": null,
   "metadata": {
    "id": "ulfjAj0O2-pr",
    "pycharm": {
     "name": "#%%\n"
    }
   },
   "outputs": [],
   "source": [
    "from fastai.collab import *\n",
    "dls_test = CollabDataLoaders.from_df(df_test , item_name='aid', bs=1024)"
   ]
  },
  {
   "cell_type": "markdown",
   "metadata": {
    "id": "XPfhugJF2-pr"
   },
   "source": [
    "* Carga de modelo treinado"
   ]
  },
  {
   "cell_type": "code",
   "execution_count": null,
   "metadata": {
    "id": "U-ObEyk72-pr"
   },
   "outputs": [],
   "source": [
    "learn = collab_learner(dls_test, y_range=(0, 3.5))"
   ]
  },
  {
   "cell_type": "code",
   "execution_count": null,
   "metadata": {
    "id": "uIdc_nKC2-pr",
    "outputId": "76b3f482-6108-4173-e025-abdf3f591e56",
    "pycharm": {
     "name": "#%%\n"
    }
   },
   "outputs": [
    {
     "ename": "RuntimeError",
     "evalue": "Error(s) in loading state_dict for EmbeddingDotBias:\n\tsize mismatch for u_weight.weight: copying a param with shape torch.Size([8383060, 2]) from checkpoint, the shape in current model is torch.Size([1508744, 50]).\n\tsize mismatch for i_weight.weight: copying a param with shape torch.Size([1746848, 2]) from checkpoint, the shape in current model is torch.Size([722381, 50]).\n\tsize mismatch for u_bias.weight: copying a param with shape torch.Size([8383060, 1]) from checkpoint, the shape in current model is torch.Size([1508744, 1]).\n\tsize mismatch for i_bias.weight: copying a param with shape torch.Size([1746848, 1]) from checkpoint, the shape in current model is torch.Size([722381, 1]).",
     "output_type": "error",
     "traceback": [
      "\u001b[0;31m---------------------------------------------------------------------------\u001b[0m",
      "\u001b[0;31mRuntimeError\u001b[0m                              Traceback (most recent call last)",
      "Cell \u001b[0;32mIn [37], line 1\u001b[0m\n\u001b[0;32m----> 1\u001b[0m learn_load \u001b[38;5;241m=\u001b[39m \u001b[43mlearn\u001b[49m\u001b[38;5;241;43m.\u001b[39;49m\u001b[43mload\u001b[49m\u001b[43m(\u001b[49m\u001b[38;5;124;43m'\u001b[39;49m\u001b[38;5;124;43mcollab_model\u001b[39;49m\u001b[38;5;124;43m'\u001b[39;49m\u001b[43m)\u001b[49m\n",
      "File \u001b[0;32m~/Documents/UnB/mlops/venv/lib/python3.10/site-packages/fastai/learner.py:411\u001b[0m, in \u001b[0;36mload\u001b[0;34m(self, file, device, **kwargs)\u001b[0m\n\u001b[1;32m    409\u001b[0m \u001b[38;5;28;01mif\u001b[39;00m \u001b[38;5;28mself\u001b[39m\u001b[38;5;241m.\u001b[39mopt \u001b[38;5;129;01mis\u001b[39;00m \u001b[38;5;28;01mNone\u001b[39;00m: \u001b[38;5;28mself\u001b[39m\u001b[38;5;241m.\u001b[39mcreate_opt()\n\u001b[1;32m    410\u001b[0m file \u001b[38;5;241m=\u001b[39m join_path_file(file, \u001b[38;5;28mself\u001b[39m\u001b[38;5;241m.\u001b[39mpath\u001b[38;5;241m/\u001b[39m\u001b[38;5;28mself\u001b[39m\u001b[38;5;241m.\u001b[39mmodel_dir, ext\u001b[38;5;241m=\u001b[39m\u001b[38;5;124m'\u001b[39m\u001b[38;5;124m.pth\u001b[39m\u001b[38;5;124m'\u001b[39m)\n\u001b[0;32m--> 411\u001b[0m \u001b[43mload_model\u001b[49m\u001b[43m(\u001b[49m\u001b[43mfile\u001b[49m\u001b[43m,\u001b[49m\u001b[43m \u001b[49m\u001b[38;5;28;43mself\u001b[39;49m\u001b[38;5;241;43m.\u001b[39;49m\u001b[43mmodel\u001b[49m\u001b[43m,\u001b[49m\u001b[43m \u001b[49m\u001b[38;5;28;43mself\u001b[39;49m\u001b[38;5;241;43m.\u001b[39;49m\u001b[43mopt\u001b[49m\u001b[43m,\u001b[49m\u001b[43m \u001b[49m\u001b[43mdevice\u001b[49m\u001b[38;5;241;43m=\u001b[39;49m\u001b[43mdevice\u001b[49m\u001b[43m,\u001b[49m\u001b[43m \u001b[49m\u001b[38;5;241;43m*\u001b[39;49m\u001b[38;5;241;43m*\u001b[39;49m\u001b[43mkwargs\u001b[49m\u001b[43m)\u001b[49m\n\u001b[1;32m    412\u001b[0m nested_attr(\u001b[38;5;28mself\u001b[39m, \u001b[38;5;124m\"\u001b[39m\u001b[38;5;124maccelerator.wait_for_everyone\u001b[39m\u001b[38;5;124m\"\u001b[39m, noop)()\n\u001b[1;32m    413\u001b[0m \u001b[38;5;28;01mreturn\u001b[39;00m \u001b[38;5;28mself\u001b[39m\n",
      "File \u001b[0;32m~/Documents/UnB/mlops/venv/lib/python3.10/site-packages/fastai/learner.py:53\u001b[0m, in \u001b[0;36mload_model\u001b[0;34m(file, model, opt, with_opt, device, strict, **torch_load_kwargs)\u001b[0m\n\u001b[1;32m     51\u001b[0m hasopt \u001b[38;5;241m=\u001b[39m \u001b[38;5;28mset\u001b[39m(state)\u001b[38;5;241m==\u001b[39m{\u001b[38;5;124m'\u001b[39m\u001b[38;5;124mmodel\u001b[39m\u001b[38;5;124m'\u001b[39m, \u001b[38;5;124m'\u001b[39m\u001b[38;5;124mopt\u001b[39m\u001b[38;5;124m'\u001b[39m}\n\u001b[1;32m     52\u001b[0m model_state \u001b[38;5;241m=\u001b[39m state[\u001b[38;5;124m'\u001b[39m\u001b[38;5;124mmodel\u001b[39m\u001b[38;5;124m'\u001b[39m] \u001b[38;5;28;01mif\u001b[39;00m hasopt \u001b[38;5;28;01melse\u001b[39;00m state\n\u001b[0;32m---> 53\u001b[0m \u001b[43mget_model\u001b[49m\u001b[43m(\u001b[49m\u001b[43mmodel\u001b[49m\u001b[43m)\u001b[49m\u001b[38;5;241;43m.\u001b[39;49m\u001b[43mload_state_dict\u001b[49m\u001b[43m(\u001b[49m\u001b[43mmodel_state\u001b[49m\u001b[43m,\u001b[49m\u001b[43m \u001b[49m\u001b[43mstrict\u001b[49m\u001b[38;5;241;43m=\u001b[39;49m\u001b[43mstrict\u001b[49m\u001b[43m)\u001b[49m\n\u001b[1;32m     54\u001b[0m \u001b[38;5;28;01mif\u001b[39;00m hasopt \u001b[38;5;129;01mand\u001b[39;00m with_opt:\n\u001b[1;32m     55\u001b[0m     \u001b[38;5;28;01mtry\u001b[39;00m: opt\u001b[38;5;241m.\u001b[39mload_state_dict(state[\u001b[38;5;124m'\u001b[39m\u001b[38;5;124mopt\u001b[39m\u001b[38;5;124m'\u001b[39m])\n",
      "File \u001b[0;32m~/Documents/UnB/mlops/venv/lib/python3.10/site-packages/torch/nn/modules/module.py:1667\u001b[0m, in \u001b[0;36mModule.load_state_dict\u001b[0;34m(self, state_dict, strict)\u001b[0m\n\u001b[1;32m   1662\u001b[0m         error_msgs\u001b[38;5;241m.\u001b[39minsert(\n\u001b[1;32m   1663\u001b[0m             \u001b[38;5;241m0\u001b[39m, \u001b[38;5;124m'\u001b[39m\u001b[38;5;124mMissing key(s) in state_dict: \u001b[39m\u001b[38;5;132;01m{}\u001b[39;00m\u001b[38;5;124m. \u001b[39m\u001b[38;5;124m'\u001b[39m\u001b[38;5;241m.\u001b[39mformat(\n\u001b[1;32m   1664\u001b[0m                 \u001b[38;5;124m'\u001b[39m\u001b[38;5;124m, \u001b[39m\u001b[38;5;124m'\u001b[39m\u001b[38;5;241m.\u001b[39mjoin(\u001b[38;5;124m'\u001b[39m\u001b[38;5;124m\"\u001b[39m\u001b[38;5;132;01m{}\u001b[39;00m\u001b[38;5;124m\"\u001b[39m\u001b[38;5;124m'\u001b[39m\u001b[38;5;241m.\u001b[39mformat(k) \u001b[38;5;28;01mfor\u001b[39;00m k \u001b[38;5;129;01min\u001b[39;00m missing_keys)))\n\u001b[1;32m   1666\u001b[0m \u001b[38;5;28;01mif\u001b[39;00m \u001b[38;5;28mlen\u001b[39m(error_msgs) \u001b[38;5;241m>\u001b[39m \u001b[38;5;241m0\u001b[39m:\n\u001b[0;32m-> 1667\u001b[0m     \u001b[38;5;28;01mraise\u001b[39;00m \u001b[38;5;167;01mRuntimeError\u001b[39;00m(\u001b[38;5;124m'\u001b[39m\u001b[38;5;124mError(s) in loading state_dict for \u001b[39m\u001b[38;5;132;01m{}\u001b[39;00m\u001b[38;5;124m:\u001b[39m\u001b[38;5;130;01m\\n\u001b[39;00m\u001b[38;5;130;01m\\t\u001b[39;00m\u001b[38;5;132;01m{}\u001b[39;00m\u001b[38;5;124m'\u001b[39m\u001b[38;5;241m.\u001b[39mformat(\n\u001b[1;32m   1668\u001b[0m                        \u001b[38;5;28mself\u001b[39m\u001b[38;5;241m.\u001b[39m\u001b[38;5;18m__class__\u001b[39m\u001b[38;5;241m.\u001b[39m\u001b[38;5;18m__name__\u001b[39m, \u001b[38;5;124m\"\u001b[39m\u001b[38;5;130;01m\\n\u001b[39;00m\u001b[38;5;130;01m\\t\u001b[39;00m\u001b[38;5;124m\"\u001b[39m\u001b[38;5;241m.\u001b[39mjoin(error_msgs)))\n\u001b[1;32m   1669\u001b[0m \u001b[38;5;28;01mreturn\u001b[39;00m _IncompatibleKeys(missing_keys, unexpected_keys)\n",
      "\u001b[0;31mRuntimeError\u001b[0m: Error(s) in loading state_dict for EmbeddingDotBias:\n\tsize mismatch for u_weight.weight: copying a param with shape torch.Size([8383060, 2]) from checkpoint, the shape in current model is torch.Size([1508744, 50]).\n\tsize mismatch for i_weight.weight: copying a param with shape torch.Size([1746848, 2]) from checkpoint, the shape in current model is torch.Size([722381, 50]).\n\tsize mismatch for u_bias.weight: copying a param with shape torch.Size([8383060, 1]) from checkpoint, the shape in current model is torch.Size([1508744, 1]).\n\tsize mismatch for i_bias.weight: copying a param with shape torch.Size([1746848, 1]) from checkpoint, the shape in current model is torch.Size([722381, 1])."
     ]
    }
   ],
   "source": [
    "learn_load = learn.load('collab_model')"
   ]
  },
  {
   "cell_type": "markdown",
   "metadata": {
    "id": "DyhzKMyu2-ps"
   },
   "source": [
    "* Classe para obtenção de predições para um usuário específico"
   ]
  },
  {
   "cell_type": "code",
   "execution_count": null,
   "metadata": {
    "id": "diMXLRvL2-ps",
    "pycharm": {
     "name": "#%%\n"
    }
   },
   "outputs": [],
   "source": [
    "import numpy as np\n",
    "class UserRatings:\n",
    "    def __init__(self, user_id=None, all_items=None):\n",
    "        self.user_id = user_id\n",
    "        self.all_items = all_items\n",
    "\n",
    "    def create_dict(self):\n",
    "        array = np.arange(0, len((self.all_items)), 1)\n",
    "        return dict(zip(self.all_items, array))\n",
    "\n",
    "    def create_df(self, learner):\n",
    "        new_df = pd.DataFrame()\n",
    "        # include all items\n",
    "        new_df[\"aid\"] = self.all_items\n",
    "        # define a user\n",
    "        new_df[\"session\"] = self.user_id\n",
    "        # create the fastai test object\n",
    "        dl = learner.dls.test_dl(new_df)\n",
    "        # safe the predictions in a new column\n",
    "        print(learner.get_preds(dl=dl)[0])\n",
    "        new_df[\"rating\"] = learner.get_preds(dl=dl)[0]\n",
    "        print(new_df.sort_values(by='rating', ascending=False))\n",
    "        # reduce the dataframe to the 100 top rated movie predictions\n",
    "        return new_df.nlargest(20, \"rating\")\n",
    "\n",
    "def exec_write_submission_file(user_id, list_aid, learn):\n",
    "    ur = UserRatings(user_id, list_aid)\n",
    "    user_pred_df = ur.create_df(learn)\n",
    "    aid_values = str(' '.join(list(user_pred_df.aid.astype(str).values)))\n",
    "    file.write(f\"{user_id}_clicks,{aid_values}\\n\")\n",
    "    file.write(f\"{user_id}_carts,{aid_values}\\n\")\n",
    "    file.write(f\"{user_id}_orders,{aid_values}\\n\")"
   ]
  },
  {
   "cell_type": "markdown",
   "metadata": {
    "id": "t_GdD8fW2-ps"
   },
   "source": [
    "* Paralelização de escrita de resultado para submissão em competição Kaggle"
   ]
  },
  {
   "cell_type": "code",
   "execution_count": null,
   "metadata": {
    "id": "duSsOwc22-ps",
    "pycharm": {
     "name": "#%%\n"
    }
   },
   "outputs": [],
   "source": [
    "import multiprocessing as mp\n",
    "from joblib import Parallel, delayed\n",
    "from tqdm import tqdm\n",
    "\n",
    "list_aid = df_test.aid.unique()\n",
    "num_cores = mp.cpu_count()\n",
    "pool = mp.Pool(num_cores)\n",
    "inputs = tqdm(df_test.session.unique())\n",
    "file = open(\"submit.csv\", \"a\")\n",
    "Parallel(n_jobs=num_cores, backend='threading')(delayed(exec_write_submission_file)(user_id, list_aid, learn, file) for user_id in inputs)\n",
    "file.close()\n"
   ]
  },
  {
   "cell_type": "markdown",
   "metadata": {
    "id": "OVMqenPL2-ps",
    "pycharm": {
     "name": "#%% md\n"
    }
   },
   "source": [
    "# Referências Bibliográficas\n",
    "\n",
    "> https://github.com/Kaggle/kaggle-api, acessado em 24/01/2023.\n",
    "\n",
    "> https://www.youtube.com/watch?v=aBNQzWV_UmE, acessado em 24/01/2023.\n",
    "\n",
    "> https://databricks-prod-cloudfront.cloud.databricks.com/public/4027ec902e239c93eaaa8714f173bcfc/968100988546031/157591980591166/8836542754149149/latest.html, acessado em 25/01/2023.\n",
    "\n",
    "> https://blog.clairvoyantsoft.com/apache-spark-out-of-memory-issue-b63c7987fff, acessado em 25/01/2023.\n",
    "\n",
    "> https://spark.apache.org/docs/latest/api/python/getting_started/quickstart_ps.html, acessado em 26/01/2023.\n",
    "\n",
    "> https://docs.fast.ai/collab.html, acessado em 24/01/2023.\n",
    "\n",
    "> https://course.fast.ai/Lessons/lesson7.html, acessado em 24/01/2023.\n",
    "\n",
    "> https://github.com/fastai/fastbook/blob/master/08_collab.ipynb, acessado em 24/01/2023.\n",
    "\n",
    "> https://www.kaggle.com/code/vchulski/tutorial-collaborative-filtering-with-pyspark\n",
    "\n",
    "> https://medium.com/analytics-vidhya/crafting-recommendation-engine-in-pyspark-a7ca242ad40a\n",
    "\n",
    "> https://www.freecodecamp.org/news/8-clustering-algorithms-in-machine-learning-that-all-data-scientists-should-know/\n",
    "\n",
    "> https://www.youtube.com/watch?v=fpqa0_U4zb4\n",
    "\n",
    "> https://www.youtube.com/watch?v=58OjaDH2FI0&t=742s\n",
    "\n",
    "> https://spark.apache.org/docs/latest/ml-collaborative-filtering.html\n",
    "\n",
    "> https://spark.apache.org/docs/latest/configuration.html#memory-management"
   ]
  },
  {
   "cell_type": "code",
   "execution_count": null,
   "metadata": {
    "id": "UKVRFgzxPPxz"
   },
   "outputs": [],
   "source": []
  }
 ],
 "metadata": {
  "colab": {
   "provenance": [
    {
     "file_id": "https://github.com/paulohgontijoo/fastaiOnCampus/blob/main/artigos/lesson-7/150143800_paulohgontijoo_Paulo_Henrique_Costa_Gontijo.ipynb",
     "timestamp": 1684605532949
    }
   ]
  },
  "gpuClass": "standard",
  "jupytext": {
   "split_at_heading": true
  },
  "kernelspec": {
   "display_name": "Python 3 (ipykernel)",
   "language": "python",
   "name": "python3"
  },
  "language_info": {
   "codemirror_mode": {
    "name": "ipython",
    "version": 3
   },
   "file_extension": ".py",
   "mimetype": "text/x-python",
   "name": "python",
   "nbconvert_exporter": "python",
   "pygments_lexer": "ipython3",
   "version": "3.10.6"
  }
 },
 "nbformat": 4,
 "nbformat_minor": 1
}
