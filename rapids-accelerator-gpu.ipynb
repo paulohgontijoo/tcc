{
 "cells": [
  {
   "cell_type": "markdown",
   "metadata": {
    "application/vnd.databricks.v1+cell": {
     "cellMetadata": {},
     "inputWidgets": {},
     "nuid": "b7139820-d30b-428f-9296-b5c45c1ef984",
     "showTitle": false,
     "title": ""
    },
    "id": "IXZTgN3G2-pZ"
   },
   "source": [
    "# TCC 2\n",
    "* Aluno: Paulo Henrique Costa Gontijo\n",
    "* Matrícula: 15/0143800\n"
   ]
  },
  {
   "cell_type": "code",
   "execution_count": 0,
   "metadata": {
    "application/vnd.databricks.v1+cell": {
     "cellMetadata": {
      "byteLimit": 2048000,
      "rowLimit": 10000
     },
     "inputWidgets": {},
     "nuid": "646dd635-ddc0-4615-b99a-fda87e9b6538",
     "showTitle": false,
     "title": ""
    }
   },
   "outputs": [],
   "source": [
    "root_folder = 'abfss://kaggle@stadlsgen2tcc.dfs.core.windows.net/'"
   ]
  },
  {
   "cell_type": "code",
   "execution_count": 0,
   "metadata": {
    "application/vnd.databricks.v1+cell": {
     "cellMetadata": {
      "byteLimit": 2048000,
      "rowLimit": 10000
     },
     "inputWidgets": {},
     "nuid": "79647d45-00f3-4ecd-a690-ed0f9f3713fc",
     "showTitle": false,
     "title": ""
    }
   },
   "outputs": [],
   "source": [
    "dbutils.fs.ls(root_folder)"
   ]
  },
  {
   "cell_type": "markdown",
   "metadata": {
    "application/vnd.databricks.v1+cell": {
     "cellMetadata": {},
     "inputWidgets": {},
     "nuid": "ceae92ca-c8ed-4141-aa68-0cb279d3292a",
     "showTitle": false,
     "title": ""
    },
    "id": "Szr4Tj2M2-pb"
   },
   "source": [
    "## Importação das Bibliotecas"
   ]
  },
  {
   "cell_type": "code",
   "execution_count": 0,
   "metadata": {
    "ExecuteTime": {
     "end_time": "2023-09-26T13:26:16.173775282Z",
     "start_time": "2023-09-26T13:26:16.054903727Z"
    },
    "application/vnd.databricks.v1+cell": {
     "cellMetadata": {
      "byteLimit": 2048000,
      "rowLimit": 10000
     },
     "inputWidgets": {},
     "nuid": "a9f7e666-0924-4ca2-9e4f-88f2233cb271",
     "showTitle": false,
     "title": ""
    },
    "id": "fL6U9GSO2-pc",
    "pycharm": {
     "name": "#%%\n"
    }
   },
   "outputs": [],
   "source": [
    "import os\n",
    "import pandas as pd\n",
    "\n",
    "file_name = 'test.jsonl/'\n",
    "file_path = ''.join([root_folder, file_name])\n",
    "file_path"
   ]
  },
  {
   "cell_type": "markdown",
   "metadata": {
    "application/vnd.databricks.v1+cell": {
     "cellMetadata": {},
     "inputWidgets": {},
     "nuid": "96925eb8-7438-4a5c-b438-a65fd9729681",
     "showTitle": false,
     "title": ""
    },
    "id": "YRidSkR12-pc"
   },
   "source": [
    "## Configurações de Cluster"
   ]
  },
  {
   "cell_type": "code",
   "execution_count": 0,
   "metadata": {
    "ExecuteTime": {
     "end_time": "2023-09-26T13:26:17.923638021Z",
     "start_time": "2023-09-26T13:26:16.175807291Z"
    },
    "application/vnd.databricks.v1+cell": {
     "cellMetadata": {
      "byteLimit": 2048000,
      "rowLimit": 10000
     },
     "inputWidgets": {},
     "nuid": "45373a76-66b0-4b47-b4b2-33e51eb4ae29",
     "showTitle": false,
     "title": ""
    },
    "colab": {
     "base_uri": "https://localhost:8080/"
    },
    "executionInfo": {
     "elapsed": 11226,
     "status": "ok",
     "timestamp": 1684604598002,
     "user": {
      "displayName": "",
      "userId": ""
     },
     "user_tz": 180
    },
    "id": "tn2FFG2I2-pc",
    "outputId": "aa718515-9216-4b5e-84de-08d048dab075",
    "pycharm": {
     "name": "#%%\n"
    }
   },
   "outputs": [],
   "source": [
    "from pyspark import SparkConf\n",
    "\n",
    "# show configured parameters\n",
    "print(SparkConf().getAll())\n",
    "\n",
    "# set log level\n",
    "spark.sparkContext.setLogLevel(\"FATAL\")"
   ]
  },
  {
   "cell_type": "markdown",
   "metadata": {
    "application/vnd.databricks.v1+cell": {
     "cellMetadata": {},
     "inputWidgets": {},
     "nuid": "d8a5914a-f487-43f8-8a2b-64fd412f3eba",
     "showTitle": false,
     "title": ""
    },
    "id": "Bm3hqaH02-pd"
   },
   "source": [
    "* Conferindo o instanciamento"
   ]
  },
  {
   "cell_type": "code",
   "execution_count": 0,
   "metadata": {
    "ExecuteTime": {
     "end_time": "2023-09-26T13:26:18.334370718Z",
     "start_time": "2023-09-26T13:26:17.914404449Z"
    },
    "application/vnd.databricks.v1+cell": {
     "cellMetadata": {
      "byteLimit": 2048000,
      "rowLimit": 10000
     },
     "inputWidgets": {},
     "nuid": "e66aa886-570c-4bac-ac03-f274753a08a0",
     "showTitle": false,
     "title": ""
    },
    "colab": {
     "base_uri": "https://localhost:8080/",
     "height": 219
    },
    "executionInfo": {
     "elapsed": 1819,
     "status": "ok",
     "timestamp": 1684604599818,
     "user": {
      "displayName": "",
      "userId": ""
     },
     "user_tz": 180
    },
    "id": "HlT2vZL12-pd",
    "outputId": "989d5f12-7fdd-424d-ced7-40ed32d5717c",
    "pycharm": {
     "name": "#%%\n"
    }
   },
   "outputs": [],
   "source": [
    "spark"
   ]
  },
  {
   "cell_type": "markdown",
   "metadata": {
    "application/vnd.databricks.v1+cell": {
     "cellMetadata": {},
     "inputWidgets": {},
     "nuid": "3bc747c6-59d4-4597-9734-3c4784d2b911",
     "showTitle": false,
     "title": ""
    },
    "id": "2yC64SUC2-pd"
   },
   "source": [
    "* Leitura do arquivo disponibilizado na competição kaggle: [link.](https://www.kaggle.com/competitions/otto-recommender-system/overview/)"
   ]
  },
  {
   "cell_type": "code",
   "execution_count": 0,
   "metadata": {
    "ExecuteTime": {
     "end_time": "2023-09-26T13:26:21.033063212Z",
     "start_time": "2023-09-26T13:26:18.334156780Z"
    },
    "application/vnd.databricks.v1+cell": {
     "cellMetadata": {
      "byteLimit": 2048000,
      "rowLimit": 10000
     },
     "inputWidgets": {},
     "nuid": "f150bdc0-58fc-4765-bcf2-c508fc18c87f",
     "showTitle": false,
     "title": ""
    },
    "colab": {
     "base_uri": "https://localhost:8080/"
    },
    "executionInfo": {
     "elapsed": 242155,
     "status": "ok",
     "timestamp": 1684604842382,
     "user": {
      "displayName": "",
      "userId": ""
     },
     "user_tz": 180
    },
    "id": "020WZgkA2-pe",
    "outputId": "626bf217-dcfe-4419-f511-d6b18f957e28",
    "pycharm": {
     "name": "#%%\n"
    }
   },
   "outputs": [],
   "source": [
    "df_raw = spark.read \\\n",
    "    .format(\"csv\") \\\n",
    "    .option(\"inferSchema\", \"true\") \\\n",
    "    .option(\"header\", \"true\") \\\n",
    "    .csv('abfss://kaggle@stadlsgen2tcc.dfs.core.windows.net/teste_csv.csv').persist()\n",
    "df_raw.columns"
   ]
  },
  {
   "cell_type": "markdown",
   "metadata": {
    "application/vnd.databricks.v1+cell": {
     "cellMetadata": {},
     "inputWidgets": {},
     "nuid": "c00fa795-1a4b-409d-894f-8f1849358c8c",
     "showTitle": false,
     "title": ""
    },
    "id": "TeMQZn0v2-pe"
   },
   "source": [
    "* Conferindo número de partições e conteúdo"
   ]
  },
  {
   "cell_type": "code",
   "execution_count": 0,
   "metadata": {
    "ExecuteTime": {
     "end_time": "2023-09-26T13:26:21.077516089Z",
     "start_time": "2023-09-26T13:26:21.032737921Z"
    },
    "application/vnd.databricks.v1+cell": {
     "cellMetadata": {
      "byteLimit": 2048000,
      "rowLimit": 10000
     },
     "inputWidgets": {},
     "nuid": "697bea46-a981-4053-adc7-06bb7867cfc6",
     "showTitle": false,
     "title": ""
    },
    "colab": {
     "base_uri": "https://localhost:8080/"
    },
    "executionInfo": {
     "elapsed": 8,
     "status": "ok",
     "timestamp": 1684604842382,
     "user": {
      "displayName": "",
      "userId": ""
     },
     "user_tz": 180
    },
    "id": "7qQiUs1v2-pe",
    "outputId": "b978eb4c-2266-463c-a3ba-5579720cbe22",
    "pycharm": {
     "name": "#%%\n"
    }
   },
   "outputs": [],
   "source": [
    "print(df_raw.rdd.getNumPartitions())"
   ]
  },
  {
   "cell_type": "code",
   "execution_count": 0,
   "metadata": {
    "ExecuteTime": {
     "end_time": "2023-09-26T13:26:21.450912020Z",
     "start_time": "2023-09-26T13:26:21.075096716Z"
    },
    "application/vnd.databricks.v1+cell": {
     "cellMetadata": {
      "byteLimit": 2048000,
      "rowLimit": 10000
     },
     "inputWidgets": {},
     "nuid": "049d46b5-f368-488f-bd70-5a229252165d",
     "showTitle": false,
     "title": ""
    },
    "pycharm": {
     "name": "#%%\n"
    }
   },
   "outputs": [],
   "source": [
    "df_raw.display()"
   ]
  },
  {
   "cell_type": "markdown",
   "metadata": {
    "application/vnd.databricks.v1+cell": {
     "cellMetadata": {},
     "inputWidgets": {},
     "nuid": "7da04aa9-9a4c-485a-ae09-eed70385e580",
     "showTitle": false,
     "title": ""
    },
    "id": "GODq7Emr2-pe"
   },
   "source": [
    "* Contagem de linhas em arquivo bruto"
   ]
  },
  {
   "cell_type": "code",
   "execution_count": 0,
   "metadata": {
    "ExecuteTime": {
     "end_time": "2023-09-26T13:26:23.124190821Z",
     "start_time": "2023-09-26T13:26:21.450600974Z"
    },
    "application/vnd.databricks.v1+cell": {
     "cellMetadata": {
      "byteLimit": 2048000,
      "rowLimit": 10000
     },
     "inputWidgets": {},
     "nuid": "4a0e713f-4852-4d33-986d-e46541df230d",
     "showTitle": false,
     "title": ""
    },
    "colab": {
     "base_uri": "https://localhost:8080/"
    },
    "executionInfo": {
     "elapsed": 122663,
     "status": "ok",
     "timestamp": 1684604965854,
     "user": {
      "displayName": "",
      "userId": ""
     },
     "user_tz": 180
    },
    "id": "9pVb84I72-pe",
    "outputId": "05574ab2-ef56-40f8-85a3-67c1d34944c3",
    "pycharm": {
     "name": "#%%\n"
    }
   },
   "outputs": [],
   "source": [
    "df_raw.count()"
   ]
  },
  {
   "cell_type": "code",
   "execution_count": 0,
   "metadata": {
    "ExecuteTime": {
     "end_time": "2023-09-26T13:26:23.124745639Z",
     "start_time": "2023-09-26T13:26:23.124001614Z"
    },
    "application/vnd.databricks.v1+cell": {
     "cellMetadata": {},
     "inputWidgets": {},
     "nuid": "aeb5f57e-a243-4e58-9f67-cdddcb097e53",
     "showTitle": false,
     "title": ""
    },
    "colab": {
     "base_uri": "https://localhost:8080/"
    },
    "executionInfo": {
     "elapsed": 12,
     "status": "ok",
     "timestamp": 1684604965854,
     "user": {
      "displayName": "",
      "userId": ""
     },
     "user_tz": 180
    },
    "id": "FfeSe3Cv2-pf",
    "outputId": "400b16fd-b888-4253-e7a5-e9d737cf0067",
    "pycharm": {
     "name": "#%%\n"
    }
   },
   "outputs": [],
   "source": [
    "df_raw.printSchema()"
   ]
  },
  {
   "cell_type": "markdown",
   "metadata": {
    "application/vnd.databricks.v1+cell": {
     "cellMetadata": {},
     "inputWidgets": {},
     "nuid": "0c5c49c4-b30a-4125-830e-45a8802680a2",
     "showTitle": false,
     "title": ""
    },
    "id": "YLWu6w3R2-pf"
   },
   "source": [
    "* Processamento de Json para formato tabular"
   ]
  },
  {
   "cell_type": "code",
   "execution_count": 0,
   "metadata": {
    "ExecuteTime": {
     "end_time": "2023-09-26T13:26:23.124859716Z",
     "start_time": "2023-09-26T13:26:23.124373754Z"
    },
    "application/vnd.databricks.v1+cell": {
     "cellMetadata": {},
     "inputWidgets": {},
     "nuid": "dbd112cc-b291-4770-b24e-d5e00ab3e6b1",
     "showTitle": false,
     "title": ""
    },
    "colab": {
     "base_uri": "https://localhost:8080/"
    },
    "executionInfo": {
     "elapsed": 702,
     "status": "ok",
     "timestamp": 1684604966546,
     "user": {
      "displayName": "",
      "userId": ""
     },
     "user_tz": 180
    },
    "id": "1KhqqFOX2-pf",
    "outputId": "79149793-333d-4e68-b275-08094da666dc",
    "pycharm": {
     "name": "#%%\n"
    }
   },
   "outputs": [],
   "source": [
    "from pyspark.sql import functions as F\n",
    "from pyspark.sql import types as T"
   ]
  },
  {
   "cell_type": "code",
   "execution_count": 0,
   "metadata": {
    "ExecuteTime": {
     "end_time": "2023-09-26T13:26:23.124919712Z",
     "start_time": "2023-09-26T13:26:23.124510300Z"
    },
    "application/vnd.databricks.v1+cell": {
     "cellMetadata": {},
     "inputWidgets": {},
     "nuid": "3f7ee0e5-60c4-4f4e-996d-145b99d4d5fb",
     "showTitle": false,
     "title": ""
    },
    "collapsed": false
   },
   "outputs": [],
   "source": [
    "def explode_df_json_to_tabular(df_raw):\n",
    "    df_explode = df_raw.withColumn('events_explode', F.explode('events'))\\\n",
    "                    .withColumn('session', F.col('session').cast(T.IntegerType()))\\\n",
    "                    .withColumn('aid', F.col('events_explode.aid').cast(T.IntegerType()))\\\n",
    "                    .withColumn('ts', F.col('events_explode.ts'))\\\n",
    "                    .withColumn('type', F.col('events_explode.type'))\\\n",
    "                    .drop('events', 'events_explode')\n",
    "    return df_explode"
   ]
  },
  {
   "cell_type": "code",
   "execution_count": 0,
   "metadata": {
    "ExecuteTime": {
     "end_time": "2023-09-26T13:26:23.267667431Z",
     "start_time": "2023-09-26T13:26:23.124679533Z"
    },
    "application/vnd.databricks.v1+cell": {
     "cellMetadata": {},
     "inputWidgets": {},
     "nuid": "f279f0ee-f968-4643-8618-74bc62cbc6f5",
     "showTitle": false,
     "title": ""
    },
    "collapsed": false
   },
   "outputs": [],
   "source": [
    "df_explode = explode_df_json_to_tabular(df_raw)\n",
    "df_explode.show(10)"
   ]
  },
  {
   "cell_type": "markdown",
   "metadata": {
    "application/vnd.databricks.v1+cell": {
     "cellMetadata": {},
     "inputWidgets": {},
     "nuid": "b750f777-c9c8-4c5b-b00d-5d594b09ec3f",
     "showTitle": false,
     "title": ""
    },
    "id": "Zzfeydt02-pf"
   },
   "source": [
    "* Contagem de linhas após o tratamento"
   ]
  },
  {
   "cell_type": "code",
   "execution_count": 0,
   "metadata": {
    "ExecuteTime": {
     "end_time": "2023-09-26T13:26:23.788634227Z",
     "start_time": "2023-09-26T13:26:23.254252430Z"
    },
    "application/vnd.databricks.v1+cell": {
     "cellMetadata": {},
     "inputWidgets": {},
     "nuid": "9375822b-9561-461d-8ed3-df969fe316e8",
     "showTitle": false,
     "title": ""
    },
    "colab": {
     "base_uri": "https://localhost:8080/"
    },
    "executionInfo": {
     "elapsed": 429864,
     "status": "ok",
     "timestamp": 1684605396407,
     "user": {
      "displayName": "",
      "userId": ""
     },
     "user_tz": 180
    },
    "id": "ySwmjzMS2-pf",
    "outputId": "17e64b00-47bd-45cd-f64b-ba1a3b890e04",
    "pycharm": {
     "name": "#%%\n"
    }
   },
   "outputs": [],
   "source": [
    "df_explode.count()"
   ]
  },
  {
   "cell_type": "markdown",
   "metadata": {
    "application/vnd.databricks.v1+cell": {
     "cellMetadata": {},
     "inputWidgets": {},
     "nuid": "d1188b3e-c03a-4233-9343-10227d7368b2",
     "showTitle": false,
     "title": ""
    },
    "id": "x7yVJdnI2-pf"
   },
   "source": [
    "* Schema pós tratamento"
   ]
  },
  {
   "cell_type": "code",
   "execution_count": 0,
   "metadata": {
    "ExecuteTime": {
     "end_time": "2023-09-26T13:26:23.803388933Z",
     "start_time": "2023-09-26T13:26:23.788888183Z"
    },
    "application/vnd.databricks.v1+cell": {
     "cellMetadata": {},
     "inputWidgets": {},
     "nuid": "c40dbe21-9dec-46f5-a044-dd6a7362a2a5",
     "showTitle": false,
     "title": ""
    },
    "colab": {
     "base_uri": "https://localhost:8080/"
    },
    "executionInfo": {
     "elapsed": 11,
     "status": "ok",
     "timestamp": 1684605396407,
     "user": {
      "displayName": "",
      "userId": ""
     },
     "user_tz": 180
    },
    "id": "8ZxgIbj32-pf",
    "outputId": "847edba3-7bad-4675-d84b-c6530f370f64",
    "pycharm": {
     "name": "#%%\n"
    }
   },
   "outputs": [],
   "source": [
    "df_explode.printSchema()"
   ]
  },
  {
   "cell_type": "markdown",
   "metadata": {
    "application/vnd.databricks.v1+cell": {
     "cellMetadata": {},
     "inputWidgets": {},
     "nuid": "b4ad2724-ed52-46b2-ae9b-c30a62519c64",
     "showTitle": false,
     "title": ""
    },
    "id": "5TT0UYu02-pf"
   },
   "source": [
    "* Categorização de coluna alvo string"
   ]
  },
  {
   "cell_type": "code",
   "execution_count": 0,
   "metadata": {
    "ExecuteTime": {
     "end_time": "2023-09-26T13:26:23.908386868Z",
     "start_time": "2023-09-26T13:26:23.792113755Z"
    },
    "application/vnd.databricks.v1+cell": {
     "cellMetadata": {},
     "inputWidgets": {},
     "nuid": "50ba1564-fe17-4db2-887b-f687a0006e30",
     "showTitle": false,
     "title": ""
    },
    "id": "SqWrsvrd2-pg",
    "pycharm": {
     "name": "#%%\n"
    }
   },
   "outputs": [],
   "source": [
    "from pyspark.ml.feature import StringIndexer\n",
    "\n",
    "def transform_indexer(df_explode):\n",
    "    indexer = StringIndexer(inputCol='type', outputCol='type_cat')\n",
    "    indexer_fitted = indexer.fit(df_explode)\n",
    "    df_indexed = indexer_fitted.transform(df_explode)\n",
    "    df_indexed_type = df_indexed.withColumn('type_cat', F.col('type_cat').cast(T.IntegerType())).drop('type')\n",
    "    df_indexed_type_renamed = df_indexed_type.withColumnRenamed('session','userCol')\n",
    "    df_indexed_droped = df_indexed_type_renamed.dropDuplicates()\n",
    "    df = df_indexed_droped.drop('ts')\n",
    "    return df"
   ]
  },
  {
   "cell_type": "code",
   "execution_count": 0,
   "metadata": {
    "ExecuteTime": {
     "end_time": "2023-09-26T13:26:25.919751285Z",
     "start_time": "2023-09-26T13:26:23.902785956Z"
    },
    "application/vnd.databricks.v1+cell": {
     "cellMetadata": {},
     "inputWidgets": {},
     "nuid": "9f2bfa18-f778-4870-9e6b-afab09e760eb",
     "showTitle": false,
     "title": ""
    },
    "collapsed": false
   },
   "outputs": [],
   "source": [
    "df_indexed = transform_indexer(df_explode).persist()\n",
    "df_indexed.show(10)"
   ]
  },
  {
   "cell_type": "markdown",
   "metadata": {
    "application/vnd.databricks.v1+cell": {
     "cellMetadata": {},
     "inputWidgets": {},
     "nuid": "e8c26d87-4a1a-4a1c-9e43-90b5b3f53488",
     "showTitle": false,
     "title": ""
    },
    "id": "9sBflvQP2-pg"
   },
   "source": [
    "* Conferência de schema pós tratativas"
   ]
  },
  {
   "cell_type": "code",
   "execution_count": 0,
   "metadata": {
    "ExecuteTime": {
     "end_time": "2023-09-26T13:26:25.922273676Z",
     "start_time": "2023-09-26T13:26:25.920017590Z"
    },
    "application/vnd.databricks.v1+cell": {
     "cellMetadata": {},
     "inputWidgets": {},
     "nuid": "4e3e600d-d2b2-4899-999c-2c0df029d060",
     "showTitle": false,
     "title": ""
    },
    "id": "XlYapJnq2-pg",
    "pycharm": {
     "name": "#%%\n"
    }
   },
   "outputs": [],
   "source": [
    "df_indexed.printSchema()"
   ]
  },
  {
   "cell_type": "markdown",
   "metadata": {
    "application/vnd.databricks.v1+cell": {
     "cellMetadata": {},
     "inputWidgets": {},
     "nuid": "7b47c78d-85b9-4161-81ea-0debce12e6b5",
     "showTitle": false,
     "title": ""
    },
    "id": "uz5hvXWe2-pg"
   },
   "source": [
    "## Análise de Clientes"
   ]
  },
  {
   "cell_type": "markdown",
   "metadata": {
    "application/vnd.databricks.v1+cell": {
     "cellMetadata": {},
     "inputWidgets": {},
     "nuid": "a4da4907-1c08-4637-ba54-3e7c77bf2553",
     "showTitle": false,
     "title": ""
    },
    "id": "g-hOLkW72-pg"
   },
   "source": [
    "* Quantidade de clientes únicos"
   ]
  },
  {
   "cell_type": "code",
   "execution_count": 0,
   "metadata": {
    "ExecuteTime": {
     "end_time": "2023-09-26T13:26:27.098379782Z",
     "start_time": "2023-09-26T13:26:25.922178142Z"
    },
    "application/vnd.databricks.v1+cell": {
     "cellMetadata": {},
     "inputWidgets": {},
     "nuid": "8aa4ff0f-9fa4-4544-a336-296e00c1d255",
     "showTitle": false,
     "title": ""
    },
    "id": "88JSNEcL2-pg",
    "pycharm": {
     "name": "#%%\n"
    }
   },
   "outputs": [],
   "source": [
    "df_indexed.select('userCol').distinct().count()"
   ]
  },
  {
   "cell_type": "markdown",
   "metadata": {
    "application/vnd.databricks.v1+cell": {
     "cellMetadata": {},
     "inputWidgets": {},
     "nuid": "2fd24afc-5a82-4982-ba83-eccf7a6182c4",
     "showTitle": false,
     "title": ""
    },
    "id": "_QhaPkaL2-pg"
   },
   "source": [
    "## Análise de Produtos"
   ]
  },
  {
   "cell_type": "markdown",
   "metadata": {
    "application/vnd.databricks.v1+cell": {
     "cellMetadata": {},
     "inputWidgets": {},
     "nuid": "a77c4e4b-5500-4190-8ab7-6016b1a8bcaa",
     "showTitle": false,
     "title": ""
    },
    "id": "kyGzhjmU2-pg"
   },
   "source": [
    "* Quantidade de produtos únicos"
   ]
  },
  {
   "cell_type": "code",
   "execution_count": 0,
   "metadata": {
    "ExecuteTime": {
     "end_time": "2023-09-26T13:26:27.414220171Z",
     "start_time": "2023-09-26T13:26:27.097908942Z"
    },
    "application/vnd.databricks.v1+cell": {
     "cellMetadata": {},
     "inputWidgets": {},
     "nuid": "e9f6742b-2602-4de8-b6ae-58804ad25c44",
     "showTitle": false,
     "title": ""
    },
    "id": "Kovb8Gd02-pg",
    "pycharm": {
     "name": "#%%\n"
    }
   },
   "outputs": [],
   "source": [
    "df_indexed.select('aid').distinct().count()"
   ]
  },
  {
   "cell_type": "markdown",
   "metadata": {
    "application/vnd.databricks.v1+cell": {
     "cellMetadata": {},
     "inputWidgets": {},
     "nuid": "b28203ff-f053-4398-aaa6-1a191a8653f5",
     "showTitle": false,
     "title": ""
    },
    "collapsed": false
   },
   "source": [
    "# Escrita de DataFrame tratado"
   ]
  },
  {
   "cell_type": "code",
   "execution_count": 0,
   "metadata": {
    "ExecuteTime": {
     "end_time": "2023-09-26T13:26:28.427340092Z",
     "start_time": "2023-09-26T13:26:27.414589665Z"
    },
    "application/vnd.databricks.v1+cell": {
     "cellMetadata": {},
     "inputWidgets": {},
     "nuid": "19423886-f352-4007-8540-8e757c5277ef",
     "showTitle": false,
     "title": ""
    },
    "collapsed": false,
    "pycharm": {
     "name": "#%%\n"
    }
   },
   "outputs": [],
   "source": [
    "df_indexed.coalesce(20)\\\n",
    "          .write.format('parquet')\\\n",
    "          .mode(\"overwrite\")\\\n",
    "          .save('/'.join([os.getcwd(), 'refined-dataset']))"
   ]
  },
  {
   "cell_type": "code",
   "execution_count": 0,
   "metadata": {
    "ExecuteTime": {
     "end_time": "2023-09-26T13:26:28.442763630Z",
     "start_time": "2023-09-26T13:26:28.427590237Z"
    },
    "application/vnd.databricks.v1+cell": {
     "cellMetadata": {},
     "inputWidgets": {},
     "nuid": "82d20ad8-681a-43de-8c73-223a501183e6",
     "showTitle": false,
     "title": ""
    },
    "collapsed": false,
    "pycharm": {
     "name": "#%%\n"
    }
   },
   "outputs": [],
   "source": [
    "df_raw.unpersist()\n",
    "df_explode.unpersist()\n",
    "df_indexed.unpersist()"
   ]
  },
  {
   "cell_type": "markdown",
   "metadata": {
    "application/vnd.databricks.v1+cell": {
     "cellMetadata": {},
     "inputWidgets": {},
     "nuid": "1cf4b2cc-553e-4edf-b464-14df395af952",
     "showTitle": false,
     "title": ""
    },
    "id": "LJEw7zThN6sq"
   },
   "source": [
    "# Lendo o dataset refinado"
   ]
  },
  {
   "cell_type": "code",
   "execution_count": 0,
   "metadata": {
    "ExecuteTime": {
     "end_time": "2023-09-26T13:26:28.879883418Z",
     "start_time": "2023-09-26T13:26:28.443727680Z"
    },
    "application/vnd.databricks.v1+cell": {
     "cellMetadata": {},
     "inputWidgets": {},
     "nuid": "f4179dea-6a9d-416e-8167-0f206a23ee24",
     "showTitle": false,
     "title": ""
    },
    "collapsed": false,
    "pycharm": {
     "name": "#%%\n"
    }
   },
   "outputs": [],
   "source": [
    "df_refined = spark.read.format('parquet').load('refined-dataset').persist()\n",
    "df_refined.show()"
   ]
  },
  {
   "cell_type": "markdown",
   "metadata": {
    "application/vnd.databricks.v1+cell": {
     "cellMetadata": {},
     "inputWidgets": {},
     "nuid": "e5255b4d-76eb-470b-a18d-4057bd6a3b23",
     "showTitle": false,
     "title": ""
    },
    "collapsed": false
   },
   "source": [
    "# Filtrando Dataset de Treino para Clientes que Compraram"
   ]
  },
  {
   "cell_type": "code",
   "execution_count": 0,
   "metadata": {
    "ExecuteTime": {
     "end_time": "2023-09-26T13:26:28.914484408Z",
     "start_time": "2023-09-26T13:26:28.880770342Z"
    },
    "application/vnd.databricks.v1+cell": {
     "cellMetadata": {},
     "inputWidgets": {},
     "nuid": "a392f130-d3d6-432c-aeca-41c5a917dbc7",
     "showTitle": false,
     "title": ""
    },
    "id": "dOufeEDdN56X"
   },
   "outputs": [],
   "source": [
    "# df_pre_moodel = df_refined.select(df_refined.columns).where(F.col('type_cat') == 2)\n",
    "df_pre_moodel = df_refined\n",
    "df_pre_moodel.show()"
   ]
  },
  {
   "cell_type": "code",
   "execution_count": 0,
   "metadata": {
    "ExecuteTime": {
     "end_time": "2023-09-26T13:26:29.991670634Z",
     "start_time": "2023-09-26T13:26:28.902970955Z"
    },
    "application/vnd.databricks.v1+cell": {
     "cellMetadata": {},
     "inputWidgets": {},
     "nuid": "6cd9958c-9393-4bfb-8b4a-0b2ef3c7a342",
     "showTitle": false,
     "title": ""
    },
    "collapsed": false
   },
   "outputs": [],
   "source": [
    "df_pre_moodel.select('userCol').distinct().count()"
   ]
  },
  {
   "cell_type": "code",
   "execution_count": 0,
   "metadata": {
    "ExecuteTime": {
     "end_time": "2023-09-26T13:26:30.042699261Z",
     "start_time": "2023-09-26T13:26:29.989793469Z"
    },
    "application/vnd.databricks.v1+cell": {
     "cellMetadata": {},
     "inputWidgets": {},
     "nuid": "fb5faacf-918e-43a0-a97d-2f6892bc0891",
     "showTitle": false,
     "title": ""
    },
    "collapsed": false
   },
   "outputs": [],
   "source": [
    "df_pre_moodel.count()"
   ]
  },
  {
   "cell_type": "markdown",
   "metadata": {
    "application/vnd.databricks.v1+cell": {
     "cellMetadata": {},
     "inputWidgets": {},
     "nuid": "56651b12-67aa-440a-863a-5a5e788f2344",
     "showTitle": false,
     "title": ""
    },
    "collapsed": false
   },
   "source": [
    "### Adicionar pipeline de hiperparametrização\n",
    "* http://restanalytics.com/2019-02-27-Hyperparameter-Tuning-Alternating-Least-Squares-Recommender-System/"
   ]
  },
  {
   "cell_type": "code",
   "execution_count": 0,
   "metadata": {
    "ExecuteTime": {
     "end_time": "2023-09-26T13:26:39.818131112Z",
     "start_time": "2023-09-26T13:26:39.812008459Z"
    },
    "application/vnd.databricks.v1+cell": {
     "cellMetadata": {},
     "inputWidgets": {},
     "nuid": "3f76c490-b2a3-4c4b-959c-a53bbce30c6d",
     "showTitle": false,
     "title": ""
    },
    "pycharm": {
     "name": "#%%\n"
    }
   },
   "outputs": [],
   "source": [
    "from pyspark.ml.evaluation import RegressionEvaluator\n",
    "from pyspark.ml.recommendation import ALS\n",
    "from pyspark.sql import Row\n",
    "\n",
    "# (training, test) = df_pre_moodel.randomSplit([0.6, 0.4])\n",
    "training = df_pre_moodel"
   ]
  },
  {
   "cell_type": "code",
   "execution_count": 0,
   "metadata": {
    "ExecuteTime": {
     "end_time": "2023-09-26T13:27:06.564136450Z",
     "start_time": "2023-09-26T13:26:42.659200562Z"
    },
    "application/vnd.databricks.v1+cell": {
     "cellMetadata": {},
     "inputWidgets": {},
     "nuid": "665b2a53-c610-455d-835f-d0aa236fb857",
     "showTitle": false,
     "title": ""
    },
    "collapsed": false,
    "pycharm": {
     "name": "#%%\n"
    }
   },
   "outputs": [],
   "source": [
    "# Build the recommendation model using ALS on the training data\n",
    "# Note we set cold start strategy to 'drop' to ensure we don't get NaN evaluation metrics\n",
    "als = ALS(rank=10,\n",
    "          maxIter=20,\n",
    "          regParam=0.01,\n",
    "          userCol=\"userCol\",\n",
    "          itemCol=\"aid\",\n",
    "          ratingCol=\"type_cat\",\n",
    "          coldStartStrategy=\"drop\",\n",
    "          implicitPrefs=True,\n",
    "          checkpointInterval=1)\n",
    "model = als.fit(training)"
   ]
  },
  {
   "cell_type": "code",
   "execution_count": 0,
   "metadata": {
    "ExecuteTime": {
     "end_time": "2023-09-26T13:27:06.567139991Z",
     "start_time": "2023-09-26T13:27:06.565687407Z"
    },
    "application/vnd.databricks.v1+cell": {
     "cellMetadata": {},
     "inputWidgets": {},
     "nuid": "0cc0edae-9816-4666-9bb0-2323a527038e",
     "showTitle": false,
     "title": ""
    },
    "collapsed": false,
    "pycharm": {
     "name": "#%%\n"
    }
   },
   "outputs": [],
   "source": [
    "# # Evaluate the model by computing the RMSE on the test data\n",
    "# predictions = model.transform(test)\n",
    "# evaluator = RegressionEvaluator(metricName=\"rmse\", labelCol=\"type_cat\",\n",
    "#                                 predictionCol=\"prediction\")\n",
    "# rmse = evaluator.evaluate(predictions)\n",
    "# print(\"Root-mean-square error = \" + str(rmse))"
   ]
  },
  {
   "cell_type": "markdown",
   "metadata": {
    "application/vnd.databricks.v1+cell": {
     "cellMetadata": {},
     "inputWidgets": {},
     "nuid": "5f09d269-aae8-485f-856b-f733ed08f68a",
     "showTitle": false,
     "title": ""
    },
    "collapsed": false
   },
   "source": [
    "# Utilizando dataset de teste da competição"
   ]
  },
  {
   "cell_type": "code",
   "execution_count": 0,
   "metadata": {
    "application/vnd.databricks.v1+cell": {
     "cellMetadata": {},
     "inputWidgets": {},
     "nuid": "a134dfbd-2b8a-4be3-ba0e-5e1b8c98332f",
     "showTitle": false,
     "title": ""
    },
    "collapsed": false
   },
   "outputs": [],
   "source": [
    "file_name = 'test.jsonl'\n",
    "file_path = '/'.join([os.getcwd(), file_name])"
   ]
  },
  {
   "cell_type": "code",
   "execution_count": 0,
   "metadata": {
    "application/vnd.databricks.v1+cell": {
     "cellMetadata": {},
     "inputWidgets": {},
     "nuid": "7d41c2b3-0ddb-4036-a55d-bb19e6a3d951",
     "showTitle": false,
     "title": ""
    },
    "collapsed": false
   },
   "outputs": [],
   "source": [
    "df_test = spark.read \\\n",
    "    .format(\"json\") \\\n",
    "    .option(\"inferSchema\", \"true\") \\\n",
    "    .option(\"header\", \"true\") \\\n",
    "    .json(file_path).persist()"
   ]
  },
  {
   "cell_type": "code",
   "execution_count": 0,
   "metadata": {
    "application/vnd.databricks.v1+cell": {
     "cellMetadata": {},
     "inputWidgets": {},
     "nuid": "322c0fcc-f3ac-43ba-8fc1-f51a258f1948",
     "showTitle": false,
     "title": ""
    },
    "collapsed": false
   },
   "outputs": [],
   "source": [
    "df_test.show()"
   ]
  },
  {
   "cell_type": "code",
   "execution_count": 0,
   "metadata": {
    "application/vnd.databricks.v1+cell": {
     "cellMetadata": {},
     "inputWidgets": {},
     "nuid": "8e732329-4ddb-47e6-8750-f4761f728d7d",
     "showTitle": false,
     "title": ""
    },
    "collapsed": false
   },
   "outputs": [],
   "source": [
    "df_test.count()"
   ]
  },
  {
   "cell_type": "markdown",
   "metadata": {
    "application/vnd.databricks.v1+cell": {
     "cellMetadata": {},
     "inputWidgets": {},
     "nuid": "e6bdf17c-2dc1-4083-b304-4e5f11bf4c3a",
     "showTitle": false,
     "title": ""
    },
    "collapsed": false
   },
   "source": [
    "# Tratamento de subset para recomendações"
   ]
  },
  {
   "cell_type": "code",
   "execution_count": 0,
   "metadata": {
    "application/vnd.databricks.v1+cell": {
     "cellMetadata": {},
     "inputWidgets": {},
     "nuid": "7dac9b22-7a84-4e8a-92c6-02cde039f9ab",
     "showTitle": false,
     "title": ""
    },
    "collapsed": false
   },
   "outputs": [],
   "source": [
    "df_pre_transform = explode_df_json_to_tabular(df_test)\n",
    "df_pre_transform.count()"
   ]
  },
  {
   "cell_type": "code",
   "execution_count": 0,
   "metadata": {
    "application/vnd.databricks.v1+cell": {
     "cellMetadata": {},
     "inputWidgets": {},
     "nuid": "014ba690-1d03-44f0-9197-1f0a70a2df60",
     "showTitle": false,
     "title": ""
    },
    "collapsed": false
   },
   "outputs": [],
   "source": [
    "df_subset = transform_indexer(df_pre_transform).select('userCol').distinct()\n",
    "df_subset.count()"
   ]
  },
  {
   "cell_type": "code",
   "execution_count": 0,
   "metadata": {
    "application/vnd.databricks.v1+cell": {
     "cellMetadata": {},
     "inputWidgets": {},
     "nuid": "608ff4b2-adbc-432b-b243-521d6ce7d4ff",
     "showTitle": false,
     "title": ""
    },
    "collapsed": false
   },
   "outputs": [],
   "source": [
    "df_pre_moodel.join(df_subset, df_pre_moodel.userCol == df_subset.userCol, 'inner')\\\n",
    "                    .drop(df_subset.userCol).select('userCol').distinct().count()"
   ]
  },
  {
   "cell_type": "code",
   "execution_count": 0,
   "metadata": {
    "application/vnd.databricks.v1+cell": {
     "cellMetadata": {},
     "inputWidgets": {},
     "nuid": "ee37f0b0-12da-4cde-8b80-6cb1c6f28e8e",
     "showTitle": false,
     "title": ""
    },
    "collapsed": false,
    "pycharm": {
     "name": "#%%\n"
    }
   },
   "outputs": [],
   "source": [
    "df_recommend = model.recommendForUserSubset(df_subset, 20)\n",
    "df_recommend.printSchema()"
   ]
  },
  {
   "cell_type": "markdown",
   "metadata": {
    "application/vnd.databricks.v1+cell": {
     "cellMetadata": {},
     "inputWidgets": {},
     "nuid": "6fff940c-4540-4d7b-a26b-5079c92661a1",
     "showTitle": false,
     "title": ""
    },
    "collapsed": false
   },
   "source": [
    "# Escrevendo Dataset de Recomendações em JSON"
   ]
  },
  {
   "cell_type": "code",
   "execution_count": 0,
   "metadata": {
    "application/vnd.databricks.v1+cell": {
     "cellMetadata": {},
     "inputWidgets": {},
     "nuid": "8f480d17-fbb0-43d9-85e8-c3504f45350e",
     "showTitle": false,
     "title": ""
    },
    "collapsed": false,
    "pycharm": {
     "name": "#%%\n"
    }
   },
   "outputs": [],
   "source": [
    "df_recommend.write.format('json')\\\n",
    "                  .mode(\"overwrite\")\\\n",
    "                  .save('/'.join([os.getcwd(), 'raw_predictions.json']))"
   ]
  },
  {
   "cell_type": "code",
   "execution_count": 0,
   "metadata": {
    "application/vnd.databricks.v1+cell": {
     "cellMetadata": {},
     "inputWidgets": {},
     "nuid": "215da19b-5dc1-473a-a7ad-6fd07257c524",
     "showTitle": false,
     "title": ""
    },
    "collapsed": false,
    "pycharm": {
     "name": "#%%\n"
    }
   },
   "outputs": [],
   "source": [
    "df_recommend.unpersist()"
   ]
  },
  {
   "cell_type": "markdown",
   "metadata": {
    "application/vnd.databricks.v1+cell": {
     "cellMetadata": {},
     "inputWidgets": {},
     "nuid": "063137f8-85cf-4ca8-bcb4-5c6fa81aa0a2",
     "showTitle": false,
     "title": ""
    },
    "collapsed": false
   },
   "source": [
    "# Leitura de Dataset RAW_PREDICTIONS\n",
    "Nesta etapa será realizada a conversão do objeto JSON em formato tabular, para se adequar ao formato de submissão da competição."
   ]
  },
  {
   "cell_type": "code",
   "execution_count": 0,
   "metadata": {
    "application/vnd.databricks.v1+cell": {
     "cellMetadata": {},
     "inputWidgets": {},
     "nuid": "9b7d14ab-0fe4-4735-a143-2dbe6464f599",
     "showTitle": false,
     "title": ""
    },
    "collapsed": false,
    "pycharm": {
     "name": "#%%\n"
    }
   },
   "outputs": [],
   "source": [
    "df_recommend_json = spark.read.format('json').load('./raw_predictions.json').persist()\n",
    "df_recommend_json.printSchema()"
   ]
  },
  {
   "cell_type": "code",
   "execution_count": 0,
   "metadata": {
    "application/vnd.databricks.v1+cell": {
     "cellMetadata": {},
     "inputWidgets": {},
     "nuid": "31667c6d-7f87-4e3e-8fb1-69dcc5f07175",
     "showTitle": false,
     "title": ""
    },
    "collapsed": false,
    "pycharm": {
     "name": "#%%\n"
    }
   },
   "outputs": [],
   "source": [
    "df_recommend_json.show(10, truncate=False)"
   ]
  },
  {
   "cell_type": "markdown",
   "metadata": {
    "application/vnd.databricks.v1+cell": {
     "cellMetadata": {},
     "inputWidgets": {},
     "nuid": "62be801f-f092-4041-ad3e-5ee3d822da0d",
     "showTitle": false,
     "title": ""
    },
    "collapsed": false
   },
   "source": [
    "* Tratamento JSON->Tabular"
   ]
  },
  {
   "cell_type": "code",
   "execution_count": 0,
   "metadata": {
    "application/vnd.databricks.v1+cell": {
     "cellMetadata": {},
     "inputWidgets": {},
     "nuid": "eb353347-fb7b-4bcf-8c52-e664e618f4ab",
     "showTitle": false,
     "title": ""
    },
    "collapsed": false
   },
   "outputs": [],
   "source": [
    "df_recommend_json_exploded = df_recommend_json.withColumn('recommendations_explode', F.explode('recommendations'))\\\n",
    "                                    .withColumn('aid', F.col('recommendations_explode.aid').cast(T.IntegerType()))\\\n",
    "                                    .drop('recommendations_explode', 'recommendations')\n",
    "df_recommend_json_exploded.printSchema()"
   ]
  },
  {
   "cell_type": "code",
   "execution_count": 0,
   "metadata": {
    "application/vnd.databricks.v1+cell": {
     "cellMetadata": {},
     "inputWidgets": {},
     "nuid": "598d67f2-e75c-40e7-addc-70664a35bd4b",
     "showTitle": false,
     "title": ""
    },
    "collapsed": false
   },
   "outputs": [],
   "source": [
    "df_recommend_json_exploded.show(10)"
   ]
  },
  {
   "cell_type": "markdown",
   "metadata": {
    "application/vnd.databricks.v1+cell": {
     "cellMetadata": {},
     "inputWidgets": {},
     "nuid": "182f8e39-4eb6-46ed-bb82-988e9ccdd33e",
     "showTitle": false,
     "title": ""
    },
    "collapsed": false
   },
   "source": [
    "# Agrupando top 20 itens por usuário"
   ]
  },
  {
   "cell_type": "code",
   "execution_count": 0,
   "metadata": {
    "application/vnd.databricks.v1+cell": {
     "cellMetadata": {},
     "inputWidgets": {},
     "nuid": "94e2a6f3-d2fd-44cb-bf91-4ce96572d6bf",
     "showTitle": false,
     "title": ""
    },
    "collapsed": false
   },
   "outputs": [],
   "source": [
    "df_submission_raw = df_recommend_json_exploded.withColumn('userCol', F.col('userCol').cast(T.StringType()))\\\n",
    "                                                .groupby('userCol').agg(F.collect_list('aid').alias(\"labels\")).persist()\n",
    "df_submission_raw = df_submission_raw.withColumnRenamed('userCol', 'session_type')\n",
    "df_submission_raw.show(10, truncate=False)"
   ]
  },
  {
   "cell_type": "code",
   "execution_count": 0,
   "metadata": {
    "application/vnd.databricks.v1+cell": {
     "cellMetadata": {},
     "inputWidgets": {},
     "nuid": "e81bd107-faa1-4283-b00d-a2e6d6b63f75",
     "showTitle": false,
     "title": ""
    },
    "collapsed": false
   },
   "outputs": [],
   "source": [
    "df_submission_raw.count()"
   ]
  },
  {
   "cell_type": "markdown",
   "metadata": {
    "application/vnd.databricks.v1+cell": {
     "cellMetadata": {},
     "inputWidgets": {},
     "nuid": "bdb89b9c-c591-4b10-b2d4-b50555046b76",
     "showTitle": false,
     "title": ""
    },
    "collapsed": false
   },
   "source": [
    "# Criando dataset no formato de submissão"
   ]
  },
  {
   "cell_type": "code",
   "execution_count": 0,
   "metadata": {
    "application/vnd.databricks.v1+cell": {
     "cellMetadata": {},
     "inputWidgets": {},
     "nuid": "21672592-c78c-469e-aee5-ab7178f6cf0b",
     "showTitle": false,
     "title": ""
    },
    "collapsed": false
   },
   "outputs": [],
   "source": [
    "users_list_raw = [r[0] for r in df_submission_raw.select('session_type').toLocalIterator()]\n",
    "users_list_raw[:5]"
   ]
  },
  {
   "cell_type": "code",
   "execution_count": 0,
   "metadata": {
    "application/vnd.databricks.v1+cell": {
     "cellMetadata": {},
     "inputWidgets": {},
     "nuid": "9b4c03f8-87f0-4f24-8a87-2bf94648ed91",
     "showTitle": false,
     "title": ""
    },
    "collapsed": false
   },
   "outputs": [],
   "source": [
    "users_list_clicks = [s + '_clicks' for s in users_list_raw]\n",
    "users_list_clicks[:5]"
   ]
  },
  {
   "cell_type": "code",
   "execution_count": 0,
   "metadata": {
    "application/vnd.databricks.v1+cell": {
     "cellMetadata": {},
     "inputWidgets": {},
     "nuid": "109b67f3-a86b-4645-b4db-ec22db1cb2a6",
     "showTitle": false,
     "title": ""
    },
    "collapsed": false
   },
   "outputs": [],
   "source": [
    "users_list_carts = [s + '_carts' for s in users_list_raw]\n",
    "users_list_carts[:5]"
   ]
  },
  {
   "cell_type": "code",
   "execution_count": 0,
   "metadata": {
    "application/vnd.databricks.v1+cell": {
     "cellMetadata": {},
     "inputWidgets": {},
     "nuid": "991bd1ad-4e85-4f1d-b365-6d3ac0b502b6",
     "showTitle": false,
     "title": ""
    },
    "collapsed": false
   },
   "outputs": [],
   "source": [
    "users_list_orders = [s + '_orders' for s in users_list_raw]\n",
    "users_list_orders[:5]"
   ]
  },
  {
   "cell_type": "code",
   "execution_count": 0,
   "metadata": {
    "application/vnd.databricks.v1+cell": {
     "cellMetadata": {},
     "inputWidgets": {},
     "nuid": "b8477be2-a3f6-4e4d-96be-a20208b148cb",
     "showTitle": false,
     "title": ""
    },
    "collapsed": false
   },
   "outputs": [],
   "source": [
    "labels_list = [r[0] for r in df_submission_raw.select('labels').toLocalIterator()]\n",
    "labels_list[:5]"
   ]
  },
  {
   "cell_type": "code",
   "execution_count": 0,
   "metadata": {
    "application/vnd.databricks.v1+cell": {
     "cellMetadata": {},
     "inputWidgets": {},
     "nuid": "e5a23188-51ca-4b2e-a9b8-9901258babec",
     "showTitle": false,
     "title": ""
    },
    "collapsed": false
   },
   "outputs": [],
   "source": [
    "df_clicks = spark.createDataFrame(zip(users_list_clicks, labels_list), ['session_type', 'labels'])\n",
    "df_clicks.show(5)"
   ]
  },
  {
   "cell_type": "code",
   "execution_count": 0,
   "metadata": {
    "application/vnd.databricks.v1+cell": {
     "cellMetadata": {},
     "inputWidgets": {},
     "nuid": "16599e5a-4a12-47e3-8fc3-fa2b6f1d3fd6",
     "showTitle": false,
     "title": ""
    },
    "collapsed": false
   },
   "outputs": [],
   "source": [
    "df_carts = spark.createDataFrame(zip(users_list_carts, labels_list), ['session_type', 'labels'])\n",
    "df_carts.show(5)"
   ]
  },
  {
   "cell_type": "code",
   "execution_count": 0,
   "metadata": {
    "application/vnd.databricks.v1+cell": {
     "cellMetadata": {},
     "inputWidgets": {},
     "nuid": "63d419b0-d40c-4df1-82e2-25f3a45704a1",
     "showTitle": false,
     "title": ""
    },
    "collapsed": false
   },
   "outputs": [],
   "source": [
    "df_orders = spark.createDataFrame(zip(users_list_orders, labels_list), ['session_type', 'labels'])\n",
    "df_orders.show(5)"
   ]
  },
  {
   "cell_type": "code",
   "execution_count": 0,
   "metadata": {
    "application/vnd.databricks.v1+cell": {
     "cellMetadata": {},
     "inputWidgets": {},
     "nuid": "1586dddb-b565-41ff-81d0-cbfd1adbe38f",
     "showTitle": false,
     "title": ""
    },
    "collapsed": false
   },
   "outputs": [],
   "source": [
    "from functools import reduce\n",
    "from pyspark.sql import DataFrame\n",
    "\n",
    "dfs = [df_clicks,df_carts,df_orders]\n",
    "df_submission = reduce(DataFrame.unionAll, dfs).persist()\n",
    "df_submission = df_submission.withColumn(\"labels\",F.concat_ws(\" \",F.col(\"labels\")))\n",
    "df_submission.show()"
   ]
  },
  {
   "cell_type": "code",
   "execution_count": 0,
   "metadata": {
    "application/vnd.databricks.v1+cell": {
     "cellMetadata": {},
     "inputWidgets": {},
     "nuid": "e7bb1c06-dd7f-4bf1-bfdb-882987b4ea89",
     "showTitle": false,
     "title": ""
    },
    "collapsed": false
   },
   "outputs": [],
   "source": [
    "df_submission.count()"
   ]
  },
  {
   "cell_type": "markdown",
   "metadata": {
    "application/vnd.databricks.v1+cell": {
     "cellMetadata": {},
     "inputWidgets": {},
     "nuid": "8415c0ab-f74d-4878-a895-4bf619190da5",
     "showTitle": false,
     "title": ""
    },
    "collapsed": false
   },
   "source": [
    "# Escrevendo dataset de submissão"
   ]
  },
  {
   "cell_type": "code",
   "execution_count": 0,
   "metadata": {
    "application/vnd.databricks.v1+cell": {
     "cellMetadata": {},
     "inputWidgets": {},
     "nuid": "4fdb3d1b-0370-42fa-b70c-37d16370c322",
     "showTitle": false,
     "title": ""
    },
    "collapsed": false
   },
   "outputs": [],
   "source": [
    "df_submission.orderBy('session_type').coalesce(1)\\\n",
    "                                     .write.format('csv')\\\n",
    "                                     .mode(\"overwrite\")\\\n",
    "                                     .option(\"header\", True)\\\n",
    "                                     .save('/'.join([os.getcwd(), 'submission']))"
   ]
  },
  {
   "cell_type": "code",
   "execution_count": 0,
   "metadata": {
    "application/vnd.databricks.v1+cell": {
     "cellMetadata": {},
     "inputWidgets": {},
     "nuid": "2b987e81-5872-4659-a1a2-f402370207a8",
     "showTitle": false,
     "title": ""
    },
    "id": "WhRKBAOXN5NK"
   },
   "outputs": [],
   "source": []
  },
  {
   "cell_type": "markdown",
   "metadata": {
    "application/vnd.databricks.v1+cell": {
     "cellMetadata": {},
     "inputWidgets": {},
     "nuid": "96bd787c-f47b-4588-a31f-f2e2782c7bb5",
     "showTitle": false,
     "title": ""
    },
    "id": "OVMqenPL2-ps",
    "pycharm": {
     "name": "#%% md\n"
    }
   },
   "source": [
    "# Referências Bibliográficas\n",
    "\n",
    "> https://github.com/Kaggle/kaggle-api, acessado em 24/01/2023.\n",
    "\n",
    "> https://www.youtube.com/watch?v=aBNQzWV_UmE, acessado em 24/01/2023.\n",
    "\n",
    "> https://databricks-prod-cloudfront.cloud.databricks.com/public/4027ec902e239c93eaaa8714f173bcfc/968100988546031/157591980591166/8836542754149149/latest.html, acessado em 25/01/2023.\n",
    "\n",
    "> https://blog.clairvoyantsoft.com/apache-spark-out-of-memory-issue-b63c7987fff, acessado em 25/01/2023.\n",
    "\n",
    "> https://spark.apache.org/docs/latest/api/python/getting_started/quickstart_ps.html, acessado em 26/01/2023.\n",
    "\n",
    "> https://docs.fast.ai/collab.html, acessado em 24/01/2023.\n",
    "\n",
    "> https://course.fast.ai/Lessons/lesson7.html, acessado em 24/01/2023.\n",
    "\n",
    "> https://github.com/fastai/fastbook/blob/master/08_collab.ipynb, acessado em 24/01/2023.\n",
    "\n",
    "> https://www.kaggle.com/code/vchulski/tutorial-collaborative-filtering-with-pyspark\n",
    "\n",
    "> https://medium.com/analytics-vidhya/crafting-recommendation-engine-in-pyspark-a7ca242ad40a\n",
    "\n",
    "> https://www.freecodecamp.org/news/8-clustering-algorithms-in-machine-learning-that-all-data-scientists-should-know/\n",
    "\n",
    "> https://www.youtube.com/watch?v=fpqa0_U4zb4\n",
    "\n",
    "> https://www.youtube.com/watch?v=58OjaDH2FI0&t=742s\n",
    "\n",
    "> https://spark.apache.org/docs/latest/ml-collaborative-filtering.html\n",
    "\n",
    "> https://spark.apache.org/docs/latest/configuration.html#memory-management"
   ]
  },
  {
   "cell_type": "code",
   "execution_count": 0,
   "metadata": {
    "application/vnd.databricks.v1+cell": {
     "cellMetadata": {},
     "inputWidgets": {},
     "nuid": "ec05da0d-eb8c-4614-8ac1-54c90098c59c",
     "showTitle": false,
     "title": ""
    },
    "id": "UKVRFgzxPPxz"
   },
   "outputs": [],
   "source": []
  }
 ],
 "metadata": {
  "application/vnd.databricks.v1+notebook": {
   "dashboards": [],
   "language": "python",
   "notebookMetadata": {
    "mostRecentlyExecutedCommandWithImplicitDF": {
     "commandId": 870003513987694,
     "dataframes": [
      "_sqldf"
     ]
    },
    "pythonIndentUnit": 4
   },
   "notebookName": "rapids-accelerator-gpu",
   "widgets": {}
  },
  "colab": {
   "provenance": [
    {
     "file_id": "https://github.com/paulohgontijoo/fastaiOnCampus/blob/main/artigos/lesson-7/150143800_paulohgontijoo_Paulo_Henrique_Costa_Gontijo.ipynb",
     "timestamp": 1684605532949
    }
   ]
  },
  "gpuClass": "standard",
  "jupytext": {
   "split_at_heading": true
  },
  "kernelspec": {
   "display_name": "Python 3 (ipykernel)",
   "language": "python",
   "name": "python3"
  },
  "language_info": {
   "codemirror_mode": {
    "name": "ipython",
    "version": 3
   },
   "file_extension": ".py",
   "mimetype": "text/x-python",
   "name": "python",
   "nbconvert_exporter": "python",
   "pygments_lexer": "ipython3",
   "version": "3.10.6"
  }
 },
 "nbformat": 4,
 "nbformat_minor": 0
}
