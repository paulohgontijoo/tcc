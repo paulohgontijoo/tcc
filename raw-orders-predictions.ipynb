{
 "cells": [
  {
   "cell_type": "markdown",
   "metadata": {
    "id": "IXZTgN3G2-pZ"
   },
   "source": [
    "# Feature Model Teamplate\n",
    "* Aluno: Paulo Henrique Costa Gontijo\n",
    "* Matrícula: 15/0143800\n"
   ]
  },
  {
   "cell_type": "code",
   "execution_count": 1,
   "metadata": {
    "colab": {
     "base_uri": "https://localhost:8080/"
    },
    "executionInfo": {
     "elapsed": 74339,
     "status": "ok",
     "timestamp": 1684604077869,
     "user": {
      "displayName": "",
      "userId": ""
     },
     "user_tz": 180
    },
    "id": "h0PdKSSg3IgE",
    "outputId": "aac648cb-da07-4d25-d3ed-4543ae204c5a",
    "ExecuteTime": {
     "end_time": "2023-09-26T18:58:22.714149931Z",
     "start_time": "2023-09-26T18:58:22.713664697Z"
    }
   },
   "outputs": [],
   "source": [
    "# !pip install pyspark fastai fastbook -q"
   ]
  },
  {
   "cell_type": "markdown",
   "metadata": {
    "id": "Szr4Tj2M2-pb"
   },
   "source": [
    "## Importação das Bibliotecas"
   ]
  },
  {
   "cell_type": "code",
   "execution_count": 2,
   "metadata": {
    "id": "fL6U9GSO2-pc",
    "pycharm": {
     "name": "#%%\n"
    },
    "ExecuteTime": {
     "end_time": "2023-09-26T18:58:22.714413185Z",
     "start_time": "2023-09-26T18:58:22.713813355Z"
    }
   },
   "outputs": [],
   "source": [
    "import os\n",
    "\n",
    "file_name = 'test.jsonl'\n",
    "file_path = '/'.join([os.getcwd(), file_name])"
   ]
  },
  {
   "cell_type": "markdown",
   "metadata": {
    "id": "YRidSkR12-pc"
   },
   "source": [
    "## Criando Cluster Spark"
   ]
  },
  {
   "cell_type": "code",
   "execution_count": 3,
   "metadata": {
    "colab": {
     "base_uri": "https://localhost:8080/"
    },
    "executionInfo": {
     "elapsed": 11226,
     "status": "ok",
     "timestamp": 1684604598002,
     "user": {
      "displayName": "",
      "userId": ""
     },
     "user_tz": 180
    },
    "id": "tn2FFG2I2-pc",
    "outputId": "aa718515-9216-4b5e-84de-08d048dab075",
    "pycharm": {
     "name": "#%%\n"
    },
    "ExecuteTime": {
     "end_time": "2023-09-26T18:58:24.416030483Z",
     "start_time": "2023-09-26T18:58:22.713859463Z"
    }
   },
   "outputs": [
    {
     "name": "stderr",
     "output_type": "stream",
     "text": [
      "23/09/26 15:58:23 WARN Utils: Your hostname, gobellek-B660M-DS3H-DDR4 resolves to a loopback address: 127.0.1.1; using 192.168.0.37 instead (on interface enp4s0)\n",
      "23/09/26 15:58:23 WARN Utils: Set SPARK_LOCAL_IP if you need to bind to another address\n",
      "Setting default log level to \"WARN\".\n",
      "To adjust logging level use sc.setLogLevel(newLevel). For SparkR, use setLogLevel(newLevel).\n",
      "23/09/26 15:58:23 WARN NativeCodeLoader: Unable to load native-hadoop library for your platform... using builtin-java classes where applicable\n"
     ]
    },
    {
     "name": "stdout",
     "output_type": "stream",
     "text": [
      "[('spark.sql.shuffle.partitions', '20'), ('spark.driver.memory', '32g'), ('spark.driver.cores', '10'), ('spark.default.parallelism', '80'), ('spark.executor.cores', '10'), ('spark.executor.memory', '32g'), ('spark.app.name', 'otto-reccomender-competition-kaggle'), ('spark.sql.autoBroadcastHashJoin', '-1'), ('spark.sql.catalogImplementation', 'hive'), ('spark.executor.instances', '2'), ('spark.sql.warehouse.dir', '/home/gobellek/Documents/UnB/Tcc/tcc/spark-warehouse'), ('spark.master', 'local[*]'), ('spark.submit.pyFiles', ''), ('spark.submit.deployMode', 'client'), ('spark.app.submitTime', '1695754703648'), ('spark.ui.showConsoleProgress', 'true'), ('spark.sql.files.maxPartitionBytes', '1g')]\n"
     ]
    }
   ],
   "source": [
    "from pyspark.sql import SparkSession\n",
    "from pyspark import SparkConf\n",
    "from os.path import abspath\n",
    "\n",
    "warehouse_location = abspath('spark-warehouse')\n",
    "\n",
    "spark = SparkSession \\\n",
    "        .builder \\\n",
    "        .appName(\"otto-reccomender-competition-kaggle\") \\\n",
    "        .config(\"spark.sql.warehouse.dir\", abspath('spark-warehouse')) \\\n",
    "        .config(\"spark.executor.cores\", \"10\")\\\n",
    "        .config(\"spark.driver.cores\", \"10\")\\\n",
    "        .config(\"spark.executor.instances\", \"2\")\\\n",
    "        .config(\"spark.executor.memory\",\"32g\")\\\n",
    "        .config(\"spark.driver.memory\", \"32g\")\\\n",
    "        .config(\"spark.default.parallelism\",\"80\")\\\n",
    "        .config(\"spark.sql.shuffle.partitions\",\"20\")\\\n",
    "        .config(\"spark.sql.autoBroadcastHashJoin\",\"-1\")\\\n",
    "        .config(\"spark.sql.files.maxPartitionBytes\",\"1g\")\\\n",
    "        .enableHiveSupport() \\\n",
    "        .getOrCreate()\n",
    "\n",
    "# show configured parameters\n",
    "print(SparkConf().getAll())\n",
    "\n",
    "# set log level\n",
    "spark.sparkContext.setLogLevel(\"FATAL\")"
   ]
  },
  {
   "cell_type": "markdown",
   "metadata": {
    "id": "Bm3hqaH02-pd"
   },
   "source": [
    "* Conferindo o instanciamento"
   ]
  },
  {
   "cell_type": "code",
   "execution_count": 4,
   "metadata": {
    "colab": {
     "base_uri": "https://localhost:8080/",
     "height": 219
    },
    "executionInfo": {
     "elapsed": 1819,
     "status": "ok",
     "timestamp": 1684604599818,
     "user": {
      "displayName": "",
      "userId": ""
     },
     "user_tz": 180
    },
    "id": "HlT2vZL12-pd",
    "outputId": "989d5f12-7fdd-424d-ced7-40ed32d5717c",
    "pycharm": {
     "name": "#%%\n"
    },
    "ExecuteTime": {
     "end_time": "2023-09-26T18:58:24.766951505Z",
     "start_time": "2023-09-26T18:58:24.417472065Z"
    }
   },
   "outputs": [
    {
     "data": {
      "text/plain": "<pyspark.sql.session.SparkSession at 0x7f0ce97a2e00>",
      "text/html": "\n            <div>\n                <p><b>SparkSession - hive</b></p>\n                \n        <div>\n            <p><b>SparkContext</b></p>\n\n            <p><a href=\"http://192.168.0.37:4040\">Spark UI</a></p>\n\n            <dl>\n              <dt>Version</dt>\n                <dd><code>v3.4.0</code></dd>\n              <dt>Master</dt>\n                <dd><code>local[*]</code></dd>\n              <dt>AppName</dt>\n                <dd><code>otto-reccomender-competition-kaggle</code></dd>\n            </dl>\n        </div>\n        \n            </div>\n        "
     },
     "execution_count": 4,
     "metadata": {},
     "output_type": "execute_result"
    }
   ],
   "source": [
    "spark"
   ]
  },
  {
   "cell_type": "markdown",
   "metadata": {
    "id": "2yC64SUC2-pd"
   },
   "source": [
    "* Leitura do arquivo disponibilizado na competição kaggle: [link.](https://www.kaggle.com/competitions/otto-recommender-system/overview/)"
   ]
  },
  {
   "cell_type": "code",
   "execution_count": 5,
   "metadata": {
    "colab": {
     "base_uri": "https://localhost:8080/"
    },
    "executionInfo": {
     "elapsed": 242155,
     "status": "ok",
     "timestamp": 1684604842382,
     "user": {
      "displayName": "",
      "userId": ""
     },
     "user_tz": 180
    },
    "id": "020WZgkA2-pe",
    "outputId": "626bf217-dcfe-4419-f511-d6b18f957e28",
    "pycharm": {
     "name": "#%%\n"
    },
    "ExecuteTime": {
     "end_time": "2023-09-26T18:58:27.294041317Z",
     "start_time": "2023-09-26T18:58:24.767479443Z"
    }
   },
   "outputs": [
    {
     "name": "stderr",
     "output_type": "stream",
     "text": [
      "                                                                                \r"
     ]
    },
    {
     "data": {
      "text/plain": "['events', 'session']"
     },
     "execution_count": 5,
     "metadata": {},
     "output_type": "execute_result"
    }
   ],
   "source": [
    "df_raw = spark.read \\\n",
    "    .format(\"json\") \\\n",
    "    .option(\"inferSchema\", \"true\") \\\n",
    "    .option(\"header\", \"true\") \\\n",
    "    .json(file_path).persist()\n",
    "df_raw.columns"
   ]
  },
  {
   "cell_type": "markdown",
   "metadata": {
    "id": "TeMQZn0v2-pe"
   },
   "source": [
    "* Conferindo número de partições e conteúdo"
   ]
  },
  {
   "cell_type": "code",
   "execution_count": 6,
   "metadata": {
    "colab": {
     "base_uri": "https://localhost:8080/"
    },
    "executionInfo": {
     "elapsed": 8,
     "status": "ok",
     "timestamp": 1684604842382,
     "user": {
      "displayName": "",
      "userId": ""
     },
     "user_tz": 180
    },
    "id": "7qQiUs1v2-pe",
    "outputId": "b978eb4c-2266-463c-a3ba-5579720cbe22",
    "pycharm": {
     "name": "#%%\n"
    },
    "ExecuteTime": {
     "end_time": "2023-09-26T18:58:27.341149726Z",
     "start_time": "2023-09-26T18:58:27.293295132Z"
    }
   },
   "outputs": [
    {
     "name": "stdout",
     "output_type": "stream",
     "text": [
      "80\n"
     ]
    }
   ],
   "source": [
    "print(df_raw.rdd.getNumPartitions())"
   ]
  },
  {
   "cell_type": "code",
   "execution_count": 7,
   "metadata": {
    "pycharm": {
     "name": "#%%\n"
    },
    "ExecuteTime": {
     "end_time": "2023-09-26T18:58:27.667051929Z",
     "start_time": "2023-09-26T18:58:27.340787747Z"
    }
   },
   "outputs": [
    {
     "name": "stdout",
     "output_type": "stream",
     "text": [
      "+--------------------+--------+\n",
      "|              events| session|\n",
      "+--------------------+--------+\n",
      "|[{59625, 16617240...|12899779|\n",
      "|[{1142000, 166172...|12899780|\n",
      "|[{141736, 1661724...|12899781|\n",
      "|[{1669402, 166172...|12899782|\n",
      "|[{255297, 1661724...|12899783|\n",
      "|[{1036375, 166172...|12899784|\n",
      "|[{1784451, 166172...|12899785|\n",
      "|[{955252, 1661724...|12899786|\n",
      "|[{1682750, 166172...|12899787|\n",
      "|[{245131, 1661724...|12899788|\n",
      "+--------------------+--------+\n",
      "only showing top 10 rows\n",
      "\n"
     ]
    }
   ],
   "source": [
    "df_raw.show(10)"
   ]
  },
  {
   "cell_type": "markdown",
   "metadata": {
    "id": "GODq7Emr2-pe"
   },
   "source": [
    "# Contagem de linhas em arquivo bruto"
   ]
  },
  {
   "cell_type": "code",
   "execution_count": 8,
   "metadata": {
    "colab": {
     "base_uri": "https://localhost:8080/"
    },
    "executionInfo": {
     "elapsed": 122663,
     "status": "ok",
     "timestamp": 1684604965854,
     "user": {
      "displayName": "",
      "userId": ""
     },
     "user_tz": 180
    },
    "id": "9pVb84I72-pe",
    "outputId": "05574ab2-ef56-40f8-85a3-67c1d34944c3",
    "pycharm": {
     "name": "#%%\n"
    },
    "ExecuteTime": {
     "end_time": "2023-09-26T18:58:29.156580397Z",
     "start_time": "2023-09-26T18:58:27.665567601Z"
    }
   },
   "outputs": [
    {
     "name": "stderr",
     "output_type": "stream",
     "text": [
      "                                                                                \r"
     ]
    },
    {
     "data": {
      "text/plain": "1671803"
     },
     "execution_count": 8,
     "metadata": {},
     "output_type": "execute_result"
    }
   ],
   "source": [
    "df_raw.count()"
   ]
  },
  {
   "cell_type": "code",
   "execution_count": 9,
   "metadata": {
    "colab": {
     "base_uri": "https://localhost:8080/"
    },
    "executionInfo": {
     "elapsed": 12,
     "status": "ok",
     "timestamp": 1684604965854,
     "user": {
      "displayName": "",
      "userId": ""
     },
     "user_tz": 180
    },
    "id": "FfeSe3Cv2-pf",
    "outputId": "400b16fd-b888-4253-e7a5-e9d737cf0067",
    "pycharm": {
     "name": "#%%\n"
    },
    "ExecuteTime": {
     "end_time": "2023-09-26T18:58:29.157136501Z",
     "start_time": "2023-09-26T18:58:29.154732661Z"
    }
   },
   "outputs": [
    {
     "name": "stdout",
     "output_type": "stream",
     "text": [
      "root\n",
      " |-- events: array (nullable = true)\n",
      " |    |-- element: struct (containsNull = true)\n",
      " |    |    |-- aid: long (nullable = true)\n",
      " |    |    |-- ts: long (nullable = true)\n",
      " |    |    |-- type: string (nullable = true)\n",
      " |-- session: long (nullable = true)\n",
      "\n"
     ]
    }
   ],
   "source": [
    "df_raw.printSchema()"
   ]
  },
  {
   "cell_type": "markdown",
   "metadata": {
    "id": "YLWu6w3R2-pf"
   },
   "source": [
    "* Processamento de Json para formato tabular"
   ]
  },
  {
   "cell_type": "code",
   "execution_count": 10,
   "metadata": {
    "colab": {
     "base_uri": "https://localhost:8080/"
    },
    "executionInfo": {
     "elapsed": 702,
     "status": "ok",
     "timestamp": 1684604966546,
     "user": {
      "displayName": "",
      "userId": ""
     },
     "user_tz": 180
    },
    "id": "1KhqqFOX2-pf",
    "outputId": "79149793-333d-4e68-b275-08094da666dc",
    "pycharm": {
     "name": "#%%\n"
    },
    "ExecuteTime": {
     "end_time": "2023-09-26T18:58:29.168558573Z",
     "start_time": "2023-09-26T18:58:29.157659510Z"
    }
   },
   "outputs": [],
   "source": [
    "from pyspark.sql import functions as F\n",
    "from pyspark.sql import types as T"
   ]
  },
  {
   "cell_type": "code",
   "execution_count": 11,
   "outputs": [],
   "source": [
    "def explode_df_json_to_tabular(df_raw):\n",
    "    df_explode = df_raw.withColumn('events_explode', F.explode('events'))\\\n",
    "                    .withColumn('session', F.col('session').cast(T.IntegerType()))\\\n",
    "                    .withColumn('aid', F.col('events_explode.aid').cast(T.IntegerType()))\\\n",
    "                    .withColumn('ts', F.col('events_explode.ts'))\\\n",
    "                    .withColumn('type', F.col('events_explode.type'))\\\n",
    "                    .drop('events', 'events_explode')\n",
    "    return df_explode"
   ],
   "metadata": {
    "collapsed": false,
    "ExecuteTime": {
     "end_time": "2023-09-26T18:58:29.199090849Z",
     "start_time": "2023-09-26T18:58:29.169505279Z"
    }
   }
  },
  {
   "cell_type": "code",
   "execution_count": 12,
   "outputs": [
    {
     "name": "stdout",
     "output_type": "stream",
     "text": [
      "+--------+-------+-------------+------+\n",
      "| session|    aid|           ts|  type|\n",
      "+--------+-------+-------------+------+\n",
      "|12899779|  59625|1661724000278|clicks|\n",
      "|12899780|1142000|1661724000378|clicks|\n",
      "|12899780| 582732|1661724058352|clicks|\n",
      "|12899780| 973453|1661724109199|clicks|\n",
      "|12899780| 736515|1661724136868|clicks|\n",
      "|12899780|1142000|1661724155248|clicks|\n",
      "|12899781| 141736|1661724000559|clicks|\n",
      "|12899781| 199008|1661724022851|clicks|\n",
      "|12899781|  57315|1661724170835|clicks|\n",
      "|12899781| 194067|1661724246188|clicks|\n",
      "+--------+-------+-------------+------+\n",
      "only showing top 10 rows\n",
      "\n"
     ]
    }
   ],
   "source": [
    "df_explode = explode_df_json_to_tabular(df_raw)\n",
    "df_explode.show(10)"
   ],
   "metadata": {
    "collapsed": false,
    "ExecuteTime": {
     "end_time": "2023-09-26T18:58:29.392283989Z",
     "start_time": "2023-09-26T18:58:29.174054599Z"
    }
   }
  },
  {
   "cell_type": "markdown",
   "metadata": {
    "id": "Zzfeydt02-pf"
   },
   "source": [
    "# Contagem de linhas após o tratamento"
   ]
  },
  {
   "cell_type": "code",
   "execution_count": 13,
   "metadata": {
    "colab": {
     "base_uri": "https://localhost:8080/"
    },
    "executionInfo": {
     "elapsed": 429864,
     "status": "ok",
     "timestamp": 1684605396407,
     "user": {
      "displayName": "",
      "userId": ""
     },
     "user_tz": 180
    },
    "id": "ySwmjzMS2-pf",
    "outputId": "17e64b00-47bd-45cd-f64b-ba1a3b890e04",
    "pycharm": {
     "name": "#%%\n"
    },
    "ExecuteTime": {
     "end_time": "2023-09-26T18:58:29.811186779Z",
     "start_time": "2023-09-26T18:58:29.369683908Z"
    }
   },
   "outputs": [
    {
     "data": {
      "text/plain": "6928123"
     },
     "execution_count": 13,
     "metadata": {},
     "output_type": "execute_result"
    }
   ],
   "source": [
    "df_explode.count()"
   ]
  },
  {
   "cell_type": "markdown",
   "metadata": {
    "id": "x7yVJdnI2-pf"
   },
   "source": [
    "* Schema pós tratamento"
   ]
  },
  {
   "cell_type": "code",
   "execution_count": 14,
   "metadata": {
    "colab": {
     "base_uri": "https://localhost:8080/"
    },
    "executionInfo": {
     "elapsed": 11,
     "status": "ok",
     "timestamp": 1684605396407,
     "user": {
      "displayName": "",
      "userId": ""
     },
     "user_tz": 180
    },
    "id": "8ZxgIbj32-pf",
    "outputId": "847edba3-7bad-4675-d84b-c6530f370f64",
    "pycharm": {
     "name": "#%%\n"
    },
    "ExecuteTime": {
     "end_time": "2023-09-26T18:58:29.816013692Z",
     "start_time": "2023-09-26T18:58:29.814027397Z"
    }
   },
   "outputs": [
    {
     "name": "stdout",
     "output_type": "stream",
     "text": [
      "root\n",
      " |-- session: integer (nullable = true)\n",
      " |-- aid: integer (nullable = true)\n",
      " |-- ts: long (nullable = true)\n",
      " |-- type: string (nullable = true)\n",
      "\n"
     ]
    }
   ],
   "source": [
    "df_explode.printSchema()"
   ]
  },
  {
   "cell_type": "markdown",
   "metadata": {
    "id": "5TT0UYu02-pf"
   },
   "source": [
    "* Categorização de coluna alvo string"
   ]
  },
  {
   "cell_type": "code",
   "execution_count": 15,
   "metadata": {
    "id": "SqWrsvrd2-pg",
    "pycharm": {
     "name": "#%%\n"
    },
    "ExecuteTime": {
     "end_time": "2023-09-26T18:58:29.931281871Z",
     "start_time": "2023-09-26T18:58:29.817477030Z"
    }
   },
   "outputs": [],
   "source": [
    "from pyspark.ml.feature import StringIndexer\n",
    "\n",
    "def transform_indexer(df_explode):\n",
    "    indexer = StringIndexer(inputCol='type', outputCol='type_cat')\n",
    "    indexer_fitted = indexer.fit(df_explode)\n",
    "    df_indexed = indexer_fitted.transform(df_explode)\n",
    "    df_indexed_type = df_indexed.withColumn('type_cat', F.col('type_cat').cast(T.IntegerType())).drop('type')\n",
    "    df_indexed_type_renamed = df_indexed_type.withColumnRenamed('session','userCol')\n",
    "    df_indexed_droped = df_indexed_type_renamed.dropDuplicates()\n",
    "    df = df_indexed_droped.drop('ts')\n",
    "    return df"
   ]
  },
  {
   "cell_type": "code",
   "execution_count": 16,
   "outputs": [
    {
     "name": "stderr",
     "output_type": "stream",
     "text": [
      "[Stage 12:===============================>                       (46 + 21) / 80]\r"
     ]
    },
    {
     "name": "stdout",
     "output_type": "stream",
     "text": [
      "+--------+-------+--------+\n",
      "| userCol|    aid|type_cat|\n",
      "+--------+-------+--------+\n",
      "|12899780| 582732|       0|\n",
      "|12899782| 562753|       1|\n",
      "|12899782| 834354|       2|\n",
      "|12899783|1216820|       0|\n",
      "|12899785|1784451|       0|\n",
      "|12899785| 903397|       0|\n",
      "|12899785|1308865|       0|\n",
      "|12899785| 614626|       0|\n",
      "|12899788|1663048|       0|\n",
      "|12899791|1787713|       0|\n",
      "+--------+-------+--------+\n",
      "only showing top 10 rows\n",
      "\n"
     ]
    },
    {
     "name": "stderr",
     "output_type": "stream",
     "text": [
      "                                                                                \r"
     ]
    }
   ],
   "source": [
    "df_indexed = transform_indexer(df_explode).persist()\n",
    "df_indexed.show(10)"
   ],
   "metadata": {
    "collapsed": false,
    "ExecuteTime": {
     "end_time": "2023-09-26T18:58:31.937089258Z",
     "start_time": "2023-09-26T18:58:29.931671745Z"
    }
   }
  },
  {
   "cell_type": "markdown",
   "metadata": {
    "id": "9sBflvQP2-pg"
   },
   "source": [
    "* Conferência de schema pós tratativas"
   ]
  },
  {
   "cell_type": "code",
   "execution_count": 17,
   "metadata": {
    "id": "XlYapJnq2-pg",
    "pycharm": {
     "name": "#%%\n"
    },
    "ExecuteTime": {
     "end_time": "2023-09-26T18:58:31.937395074Z",
     "start_time": "2023-09-26T18:58:31.935399195Z"
    }
   },
   "outputs": [
    {
     "name": "stdout",
     "output_type": "stream",
     "text": [
      "root\n",
      " |-- userCol: integer (nullable = true)\n",
      " |-- aid: integer (nullable = true)\n",
      " |-- type_cat: integer (nullable = true)\n",
      "\n"
     ]
    }
   ],
   "source": [
    "df_indexed.printSchema()"
   ]
  },
  {
   "cell_type": "markdown",
   "metadata": {
    "id": "uz5hvXWe2-pg"
   },
   "source": [
    "## Análise de Clientes"
   ]
  },
  {
   "cell_type": "markdown",
   "metadata": {
    "id": "g-hOLkW72-pg"
   },
   "source": [
    "* Quantidade de clientes únicos"
   ]
  },
  {
   "cell_type": "code",
   "execution_count": 18,
   "metadata": {
    "id": "88JSNEcL2-pg",
    "pycharm": {
     "name": "#%%\n"
    },
    "ExecuteTime": {
     "end_time": "2023-09-26T18:58:33.209818036Z",
     "start_time": "2023-09-26T18:58:31.937503889Z"
    }
   },
   "outputs": [
    {
     "name": "stderr",
     "output_type": "stream",
     "text": [
      "                                                                                \r"
     ]
    },
    {
     "data": {
      "text/plain": "1671803"
     },
     "execution_count": 18,
     "metadata": {},
     "output_type": "execute_result"
    }
   ],
   "source": [
    "df_indexed.select('userCol').distinct().count()"
   ]
  },
  {
   "cell_type": "markdown",
   "metadata": {
    "id": "_QhaPkaL2-pg"
   },
   "source": [
    "## Análise de Produtos"
   ]
  },
  {
   "cell_type": "markdown",
   "metadata": {
    "id": "kyGzhjmU2-pg"
   },
   "source": [
    "* Quantidade de produtos únicos"
   ]
  },
  {
   "cell_type": "code",
   "execution_count": 19,
   "metadata": {
    "id": "Kovb8Gd02-pg",
    "pycharm": {
     "name": "#%%\n"
    },
    "ExecuteTime": {
     "end_time": "2023-09-26T18:58:33.559651421Z",
     "start_time": "2023-09-26T18:58:33.209265767Z"
    }
   },
   "outputs": [
    {
     "data": {
      "text/plain": "783486"
     },
     "execution_count": 19,
     "metadata": {},
     "output_type": "execute_result"
    }
   ],
   "source": [
    "df_indexed.select('aid').distinct().count()"
   ]
  },
  {
   "cell_type": "markdown",
   "source": [
    "# Escrita de DataFrame tratado"
   ],
   "metadata": {
    "collapsed": false
   }
  },
  {
   "cell_type": "code",
   "execution_count": 20,
   "outputs": [
    {
     "name": "stderr",
     "output_type": "stream",
     "text": [
      "                                                                                \r"
     ]
    }
   ],
   "source": [
    "df_indexed.coalesce(20)\\\n",
    "          .write.format('parquet')\\\n",
    "          .mode(\"overwrite\")\\\n",
    "          .save('/'.join([os.getcwd(), 'refined-dataset']))"
   ],
   "metadata": {
    "collapsed": false,
    "pycharm": {
     "name": "#%%\n"
    },
    "ExecuteTime": {
     "end_time": "2023-09-26T18:58:34.487071830Z",
     "start_time": "2023-09-26T18:58:33.560492013Z"
    }
   }
  },
  {
   "cell_type": "code",
   "execution_count": 21,
   "outputs": [
    {
     "data": {
      "text/plain": "DataFrame[userCol: int, aid: int, type_cat: int]"
     },
     "execution_count": 21,
     "metadata": {},
     "output_type": "execute_result"
    }
   ],
   "source": [
    "df_raw.unpersist()\n",
    "df_explode.unpersist()\n",
    "df_indexed.unpersist()"
   ],
   "metadata": {
    "collapsed": false,
    "pycharm": {
     "name": "#%%\n"
    },
    "ExecuteTime": {
     "end_time": "2023-09-26T18:58:34.497398219Z",
     "start_time": "2023-09-26T18:58:34.485977098Z"
    }
   }
  },
  {
   "cell_type": "markdown",
   "metadata": {
    "id": "LJEw7zThN6sq"
   },
   "source": [
    "# Lendo o dataset refinado"
   ]
  },
  {
   "cell_type": "code",
   "execution_count": 22,
   "outputs": [
    {
     "name": "stdout",
     "output_type": "stream",
     "text": [
      "+--------+-------+--------+\n",
      "| userCol|    aid|type_cat|\n",
      "+--------+-------+--------+\n",
      "|12899781| 199008|       0|\n",
      "|12899782| 975116|       0|\n",
      "|12899782| 975116|       1|\n",
      "|12899782| 889671|       1|\n",
      "|12899785|1154962|       0|\n",
      "|12899785| 453905|       0|\n",
      "|12899785| 258458|       0|\n",
      "|12899785|1553332|       0|\n",
      "|12899785| 874493|       0|\n",
      "|12899785|  10851|       0|\n",
      "|12899785| 453905|       0|\n",
      "|12899799| 413826|       2|\n",
      "|12899801| 725164|       0|\n",
      "|12899803| 795006|       0|\n",
      "|12899803| 929024|       1|\n",
      "|12899803|1651971|       0|\n",
      "|12899803|1684753|       2|\n",
      "|12899807|1407421|       0|\n",
      "|12899809| 703890|       0|\n",
      "|12899810|1309871|       0|\n",
      "+--------+-------+--------+\n",
      "only showing top 20 rows\n",
      "\n"
     ]
    }
   ],
   "source": [
    "df_refined = spark.read.format('parquet').load('refined-dataset').persist()\n",
    "df_refined.show()"
   ],
   "metadata": {
    "collapsed": false,
    "pycharm": {
     "name": "#%%\n"
    },
    "ExecuteTime": {
     "end_time": "2023-09-26T18:58:34.900813044Z",
     "start_time": "2023-09-26T18:58:34.497136855Z"
    }
   }
  },
  {
   "cell_type": "markdown",
   "source": [
    "# Filtrando Dataset de Treino para Clientes que Compraram"
   ],
   "metadata": {
    "collapsed": false
   }
  },
  {
   "cell_type": "code",
   "execution_count": 23,
   "outputs": [
    {
     "name": "stderr",
     "output_type": "stream",
     "text": [
      "                                                                                \r"
     ]
    },
    {
     "data": {
      "text/plain": "35849"
     },
     "execution_count": 23,
     "metadata": {},
     "output_type": "execute_result"
    }
   ],
   "source": [
    "client_ids = df_refined.select(df_refined.userCol).where(F.col('type_cat') == 2).dropDuplicates().withColumnRenamed('userCol', 'clients_ids')\n",
    "client_ids.count()"
   ],
   "metadata": {
    "collapsed": false,
    "ExecuteTime": {
     "end_time": "2023-09-26T18:58:35.695904933Z",
     "start_time": "2023-09-26T18:58:34.901959219Z"
    }
   }
  },
  {
   "cell_type": "code",
   "execution_count": 24,
   "metadata": {
    "id": "dOufeEDdN56X",
    "ExecuteTime": {
     "end_time": "2023-09-26T18:58:36.174367249Z",
     "start_time": "2023-09-26T18:58:35.694617241Z"
    }
   },
   "outputs": [
    {
     "name": "stdout",
     "output_type": "stream",
     "text": [
      "+--------+-------+--------+\n",
      "| userCol|    aid|type_cat|\n",
      "+--------+-------+--------+\n",
      "|12899815| 711554|       0|\n",
      "|12899815| 711554|       0|\n",
      "|12899815| 745095|       0|\n",
      "|12899815|1519178|       0|\n",
      "|12899815| 772784|       0|\n",
      "|12899815| 708311|       2|\n",
      "|12899815|1574360|       0|\n",
      "|12899815|1747391|       0|\n",
      "|12899815| 526421|       0|\n",
      "|12899815| 711554|       0|\n",
      "|12899815|1783601|       0|\n",
      "|12899815| 290121|       0|\n",
      "|12899815|1188442|       0|\n",
      "|12899815| 374736|       0|\n",
      "|12899815|1577268|       0|\n",
      "|12899815| 101371|       0|\n",
      "|12899815| 307161|       0|\n",
      "|12899815|1153934|       0|\n",
      "|12899815|  86049|       0|\n",
      "|12899815|1626876|       0|\n",
      "+--------+-------+--------+\n",
      "only showing top 20 rows\n",
      "\n"
     ]
    }
   ],
   "source": [
    "df_pre_moodel = df_refined.join(client_ids, df_refined.userCol == client_ids.clients_ids, how='inner').drop('clients_ids').persist()\n",
    "df_pre_moodel.show()"
   ]
  },
  {
   "cell_type": "code",
   "execution_count": 25,
   "outputs": [
    {
     "data": {
      "text/plain": "628773"
     },
     "execution_count": 25,
     "metadata": {},
     "output_type": "execute_result"
    }
   ],
   "source": [
    "df_pre_moodel.select('userCol').count()"
   ],
   "metadata": {
    "collapsed": false,
    "ExecuteTime": {
     "end_time": "2023-09-26T18:58:36.483770843Z",
     "start_time": "2023-09-26T18:58:36.173744137Z"
    }
   }
  },
  {
   "cell_type": "code",
   "execution_count": 26,
   "outputs": [
    {
     "data": {
      "text/plain": "35849"
     },
     "execution_count": 26,
     "metadata": {},
     "output_type": "execute_result"
    }
   ],
   "source": [
    "df_pre_moodel.select('userCol').distinct().count()"
   ],
   "metadata": {
    "collapsed": false,
    "ExecuteTime": {
     "end_time": "2023-09-26T18:58:36.591887245Z",
     "start_time": "2023-09-26T18:58:36.483183984Z"
    }
   }
  },
  {
   "cell_type": "markdown",
   "source": [
    "### Adicionar pipeline de hiperparametrização\n",
    "* http://restanalytics.com/2019-02-27-Hyperparameter-Tuning-Alternating-Least-Squares-Recommender-System/"
   ],
   "metadata": {
    "collapsed": false
   }
  },
  {
   "cell_type": "code",
   "execution_count": 27,
   "metadata": {
    "pycharm": {
     "name": "#%%\n"
    },
    "ExecuteTime": {
     "end_time": "2023-09-26T18:58:36.594177469Z",
     "start_time": "2023-09-26T18:58:36.592454987Z"
    }
   },
   "outputs": [],
   "source": [
    "from pyspark.ml.recommendation import ALS\n",
    "\n",
    "training = df_pre_moodel"
   ]
  },
  {
   "cell_type": "code",
   "execution_count": null,
   "outputs": [],
   "source": [
    "# Build the recommendation model using ALS on the training data\n",
    "# Note we set cold start strategy to 'drop' to ensure we don't get NaN evaluation metrics\n",
    "als = ALS(rank=100,\n",
    "          maxIter=20,\n",
    "          regParam=0.01,\n",
    "          userCol=\"userCol\",\n",
    "          itemCol=\"aid\",\n",
    "          ratingCol=\"type_cat\",\n",
    "          coldStartStrategy=\"drop\",\n",
    "          implicitPrefs=True,\n",
    "          checkpointInterval=1)\n",
    "model = als.fit(training)"
   ],
   "metadata": {
    "collapsed": false
   }
  },
  {
   "cell_type": "markdown",
   "source": [
    "# Gerando Recomendações\n",
    "Upload do dataset de treino"
   ],
   "metadata": {
    "collapsed": false
   }
  },
  {
   "cell_type": "code",
   "execution_count": 34,
   "outputs": [],
   "source": [
    "file_name = 'test.jsonl'\n",
    "file_path = '/'.join([os.getcwd(), file_name])"
   ],
   "metadata": {
    "collapsed": false,
    "ExecuteTime": {
     "end_time": "2023-09-26T19:02:59.853870329Z",
     "start_time": "2023-09-26T19:02:59.809975999Z"
    }
   }
  },
  {
   "cell_type": "code",
   "execution_count": 35,
   "outputs": [
    {
     "name": "stderr",
     "output_type": "stream",
     "text": [
      "                                                                                \r"
     ]
    }
   ],
   "source": [
    "df_test = spark.read \\\n",
    "    .format(\"json\") \\\n",
    "    .option(\"inferSchema\", \"true\") \\\n",
    "    .option(\"header\", \"true\") \\\n",
    "    .json(file_path).persist()"
   ],
   "metadata": {
    "collapsed": false,
    "ExecuteTime": {
     "end_time": "2023-09-26T19:03:01.471080066Z",
     "start_time": "2023-09-26T19:03:00.822091182Z"
    }
   }
  },
  {
   "cell_type": "code",
   "execution_count": 36,
   "outputs": [
    {
     "name": "stdout",
     "output_type": "stream",
     "text": [
      "+--------------------+--------+\n",
      "|              events| session|\n",
      "+--------------------+--------+\n",
      "|[{59625, 16617240...|12899779|\n",
      "|[{1142000, 166172...|12899780|\n",
      "|[{141736, 1661724...|12899781|\n",
      "|[{1669402, 166172...|12899782|\n",
      "|[{255297, 1661724...|12899783|\n",
      "|[{1036375, 166172...|12899784|\n",
      "|[{1784451, 166172...|12899785|\n",
      "|[{955252, 1661724...|12899786|\n",
      "|[{1682750, 166172...|12899787|\n",
      "|[{245131, 1661724...|12899788|\n",
      "|[{525156, 1661724...|12899789|\n",
      "|[{1219653, 166172...|12899790|\n",
      "|[{915175, 1661724...|12899791|\n",
      "|[{1537160, 166172...|12899792|\n",
      "|[{1181781, 166172...|12899793|\n",
      "|[{1746099, 166172...|12899794|\n",
      "|[{207754, 1661724...|12899795|\n",
      "|[{4503, 166172400...|12899796|\n",
      "|[{1335784, 166172...|12899797|\n",
      "|[{379440, 1661724...|12899798|\n",
      "+--------------------+--------+\n",
      "only showing top 20 rows\n",
      "\n"
     ]
    }
   ],
   "source": [
    "df_test.show()"
   ],
   "metadata": {
    "collapsed": false,
    "ExecuteTime": {
     "end_time": "2023-09-26T19:03:03.498143298Z",
     "start_time": "2023-09-26T19:03:03.413034085Z"
    }
   }
  },
  {
   "cell_type": "code",
   "execution_count": 37,
   "outputs": [
    {
     "name": "stderr",
     "output_type": "stream",
     "text": [
      "                                                                                \r"
     ]
    },
    {
     "data": {
      "text/plain": "1671803"
     },
     "execution_count": 37,
     "metadata": {},
     "output_type": "execute_result"
    }
   ],
   "source": [
    "df_test.count()"
   ],
   "metadata": {
    "collapsed": false,
    "ExecuteTime": {
     "end_time": "2023-09-26T19:03:09.334667360Z",
     "start_time": "2023-09-26T19:03:08.277327760Z"
    }
   }
  },
  {
   "cell_type": "markdown",
   "source": [
    "# Tratamento de subset para recomendações"
   ],
   "metadata": {
    "collapsed": false
   }
  },
  {
   "cell_type": "code",
   "execution_count": 38,
   "outputs": [
    {
     "data": {
      "text/plain": "6928123"
     },
     "execution_count": 38,
     "metadata": {},
     "output_type": "execute_result"
    }
   ],
   "source": [
    "df_pre_transform = explode_df_json_to_tabular(df_test)\n",
    "df_pre_transform.count()"
   ],
   "metadata": {
    "collapsed": false,
    "ExecuteTime": {
     "end_time": "2023-09-26T19:03:21.772464801Z",
     "start_time": "2023-09-26T19:03:21.642483616Z"
    }
   }
  },
  {
   "cell_type": "code",
   "execution_count": 39,
   "outputs": [
    {
     "data": {
      "text/plain": "1671803"
     },
     "execution_count": 39,
     "metadata": {},
     "output_type": "execute_result"
    }
   ],
   "source": [
    "df_subset = transform_indexer(df_pre_transform).select('userCol').distinct()\n",
    "df_subset.count()"
   ],
   "metadata": {
    "collapsed": false,
    "ExecuteTime": {
     "end_time": "2023-09-26T19:03:28.317629728Z",
     "start_time": "2023-09-26T19:03:27.550610930Z"
    }
   }
  },
  {
   "cell_type": "code",
   "execution_count": 40,
   "outputs": [
    {
     "data": {
      "text/plain": "35849"
     },
     "execution_count": 40,
     "metadata": {},
     "output_type": "execute_result"
    }
   ],
   "source": [
    "df_pre_moodel.join(df_subset, df_pre_moodel.userCol == df_subset.userCol, 'inner')\\\n",
    "                    .drop(df_subset.userCol).select('userCol').distinct().count()"
   ],
   "metadata": {
    "collapsed": false,
    "ExecuteTime": {
     "end_time": "2023-09-26T19:03:49.736064459Z",
     "start_time": "2023-09-26T19:03:49.110650135Z"
    }
   }
  },
  {
   "cell_type": "code",
   "execution_count": 41,
   "outputs": [
    {
     "name": "stdout",
     "output_type": "stream",
     "text": [
      "root\n",
      " |-- userCol: integer (nullable = false)\n",
      " |-- recommendations: array (nullable = true)\n",
      " |    |-- element: struct (containsNull = true)\n",
      " |    |    |-- aid: integer (nullable = true)\n",
      " |    |    |-- rating: float (nullable = true)\n",
      "\n"
     ]
    }
   ],
   "source": [
    "df_recommend = model.recommendForUserSubset(df_subset, 20)\n",
    "df_recommend.printSchema()"
   ],
   "metadata": {
    "collapsed": false,
    "pycharm": {
     "name": "#%%\n"
    },
    "ExecuteTime": {
     "end_time": "2023-09-26T19:03:57.613943566Z",
     "start_time": "2023-09-26T19:03:57.552198737Z"
    }
   }
  },
  {
   "cell_type": "markdown",
   "source": [
    "# Escrevendo Dataset de Recomendações em JSON"
   ],
   "metadata": {
    "collapsed": false
   }
  },
  {
   "cell_type": "code",
   "execution_count": 44,
   "outputs": [
    {
     "name": "stderr",
     "output_type": "stream",
     "text": [
      "                                                                                \r"
     ]
    }
   ],
   "source": [
    "df_recommend.write.format('json')\\\n",
    "                  .mode(\"overwrite\")\\\n",
    "                  .save('/'.join([os.getcwd(), 'raw-orders-predictions.json']))"
   ],
   "metadata": {
    "collapsed": false,
    "pycharm": {
     "name": "#%%\n"
    },
    "ExecuteTime": {
     "end_time": "2023-09-26T19:12:17.484589279Z",
     "start_time": "2023-09-26T19:11:35.282032606Z"
    }
   }
  },
  {
   "cell_type": "code",
   "execution_count": 43,
   "outputs": [
    {
     "data": {
      "text/plain": "DataFrame[userCol: int, recommendations: array<struct<aid:int,rating:float>>]"
     },
     "execution_count": 43,
     "metadata": {},
     "output_type": "execute_result"
    }
   ],
   "source": [
    "df_recommend.unpersist()"
   ],
   "metadata": {
    "collapsed": false,
    "pycharm": {
     "name": "#%%\n"
    },
    "ExecuteTime": {
     "end_time": "2023-09-26T19:06:10.209818337Z",
     "start_time": "2023-09-26T19:06:10.165275185Z"
    }
   }
  }
 ],
 "metadata": {
  "colab": {
   "provenance": [
    {
     "file_id": "https://github.com/paulohgontijoo/fastaiOnCampus/blob/main/artigos/lesson-7/150143800_paulohgontijoo_Paulo_Henrique_Costa_Gontijo.ipynb",
     "timestamp": 1684605532949
    }
   ]
  },
  "gpuClass": "standard",
  "jupytext": {
   "split_at_heading": true
  },
  "kernelspec": {
   "display_name": "Python 3 (ipykernel)",
   "language": "python",
   "name": "python3"
  },
  "language_info": {
   "codemirror_mode": {
    "name": "ipython",
    "version": 3
   },
   "file_extension": ".py",
   "mimetype": "text/x-python",
   "name": "python",
   "nbconvert_exporter": "python",
   "pygments_lexer": "ipython3",
   "version": "3.10.6"
  }
 },
 "nbformat": 4,
 "nbformat_minor": 1
}
