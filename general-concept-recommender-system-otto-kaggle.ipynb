{
 "cells": [
  {
   "cell_type": "markdown",
   "metadata": {
    "id": "IXZTgN3G2-pZ"
   },
   "source": [
    "# TCC 1\n",
    "* Aluno: Paulo Henrique Costa Gontijo\n",
    "* Matrícula: 15/0143800\n"
   ]
  },
  {
   "cell_type": "code",
   "execution_count": 1,
   "metadata": {
    "colab": {
     "base_uri": "https://localhost:8080/"
    },
    "executionInfo": {
     "elapsed": 74339,
     "status": "ok",
     "timestamp": 1684604077869,
     "user": {
      "displayName": "",
      "userId": ""
     },
     "user_tz": 180
    },
    "id": "h0PdKSSg3IgE",
    "outputId": "aac648cb-da07-4d25-d3ed-4543ae204c5a",
    "ExecuteTime": {
     "end_time": "2023-09-26T13:26:16.054331966Z",
     "start_time": "2023-09-26T13:26:16.053767161Z"
    }
   },
   "outputs": [],
   "source": [
    "# !pip install pyspark fastai fastbook -q"
   ]
  },
  {
   "cell_type": "code",
   "execution_count": 2,
   "metadata": {
    "id": "A3M3dnOX3wv_",
    "ExecuteTime": {
     "end_time": "2023-09-26T13:26:16.054581613Z",
     "start_time": "2023-09-26T13:26:16.053996967Z"
    }
   },
   "outputs": [],
   "source": [
    "# from google.colab import drive\n",
    "# drive.mount('/content/gdrive')"
   ]
  },
  {
   "cell_type": "code",
   "execution_count": 3,
   "metadata": {
    "colab": {
     "base_uri": "https://localhost:8080/",
     "height": 160
    },
    "executionInfo": {
     "elapsed": 43927,
     "status": "ok",
     "timestamp": 1684604197647,
     "user": {
      "displayName": "",
      "userId": ""
     },
     "user_tz": 180
    },
    "id": "5bjScV4J32zG",
    "outputId": "8c0a56fb-00b3-4515-ce66-4f9863c28b72",
    "ExecuteTime": {
     "end_time": "2023-09-26T13:26:16.054753054Z",
     "start_time": "2023-09-26T13:26:16.054510630Z"
    }
   },
   "outputs": [],
   "source": [
    "# # from google.colab import files\n",
    "# #\n",
    "# # files.upload() #this will prompt you to upload the kaggle.json\n",
    "#\n",
    "# !ls -lha kaggle.json\n",
    "#\n",
    "# # Install kaggle API client\n",
    "# !pip install -q kaggle\n",
    "#\n",
    "# # kaggle API client expects the file to be in ~/.kaggle\n",
    "#\n",
    "# # so move it there\n",
    "# !mkdir -p ~/.kaggle\n",
    "# !cp kaggle.json ~/.kaggle/\n",
    "#\n",
    "# # we need to set permissions\n",
    "# !chmod 600 /root/.kaggle/kaggle.json\n",
    "#\n",
    "# # check your directory before downloading the datasets\n",
    "# !pwd\n",
    "#\n",
    "# # # list all available datasets\n",
    "# # !kaggle datasets list\n",
    "#\n",
    "# # download the required dataset from kaggle\n",
    "# !kaggle competitions download -c otto-recommender-system\n",
    "\n",
    "# # If your file is a zip file you can unzip with the following code\n",
    "# !unzip /content/otto-recommender-system.zip"
   ]
  },
  {
   "cell_type": "code",
   "execution_count": 4,
   "metadata": {
    "colab": {
     "base_uri": "https://localhost:8080/"
    },
    "executionInfo": {
     "elapsed": 147220,
     "status": "ok",
     "timestamp": 1684604409560,
     "user": {
      "displayName": "",
      "userId": ""
     },
     "user_tz": 180
    },
    "id": "49F5e7Io4w6B",
    "outputId": "056bb381-3098-48f4-b9d4-967c1f9e18b2",
    "ExecuteTime": {
     "end_time": "2023-09-26T13:26:16.054839531Z",
     "start_time": "2023-09-26T13:26:16.054686106Z"
    }
   },
   "outputs": [],
   "source": [
    "# !unzip ./otto-recommender-system.zip"
   ]
  },
  {
   "cell_type": "markdown",
   "metadata": {
    "id": "Szr4Tj2M2-pb"
   },
   "source": [
    "## Importação das Bibliotecas"
   ]
  },
  {
   "cell_type": "code",
   "execution_count": 5,
   "metadata": {
    "id": "fL6U9GSO2-pc",
    "pycharm": {
     "name": "#%%\n"
    },
    "ExecuteTime": {
     "end_time": "2023-09-26T13:26:16.173775282Z",
     "start_time": "2023-09-26T13:26:16.054903727Z"
    }
   },
   "outputs": [],
   "source": [
    "import os\n",
    "import pandas as pd\n",
    "\n",
    "file_name = 'test.jsonl'\n",
    "file_path = '/'.join([os.getcwd(), file_name])"
   ]
  },
  {
   "cell_type": "markdown",
   "metadata": {
    "id": "YRidSkR12-pc"
   },
   "source": [
    "## Criando Cluster Spark"
   ]
  },
  {
   "cell_type": "code",
   "execution_count": 6,
   "metadata": {
    "colab": {
     "base_uri": "https://localhost:8080/"
    },
    "executionInfo": {
     "elapsed": 11226,
     "status": "ok",
     "timestamp": 1684604598002,
     "user": {
      "displayName": "",
      "userId": ""
     },
     "user_tz": 180
    },
    "id": "tn2FFG2I2-pc",
    "outputId": "aa718515-9216-4b5e-84de-08d048dab075",
    "pycharm": {
     "name": "#%%\n"
    },
    "ExecuteTime": {
     "end_time": "2023-09-26T13:26:17.923638021Z",
     "start_time": "2023-09-26T13:26:16.175807291Z"
    }
   },
   "outputs": [
    {
     "name": "stderr",
     "output_type": "stream",
     "text": [
      "23/09/26 10:26:16 WARN Utils: Your hostname, gobellek-B660M-DS3H-DDR4 resolves to a loopback address: 127.0.1.1; using 192.168.0.37 instead (on interface enp4s0)\n",
      "23/09/26 10:26:16 WARN Utils: Set SPARK_LOCAL_IP if you need to bind to another address\n",
      "Setting default log level to \"WARN\".\n",
      "To adjust logging level use sc.setLogLevel(newLevel). For SparkR, use setLogLevel(newLevel).\n",
      "23/09/26 10:26:17 WARN NativeCodeLoader: Unable to load native-hadoop library for your platform... using builtin-java classes where applicable\n"
     ]
    },
    {
     "name": "stdout",
     "output_type": "stream",
     "text": [
      "[('spark.sql.shuffle.partitions', '20'), ('spark.app.submitTime', '1695734777168'), ('spark.driver.memory', '32g'), ('spark.driver.cores', '10'), ('spark.default.parallelism', '80'), ('spark.executor.cores', '10'), ('spark.executor.memory', '32g'), ('spark.app.name', 'otto-reccomender-competition-kaggle'), ('spark.sql.autoBroadcastHashJoin', '-1'), ('spark.sql.catalogImplementation', 'hive'), ('spark.executor.instances', '2'), ('spark.sql.warehouse.dir', '/home/gobellek/Documents/UnB/Tcc/tcc/spark-warehouse'), ('spark.master', 'local[*]'), ('spark.submit.pyFiles', ''), ('spark.submit.deployMode', 'client'), ('spark.ui.showConsoleProgress', 'true'), ('spark.sql.files.maxPartitionBytes', '1g')]\n"
     ]
    }
   ],
   "source": [
    "from pyspark.sql import SparkSession\n",
    "from pyspark import SparkConf\n",
    "from os.path import abspath\n",
    "\n",
    "warehouse_location = abspath('spark-warehouse')\n",
    "\n",
    "    # init session\n",
    "# spark = SparkSession \\\n",
    "#         .builder \\\n",
    "#         .appName(\"otto-reccomender-competition-kaggle\") \\\n",
    "#         .config(\"spark.sql.warehouse.dir\", abspath('spark-warehouse')) \\\n",
    "#         .config(\"spark.sql.execution.arrow.pyspark.enabled\", \"true\")\\\n",
    "#         .config(\"spark.sql.execution.arrow.pyspark.fallback.enabled\", \"true\")\\\n",
    "#         .config(\"spark.sql.shuffle.partitions\", \"10000\")\\\n",
    "#         .config(\"spark.driver.maxResultSize\", \"16g\")\\\n",
    "#         .config(\"spark.driver.memory\", \"16g\")\\\n",
    "#         .config(\"spark.driver.memoryOverheadFactor\", \"0.30\")\\\n",
    "#         .config(\"spark.executor.pyspark.memory\", \"32g\")\\\n",
    "#         .config(\"spark.checkpoint.compress\", \"true\")\\\n",
    "#         .enableHiveSupport() \\\n",
    "#         .getOrCreate()\n",
    "\n",
    "spark = SparkSession \\\n",
    "        .builder \\\n",
    "        .appName(\"otto-reccomender-competition-kaggle\") \\\n",
    "        .config(\"spark.sql.warehouse.dir\", abspath('spark-warehouse')) \\\n",
    "        .config(\"spark.executor.cores\", \"10\")\\\n",
    "        .config(\"spark.driver.cores\", \"10\")\\\n",
    "        .config(\"spark.executor.instances\", \"2\")\\\n",
    "        .config(\"spark.executor.memory\",\"32g\")\\\n",
    "        .config(\"spark.driver.memory\", \"32g\")\\\n",
    "        .config(\"spark.default.parallelism\",\"80\")\\\n",
    "        .config(\"spark.sql.shuffle.partitions\",\"20\")\\\n",
    "        .config(\"spark.sql.autoBroadcastHashJoin\",\"-1\")\\\n",
    "        .config(\"spark.sql.files.maxPartitionBytes\",\"1g\")\\\n",
    "        .enableHiveSupport() \\\n",
    "        .getOrCreate()\n",
    "\n",
    "# show configured parameters\n",
    "print(SparkConf().getAll())\n",
    "\n",
    "# set log level\n",
    "spark.sparkContext.setLogLevel(\"FATAL\")"
   ]
  },
  {
   "cell_type": "markdown",
   "metadata": {
    "id": "Bm3hqaH02-pd"
   },
   "source": [
    "* Conferindo o instanciamento"
   ]
  },
  {
   "cell_type": "code",
   "execution_count": 7,
   "metadata": {
    "colab": {
     "base_uri": "https://localhost:8080/",
     "height": 219
    },
    "executionInfo": {
     "elapsed": 1819,
     "status": "ok",
     "timestamp": 1684604599818,
     "user": {
      "displayName": "",
      "userId": ""
     },
     "user_tz": 180
    },
    "id": "HlT2vZL12-pd",
    "outputId": "989d5f12-7fdd-424d-ced7-40ed32d5717c",
    "pycharm": {
     "name": "#%%\n"
    },
    "ExecuteTime": {
     "end_time": "2023-09-26T13:26:18.334370718Z",
     "start_time": "2023-09-26T13:26:17.914404449Z"
    }
   },
   "outputs": [
    {
     "data": {
      "text/plain": "<pyspark.sql.session.SparkSession at 0x7f054c2e33a0>",
      "text/html": "\n            <div>\n                <p><b>SparkSession - hive</b></p>\n                \n        <div>\n            <p><b>SparkContext</b></p>\n\n            <p><a href=\"http://192.168.0.37:4040\">Spark UI</a></p>\n\n            <dl>\n              <dt>Version</dt>\n                <dd><code>v3.4.0</code></dd>\n              <dt>Master</dt>\n                <dd><code>local[*]</code></dd>\n              <dt>AppName</dt>\n                <dd><code>otto-reccomender-competition-kaggle</code></dd>\n            </dl>\n        </div>\n        \n            </div>\n        "
     },
     "execution_count": 7,
     "metadata": {},
     "output_type": "execute_result"
    }
   ],
   "source": [
    "spark"
   ]
  },
  {
   "cell_type": "markdown",
   "metadata": {
    "id": "2yC64SUC2-pd"
   },
   "source": [
    "* Leitura do arquivo disponibilizado na competição kaggle: [link.](https://www.kaggle.com/competitions/otto-recommender-system/overview/)"
   ]
  },
  {
   "cell_type": "code",
   "execution_count": 8,
   "metadata": {
    "colab": {
     "base_uri": "https://localhost:8080/"
    },
    "executionInfo": {
     "elapsed": 242155,
     "status": "ok",
     "timestamp": 1684604842382,
     "user": {
      "displayName": "",
      "userId": ""
     },
     "user_tz": 180
    },
    "id": "020WZgkA2-pe",
    "outputId": "626bf217-dcfe-4419-f511-d6b18f957e28",
    "pycharm": {
     "name": "#%%\n"
    },
    "ExecuteTime": {
     "end_time": "2023-09-26T13:26:21.033063212Z",
     "start_time": "2023-09-26T13:26:18.334156780Z"
    }
   },
   "outputs": [
    {
     "name": "stderr",
     "output_type": "stream",
     "text": [
      "                                                                                \r"
     ]
    },
    {
     "data": {
      "text/plain": "['events', 'session']"
     },
     "execution_count": 8,
     "metadata": {},
     "output_type": "execute_result"
    }
   ],
   "source": [
    "df_raw = spark.read \\\n",
    "    .format(\"json\") \\\n",
    "    .option(\"inferSchema\", \"true\") \\\n",
    "    .option(\"header\", \"true\") \\\n",
    "    .json(file_path).persist()\n",
    "df_raw.columns"
   ]
  },
  {
   "cell_type": "markdown",
   "metadata": {
    "id": "TeMQZn0v2-pe"
   },
   "source": [
    "* Conferindo número de partições e conteúdo"
   ]
  },
  {
   "cell_type": "code",
   "execution_count": 9,
   "metadata": {
    "colab": {
     "base_uri": "https://localhost:8080/"
    },
    "executionInfo": {
     "elapsed": 8,
     "status": "ok",
     "timestamp": 1684604842382,
     "user": {
      "displayName": "",
      "userId": ""
     },
     "user_tz": 180
    },
    "id": "7qQiUs1v2-pe",
    "outputId": "b978eb4c-2266-463c-a3ba-5579720cbe22",
    "pycharm": {
     "name": "#%%\n"
    },
    "ExecuteTime": {
     "end_time": "2023-09-26T13:26:21.077516089Z",
     "start_time": "2023-09-26T13:26:21.032737921Z"
    }
   },
   "outputs": [
    {
     "name": "stdout",
     "output_type": "stream",
     "text": [
      "80\n"
     ]
    }
   ],
   "source": [
    "print(df_raw.rdd.getNumPartitions())"
   ]
  },
  {
   "cell_type": "code",
   "execution_count": 10,
   "metadata": {
    "pycharm": {
     "name": "#%%\n"
    },
    "ExecuteTime": {
     "end_time": "2023-09-26T13:26:21.450912020Z",
     "start_time": "2023-09-26T13:26:21.075096716Z"
    }
   },
   "outputs": [
    {
     "name": "stdout",
     "output_type": "stream",
     "text": [
      "+--------------------+--------+\n",
      "|              events| session|\n",
      "+--------------------+--------+\n",
      "|[{59625, 16617240...|12899779|\n",
      "|[{1142000, 166172...|12899780|\n",
      "|[{141736, 1661724...|12899781|\n",
      "|[{1669402, 166172...|12899782|\n",
      "|[{255297, 1661724...|12899783|\n",
      "|[{1036375, 166172...|12899784|\n",
      "|[{1784451, 166172...|12899785|\n",
      "|[{955252, 1661724...|12899786|\n",
      "|[{1682750, 166172...|12899787|\n",
      "|[{245131, 1661724...|12899788|\n",
      "+--------------------+--------+\n",
      "only showing top 10 rows\n",
      "\n"
     ]
    }
   ],
   "source": [
    "df_raw.show(10)"
   ]
  },
  {
   "cell_type": "markdown",
   "metadata": {
    "id": "GODq7Emr2-pe"
   },
   "source": [
    "* Contagem de linhas em arquivo bruto"
   ]
  },
  {
   "cell_type": "code",
   "execution_count": 11,
   "metadata": {
    "colab": {
     "base_uri": "https://localhost:8080/"
    },
    "executionInfo": {
     "elapsed": 122663,
     "status": "ok",
     "timestamp": 1684604965854,
     "user": {
      "displayName": "",
      "userId": ""
     },
     "user_tz": 180
    },
    "id": "9pVb84I72-pe",
    "outputId": "05574ab2-ef56-40f8-85a3-67c1d34944c3",
    "pycharm": {
     "name": "#%%\n"
    },
    "ExecuteTime": {
     "end_time": "2023-09-26T13:26:23.124190821Z",
     "start_time": "2023-09-26T13:26:21.450600974Z"
    }
   },
   "outputs": [
    {
     "name": "stderr",
     "output_type": "stream",
     "text": [
      "                                                                                \r"
     ]
    },
    {
     "data": {
      "text/plain": "1671803"
     },
     "execution_count": 11,
     "metadata": {},
     "output_type": "execute_result"
    }
   ],
   "source": [
    "df_raw.count()"
   ]
  },
  {
   "cell_type": "code",
   "execution_count": 12,
   "metadata": {
    "colab": {
     "base_uri": "https://localhost:8080/"
    },
    "executionInfo": {
     "elapsed": 12,
     "status": "ok",
     "timestamp": 1684604965854,
     "user": {
      "displayName": "",
      "userId": ""
     },
     "user_tz": 180
    },
    "id": "FfeSe3Cv2-pf",
    "outputId": "400b16fd-b888-4253-e7a5-e9d737cf0067",
    "pycharm": {
     "name": "#%%\n"
    },
    "ExecuteTime": {
     "end_time": "2023-09-26T13:26:23.124745639Z",
     "start_time": "2023-09-26T13:26:23.124001614Z"
    }
   },
   "outputs": [
    {
     "name": "stdout",
     "output_type": "stream",
     "text": [
      "root\n",
      " |-- events: array (nullable = true)\n",
      " |    |-- element: struct (containsNull = true)\n",
      " |    |    |-- aid: long (nullable = true)\n",
      " |    |    |-- ts: long (nullable = true)\n",
      " |    |    |-- type: string (nullable = true)\n",
      " |-- session: long (nullable = true)\n",
      "\n"
     ]
    }
   ],
   "source": [
    "df_raw.printSchema()"
   ]
  },
  {
   "cell_type": "markdown",
   "metadata": {
    "id": "YLWu6w3R2-pf"
   },
   "source": [
    "* Processamento de Json para formato tabular"
   ]
  },
  {
   "cell_type": "code",
   "execution_count": 13,
   "metadata": {
    "colab": {
     "base_uri": "https://localhost:8080/"
    },
    "executionInfo": {
     "elapsed": 702,
     "status": "ok",
     "timestamp": 1684604966546,
     "user": {
      "displayName": "",
      "userId": ""
     },
     "user_tz": 180
    },
    "id": "1KhqqFOX2-pf",
    "outputId": "79149793-333d-4e68-b275-08094da666dc",
    "pycharm": {
     "name": "#%%\n"
    },
    "ExecuteTime": {
     "end_time": "2023-09-26T13:26:23.124859716Z",
     "start_time": "2023-09-26T13:26:23.124373754Z"
    }
   },
   "outputs": [],
   "source": [
    "from pyspark.sql import functions as F\n",
    "from pyspark.sql import types as T"
   ]
  },
  {
   "cell_type": "code",
   "execution_count": 14,
   "outputs": [],
   "source": [
    "def explode_df_json_to_tabular(df_raw):\n",
    "    df_explode = df_raw.withColumn('events_explode', F.explode('events'))\\\n",
    "                    .withColumn('session', F.col('session').cast(T.IntegerType()))\\\n",
    "                    .withColumn('aid', F.col('events_explode.aid').cast(T.IntegerType()))\\\n",
    "                    .withColumn('ts', F.col('events_explode.ts'))\\\n",
    "                    .withColumn('type', F.col('events_explode.type'))\\\n",
    "                    .drop('events', 'events_explode')\n",
    "    return df_explode"
   ],
   "metadata": {
    "collapsed": false,
    "ExecuteTime": {
     "end_time": "2023-09-26T13:26:23.124919712Z",
     "start_time": "2023-09-26T13:26:23.124510300Z"
    }
   }
  },
  {
   "cell_type": "code",
   "execution_count": 15,
   "outputs": [
    {
     "name": "stdout",
     "output_type": "stream",
     "text": [
      "+--------+-------+-------------+------+\n",
      "| session|    aid|           ts|  type|\n",
      "+--------+-------+-------------+------+\n",
      "|12899779|  59625|1661724000278|clicks|\n",
      "|12899780|1142000|1661724000378|clicks|\n",
      "|12899780| 582732|1661724058352|clicks|\n",
      "|12899780| 973453|1661724109199|clicks|\n",
      "|12899780| 736515|1661724136868|clicks|\n",
      "|12899780|1142000|1661724155248|clicks|\n",
      "|12899781| 141736|1661724000559|clicks|\n",
      "|12899781| 199008|1661724022851|clicks|\n",
      "|12899781|  57315|1661724170835|clicks|\n",
      "|12899781| 194067|1661724246188|clicks|\n",
      "+--------+-------+-------------+------+\n",
      "only showing top 10 rows\n",
      "\n"
     ]
    }
   ],
   "source": [
    "df_explode = explode_df_json_to_tabular(df_raw)\n",
    "df_explode.show(10)"
   ],
   "metadata": {
    "collapsed": false,
    "ExecuteTime": {
     "end_time": "2023-09-26T13:26:23.267667431Z",
     "start_time": "2023-09-26T13:26:23.124679533Z"
    }
   }
  },
  {
   "cell_type": "markdown",
   "metadata": {
    "id": "Zzfeydt02-pf"
   },
   "source": [
    "* Contagem de linhas após o tratamento"
   ]
  },
  {
   "cell_type": "code",
   "execution_count": 16,
   "metadata": {
    "colab": {
     "base_uri": "https://localhost:8080/"
    },
    "executionInfo": {
     "elapsed": 429864,
     "status": "ok",
     "timestamp": 1684605396407,
     "user": {
      "displayName": "",
      "userId": ""
     },
     "user_tz": 180
    },
    "id": "ySwmjzMS2-pf",
    "outputId": "17e64b00-47bd-45cd-f64b-ba1a3b890e04",
    "pycharm": {
     "name": "#%%\n"
    },
    "ExecuteTime": {
     "end_time": "2023-09-26T13:26:23.788634227Z",
     "start_time": "2023-09-26T13:26:23.254252430Z"
    }
   },
   "outputs": [
    {
     "data": {
      "text/plain": "6928123"
     },
     "execution_count": 16,
     "metadata": {},
     "output_type": "execute_result"
    }
   ],
   "source": [
    "df_explode.count()"
   ]
  },
  {
   "cell_type": "markdown",
   "metadata": {
    "id": "x7yVJdnI2-pf"
   },
   "source": [
    "* Schema pós tratamento"
   ]
  },
  {
   "cell_type": "code",
   "execution_count": 17,
   "metadata": {
    "colab": {
     "base_uri": "https://localhost:8080/"
    },
    "executionInfo": {
     "elapsed": 11,
     "status": "ok",
     "timestamp": 1684605396407,
     "user": {
      "displayName": "",
      "userId": ""
     },
     "user_tz": 180
    },
    "id": "8ZxgIbj32-pf",
    "outputId": "847edba3-7bad-4675-d84b-c6530f370f64",
    "pycharm": {
     "name": "#%%\n"
    },
    "ExecuteTime": {
     "end_time": "2023-09-26T13:26:23.803388933Z",
     "start_time": "2023-09-26T13:26:23.788888183Z"
    }
   },
   "outputs": [
    {
     "name": "stdout",
     "output_type": "stream",
     "text": [
      "root\n",
      " |-- session: integer (nullable = true)\n",
      " |-- aid: integer (nullable = true)\n",
      " |-- ts: long (nullable = true)\n",
      " |-- type: string (nullable = true)\n",
      "\n"
     ]
    }
   ],
   "source": [
    "df_explode.printSchema()"
   ]
  },
  {
   "cell_type": "markdown",
   "metadata": {
    "id": "5TT0UYu02-pf"
   },
   "source": [
    "* Categorização de coluna alvo string"
   ]
  },
  {
   "cell_type": "code",
   "execution_count": 18,
   "metadata": {
    "id": "SqWrsvrd2-pg",
    "pycharm": {
     "name": "#%%\n"
    },
    "ExecuteTime": {
     "end_time": "2023-09-26T13:26:23.908386868Z",
     "start_time": "2023-09-26T13:26:23.792113755Z"
    }
   },
   "outputs": [],
   "source": [
    "from pyspark.ml.feature import StringIndexer\n",
    "\n",
    "def transform_indexer(df_explode):\n",
    "    indexer = StringIndexer(inputCol='type', outputCol='type_cat')\n",
    "    indexer_fitted = indexer.fit(df_explode)\n",
    "    df_indexed = indexer_fitted.transform(df_explode)\n",
    "    df_indexed_type = df_indexed.withColumn('type_cat', F.col('type_cat').cast(T.IntegerType())).drop('type')\n",
    "    df_indexed_type_renamed = df_indexed_type.withColumnRenamed('session','userCol')\n",
    "    df_indexed_droped = df_indexed_type_renamed.dropDuplicates()\n",
    "    df = df_indexed_droped.drop('ts')\n",
    "    return df"
   ]
  },
  {
   "cell_type": "code",
   "execution_count": 19,
   "outputs": [
    {
     "name": "stderr",
     "output_type": "stream",
     "text": [
      "[Stage 12:=====================================>                 (55 + 20) / 80]\r"
     ]
    },
    {
     "name": "stdout",
     "output_type": "stream",
     "text": [
      "+--------+-------+--------+\n",
      "| userCol|    aid|type_cat|\n",
      "+--------+-------+--------+\n",
      "|12899780| 582732|       0|\n",
      "|12899782| 562753|       1|\n",
      "|12899782| 834354|       2|\n",
      "|12899783|1216820|       0|\n",
      "|12899785|1784451|       0|\n",
      "|12899785| 903397|       0|\n",
      "|12899785|1308865|       0|\n",
      "|12899785| 614626|       0|\n",
      "|12899788|1663048|       0|\n",
      "|12899791|1787713|       0|\n",
      "+--------+-------+--------+\n",
      "only showing top 10 rows\n",
      "\n"
     ]
    },
    {
     "name": "stderr",
     "output_type": "stream",
     "text": [
      "                                                                                \r"
     ]
    }
   ],
   "source": [
    "df_indexed = transform_indexer(df_explode).persist()\n",
    "df_indexed.show(10)"
   ],
   "metadata": {
    "collapsed": false,
    "ExecuteTime": {
     "end_time": "2023-09-26T13:26:25.919751285Z",
     "start_time": "2023-09-26T13:26:23.902785956Z"
    }
   }
  },
  {
   "cell_type": "markdown",
   "metadata": {
    "id": "9sBflvQP2-pg"
   },
   "source": [
    "* Conferência de schema pós tratativas"
   ]
  },
  {
   "cell_type": "code",
   "execution_count": 20,
   "metadata": {
    "id": "XlYapJnq2-pg",
    "pycharm": {
     "name": "#%%\n"
    },
    "ExecuteTime": {
     "end_time": "2023-09-26T13:26:25.922273676Z",
     "start_time": "2023-09-26T13:26:25.920017590Z"
    }
   },
   "outputs": [
    {
     "name": "stdout",
     "output_type": "stream",
     "text": [
      "root\n",
      " |-- userCol: integer (nullable = true)\n",
      " |-- aid: integer (nullable = true)\n",
      " |-- type_cat: integer (nullable = true)\n",
      "\n"
     ]
    }
   ],
   "source": [
    "df_indexed.printSchema()"
   ]
  },
  {
   "cell_type": "markdown",
   "metadata": {
    "id": "uz5hvXWe2-pg"
   },
   "source": [
    "## Análise de Clientes"
   ]
  },
  {
   "cell_type": "markdown",
   "metadata": {
    "id": "g-hOLkW72-pg"
   },
   "source": [
    "* Quantidade de clientes únicos"
   ]
  },
  {
   "cell_type": "code",
   "execution_count": 21,
   "metadata": {
    "id": "88JSNEcL2-pg",
    "pycharm": {
     "name": "#%%\n"
    },
    "ExecuteTime": {
     "end_time": "2023-09-26T13:26:27.098379782Z",
     "start_time": "2023-09-26T13:26:25.922178142Z"
    }
   },
   "outputs": [
    {
     "name": "stderr",
     "output_type": "stream",
     "text": [
      "                                                                                \r"
     ]
    },
    {
     "data": {
      "text/plain": "1671803"
     },
     "execution_count": 21,
     "metadata": {},
     "output_type": "execute_result"
    }
   ],
   "source": [
    "df_indexed.select('userCol').distinct().count()"
   ]
  },
  {
   "cell_type": "markdown",
   "metadata": {
    "id": "_QhaPkaL2-pg"
   },
   "source": [
    "## Análise de Produtos"
   ]
  },
  {
   "cell_type": "markdown",
   "metadata": {
    "id": "kyGzhjmU2-pg"
   },
   "source": [
    "* Quantidade de produtos únicos"
   ]
  },
  {
   "cell_type": "code",
   "execution_count": 22,
   "metadata": {
    "id": "Kovb8Gd02-pg",
    "pycharm": {
     "name": "#%%\n"
    },
    "ExecuteTime": {
     "end_time": "2023-09-26T13:26:27.414220171Z",
     "start_time": "2023-09-26T13:26:27.097908942Z"
    }
   },
   "outputs": [
    {
     "data": {
      "text/plain": "783486"
     },
     "execution_count": 22,
     "metadata": {},
     "output_type": "execute_result"
    }
   ],
   "source": [
    "df_indexed.select('aid').distinct().count()"
   ]
  },
  {
   "cell_type": "markdown",
   "source": [
    "# Escrita de DataFrame tratado"
   ],
   "metadata": {
    "collapsed": false
   }
  },
  {
   "cell_type": "code",
   "execution_count": 23,
   "outputs": [
    {
     "name": "stderr",
     "output_type": "stream",
     "text": [
      "                                                                                \r"
     ]
    }
   ],
   "source": [
    "df_indexed.coalesce(20)\\\n",
    "          .write.format('parquet')\\\n",
    "          .mode(\"overwrite\")\\\n",
    "          .save('/'.join([os.getcwd(), 'refined-dataset']))"
   ],
   "metadata": {
    "collapsed": false,
    "pycharm": {
     "name": "#%%\n"
    },
    "ExecuteTime": {
     "end_time": "2023-09-26T13:26:28.427340092Z",
     "start_time": "2023-09-26T13:26:27.414589665Z"
    }
   }
  },
  {
   "cell_type": "code",
   "execution_count": 24,
   "outputs": [
    {
     "data": {
      "text/plain": "DataFrame[userCol: int, aid: int, type_cat: int]"
     },
     "execution_count": 24,
     "metadata": {},
     "output_type": "execute_result"
    }
   ],
   "source": [
    "df_raw.unpersist()\n",
    "df_explode.unpersist()\n",
    "df_indexed.unpersist()"
   ],
   "metadata": {
    "collapsed": false,
    "pycharm": {
     "name": "#%%\n"
    },
    "ExecuteTime": {
     "end_time": "2023-09-26T13:26:28.442763630Z",
     "start_time": "2023-09-26T13:26:28.427590237Z"
    }
   }
  },
  {
   "cell_type": "markdown",
   "metadata": {
    "id": "LJEw7zThN6sq"
   },
   "source": [
    "# Lendo o dataset refinado"
   ]
  },
  {
   "cell_type": "code",
   "execution_count": 25,
   "outputs": [
    {
     "name": "stdout",
     "output_type": "stream",
     "text": [
      "+--------+-------+--------+\n",
      "| userCol|    aid|type_cat|\n",
      "+--------+-------+--------+\n",
      "|12899781| 199008|       0|\n",
      "|12899782| 975116|       0|\n",
      "|12899782| 975116|       1|\n",
      "|12899782| 889671|       1|\n",
      "|12899785|1154962|       0|\n",
      "|12899785| 453905|       0|\n",
      "|12899785| 258458|       0|\n",
      "|12899785|1553332|       0|\n",
      "|12899785| 874493|       0|\n",
      "|12899785|  10851|       0|\n",
      "|12899785| 453905|       0|\n",
      "|12899799| 413826|       2|\n",
      "|12899801| 725164|       0|\n",
      "|12899803| 795006|       0|\n",
      "|12899803| 929024|       1|\n",
      "|12899803|1651971|       0|\n",
      "|12899803|1684753|       2|\n",
      "|12899807|1407421|       0|\n",
      "|12899809| 703890|       0|\n",
      "|12899810|1309871|       0|\n",
      "+--------+-------+--------+\n",
      "only showing top 20 rows\n",
      "\n"
     ]
    }
   ],
   "source": [
    "df_refined = spark.read.format('parquet').load('refined-dataset').persist()\n",
    "df_refined.show()"
   ],
   "metadata": {
    "collapsed": false,
    "pycharm": {
     "name": "#%%\n"
    },
    "ExecuteTime": {
     "end_time": "2023-09-26T13:26:28.879883418Z",
     "start_time": "2023-09-26T13:26:28.443727680Z"
    }
   }
  },
  {
   "cell_type": "markdown",
   "source": [
    "# Filtrando Dataset de Treino para Clientes que Compraram"
   ],
   "metadata": {
    "collapsed": false
   }
  },
  {
   "cell_type": "code",
   "execution_count": 26,
   "metadata": {
    "id": "dOufeEDdN56X",
    "ExecuteTime": {
     "end_time": "2023-09-26T13:26:28.914484408Z",
     "start_time": "2023-09-26T13:26:28.880770342Z"
    }
   },
   "outputs": [
    {
     "name": "stdout",
     "output_type": "stream",
     "text": [
      "+--------+-------+--------+\n",
      "| userCol|    aid|type_cat|\n",
      "+--------+-------+--------+\n",
      "|12899781| 199008|       0|\n",
      "|12899782| 975116|       0|\n",
      "|12899782| 975116|       1|\n",
      "|12899782| 889671|       1|\n",
      "|12899785|1154962|       0|\n",
      "|12899785| 453905|       0|\n",
      "|12899785| 258458|       0|\n",
      "|12899785|1553332|       0|\n",
      "|12899785| 874493|       0|\n",
      "|12899785|  10851|       0|\n",
      "|12899785| 453905|       0|\n",
      "|12899799| 413826|       2|\n",
      "|12899801| 725164|       0|\n",
      "|12899803| 795006|       0|\n",
      "|12899803| 929024|       1|\n",
      "|12899803|1651971|       0|\n",
      "|12899803|1684753|       2|\n",
      "|12899807|1407421|       0|\n",
      "|12899809| 703890|       0|\n",
      "|12899810|1309871|       0|\n",
      "+--------+-------+--------+\n",
      "only showing top 20 rows\n",
      "\n"
     ]
    }
   ],
   "source": [
    "# df_pre_moodel = df_refined.select(df_refined.columns).where(F.col('type_cat') == 2)\n",
    "df_pre_moodel = df_refined\n",
    "df_pre_moodel.show()"
   ]
  },
  {
   "cell_type": "code",
   "execution_count": 27,
   "outputs": [
    {
     "name": "stderr",
     "output_type": "stream",
     "text": [
      "                                                                                \r"
     ]
    },
    {
     "data": {
      "text/plain": "1671803"
     },
     "execution_count": 27,
     "metadata": {},
     "output_type": "execute_result"
    }
   ],
   "source": [
    "df_pre_moodel.select('userCol').distinct().count()"
   ],
   "metadata": {
    "collapsed": false,
    "ExecuteTime": {
     "end_time": "2023-09-26T13:26:29.991670634Z",
     "start_time": "2023-09-26T13:26:28.902970955Z"
    }
   }
  },
  {
   "cell_type": "code",
   "execution_count": 28,
   "outputs": [
    {
     "data": {
      "text/plain": "6924640"
     },
     "execution_count": 28,
     "metadata": {},
     "output_type": "execute_result"
    }
   ],
   "source": [
    "df_pre_moodel.count()"
   ],
   "metadata": {
    "collapsed": false,
    "ExecuteTime": {
     "end_time": "2023-09-26T13:26:30.042699261Z",
     "start_time": "2023-09-26T13:26:29.989793469Z"
    }
   }
  },
  {
   "cell_type": "markdown",
   "source": [
    "### Adicionar pipeline de hiperparametrização\n",
    "* http://restanalytics.com/2019-02-27-Hyperparameter-Tuning-Alternating-Least-Squares-Recommender-System/"
   ],
   "metadata": {
    "collapsed": false
   }
  },
  {
   "cell_type": "code",
   "execution_count": 29,
   "metadata": {
    "pycharm": {
     "name": "#%%\n"
    },
    "ExecuteTime": {
     "end_time": "2023-09-26T13:26:39.818131112Z",
     "start_time": "2023-09-26T13:26:39.812008459Z"
    }
   },
   "outputs": [],
   "source": [
    "from pyspark.ml.evaluation import RegressionEvaluator\n",
    "from pyspark.ml.recommendation import ALS\n",
    "from pyspark.sql import Row\n",
    "\n",
    "# (training, test) = df_pre_moodel.randomSplit([0.6, 0.4])\n",
    "training = df_pre_moodel"
   ]
  },
  {
   "cell_type": "code",
   "execution_count": 30,
   "outputs": [
    {
     "name": "stderr",
     "output_type": "stream",
     "text": [
      "                                                                                \r"
     ]
    }
   ],
   "source": [
    "# Build the recommendation model using ALS on the training data\n",
    "# Note we set cold start strategy to 'drop' to ensure we don't get NaN evaluation metrics\n",
    "als = ALS(rank=10,\n",
    "          maxIter=20,\n",
    "          regParam=0.01,\n",
    "          userCol=\"userCol\",\n",
    "          itemCol=\"aid\",\n",
    "          ratingCol=\"type_cat\",\n",
    "          coldStartStrategy=\"drop\",\n",
    "          implicitPrefs=True,\n",
    "          checkpointInterval=1)\n",
    "model = als.fit(training)"
   ],
   "metadata": {
    "collapsed": false,
    "pycharm": {
     "name": "#%%\n"
    },
    "ExecuteTime": {
     "end_time": "2023-09-26T13:27:06.564136450Z",
     "start_time": "2023-09-26T13:26:42.659200562Z"
    }
   }
  },
  {
   "cell_type": "code",
   "execution_count": 31,
   "outputs": [],
   "source": [
    "# # Evaluate the model by computing the RMSE on the test data\n",
    "# predictions = model.transform(test)\n",
    "# evaluator = RegressionEvaluator(metricName=\"rmse\", labelCol=\"type_cat\",\n",
    "#                                 predictionCol=\"prediction\")\n",
    "# rmse = evaluator.evaluate(predictions)\n",
    "# print(\"Root-mean-square error = \" + str(rmse))"
   ],
   "metadata": {
    "collapsed": false,
    "pycharm": {
     "name": "#%%\n"
    },
    "ExecuteTime": {
     "end_time": "2023-09-26T13:27:06.567139991Z",
     "start_time": "2023-09-26T13:27:06.565687407Z"
    }
   }
  },
  {
   "cell_type": "markdown",
   "source": [
    "# Utilizando dataset de teste da competição"
   ],
   "metadata": {
    "collapsed": false
   }
  },
  {
   "cell_type": "code",
   "execution_count": null,
   "outputs": [],
   "source": [
    "file_name = 'test.jsonl'\n",
    "file_path = '/'.join([os.getcwd(), file_name])"
   ],
   "metadata": {
    "collapsed": false
   }
  },
  {
   "cell_type": "code",
   "execution_count": null,
   "outputs": [],
   "source": [
    "df_test = spark.read \\\n",
    "    .format(\"json\") \\\n",
    "    .option(\"inferSchema\", \"true\") \\\n",
    "    .option(\"header\", \"true\") \\\n",
    "    .json(file_path).persist()"
   ],
   "metadata": {
    "collapsed": false
   }
  },
  {
   "cell_type": "code",
   "execution_count": null,
   "outputs": [],
   "source": [
    "df_test.show()"
   ],
   "metadata": {
    "collapsed": false
   }
  },
  {
   "cell_type": "code",
   "execution_count": null,
   "outputs": [],
   "source": [
    "df_test.count()"
   ],
   "metadata": {
    "collapsed": false
   }
  },
  {
   "cell_type": "markdown",
   "source": [
    "# Tratamento de subset para recomendações"
   ],
   "metadata": {
    "collapsed": false
   }
  },
  {
   "cell_type": "code",
   "execution_count": null,
   "outputs": [],
   "source": [
    "df_pre_transform = explode_df_json_to_tabular(df_test)\n",
    "df_pre_transform.count()"
   ],
   "metadata": {
    "collapsed": false
   }
  },
  {
   "cell_type": "code",
   "execution_count": null,
   "outputs": [],
   "source": [
    "df_subset = transform_indexer(df_pre_transform).select('userCol').distinct()\n",
    "df_subset.count()"
   ],
   "metadata": {
    "collapsed": false
   }
  },
  {
   "cell_type": "code",
   "execution_count": null,
   "outputs": [],
   "source": [
    "df_pre_moodel.join(df_subset, df_pre_moodel.userCol == df_subset.userCol, 'inner')\\\n",
    "                    .drop(df_subset.userCol).select('userCol').distinct().count()"
   ],
   "metadata": {
    "collapsed": false
   }
  },
  {
   "cell_type": "code",
   "execution_count": null,
   "outputs": [],
   "source": [
    "df_recommend = model.recommendForUserSubset(df_subset, 20)\n",
    "df_recommend.printSchema()"
   ],
   "metadata": {
    "collapsed": false,
    "pycharm": {
     "name": "#%%\n"
    }
   }
  },
  {
   "cell_type": "markdown",
   "source": [
    "# Escrevendo Dataset de Recomendações em JSON"
   ],
   "metadata": {
    "collapsed": false
   }
  },
  {
   "cell_type": "code",
   "execution_count": null,
   "outputs": [],
   "source": [
    "df_recommend.write.format('json')\\\n",
    "                  .mode(\"overwrite\")\\\n",
    "                  .save('/'.join([os.getcwd(), 'raw_predictions.json']))"
   ],
   "metadata": {
    "collapsed": false,
    "pycharm": {
     "name": "#%%\n"
    }
   }
  },
  {
   "cell_type": "code",
   "execution_count": null,
   "outputs": [],
   "source": [
    "df_recommend.unpersist()"
   ],
   "metadata": {
    "collapsed": false,
    "pycharm": {
     "name": "#%%\n"
    }
   }
  },
  {
   "cell_type": "markdown",
   "source": [
    "# Leitura de Dataset RAW_PREDICTIONS\n",
    "Nesta etapa será realizada a conversão do objeto JSON em formato tabular, para se adequar ao formato de submissão da competição."
   ],
   "metadata": {
    "collapsed": false
   }
  },
  {
   "cell_type": "code",
   "execution_count": null,
   "outputs": [],
   "source": [
    "df_recommend_json = spark.read.format('json').load('./raw_predictions.json').persist()\n",
    "df_recommend_json.printSchema()"
   ],
   "metadata": {
    "collapsed": false,
    "pycharm": {
     "name": "#%%\n"
    }
   }
  },
  {
   "cell_type": "code",
   "execution_count": null,
   "outputs": [],
   "source": [
    "df_recommend_json.show(10, truncate=False)"
   ],
   "metadata": {
    "collapsed": false,
    "pycharm": {
     "name": "#%%\n"
    }
   }
  },
  {
   "cell_type": "markdown",
   "source": [
    "* Tratamento JSON->Tabular"
   ],
   "metadata": {
    "collapsed": false
   }
  },
  {
   "cell_type": "code",
   "execution_count": null,
   "outputs": [],
   "source": [
    "df_recommend_json_exploded = df_recommend_json.withColumn('recommendations_explode', F.explode('recommendations'))\\\n",
    "                                    .withColumn('aid', F.col('recommendations_explode.aid').cast(T.IntegerType()))\\\n",
    "                                    .drop('recommendations_explode', 'recommendations')\n",
    "df_recommend_json_exploded.printSchema()"
   ],
   "metadata": {
    "collapsed": false
   }
  },
  {
   "cell_type": "code",
   "execution_count": null,
   "outputs": [],
   "source": [
    "df_recommend_json_exploded.show(10)"
   ],
   "metadata": {
    "collapsed": false
   }
  },
  {
   "cell_type": "markdown",
   "source": [
    "# Agrupando top 20 itens por usuário"
   ],
   "metadata": {
    "collapsed": false
   }
  },
  {
   "cell_type": "code",
   "execution_count": null,
   "outputs": [],
   "source": [
    "df_submission_raw = df_recommend_json_exploded.withColumn('userCol', F.col('userCol').cast(T.StringType()))\\\n",
    "                                                .groupby('userCol').agg(F.collect_list('aid').alias(\"labels\")).persist()\n",
    "df_submission_raw = df_submission_raw.withColumnRenamed('userCol', 'session_type')\n",
    "df_submission_raw.show(10, truncate=False)"
   ],
   "metadata": {
    "collapsed": false
   }
  },
  {
   "cell_type": "code",
   "execution_count": null,
   "outputs": [],
   "source": [
    "df_submission_raw.count()"
   ],
   "metadata": {
    "collapsed": false
   }
  },
  {
   "cell_type": "markdown",
   "source": [
    "# Criando dataset no formato de submissão"
   ],
   "metadata": {
    "collapsed": false
   }
  },
  {
   "cell_type": "code",
   "execution_count": null,
   "outputs": [],
   "source": [
    "users_list_raw = [r[0] for r in df_submission_raw.select('session_type').toLocalIterator()]\n",
    "users_list_raw[:5]"
   ],
   "metadata": {
    "collapsed": false
   }
  },
  {
   "cell_type": "code",
   "execution_count": null,
   "outputs": [],
   "source": [
    "users_list_clicks = [s + '_clicks' for s in users_list_raw]\n",
    "users_list_clicks[:5]"
   ],
   "metadata": {
    "collapsed": false
   }
  },
  {
   "cell_type": "code",
   "execution_count": null,
   "outputs": [],
   "source": [
    "users_list_carts = [s + '_carts' for s in users_list_raw]\n",
    "users_list_carts[:5]"
   ],
   "metadata": {
    "collapsed": false
   }
  },
  {
   "cell_type": "code",
   "execution_count": null,
   "outputs": [],
   "source": [
    "users_list_orders = [s + '_orders' for s in users_list_raw]\n",
    "users_list_orders[:5]"
   ],
   "metadata": {
    "collapsed": false
   }
  },
  {
   "cell_type": "code",
   "execution_count": null,
   "outputs": [],
   "source": [
    "labels_list = [r[0] for r in df_submission_raw.select('labels').toLocalIterator()]\n",
    "labels_list[:5]"
   ],
   "metadata": {
    "collapsed": false
   }
  },
  {
   "cell_type": "code",
   "execution_count": null,
   "outputs": [],
   "source": [
    "df_clicks = spark.createDataFrame(zip(users_list_clicks, labels_list), ['session_type', 'labels'])\n",
    "df_clicks.show(5)"
   ],
   "metadata": {
    "collapsed": false
   }
  },
  {
   "cell_type": "code",
   "execution_count": null,
   "outputs": [],
   "source": [
    "df_carts = spark.createDataFrame(zip(users_list_carts, labels_list), ['session_type', 'labels'])\n",
    "df_carts.show(5)"
   ],
   "metadata": {
    "collapsed": false
   }
  },
  {
   "cell_type": "code",
   "execution_count": null,
   "outputs": [],
   "source": [
    "df_orders = spark.createDataFrame(zip(users_list_orders, labels_list), ['session_type', 'labels'])\n",
    "df_orders.show(5)"
   ],
   "metadata": {
    "collapsed": false
   }
  },
  {
   "cell_type": "code",
   "execution_count": null,
   "outputs": [],
   "source": [
    "from functools import reduce\n",
    "from pyspark.sql import DataFrame\n",
    "\n",
    "dfs = [df_clicks,df_carts,df_orders]\n",
    "df_submission = reduce(DataFrame.unionAll, dfs).persist()\n",
    "df_submission = df_submission.withColumn(\"labels\",F.concat_ws(\" \",F.col(\"labels\")))\n",
    "df_submission.show()"
   ],
   "metadata": {
    "collapsed": false
   }
  },
  {
   "cell_type": "code",
   "execution_count": null,
   "outputs": [],
   "source": [
    "df_submission.count()"
   ],
   "metadata": {
    "collapsed": false
   }
  },
  {
   "cell_type": "markdown",
   "source": [
    "# Escrevendo dataset de submissão"
   ],
   "metadata": {
    "collapsed": false
   }
  },
  {
   "cell_type": "code",
   "execution_count": null,
   "outputs": [],
   "source": [
    "df_submission.orderBy('session_type').coalesce(1)\\\n",
    "                                     .write.format('csv')\\\n",
    "                                     .mode(\"overwrite\")\\\n",
    "                                     .option(\"header\", True)\\\n",
    "                                     .save('/'.join([os.getcwd(), 'submission']))"
   ],
   "metadata": {
    "collapsed": false
   }
  },
  {
   "cell_type": "code",
   "execution_count": null,
   "metadata": {
    "id": "WhRKBAOXN5NK"
   },
   "outputs": [],
   "source": []
  },
  {
   "cell_type": "markdown",
   "metadata": {
    "id": "OVMqenPL2-ps",
    "pycharm": {
     "name": "#%% md\n"
    }
   },
   "source": [
    "# Referências Bibliográficas\n",
    "\n",
    "> https://github.com/Kaggle/kaggle-api, acessado em 24/01/2023.\n",
    "\n",
    "> https://www.youtube.com/watch?v=aBNQzWV_UmE, acessado em 24/01/2023.\n",
    "\n",
    "> https://databricks-prod-cloudfront.cloud.databricks.com/public/4027ec902e239c93eaaa8714f173bcfc/968100988546031/157591980591166/8836542754149149/latest.html, acessado em 25/01/2023.\n",
    "\n",
    "> https://blog.clairvoyantsoft.com/apache-spark-out-of-memory-issue-b63c7987fff, acessado em 25/01/2023.\n",
    "\n",
    "> https://spark.apache.org/docs/latest/api/python/getting_started/quickstart_ps.html, acessado em 26/01/2023.\n",
    "\n",
    "> https://docs.fast.ai/collab.html, acessado em 24/01/2023.\n",
    "\n",
    "> https://course.fast.ai/Lessons/lesson7.html, acessado em 24/01/2023.\n",
    "\n",
    "> https://github.com/fastai/fastbook/blob/master/08_collab.ipynb, acessado em 24/01/2023.\n",
    "\n",
    "> https://www.kaggle.com/code/vchulski/tutorial-collaborative-filtering-with-pyspark\n",
    "\n",
    "> https://medium.com/analytics-vidhya/crafting-recommendation-engine-in-pyspark-a7ca242ad40a\n",
    "\n",
    "> https://www.freecodecamp.org/news/8-clustering-algorithms-in-machine-learning-that-all-data-scientists-should-know/\n",
    "\n",
    "> https://www.youtube.com/watch?v=fpqa0_U4zb4\n",
    "\n",
    "> https://www.youtube.com/watch?v=58OjaDH2FI0&t=742s\n",
    "\n",
    "> https://spark.apache.org/docs/latest/ml-collaborative-filtering.html\n",
    "\n",
    "> https://spark.apache.org/docs/latest/configuration.html#memory-management"
   ]
  },
  {
   "cell_type": "code",
   "execution_count": null,
   "metadata": {
    "id": "UKVRFgzxPPxz"
   },
   "outputs": [],
   "source": []
  }
 ],
 "metadata": {
  "colab": {
   "provenance": [
    {
     "file_id": "https://github.com/paulohgontijoo/fastaiOnCampus/blob/main/artigos/lesson-7/150143800_paulohgontijoo_Paulo_Henrique_Costa_Gontijo.ipynb",
     "timestamp": 1684605532949
    }
   ]
  },
  "gpuClass": "standard",
  "jupytext": {
   "split_at_heading": true
  },
  "kernelspec": {
   "display_name": "Python 3 (ipykernel)",
   "language": "python",
   "name": "python3"
  },
  "language_info": {
   "codemirror_mode": {
    "name": "ipython",
    "version": 3
   },
   "file_extension": ".py",
   "mimetype": "text/x-python",
   "name": "python",
   "nbconvert_exporter": "python",
   "pygments_lexer": "ipython3",
   "version": "3.10.6"
  }
 },
 "nbformat": 4,
 "nbformat_minor": 1
}
