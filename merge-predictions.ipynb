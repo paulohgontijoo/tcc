{
 "cells": [
  {
   "cell_type": "markdown",
   "metadata": {
    "id": "IXZTgN3G2-pZ"
   },
   "source": [
    "# TCC 1\n",
    "* Aluno: Paulo Henrique Costa Gontijo\n",
    "* Matrícula: 15/0143800\n"
   ]
  },
  {
   "cell_type": "markdown",
   "metadata": {
    "id": "Szr4Tj2M2-pb"
   },
   "source": [
    "## Importação das Bibliotecas"
   ]
  },
  {
   "cell_type": "code",
   "execution_count": 2,
   "metadata": {
    "id": "fL6U9GSO2-pc",
    "pycharm": {
     "name": "#%%\n"
    },
    "ExecuteTime": {
     "end_time": "2023-10-10T17:35:16.404223273Z",
     "start_time": "2023-10-10T17:35:16.400558443Z"
    }
   },
   "outputs": [],
   "source": [
    "import os\n",
    "\n",
    "file_name = 'test.jsonl'\n",
    "file_path = '/'.join([os.getcwd(), file_name])"
   ]
  },
  {
   "cell_type": "markdown",
   "metadata": {
    "id": "YRidSkR12-pc"
   },
   "source": [
    "## Criando Cluster Spark"
   ]
  },
  {
   "cell_type": "code",
   "execution_count": 3,
   "metadata": {
    "colab": {
     "base_uri": "https://localhost:8080/"
    },
    "executionInfo": {
     "elapsed": 11226,
     "status": "ok",
     "timestamp": 1684604598002,
     "user": {
      "displayName": "",
      "userId": ""
     },
     "user_tz": 180
    },
    "id": "tn2FFG2I2-pc",
    "outputId": "aa718515-9216-4b5e-84de-08d048dab075",
    "pycharm": {
     "name": "#%%\n"
    },
    "ExecuteTime": {
     "end_time": "2023-10-10T17:35:18.458096587Z",
     "start_time": "2023-10-10T17:35:16.400740183Z"
    }
   },
   "outputs": [
    {
     "name": "stderr",
     "output_type": "stream",
     "text": [
      "23/10/10 14:35:17 WARN Utils: Your hostname, gobellek-B660M-DS3H-DDR4 resolves to a loopback address: 127.0.1.1; using 192.168.0.37 instead (on interface enp4s0)\n",
      "23/10/10 14:35:17 WARN Utils: Set SPARK_LOCAL_IP if you need to bind to another address\n",
      "Setting default log level to \"WARN\".\n",
      "To adjust logging level use sc.setLogLevel(newLevel). For SparkR, use setLogLevel(newLevel).\n",
      "23/10/10 14:35:17 WARN NativeCodeLoader: Unable to load native-hadoop library for your platform... using builtin-java classes where applicable\n"
     ]
    },
    {
     "name": "stdout",
     "output_type": "stream",
     "text": [
      "[('spark.sql.shuffle.partitions', '20'), ('spark.app.submitTime', '1696959317679'), ('spark.driver.memory', '32g'), ('spark.driver.cores', '10'), ('spark.default.parallelism', '80'), ('spark.executor.cores', '10'), ('spark.executor.memory', '32g'), ('spark.app.name', 'otto-reccomender-competition-kaggle'), ('spark.sql.autoBroadcastHashJoin', '-1'), ('spark.sql.catalogImplementation', 'hive'), ('spark.executor.instances', '2'), ('spark.sql.warehouse.dir', '/home/gobellek/Documents/UnB/Tcc/tcc/spark-warehouse'), ('spark.master', 'local[*]'), ('spark.submit.pyFiles', ''), ('spark.submit.deployMode', 'client'), ('spark.ui.showConsoleProgress', 'true'), ('spark.sql.files.maxPartitionBytes', '1g')]\n"
     ]
    }
   ],
   "source": [
    "from pyspark.sql import SparkSession\n",
    "from pyspark import SparkConf\n",
    "from os.path import abspath\n",
    "\n",
    "warehouse_location = abspath('spark-warehouse')\n",
    "\n",
    "spark = SparkSession \\\n",
    "        .builder \\\n",
    "        .appName(\"otto-reccomender-competition-kaggle\") \\\n",
    "        .config(\"spark.sql.warehouse.dir\", abspath('spark-warehouse')) \\\n",
    "        .config(\"spark.executor.cores\", \"10\")\\\n",
    "        .config(\"spark.driver.cores\", \"10\")\\\n",
    "        .config(\"spark.executor.instances\", \"2\")\\\n",
    "        .config(\"spark.executor.memory\",\"32g\")\\\n",
    "        .config(\"spark.driver.memory\", \"32g\")\\\n",
    "        .config(\"spark.default.parallelism\",\"80\")\\\n",
    "        .config(\"spark.sql.shuffle.partitions\",\"20\")\\\n",
    "        .config(\"spark.sql.autoBroadcastHashJoin\",\"-1\")\\\n",
    "        .config(\"spark.sql.files.maxPartitionBytes\",\"1g\")\\\n",
    "        .enableHiveSupport() \\\n",
    "        .getOrCreate()\n",
    "\n",
    "# show configured parameters\n",
    "print(SparkConf().getAll())\n",
    "\n",
    "# set log level\n",
    "spark.sparkContext.setLogLevel(\"FATAL\")"
   ]
  },
  {
   "cell_type": "markdown",
   "metadata": {
    "id": "Bm3hqaH02-pd"
   },
   "source": [
    "* Conferindo o instanciamento"
   ]
  },
  {
   "cell_type": "code",
   "execution_count": 4,
   "metadata": {
    "colab": {
     "base_uri": "https://localhost:8080/",
     "height": 219
    },
    "executionInfo": {
     "elapsed": 1819,
     "status": "ok",
     "timestamp": 1684604599818,
     "user": {
      "displayName": "",
      "userId": ""
     },
     "user_tz": 180
    },
    "id": "HlT2vZL12-pd",
    "outputId": "989d5f12-7fdd-424d-ced7-40ed32d5717c",
    "pycharm": {
     "name": "#%%\n"
    },
    "ExecuteTime": {
     "end_time": "2023-10-10T17:35:18.862321173Z",
     "start_time": "2023-10-10T17:35:18.458309988Z"
    }
   },
   "outputs": [
    {
     "data": {
      "text/plain": "<pyspark.sql.session.SparkSession at 0x7f22b7f92fb0>",
      "text/html": "\n            <div>\n                <p><b>SparkSession - hive</b></p>\n                \n        <div>\n            <p><b>SparkContext</b></p>\n\n            <p><a href=\"http://192.168.0.37:4040\">Spark UI</a></p>\n\n            <dl>\n              <dt>Version</dt>\n                <dd><code>v3.4.0</code></dd>\n              <dt>Master</dt>\n                <dd><code>local[*]</code></dd>\n              <dt>AppName</dt>\n                <dd><code>otto-reccomender-competition-kaggle</code></dd>\n            </dl>\n        </div>\n        \n            </div>\n        "
     },
     "execution_count": 4,
     "metadata": {},
     "output_type": "execute_result"
    }
   ],
   "source": [
    "spark"
   ]
  },
  {
   "cell_type": "markdown",
   "source": [
    "* Processamento de Json para formato tabular"
   ],
   "metadata": {
    "collapsed": false
   }
  },
  {
   "cell_type": "code",
   "execution_count": 5,
   "outputs": [],
   "source": [
    "from pyspark.sql import functions as F\n",
    "from pyspark.sql import types as T"
   ],
   "metadata": {
    "collapsed": false,
    "ExecuteTime": {
     "end_time": "2023-10-10T17:35:34.439069308Z",
     "start_time": "2023-10-10T17:35:34.436625133Z"
    }
   }
  },
  {
   "cell_type": "code",
   "execution_count": 8,
   "outputs": [],
   "source": [
    "def explode_df_json_to_tabular(df_raw):\n",
    "    df_explode = df_raw.withColumn('events_explode', F.explode('events'))\\\n",
    "                    .withColumn('session', F.col('session').cast(T.IntegerType()))\\\n",
    "                    .withColumn('aid', F.col('events_explode.aid').cast(T.IntegerType()))\\\n",
    "                    .withColumn('ts', F.col('events_explode.ts'))\\\n",
    "                    .withColumn('type', F.col('events_explode.type'))\\\n",
    "                    .drop('events', 'events_explode')\n",
    "    return df_explode"
   ],
   "metadata": {
    "collapsed": false,
    "ExecuteTime": {
     "end_time": "2023-10-10T18:16:04.058259635Z",
     "start_time": "2023-10-10T18:16:04.017786426Z"
    }
   }
  },
  {
   "cell_type": "markdown",
   "metadata": {
    "id": "5TT0UYu02-pf"
   },
   "source": [
    "* Categorização de coluna alvo string"
   ]
  },
  {
   "cell_type": "code",
   "execution_count": 9,
   "metadata": {
    "id": "SqWrsvrd2-pg",
    "pycharm": {
     "name": "#%%\n"
    },
    "ExecuteTime": {
     "end_time": "2023-10-10T18:16:05.021357639Z",
     "start_time": "2023-10-10T18:16:05.020077289Z"
    }
   },
   "outputs": [],
   "source": [
    "from pyspark.ml.feature import StringIndexer\n",
    "\n",
    "def transform_indexer(df_explode):\n",
    "    indexer = StringIndexer(inputCol='type', outputCol='type_cat')\n",
    "    indexer_fitted = indexer.fit(df_explode)\n",
    "    df_indexed = indexer_fitted.transform(df_explode)\n",
    "    df_indexed_type = df_indexed.withColumn('type_cat', F.col('type_cat').cast(T.IntegerType())).drop('type')\n",
    "    df_indexed_type_renamed = df_indexed_type.withColumnRenamed('session','userCol')\n",
    "    df_indexed_droped = df_indexed_type_renamed.dropDuplicates()\n",
    "    df = df_indexed_droped.drop('ts')\n",
    "    return df"
   ]
  },
  {
   "cell_type": "markdown",
   "source": [
    "# Carregando dataset de predição por categoria"
   ],
   "metadata": {
    "collapsed": false
   }
  },
  {
   "cell_type": "code",
   "execution_count": 21,
   "outputs": [],
   "source": [
    "def prepare_df_to_predictions(path):\n",
    "    df_raw_carts = spark.read.format('json').load(path).persist()\n",
    "    df_carts_exploded = df_raw_carts.withColumn('recommendations_explode', F.explode('recommendations'))\\\n",
    "                                    .withColumn('aid', F.col('recommendations_explode.aid').cast(T.IntegerType()))\\\n",
    "                                    .drop('recommendations_explode', 'recommendations')\n",
    "    df_carts_submission = df_carts_exploded.withColumn('userCol', F.col('userCol').cast(T.StringType()))\\\n",
    "                                                .groupby('userCol').agg(F.collect_list('aid').alias(\"labels\")).persist()\n",
    "    return df_carts_submission.withColumnRenamed('userCol', 'session_type')"
   ],
   "metadata": {
    "collapsed": false,
    "ExecuteTime": {
     "end_time": "2023-10-10T19:08:02.150073972Z",
     "start_time": "2023-10-10T19:08:02.109316499Z"
    }
   }
  },
  {
   "cell_type": "markdown",
   "source": [
    "## Clicks"
   ],
   "metadata": {
    "collapsed": false
   }
  },
  {
   "cell_type": "code",
   "execution_count": 27,
   "outputs": [
    {
     "name": "stderr",
     "output_type": "stream",
     "text": [
      "                                                                                \r"
     ]
    },
    {
     "name": "stdout",
     "output_type": "stream",
     "text": [
      "+------------+------------------------------------------------------------------------------------------------------------------------------------------------------------------------------------+\n",
      "|session_type|labels                                                                                                                                                                              |\n",
      "+------------+------------------------------------------------------------------------------------------------------------------------------------------------------------------------------------+\n",
      "|12899781    |[754412, 1043508, 1336175, 759436, 950718, 121246, 1019736, 734026, 447, 1853288, 1469891, 901817, 1833745, 1767530, 199008, 1008624, 1009427, 83856, 100012, 3542]                 |\n",
      "|12899783    |[1849490, 1849480, 1849456, 1849450, 1849446, 1849436, 1849426, 1849406, 1849400, 1849380, 1849366, 1849346, 1849326, 1849310, 1849296, 1849276, 1849270, 1849250, 1849240, 1849230]|\n",
      "|12899793    |[405663, 846545, 1162414, 752652, 45993, 1051747, 479970, 1445562, 1305442, 1497427, 603364, 1394029, 1259848, 312733, 510488, 122983, 432989, 137514, 186613, 1240088]             |\n",
      "|12899830    |[1849490, 1849480, 1849456, 1849450, 1849446, 1849436, 1849426, 1849406, 1849400, 1849380, 1849366, 1849346, 1849326, 1849310, 1849296, 1849276, 1849270, 1849250, 1849240, 1849230]|\n",
      "|12899872    |[1849490, 1849480, 1849456, 1849450, 1849446, 1849436, 1849426, 1849406, 1849400, 1849380, 1849366, 1849346, 1849326, 1849310, 1849296, 1849276, 1849270, 1849250, 1849240, 1849230]|\n",
      "|12899887    |[1025795, 835431, 1620020, 1270528, 810494, 1019116, 87218, 767430, 480861, 945588, 1676344, 398437, 1818365, 859517, 1763383, 1736857, 1201242, 1458715, 1617771, 879201]          |\n",
      "|12899968    |[1849490, 1849480, 1849456, 1849450, 1849446, 1849436, 1849426, 1849406, 1849400, 1849380, 1849366, 1849346, 1849326, 1849310, 1849296, 1849276, 1849270, 1849250, 1849240, 1849230]|\n",
      "|12899996    |[1849490, 1849480, 1849456, 1849450, 1849446, 1849436, 1849426, 1849406, 1849400, 1849380, 1849366, 1849346, 1849326, 1849310, 1849296, 1849276, 1849270, 1849250, 1849240, 1849230]|\n",
      "|12900014    |[1571865, 482711, 52715, 395217, 1215467, 745505, 712456, 1267119, 442293, 714524, 252822, 1406660, 1662401, 1050985, 48650, 1083665, 1311747, 499919, 225440, 1693704]             |\n",
      "|12900049    |[1849490, 1849480, 1849456, 1849450, 1849446, 1849436, 1849426, 1849406, 1849400, 1849380, 1849366, 1849346, 1849326, 1849310, 1849296, 1849276, 1849270, 1849250, 1849240, 1849230]|\n",
      "+------------+------------------------------------------------------------------------------------------------------------------------------------------------------------------------------------+\n",
      "only showing top 10 rows\n",
      "\n"
     ]
    }
   ],
   "source": [
    "df_clicks = prepare_df_to_predictions('./raw-clicks-predictions.json').persist()\n",
    "df_clicks.show(10, truncate=False)"
   ],
   "metadata": {
    "collapsed": false,
    "ExecuteTime": {
     "end_time": "2023-10-10T19:09:54.722504224Z",
     "start_time": "2023-10-10T19:09:53.132149942Z"
    }
   }
  },
  {
   "cell_type": "code",
   "execution_count": 76,
   "outputs": [
    {
     "data": {
      "text/plain": "1670191"
     },
     "execution_count": 76,
     "metadata": {},
     "output_type": "execute_result"
    }
   ],
   "source": [
    "df_clicks.count()"
   ],
   "metadata": {
    "collapsed": false,
    "ExecuteTime": {
     "end_time": "2023-10-10T20:18:58.662125412Z",
     "start_time": "2023-10-10T20:18:58.620049481Z"
    }
   }
  },
  {
   "cell_type": "markdown",
   "source": [
    "## Carts"
   ],
   "metadata": {
    "collapsed": false
   }
  },
  {
   "cell_type": "code",
   "execution_count": 26,
   "outputs": [
    {
     "name": "stdout",
     "output_type": "stream",
     "text": [
      "+------------+-----------------------------------------------------------------------------------------------------------------------------------------------------------------------------+\n",
      "|session_type|labels                                                                                                                                                                       |\n",
      "+------------+-----------------------------------------------------------------------------------------------------------------------------------------------------------------------------+\n",
      "|12899781    |[754412, 1043508, 759436, 950718, 1336175, 1019736, 447, 734026, 1853288, 121246, 1469891, 1833745, 1767530, 199008, 1008624, 3542, 901817, 1009427, 474743, 634452]         |\n",
      "|12899887    |[1025795, 835431, 1620020, 1270528, 1201242, 1019116, 892871, 698925, 1804260, 1030727, 501077, 1676344, 1617771, 810494, 1763383, 1176975, 879201, 480861, 398437, 1458715] |\n",
      "|12900014    |[1571865, 52715, 482711, 395217, 1215467, 745505, 712456, 1083665, 1267119, 252822, 1050985, 714524, 1133209, 48650, 1406660, 109382, 1546836, 1693704, 700848, 651757]      |\n",
      "|12900080    |[1495817, 29735, 480314, 1609228, 558573, 660655, 773854, 1736857, 1582485, 585186, 742601, 1497245, 1782099, 1462420, 579690, 1083665, 406829, 1007882, 631899, 442293]     |\n",
      "|12900099    |[986164, 298371, 185252, 274783, 881286, 510488, 408008, 1259848, 868327, 406829, 1091138, 1582485, 892871, 1768724, 1439409, 1758331, 333066, 63311, 62957, 771256]         |\n",
      "|12900121    |[319580, 868327, 1797019, 1175059, 571074, 480314, 810678, 1022566, 1125519, 554660, 667563, 662084, 364101, 1344773, 1559992, 1675581, 1439323, 349486, 693368, 145332]     |\n",
      "|12900138    |[1580498, 1219503, 75686, 714524, 1588163, 1382441, 1533875, 807569, 1495817, 1602299, 559447, 1634198, 631899, 155079, 225619, 1078290, 165160, 529056, 258353, 1091138]    |\n",
      "|12900216    |[480314, 1495817, 660655, 530377, 1736857, 1043508, 1176975, 585186, 109382, 943806, 1270528, 352192, 1217083, 1274545, 44161, 536184, 742601, 792934, 223273, 272744]       |\n",
      "|12900288    |[1568011, 1699089, 1476166, 1647157, 563117, 1619724, 345724, 1025795, 1215126, 576949, 503025, 1174319, 1434081, 1302234, 1140985, 1003550, 325489, 425410, 1074496, 255072]|\n",
      "|12900431    |[122983, 1445562, 576642, 1183286, 231519, 801774, 994980, 709932, 388648, 1093053, 1012438, 895322, 1603001, 737112, 1512753, 1232436, 1264792, 875146, 109448, 1643318]    |\n",
      "+------------+-----------------------------------------------------------------------------------------------------------------------------------------------------------------------------+\n",
      "only showing top 10 rows\n",
      "\n"
     ]
    }
   ],
   "source": [
    "df_carts = prepare_df_to_predictions('./raw-carts-predictions.json').persist()\n",
    "df_carts.show(10, truncate=False)"
   ],
   "metadata": {
    "collapsed": false,
    "ExecuteTime": {
     "end_time": "2023-10-10T19:09:52.318706537Z",
     "start_time": "2023-10-10T19:09:51.826699812Z"
    }
   }
  },
  {
   "cell_type": "code",
   "execution_count": 77,
   "outputs": [
    {
     "data": {
      "text/plain": "242833"
     },
     "execution_count": 77,
     "metadata": {},
     "output_type": "execute_result"
    }
   ],
   "source": [
    "df_carts.count()"
   ],
   "metadata": {
    "collapsed": false,
    "ExecuteTime": {
     "end_time": "2023-10-10T20:19:17.406242797Z",
     "start_time": "2023-10-10T20:19:17.361946870Z"
    }
   }
  },
  {
   "cell_type": "markdown",
   "source": [
    "## Orders"
   ],
   "metadata": {
    "collapsed": false
   }
  },
  {
   "cell_type": "code",
   "execution_count": 29,
   "outputs": [
    {
     "name": "stdout",
     "output_type": "stream",
     "text": [
      "+------------+------------------------------------------------------------------------------------------------------------------------------------------------------------------------------+\n",
      "|session_type|labels                                                                                                                                                                        |\n",
      "+------------+------------------------------------------------------------------------------------------------------------------------------------------------------------------------------+\n",
      "|12899793    |[846545, 1495817, 688858, 1132001, 1051747, 976467, 432989, 471073, 479903, 399315, 1678293, 988819, 623226, 984146, 180910, 710786, 832192, 1442599, 1691301, 920378]        |\n",
      "|12900138    |[1580498, 1382441, 75686, 1588163, 714524, 1219503, 1634198, 807569, 559447, 1602299, 1078290, 258353, 1533875, 155079, 1744684, 1836735, 529056, 289665, 1193887, 834]       |\n",
      "|12900216    |[1236775, 145332, 332654, 1699089, 102416, 1030009, 909449, 1274545, 274783, 1495817, 688602, 881836, 791627, 634452, 762451, 904114, 1704956, 1255910, 1043508, 1441266]     |\n",
      "|12900288    |[986294, 1699089, 1501522, 1351244, 503025, 345724, 485256, 351577, 563117, 1799600, 1476166, 336163, 1074496, 645863, 122983, 387526, 1028619, 1264792, 929545, 1234800]     |\n",
      "|12900431    |[122983, 1512753, 994980, 231519, 1183286, 374874, 1264792, 1636724, 821490, 180910, 1446430, 933686, 1324829, 1290124, 876416, 314210, 1853268, 1008250, 1699932, 868327]    |\n",
      "|12900764    |[406358, 1609228, 880240, 799923, 1439409, 1151287, 1770742, 1737994, 1545505, 1662122, 923948, 1800674, 1005645, 471073, 1281615, 534130, 1222588, 1593984, 1607187, 1171807]|\n",
      "|12901362    |[508883, 1116095, 688602, 147526, 1457846, 1336175, 1823515, 1294924, 485256, 371398, 1006198, 137514, 901817, 1722991, 584027, 830054, 499919, 352192, 1034578, 1236775]     |\n",
      "|12902384    |[1460571, 742601, 1495817, 944778, 1133209, 352192, 1196256, 399315, 147526, 836852, 688602, 1722991, 1274545, 1446736, 1236775, 830054, 811371, 620545, 1853288, 998129]     |\n",
      "|12902606    |[332654, 1782099, 1460571, 333066, 63311, 1255910, 145332, 29735, 873957, 1441266, 634452, 329725, 1745380, 1533875, 298371, 372662, 185252, 25964, 27989, 511192]            |\n",
      "|12902864    |[1462420, 986164, 223273, 145332, 98351, 686157, 56279, 326904, 295859, 995962, 329725, 1733943, 461938, 1384693, 1441266, 1465357, 1359971, 1501826, 837558, 734026]         |\n",
      "+------------+------------------------------------------------------------------------------------------------------------------------------------------------------------------------------+\n",
      "only showing top 10 rows\n",
      "\n"
     ]
    }
   ],
   "source": [
    "df_orders = prepare_df_to_predictions('./raw-orders-predictions.json').persist()\n",
    "df_orders.show(10, truncate=False)"
   ],
   "metadata": {
    "collapsed": false,
    "ExecuteTime": {
     "end_time": "2023-10-10T19:11:51.993158756Z",
     "start_time": "2023-10-10T19:11:51.670561689Z"
    }
   }
  },
  {
   "cell_type": "code",
   "execution_count": 30,
   "outputs": [
    {
     "data": {
      "text/plain": "35849"
     },
     "execution_count": 30,
     "metadata": {},
     "output_type": "execute_result"
    }
   ],
   "source": [
    "df_orders.count()"
   ],
   "metadata": {
    "collapsed": false,
    "ExecuteTime": {
     "end_time": "2023-10-10T19:26:02.444707615Z",
     "start_time": "2023-10-10T19:26:02.382100481Z"
    }
   }
  },
  {
   "cell_type": "markdown",
   "source": [
    "# Leitura de Dataset RAW_PREDICTIONS"
   ],
   "metadata": {
    "collapsed": false
   }
  },
  {
   "cell_type": "code",
   "execution_count": 34,
   "outputs": [
    {
     "name": "stderr",
     "output_type": "stream",
     "text": [
      "[Stage 50:===============================>                       (46 + 20) / 80]\r"
     ]
    },
    {
     "name": "stdout",
     "output_type": "stream",
     "text": [
      "+------------+------------------------------------------------------------------------------------------------------------------------------------------------------------------------------------+\n",
      "|session_type|labels                                                                                                                                                                              |\n",
      "+------------+------------------------------------------------------------------------------------------------------------------------------------------------------------------------------------+\n",
      "|12899781    |[754412, 1043508, 759436, 447, 950718, 1019736, 121246, 923948, 734026, 1767530, 1833745, 199008, 1853288, 1008624, 493104, 1723428, 536184, 1336175, 3542, 634452]                 |\n",
      "|12899783    |[1848840, 1848836, 1848820, 1848816, 1848810, 1848796, 1848776, 1848770, 1848750, 1848736, 1848720, 1848710, 1848706, 1848676, 1848660, 1848656, 1848650, 1848640, 1848626, 1848616]|\n",
      "|12899793    |[405663, 846545, 1162414, 1445562, 29919, 479970, 736515, 122983, 1636724, 364155, 45993, 1219503, 1030727, 409620, 714524, 312733, 1439409, 1685214, 752652, 1476166]              |\n",
      "|12899830    |[1848840, 1848836, 1848820, 1848816, 1848810, 1848796, 1848776, 1848770, 1848750, 1848736, 1848720, 1848710, 1848706, 1848676, 1848660, 1848656, 1848650, 1848640, 1848626, 1848616]|\n",
      "|12899872    |[1848840, 1848836, 1848820, 1848816, 1848810, 1848796, 1848776, 1848770, 1848750, 1848736, 1848720, 1848710, 1848706, 1848676, 1848660, 1848656, 1848650, 1848640, 1848626, 1848616]|\n",
      "|12899887    |[1025795, 1620020, 835431, 1019116, 698925, 1582485, 1617771, 879201, 810494, 1763383, 1316412, 1236775, 1676344, 709932, 96858, 1140985, 87218, 845890, 398437, 455191]            |\n",
      "|12899968    |[1848840, 1848836, 1848820, 1848816, 1848810, 1848796, 1848776, 1848770, 1848750, 1848736, 1848720, 1848710, 1848706, 1848676, 1848660, 1848656, 1848650, 1848640, 1848626, 1848616]|\n",
      "|12899996    |[1848840, 1848836, 1848820, 1848816, 1848810, 1848796, 1848776, 1848770, 1848750, 1848736, 1848720, 1848710, 1848706, 1848676, 1848660, 1848656, 1848650, 1848640, 1848626, 1848616]|\n",
      "|12900014    |[1571865, 52715, 482711, 395217, 1215467, 1267119, 745505, 166037, 1496287, 1274545, 252822, 1823515, 1083665, 1050985, 414968, 835431, 48650, 1693704, 1655327, 136992]            |\n",
      "|12900049    |[1848840, 1848836, 1848820, 1848816, 1848810, 1848796, 1848776, 1848770, 1848750, 1848736, 1848720, 1848710, 1848706, 1848676, 1848660, 1848656, 1848650, 1848640, 1848626, 1848616]|\n",
      "+------------+------------------------------------------------------------------------------------------------------------------------------------------------------------------------------------+\n",
      "only showing top 10 rows\n",
      "\n"
     ]
    },
    {
     "name": "stderr",
     "output_type": "stream",
     "text": [
      "                                                                                \r"
     ]
    }
   ],
   "source": [
    "df_general_recommend = prepare_df_to_predictions('./raw_predictions.json').persist()\n",
    "df_general_recommend.show(10, truncate=False)"
   ],
   "metadata": {
    "collapsed": false,
    "pycharm": {
     "name": "#%%\n"
    },
    "ExecuteTime": {
     "end_time": "2023-10-10T19:28:30.174943676Z",
     "start_time": "2023-10-10T19:28:28.620792831Z"
    }
   }
  },
  {
   "cell_type": "markdown",
   "source": [
    "# Criando datasets complementares\n",
    "## Clicks"
   ],
   "metadata": {
    "collapsed": false
   }
  },
  {
   "cell_type": "code",
   "execution_count": 74,
   "outputs": [
    {
     "data": {
      "text/plain": "1612"
     },
     "execution_count": 74,
     "metadata": {},
     "output_type": "execute_result"
    }
   ],
   "source": [
    "df_general_clicks = df_general_recommend.join(df_clicks, on='session_type', how='left_anti')\n",
    "df_general_clicks.count()"
   ],
   "metadata": {
    "collapsed": false,
    "ExecuteTime": {
     "end_time": "2023-10-10T20:17:36.449967324Z",
     "start_time": "2023-10-10T20:17:36.333308128Z"
    }
   }
  },
  {
   "cell_type": "markdown",
   "source": [
    "## Carts"
   ],
   "metadata": {
    "collapsed": false
   }
  },
  {
   "cell_type": "code",
   "execution_count": 75,
   "outputs": [
    {
     "data": {
      "text/plain": "1428970"
     },
     "execution_count": 75,
     "metadata": {},
     "output_type": "execute_result"
    }
   ],
   "source": [
    "df_general_carts = df_general_recommend.join(df_carts, on='session_type', how='left_anti')\n",
    "df_general_carts.count()"
   ],
   "metadata": {
    "collapsed": false,
    "ExecuteTime": {
     "end_time": "2023-10-10T20:18:00.992959909Z",
     "start_time": "2023-10-10T20:18:00.886763029Z"
    }
   }
  },
  {
   "cell_type": "markdown",
   "source": [
    "## Orders"
   ],
   "metadata": {
    "collapsed": false
   }
  },
  {
   "cell_type": "code",
   "execution_count": 78,
   "outputs": [
    {
     "data": {
      "text/plain": "1635954"
     },
     "execution_count": 78,
     "metadata": {},
     "output_type": "execute_result"
    }
   ],
   "source": [
    "df_general_orders = df_general_recommend.join(df_orders, on='session_type', how='left_anti')\n",
    "df_general_orders.count()"
   ],
   "metadata": {
    "collapsed": false,
    "ExecuteTime": {
     "end_time": "2023-10-10T20:20:28.270493053Z",
     "start_time": "2023-10-10T20:20:28.036919469Z"
    }
   }
  },
  {
   "cell_type": "markdown",
   "source": [
    "# Agrupando dados de usuários e produtos\n",
    "Pré-processamento do dataset de submissão."
   ],
   "metadata": {
    "collapsed": false
   }
  },
  {
   "cell_type": "markdown",
   "source": [
    "## Clicks"
   ],
   "metadata": {
    "collapsed": false
   }
  },
  {
   "cell_type": "code",
   "execution_count": 122,
   "outputs": [],
   "source": [
    "users_clicks = [r[0] for r in df_clicks.select('session_type').distinct().toLocalIterator()]\n",
    "users_general_clicks = [r[0] for r in df_general_clicks.select('session_type').distinct().toLocalIterator()]"
   ],
   "metadata": {
    "collapsed": false,
    "ExecuteTime": {
     "end_time": "2023-10-10T20:54:57.037197644Z",
     "start_time": "2023-10-10T20:54:50.713905611Z"
    }
   }
  },
  {
   "cell_type": "code",
   "execution_count": 123,
   "outputs": [],
   "source": [
    "users_list_clicks = [s + '_clicks' for s in users_clicks]\n",
    "users_list_general_clicks = [s + '_clicks' for s in users_general_clicks]"
   ],
   "metadata": {
    "collapsed": false,
    "ExecuteTime": {
     "end_time": "2023-10-10T20:54:57.121725076Z",
     "start_time": "2023-10-10T20:54:57.058884239Z"
    }
   }
  },
  {
   "cell_type": "code",
   "execution_count": 124,
   "outputs": [],
   "source": [
    "labels_clicks = [r[0] for r in df_clicks.select('labels').toLocalIterator()]\n",
    "labels_general_clicks = [r[0] for r in df_general_clicks.select('labels').toLocalIterator()]"
   ],
   "metadata": {
    "collapsed": false,
    "ExecuteTime": {
     "end_time": "2023-10-10T20:55:08.045137977Z",
     "start_time": "2023-10-10T20:54:57.122516087Z"
    }
   }
  },
  {
   "cell_type": "code",
   "execution_count": 125,
   "outputs": [
    {
     "name": "stderr",
     "output_type": "stream",
     "text": [
      "                                                                                \r"
     ]
    },
    {
     "data": {
      "text/plain": "1670191"
     },
     "execution_count": 125,
     "metadata": {},
     "output_type": "execute_result"
    }
   ],
   "source": [
    "df_clicks_submission = spark.createDataFrame(zip(users_list_clicks, labels_clicks), ['session_type', 'labels'])\n",
    "df_clicks_submission.count()"
   ],
   "metadata": {
    "collapsed": false,
    "ExecuteTime": {
     "end_time": "2023-10-10T20:55:47.508449510Z",
     "start_time": "2023-10-10T20:55:08.045877196Z"
    }
   }
  },
  {
   "cell_type": "code",
   "execution_count": 126,
   "outputs": [
    {
     "data": {
      "text/plain": "1612"
     },
     "execution_count": 126,
     "metadata": {},
     "output_type": "execute_result"
    }
   ],
   "source": [
    "df_clicks_general_submission = spark.createDataFrame(zip(users_list_general_clicks, labels_general_clicks), ['session_type', 'labels'])\n",
    "df_clicks_general_submission.count()"
   ],
   "metadata": {
    "collapsed": false,
    "ExecuteTime": {
     "end_time": "2023-10-10T20:55:48.005561382Z",
     "start_time": "2023-10-10T20:55:47.506446284Z"
    }
   }
  },
  {
   "cell_type": "markdown",
   "source": [
    "## Carts"
   ],
   "metadata": {
    "collapsed": false
   }
  },
  {
   "cell_type": "code",
   "execution_count": 127,
   "outputs": [],
   "source": [
    "users_carts = [r[0] for r in df_carts.select('session_type').distinct().toLocalIterator()]\n",
    "users_general_carts = [r[0] for r in df_general_carts.select('session_type').distinct().toLocalIterator()]"
   ],
   "metadata": {
    "collapsed": false,
    "ExecuteTime": {
     "end_time": "2023-10-10T20:55:51.913092186Z",
     "start_time": "2023-10-10T20:55:48.002518321Z"
    }
   }
  },
  {
   "cell_type": "code",
   "execution_count": 128,
   "outputs": [],
   "source": [
    "users_list_carts = [s + '_carts' for s in users_carts]\n",
    "users_list_general_carts = [s + '_carts' for s in users_general_carts]"
   ],
   "metadata": {
    "collapsed": false,
    "ExecuteTime": {
     "end_time": "2023-10-10T20:55:51.996219164Z",
     "start_time": "2023-10-10T20:55:51.955050070Z"
    }
   }
  },
  {
   "cell_type": "code",
   "execution_count": 129,
   "outputs": [],
   "source": [
    "labels_carts = [r[0] for r in df_carts.select('labels').toLocalIterator()]\n",
    "labels_general_carts = [r[0] for r in df_general_carts.select('labels').toLocalIterator()]"
   ],
   "metadata": {
    "collapsed": false,
    "ExecuteTime": {
     "end_time": "2023-10-10T20:56:01.682404722Z",
     "start_time": "2023-10-10T20:55:51.997940669Z"
    }
   }
  },
  {
   "cell_type": "code",
   "execution_count": 130,
   "outputs": [
    {
     "data": {
      "text/plain": "242833"
     },
     "execution_count": 130,
     "metadata": {},
     "output_type": "execute_result"
    }
   ],
   "source": [
    "df_carts_submission = spark.createDataFrame(zip(users_list_carts, labels_carts), ['session_type', 'labels'])\n",
    "df_carts_submission.count()"
   ],
   "metadata": {
    "collapsed": false,
    "ExecuteTime": {
     "end_time": "2023-10-10T20:56:08.917057433Z",
     "start_time": "2023-10-10T20:56:01.690004234Z"
    }
   }
  },
  {
   "cell_type": "code",
   "execution_count": 131,
   "outputs": [
    {
     "name": "stderr",
     "output_type": "stream",
     "text": [
      "                                                                                \r"
     ]
    },
    {
     "data": {
      "text/plain": "1428970"
     },
     "execution_count": 131,
     "metadata": {},
     "output_type": "execute_result"
    }
   ],
   "source": [
    "df_carts_general_submission = spark.createDataFrame(zip(users_list_general_carts, labels_general_carts), ['session_type', 'labels'])\n",
    "df_carts_general_submission.count()"
   ],
   "metadata": {
    "collapsed": false,
    "ExecuteTime": {
     "end_time": "2023-10-10T20:56:42.766946952Z",
     "start_time": "2023-10-10T20:56:08.916287619Z"
    }
   }
  },
  {
   "cell_type": "markdown",
   "source": [
    "## Orders"
   ],
   "metadata": {
    "collapsed": false
   }
  },
  {
   "cell_type": "code",
   "execution_count": 132,
   "outputs": [],
   "source": [
    "users_orders = [r[0] for r in df_orders.select('session_type').distinct().toLocalIterator()]\n",
    "users_general_orders = [r[0] for r in df_general_orders.select('session_type').distinct().toLocalIterator()]"
   ],
   "metadata": {
    "collapsed": false,
    "ExecuteTime": {
     "end_time": "2023-10-10T20:56:47.446089512Z",
     "start_time": "2023-10-10T20:56:42.767429110Z"
    }
   }
  },
  {
   "cell_type": "code",
   "execution_count": 133,
   "outputs": [],
   "source": [
    "users_list_orders = [s + '_orders' for s in users_orders]\n",
    "users_list_general_orders = [s + '_orders' for s in users_general_orders]"
   ],
   "metadata": {
    "collapsed": false,
    "ExecuteTime": {
     "end_time": "2023-10-10T20:56:47.489602247Z",
     "start_time": "2023-10-10T20:56:47.446328334Z"
    }
   }
  },
  {
   "cell_type": "code",
   "execution_count": 134,
   "outputs": [],
   "source": [
    "labels_orders = [r[0] for r in df_orders.select('labels').toLocalIterator()]\n",
    "labels_general_orders = [r[0] for r in df_general_orders.select('labels').toLocalIterator()]"
   ],
   "metadata": {
    "collapsed": false,
    "ExecuteTime": {
     "end_time": "2023-10-10T20:56:57.686646619Z",
     "start_time": "2023-10-10T20:56:47.489988220Z"
    }
   }
  },
  {
   "cell_type": "code",
   "execution_count": 135,
   "outputs": [
    {
     "data": {
      "text/plain": "35849"
     },
     "execution_count": 135,
     "metadata": {},
     "output_type": "execute_result"
    }
   ],
   "source": [
    "df_orders_submission = spark.createDataFrame(zip(users_list_orders, labels_orders), ['session_type', 'labels'])\n",
    "df_orders_submission.count()"
   ],
   "metadata": {
    "collapsed": false,
    "ExecuteTime": {
     "end_time": "2023-10-10T20:56:58.928704043Z",
     "start_time": "2023-10-10T20:56:57.687156620Z"
    }
   }
  },
  {
   "cell_type": "code",
   "execution_count": 136,
   "outputs": [
    {
     "name": "stderr",
     "output_type": "stream",
     "text": [
      "                                                                                \r"
     ]
    },
    {
     "data": {
      "text/plain": "1635954"
     },
     "execution_count": 136,
     "metadata": {},
     "output_type": "execute_result"
    }
   ],
   "source": [
    "df_orders_general_submission = spark.createDataFrame(zip(users_list_general_orders, labels_general_orders), ['session_type', 'labels'])\n",
    "df_orders_general_submission.count()"
   ],
   "metadata": {
    "collapsed": false,
    "ExecuteTime": {
     "end_time": "2023-10-10T20:57:37.633524223Z",
     "start_time": "2023-10-10T20:56:58.928302749Z"
    }
   }
  },
  {
   "cell_type": "markdown",
   "source": [
    "## Checando amostragem"
   ],
   "metadata": {
    "collapsed": false
   }
  },
  {
   "cell_type": "code",
   "execution_count": 137,
   "outputs": [
    {
     "name": "stdout",
     "output_type": "stream",
     "text": [
      "+---------------+--------------------+\n",
      "|   session_type|              labels|\n",
      "+---------------+--------------------+\n",
      "|12899781_clicks|[754412, 1043508,...|\n",
      "|12899783_clicks|[1849490, 1849480...|\n",
      "|12899793_clicks|[405663, 846545, ...|\n",
      "|12899830_clicks|[1849490, 1849480...|\n",
      "|12899872_clicks|[1849490, 1849480...|\n",
      "+---------------+--------------------+\n",
      "only showing top 5 rows\n",
      "\n"
     ]
    }
   ],
   "source": [
    "df_clicks_submission.show(5)"
   ],
   "metadata": {
    "collapsed": false,
    "ExecuteTime": {
     "end_time": "2023-10-10T20:57:37.682197644Z",
     "start_time": "2023-10-10T20:57:37.632875718Z"
    }
   }
  },
  {
   "cell_type": "code",
   "execution_count": 138,
   "outputs": [
    {
     "name": "stdout",
     "output_type": "stream",
     "text": [
      "+---------------+--------------------+\n",
      "|   session_type|              labels|\n",
      "+---------------+--------------------+\n",
      "|12972185_clicks|[191614, 165160, ...|\n",
      "|12980101_clicks|[714968, 544144, ...|\n",
      "|13012137_clicks|[226009, 1476166,...|\n",
      "|13014853_clicks|[714524, 836852, ...|\n",
      "|13061838_clicks|[352192, 1156699,...|\n",
      "+---------------+--------------------+\n",
      "only showing top 5 rows\n",
      "\n"
     ]
    }
   ],
   "source": [
    "df_clicks_general_submission.show(5)"
   ],
   "metadata": {
    "collapsed": false,
    "ExecuteTime": {
     "end_time": "2023-10-10T20:57:37.727549547Z",
     "start_time": "2023-10-10T20:57:37.681358095Z"
    }
   }
  },
  {
   "cell_type": "code",
   "execution_count": 139,
   "outputs": [
    {
     "name": "stdout",
     "output_type": "stream",
     "text": [
      "+--------------+--------------------+\n",
      "|  session_type|              labels|\n",
      "+--------------+--------------------+\n",
      "|12899781_carts|[754412, 1043508,...|\n",
      "|12899887_carts|[1025795, 835431,...|\n",
      "|12900014_carts|[1571865, 52715, ...|\n",
      "|12900080_carts|[1495817, 29735, ...|\n",
      "|12900099_carts|[986164, 298371, ...|\n",
      "+--------------+--------------------+\n",
      "only showing top 5 rows\n",
      "\n"
     ]
    }
   ],
   "source": [
    "df_carts_submission.show(5)"
   ],
   "metadata": {
    "collapsed": false,
    "ExecuteTime": {
     "end_time": "2023-10-10T20:57:37.813965616Z",
     "start_time": "2023-10-10T20:57:37.727871643Z"
    }
   }
  },
  {
   "cell_type": "code",
   "execution_count": 140,
   "outputs": [
    {
     "name": "stdout",
     "output_type": "stream",
     "text": [
      "+--------------+--------------------+\n",
      "|  session_type|              labels|\n",
      "+--------------+--------------------+\n",
      "|12899783_carts|[1848840, 1848836...|\n",
      "|12899793_carts|[405663, 846545, ...|\n",
      "|12899830_carts|[1848840, 1848836...|\n",
      "|12899872_carts|[1848840, 1848836...|\n",
      "|12899968_carts|[1848840, 1848836...|\n",
      "+--------------+--------------------+\n",
      "only showing top 5 rows\n",
      "\n"
     ]
    }
   ],
   "source": [
    "df_carts_general_submission.show(5)"
   ],
   "metadata": {
    "collapsed": false,
    "ExecuteTime": {
     "end_time": "2023-10-10T20:57:37.858117204Z",
     "start_time": "2023-10-10T20:57:37.814132989Z"
    }
   }
  },
  {
   "cell_type": "code",
   "execution_count": 141,
   "outputs": [
    {
     "name": "stdout",
     "output_type": "stream",
     "text": [
      "+---------------+--------------------+\n",
      "|   session_type|              labels|\n",
      "+---------------+--------------------+\n",
      "|12899793_orders|[846545, 1495817,...|\n",
      "|12900138_orders|[1580498, 1382441...|\n",
      "|12900216_orders|[1236775, 145332,...|\n",
      "|12900288_orders|[986294, 1699089,...|\n",
      "|12900431_orders|[122983, 1512753,...|\n",
      "+---------------+--------------------+\n",
      "only showing top 5 rows\n",
      "\n"
     ]
    }
   ],
   "source": [
    "df_orders_submission.show(5)"
   ],
   "metadata": {
    "collapsed": false,
    "ExecuteTime": {
     "end_time": "2023-10-10T20:57:37.902168918Z",
     "start_time": "2023-10-10T20:57:37.858257783Z"
    }
   }
  },
  {
   "cell_type": "code",
   "execution_count": 142,
   "outputs": [
    {
     "name": "stdout",
     "output_type": "stream",
     "text": [
      "+---------------+--------------------+\n",
      "|   session_type|              labels|\n",
      "+---------------+--------------------+\n",
      "|12899781_orders|[754412, 1043508,...|\n",
      "|12899783_orders|[1848840, 1848836...|\n",
      "|12899830_orders|[1848840, 1848836...|\n",
      "|12899872_orders|[1848840, 1848836...|\n",
      "|12899887_orders|[1025795, 1620020...|\n",
      "+---------------+--------------------+\n",
      "only showing top 5 rows\n",
      "\n"
     ]
    }
   ],
   "source": [
    "df_orders_general_submission.show(5)"
   ],
   "metadata": {
    "collapsed": false,
    "ExecuteTime": {
     "end_time": "2023-10-10T20:57:37.946243331Z",
     "start_time": "2023-10-10T20:57:37.902060638Z"
    }
   }
  },
  {
   "cell_type": "markdown",
   "source": [
    "# Concatenando Dataset"
   ],
   "metadata": {
    "collapsed": false
   }
  },
  {
   "cell_type": "code",
   "execution_count": 143,
   "outputs": [
    {
     "name": "stdout",
     "output_type": "stream",
     "text": [
      "+---------------+--------------------+\n",
      "|   session_type|              labels|\n",
      "+---------------+--------------------+\n",
      "|12899781_clicks|754412 1043508 13...|\n",
      "|12899783_clicks|1849490 1849480 1...|\n",
      "|12899793_clicks|405663 846545 116...|\n",
      "|12899830_clicks|1849490 1849480 1...|\n",
      "|12899872_clicks|1849490 1849480 1...|\n",
      "|12899887_clicks|1025795 835431 16...|\n",
      "|12899968_clicks|1849490 1849480 1...|\n",
      "|12899996_clicks|1849490 1849480 1...|\n",
      "|12900014_clicks|1571865 482711 52...|\n",
      "|12900049_clicks|1849490 1849480 1...|\n",
      "|12900055_clicks|1849490 1849480 1...|\n",
      "|12900080_clicks|1116095 1270528 1...|\n",
      "|12900099_clicks|986164 298371 274...|\n",
      "|12900116_clicks|1849490 1849480 1...|\n",
      "|12900121_clicks|319580 868327 179...|\n",
      "|12900122_clicks|1849490 1849480 1...|\n",
      "|12900130_clicks|1849490 1849480 1...|\n",
      "|12900137_clicks|1849490 1849480 1...|\n",
      "|12900138_clicks|1580498 1219503 7...|\n",
      "|12900202_clicks|1849490 1849480 1...|\n",
      "+---------------+--------------------+\n",
      "only showing top 20 rows\n",
      "\n"
     ]
    }
   ],
   "source": [
    "from functools import reduce\n",
    "from pyspark.sql import DataFrame\n",
    "\n",
    "dfs = [df_clicks_submission,\n",
    "       df_clicks_general_submission,\n",
    "       df_carts_submission,\n",
    "       df_carts_general_submission,\n",
    "       df_orders_submission,\n",
    "       df_orders_general_submission]\n",
    "\n",
    "df_submission = reduce(DataFrame.unionAll, dfs).persist()\n",
    "df_submission = df_submission.withColumn(\"labels\",F.concat_ws(\" \",F.col(\"labels\")))\n",
    "df_submission.show()"
   ],
   "metadata": {
    "collapsed": false,
    "ExecuteTime": {
     "end_time": "2023-10-10T20:57:38.030720111Z",
     "start_time": "2023-10-10T20:57:37.946105602Z"
    }
   }
  },
  {
   "cell_type": "code",
   "execution_count": 144,
   "outputs": [
    {
     "name": "stderr",
     "output_type": "stream",
     "text": [
      "                                                                                \r"
     ]
    },
    {
     "data": {
      "text/plain": "5015409"
     },
     "execution_count": 144,
     "metadata": {},
     "output_type": "execute_result"
    }
   ],
   "source": [
    "df_submission.count()"
   ],
   "metadata": {
    "collapsed": false,
    "ExecuteTime": {
     "end_time": "2023-10-10T20:57:44.354545873Z",
     "start_time": "2023-10-10T20:57:38.030391384Z"
    }
   }
  },
  {
   "cell_type": "code",
   "execution_count": 146,
   "outputs": [
    {
     "name": "stderr",
     "output_type": "stream",
     "text": [
      "[Stage 1718:=================================================> (469 + 11) / 480]\r"
     ]
    },
    {
     "name": "stdout",
     "output_type": "stream",
     "text": [
      "+---------------+---------------------------------------------------------------------------------------------------------------------------------------------------------------+\n",
      "|session_type   |labels                                                                                                                                                         |\n",
      "+---------------+---------------------------------------------------------------------------------------------------------------------------------------------------------------+\n",
      "|12899779_carts |1848840 1848836 1848820 1848816 1848810 1848796 1848776 1848770 1848750 1848736 1848720 1848710 1848706 1848676 1848660 1848656 1848650 1848640 1848626 1848616|\n",
      "|12899779_clicks|1849490 1849480 1849456 1849450 1849446 1849436 1849426 1849406 1849400 1849380 1849366 1849346 1849326 1849310 1849296 1849276 1849270 1849250 1849240 1849230|\n",
      "|12899779_orders|1848840 1848836 1848820 1848816 1848810 1848796 1848776 1848770 1848750 1848736 1848720 1848710 1848706 1848676 1848660 1848656 1848650 1848640 1848626 1848616|\n",
      "|12899780_carts |1848840 1848836 1848820 1848816 1848810 1848796 1848776 1848770 1848750 1848736 1848720 1848710 1848706 1848676 1848660 1848656 1848650 1848640 1848626 1848616|\n",
      "|12899780_clicks|1849490 1849480 1849456 1849450 1849446 1849436 1849426 1849406 1849400 1849380 1849366 1849346 1849326 1849310 1849296 1849276 1849270 1849250 1849240 1849230|\n",
      "|12899780_orders|1848840 1848836 1848820 1848816 1848810 1848796 1848776 1848770 1848750 1848736 1848720 1848710 1848706 1848676 1848660 1848656 1848650 1848640 1848626 1848616|\n",
      "|12899781_carts |754412 1043508 759436 950718 1336175 1019736 447 734026 1853288 121246 1469891 1833745 1767530 199008 1008624 3542 901817 1009427 474743 634452                |\n",
      "|12899781_clicks|754412 1043508 1336175 759436 950718 121246 1019736 734026 447 1853288 1469891 901817 1833745 1767530 199008 1008624 1009427 83856 100012 3542                 |\n",
      "|12899781_orders|754412 1043508 759436 447 950718 1019736 121246 923948 734026 1767530 1833745 199008 1853288 1008624 493104 1723428 536184 1336175 3542 634452                 |\n",
      "|12899782_carts |752652 868327 479970 1033148 319580 1476166 576642 1714681 889671 603364 938014 1568011 480314 1675581 349486 1344773 854175 810678 318134 605329              |\n",
      "|12899782_clicks|752652 479970 868327 1033148 319580 1476166 889671 1675581 603364 1568011 576642 1495817 810678 349486 1370962 605329 318134 854175 165160 1344773             |\n",
      "|12899782_orders|868327 1033148 479970 319580 1344773 752652 1675581 889671 603364 318134 562753 773854 605329 349486 480314 1485471 1797019 288342 1127094 371398              |\n",
      "|12899783_carts |1848840 1848836 1848820 1848816 1848810 1848796 1848776 1848770 1848750 1848736 1848720 1848710 1848706 1848676 1848660 1848656 1848650 1848640 1848626 1848616|\n",
      "|12899783_clicks|1849490 1849480 1849456 1849450 1849446 1849436 1849426 1849406 1849400 1849380 1849366 1849346 1849326 1849310 1849296 1849276 1849270 1849250 1849240 1849230|\n",
      "|12899783_orders|1848840 1848836 1848820 1848816 1848810 1848796 1848776 1848770 1848750 1848736 1848720 1848710 1848706 1848676 1848660 1848656 1848650 1848640 1848626 1848616|\n",
      "|12899784_carts |1848840 1848836 1848820 1848816 1848810 1848796 1848776 1848770 1848750 1848736 1848720 1848710 1848706 1848676 1848660 1848656 1848650 1848640 1848626 1848616|\n",
      "|12899784_clicks|1849490 1849480 1849456 1849450 1849446 1849436 1849426 1849406 1849400 1849380 1849366 1849346 1849326 1849310 1849296 1849276 1849270 1849250 1849240 1849230|\n",
      "|12899784_orders|1848840 1848836 1848820 1848816 1848810 1848796 1848776 1848770 1848750 1848736 1848720 1848710 1848706 1848676 1848660 1848656 1848650 1848640 1848626 1848616|\n",
      "|12899785_carts |1848840 1848836 1848820 1848816 1848810 1848796 1848776 1848770 1848750 1848736 1848720 1848710 1848706 1848676 1848660 1848656 1848650 1848640 1848626 1848616|\n",
      "|12899785_clicks|1849490 1849480 1849456 1849450 1849446 1849436 1849426 1849406 1849400 1849380 1849366 1849346 1849326 1849310 1849296 1849276 1849270 1849250 1849240 1849230|\n",
      "+---------------+---------------------------------------------------------------------------------------------------------------------------------------------------------------+\n",
      "only showing top 20 rows\n",
      "\n"
     ]
    },
    {
     "name": "stderr",
     "output_type": "stream",
     "text": [
      "                                                                                \r"
     ]
    }
   ],
   "source": [
    "df_submission.orderBy('session_type').show(truncate=False)"
   ],
   "metadata": {
    "collapsed": false,
    "ExecuteTime": {
     "end_time": "2023-10-10T20:58:42.936258898Z",
     "start_time": "2023-10-10T20:58:41.426596121Z"
    }
   }
  },
  {
   "cell_type": "markdown",
   "source": [
    "# Escrevendo dataset de submissão"
   ],
   "metadata": {
    "collapsed": false
   }
  },
  {
   "cell_type": "code",
   "execution_count": 147,
   "outputs": [
    {
     "name": "stderr",
     "output_type": "stream",
     "text": [
      "                                                                                \r"
     ]
    }
   ],
   "source": [
    "df_submission.orderBy('session_type').coalesce(1)\\\n",
    "                                     .write.format('csv')\\\n",
    "                                     .mode(\"overwrite\")\\\n",
    "                                     .option(\"header\", True)\\\n",
    "                                     .save('/'.join([os.getcwd(), 'submission']))"
   ],
   "metadata": {
    "collapsed": false,
    "ExecuteTime": {
     "end_time": "2023-10-10T21:03:15.515499654Z",
     "start_time": "2023-10-10T21:03:09.021608580Z"
    }
   }
  },
  {
   "cell_type": "markdown",
   "metadata": {
    "id": "OVMqenPL2-ps",
    "pycharm": {
     "name": "#%% md\n"
    }
   },
   "source": [
    "# Referências Bibliográficas\n",
    "\n",
    "> https://github.com/Kaggle/kaggle-api, acessado em 24/01/2023.\n",
    "\n",
    "> https://www.youtube.com/watch?v=aBNQzWV_UmE, acessado em 24/01/2023.\n",
    "\n",
    "> https://databricks-prod-cloudfront.cloud.databricks.com/public/4027ec902e239c93eaaa8714f173bcfc/968100988546031/157591980591166/8836542754149149/latest.html, acessado em 25/01/2023.\n",
    "\n",
    "> https://blog.clairvoyantsoft.com/apache-spark-out-of-memory-issue-b63c7987fff, acessado em 25/01/2023.\n",
    "\n",
    "> https://spark.apache.org/docs/latest/api/python/getting_started/quickstart_ps.html, acessado em 26/01/2023.\n",
    "\n",
    "> https://docs.fast.ai/collab.html, acessado em 24/01/2023.\n",
    "\n",
    "> https://course.fast.ai/Lessons/lesson7.html, acessado em 24/01/2023.\n",
    "\n",
    "> https://github.com/fastai/fastbook/blob/master/08_collab.ipynb, acessado em 24/01/2023.\n",
    "\n",
    "> https://www.kaggle.com/code/vchulski/tutorial-collaborative-filtering-with-pyspark\n",
    "\n",
    "> https://medium.com/analytics-vidhya/crafting-recommendation-engine-in-pyspark-a7ca242ad40a\n",
    "\n",
    "> https://www.freecodecamp.org/news/8-clustering-algorithms-in-machine-learning-that-all-data-scientists-should-know/\n",
    "\n",
    "> https://www.youtube.com/watch?v=fpqa0_U4zb4\n",
    "\n",
    "> https://www.youtube.com/watch?v=58OjaDH2FI0&t=742s\n",
    "\n",
    "> https://spark.apache.org/docs/latest/ml-collaborative-filtering.html\n",
    "\n",
    "> https://spark.apache.org/docs/latest/configuration.html#memory-management"
   ]
  },
  {
   "cell_type": "code",
   "execution_count": null,
   "metadata": {
    "id": "UKVRFgzxPPxz"
   },
   "outputs": [],
   "source": []
  }
 ],
 "metadata": {
  "colab": {
   "provenance": [
    {
     "file_id": "https://github.com/paulohgontijoo/fastaiOnCampus/blob/main/artigos/lesson-7/150143800_paulohgontijoo_Paulo_Henrique_Costa_Gontijo.ipynb",
     "timestamp": 1684605532949
    }
   ]
  },
  "gpuClass": "standard",
  "jupytext": {
   "split_at_heading": true
  },
  "kernelspec": {
   "display_name": "Python 3 (ipykernel)",
   "language": "python",
   "name": "python3"
  },
  "language_info": {
   "codemirror_mode": {
    "name": "ipython",
    "version": 3
   },
   "file_extension": ".py",
   "mimetype": "text/x-python",
   "name": "python",
   "nbconvert_exporter": "python",
   "pygments_lexer": "ipython3",
   "version": "3.10.6"
  }
 },
 "nbformat": 4,
 "nbformat_minor": 1
}
