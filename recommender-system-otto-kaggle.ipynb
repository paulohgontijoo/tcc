{
 "cells": [
  {
   "cell_type": "markdown",
   "metadata": {
    "id": "IXZTgN3G2-pZ"
   },
   "source": [
    "# Artigo 7\n",
    "* Aluno: Paulo Henrique Costa Gontijo\n",
    "* Matrícula: 15/0143800\n",
    "* Lição: **\n",
    "* Notebooks: \n",
    "  * **\n",
    "  * **\n",
    "\n",
    "| Hitórico de versão | Data |\n",
    "|:--------------------:|:------:|\n",
    "| v1 | 24/01/2023 |\n",
    "\n",
    "## Propósito\n",
    "Este artigo tem a intenção de documentar o passo a passo da quarta lição do curso, mostrando os blocos de códigos, o resultado das execuções, eventuais problemas encontrados e, se houver, as possíveis soluções para os problemas.\n",
    "\n",
    "## Tema\n",
    "A lição 7 do curso FastAi contempla conceitos como Filtro Colaborativo, viés de usuário e produto. Dentre estes tópicos, são apresentadas técnicas de análise e treinamento de modelos específico para o tema."
   ]
  },
  {
   "cell_type": "code",
   "execution_count": 1,
   "metadata": {
    "colab": {
     "base_uri": "https://localhost:8080/"
    },
    "executionInfo": {
     "elapsed": 74339,
     "status": "ok",
     "timestamp": 1684604077869,
     "user": {
      "displayName": "",
      "userId": ""
     },
     "user_tz": 180
    },
    "id": "h0PdKSSg3IgE",
    "outputId": "aac648cb-da07-4d25-d3ed-4543ae204c5a",
    "ExecuteTime": {
     "end_time": "2023-06-20T02:11:21.982174362Z",
     "start_time": "2023-06-20T02:11:21.981954285Z"
    }
   },
   "outputs": [],
   "source": [
    "# !pip install pyspark fastai fastbook -q"
   ]
  },
  {
   "cell_type": "code",
   "execution_count": 2,
   "metadata": {
    "id": "A3M3dnOX3wv_",
    "ExecuteTime": {
     "end_time": "2023-06-20T02:11:21.982342451Z",
     "start_time": "2023-06-20T02:11:21.982090322Z"
    }
   },
   "outputs": [],
   "source": [
    "# from google.colab import drive\n",
    "# drive.mount('/content/gdrive')"
   ]
  },
  {
   "cell_type": "code",
   "execution_count": 3,
   "metadata": {
    "colab": {
     "base_uri": "https://localhost:8080/",
     "height": 160
    },
    "executionInfo": {
     "elapsed": 43927,
     "status": "ok",
     "timestamp": 1684604197647,
     "user": {
      "displayName": "",
      "userId": ""
     },
     "user_tz": 180
    },
    "id": "5bjScV4J32zG",
    "outputId": "8c0a56fb-00b3-4515-ce66-4f9863c28b72",
    "ExecuteTime": {
     "end_time": "2023-06-20T02:11:21.982409601Z",
     "start_time": "2023-06-20T02:11:21.982314400Z"
    }
   },
   "outputs": [],
   "source": [
    "# # from google.colab import files\n",
    "# #\n",
    "# # files.upload() #this will prompt you to upload the kaggle.json\n",
    "#\n",
    "# !ls -lha kaggle.json\n",
    "#\n",
    "# # Install kaggle API client\n",
    "# !pip install -q kaggle\n",
    "#\n",
    "# # kaggle API client expects the file to be in ~/.kaggle\n",
    "#\n",
    "# # so move it there\n",
    "# !mkdir -p ~/.kaggle\n",
    "# !cp kaggle.json ~/.kaggle/\n",
    "#\n",
    "# # we need to set permissions\n",
    "# !chmod 600 /root/.kaggle/kaggle.json\n",
    "#\n",
    "# # check your directory before downloading the datasets\n",
    "# !pwd\n",
    "#\n",
    "# # # list all available datasets\n",
    "# # !kaggle datasets list\n",
    "#\n",
    "# # download the required dataset from kaggle\n",
    "# !kaggle competitions download -c otto-recommender-system\n",
    "\n",
    "# # If your file is a zip file you can unzip with the following code\n",
    "# !unzip /content/otto-recommender-system.zip"
   ]
  },
  {
   "cell_type": "code",
   "execution_count": 4,
   "metadata": {
    "colab": {
     "base_uri": "https://localhost:8080/"
    },
    "executionInfo": {
     "elapsed": 147220,
     "status": "ok",
     "timestamp": 1684604409560,
     "user": {
      "displayName": "",
      "userId": ""
     },
     "user_tz": 180
    },
    "id": "49F5e7Io4w6B",
    "outputId": "056bb381-3098-48f4-b9d4-967c1f9e18b2",
    "ExecuteTime": {
     "end_time": "2023-06-20T02:11:21.982448593Z",
     "start_time": "2023-06-20T02:11:21.982373140Z"
    }
   },
   "outputs": [],
   "source": [
    "# !unzip ./otto-recommender-system.zip"
   ]
  },
  {
   "cell_type": "markdown",
   "metadata": {
    "id": "Szr4Tj2M2-pb"
   },
   "source": [
    "## Importação das Bibliotecas"
   ]
  },
  {
   "cell_type": "code",
   "execution_count": 5,
   "metadata": {
    "id": "fL6U9GSO2-pc",
    "pycharm": {
     "name": "#%%\n"
    },
    "ExecuteTime": {
     "end_time": "2023-06-20T02:11:22.118085040Z",
     "start_time": "2023-06-20T02:11:21.982429952Z"
    }
   },
   "outputs": [],
   "source": [
    "import os\n",
    "import pandas as pd\n",
    "\n",
    "file_name = 'test.jsonl'\n",
    "file_path = '/'.join([os.getcwd(), file_name])"
   ]
  },
  {
   "cell_type": "markdown",
   "metadata": {
    "id": "YRidSkR12-pc"
   },
   "source": [
    "## Criando Cluster Spark"
   ]
  },
  {
   "cell_type": "code",
   "execution_count": 6,
   "metadata": {
    "colab": {
     "base_uri": "https://localhost:8080/"
    },
    "executionInfo": {
     "elapsed": 11226,
     "status": "ok",
     "timestamp": 1684604598002,
     "user": {
      "displayName": "",
      "userId": ""
     },
     "user_tz": 180
    },
    "id": "tn2FFG2I2-pc",
    "outputId": "aa718515-9216-4b5e-84de-08d048dab075",
    "pycharm": {
     "name": "#%%\n"
    },
    "ExecuteTime": {
     "end_time": "2023-06-20T02:11:23.847066864Z",
     "start_time": "2023-06-20T02:11:22.120093285Z"
    }
   },
   "outputs": [
    {
     "name": "stderr",
     "output_type": "stream",
     "text": [
      "23/06/19 23:11:22 WARN Utils: Your hostname, gobellek-B660M-DS3H-DDR4 resolves to a loopback address: 127.0.1.1; using 192.168.0.37 instead (on interface enp3s0)\n",
      "23/06/19 23:11:22 WARN Utils: Set SPARK_LOCAL_IP if you need to bind to another address\n",
      "Setting default log level to \"WARN\".\n",
      "To adjust logging level use sc.setLogLevel(newLevel). For SparkR, use setLogLevel(newLevel).\n",
      "23/06/19 23:11:23 WARN NativeCodeLoader: Unable to load native-hadoop library for your platform... using builtin-java classes where applicable\n"
     ]
    },
    {
     "name": "stdout",
     "output_type": "stream",
     "text": [
      "[('spark.sql.shuffle.partitions', '1000'), ('spark.memory.offHeap.size', '8g'), ('spark.driver.memoryOverheadFactor', '0.20'), ('spark.executor.pyspark.memory', '32g'), ('spark.driver.memory', '16g'), ('spark.memory.offHeap.enabled', 'true'), ('spark.checkpoint.compress', 'true'), ('spark.app.name', 'otto-reccomender-competition-kaggle'), ('spark.app.submitTime', '1687227083064'), ('spark.sql.execution.arrow.pyspark.fallback.enabled', 'true'), ('spark.sql.catalogImplementation', 'hive'), ('spark.driver.maxResultSize', '0'), ('spark.master', 'local[*]'), ('spark.submit.pyFiles', ''), ('spark.submit.deployMode', 'client'), ('spark.ui.showConsoleProgress', 'true'), ('spark.sql.warehouse.dir', '/home/gobellek/Documents/UnB/Tcc/spark-warehouse'), ('spark.sql.execution.arrow.pyspark.enabled', 'true')]\n"
     ]
    }
   ],
   "source": [
    "from pyspark.sql import SparkSession\n",
    "from pyspark import SparkConf\n",
    "from os.path import abspath\n",
    "\n",
    "warehouse_location = abspath('spark-warehouse')\n",
    "\n",
    "    # init session\n",
    "spark = SparkSession \\\n",
    "        .builder \\\n",
    "        .appName(\"otto-reccomender-competition-kaggle\") \\\n",
    "        .config(\"spark.sql.warehouse.dir\", abspath('spark-warehouse')) \\\n",
    "        .config(\"spark.sql.execution.arrow.pyspark.enabled\", \"true\")\\\n",
    "        .config(\"spark.sql.execution.arrow.pyspark.fallback.enabled\", \"true\")\\\n",
    "        .config(\"spark.sql.shuffle.partitions\", \"1000\")\\\n",
    "        .config(\"spark.driver.maxResultSize\", \"0\")\\\n",
    "        .config(\"spark.driver.memory\", \"16g\")\\\n",
    "        .config(\"spark.driver.memoryOverheadFactor\", \"0.20\")\\\n",
    "        .config(\"spark.executor.pyspark.memory\", \"32g\")\\\n",
    "        .config(\"spark.memory.offHeap.enabled\", \"true\")\\\n",
    "        .config(\"spark.memory.offHeap.size\", \"8g\")\\\n",
    "        .config(\"spark.checkpoint.compress\", \"true\")\\\n",
    "        .enableHiveSupport() \\\n",
    "        .getOrCreate()\n",
    "\n",
    "# show configured parameters\n",
    "print(SparkConf().getAll())\n",
    "\n",
    "# set log level\n",
    "spark.sparkContext.setLogLevel(\"FATAL\")"
   ]
  },
  {
   "cell_type": "markdown",
   "metadata": {
    "id": "Bm3hqaH02-pd"
   },
   "source": [
    "* Conferindo o instanciamento"
   ]
  },
  {
   "cell_type": "code",
   "execution_count": 7,
   "metadata": {
    "colab": {
     "base_uri": "https://localhost:8080/",
     "height": 219
    },
    "executionInfo": {
     "elapsed": 1819,
     "status": "ok",
     "timestamp": 1684604599818,
     "user": {
      "displayName": "",
      "userId": ""
     },
     "user_tz": 180
    },
    "id": "HlT2vZL12-pd",
    "outputId": "989d5f12-7fdd-424d-ced7-40ed32d5717c",
    "pycharm": {
     "name": "#%%\n"
    },
    "ExecuteTime": {
     "end_time": "2023-06-20T02:11:24.221457476Z",
     "start_time": "2023-06-20T02:11:23.850398387Z"
    }
   },
   "outputs": [
    {
     "data": {
      "text/plain": "<pyspark.sql.session.SparkSession at 0x7f703116af20>",
      "text/html": "\n            <div>\n                <p><b>SparkSession - hive</b></p>\n                \n        <div>\n            <p><b>SparkContext</b></p>\n\n            <p><a href=\"http://192.168.0.37:4040\">Spark UI</a></p>\n\n            <dl>\n              <dt>Version</dt>\n                <dd><code>v3.4.0</code></dd>\n              <dt>Master</dt>\n                <dd><code>local[*]</code></dd>\n              <dt>AppName</dt>\n                <dd><code>otto-reccomender-competition-kaggle</code></dd>\n            </dl>\n        </div>\n        \n            </div>\n        "
     },
     "execution_count": 7,
     "metadata": {},
     "output_type": "execute_result"
    }
   ],
   "source": [
    "spark"
   ]
  },
  {
   "cell_type": "code",
   "execution_count": 8,
   "metadata": {
    "colab": {
     "base_uri": "https://localhost:8080/"
    },
    "executionInfo": {
     "elapsed": 416,
     "status": "ok",
     "timestamp": 1684604600230,
     "user": {
      "displayName": "",
      "userId": ""
     },
     "user_tz": 180
    },
    "id": "33y55OoM2-pd",
    "outputId": "787a2254-2dc1-461d-fb43-dcd15a3673a4",
    "pycharm": {
     "name": "#%%\n"
    },
    "ExecuteTime": {
     "end_time": "2023-06-20T02:11:24.221547065Z",
     "start_time": "2023-06-20T02:11:24.218399930Z"
    }
   },
   "outputs": [],
   "source": [
    "# import pyspark.pandas as ps\n",
    "# ps.set_option('compute.ops_on_diff_frames', True)"
   ]
  },
  {
   "cell_type": "markdown",
   "metadata": {
    "id": "2yC64SUC2-pd"
   },
   "source": [
    "* Leitura do arquivo disponibilizado na competição kaggle: [link.](https://www.kaggle.com/competitions/otto-recommender-system/overview/)"
   ]
  },
  {
   "cell_type": "code",
   "execution_count": 9,
   "metadata": {
    "colab": {
     "base_uri": "https://localhost:8080/"
    },
    "executionInfo": {
     "elapsed": 242155,
     "status": "ok",
     "timestamp": 1684604842382,
     "user": {
      "displayName": "",
      "userId": ""
     },
     "user_tz": 180
    },
    "id": "020WZgkA2-pe",
    "outputId": "626bf217-dcfe-4419-f511-d6b18f957e28",
    "pycharm": {
     "name": "#%%\n"
    },
    "ExecuteTime": {
     "end_time": "2023-06-20T02:11:26.680734107Z",
     "start_time": "2023-06-20T02:11:24.220637435Z"
    }
   },
   "outputs": [
    {
     "name": "stderr",
     "output_type": "stream",
     "text": [
      "                                                                                \r"
     ]
    },
    {
     "data": {
      "text/plain": "['events', 'session']"
     },
     "execution_count": 9,
     "metadata": {},
     "output_type": "execute_result"
    }
   ],
   "source": [
    "df_raw = spark.read \\\n",
    "    .format(\"json\") \\\n",
    "    .option(\"inferSchema\", \"true\") \\\n",
    "    .option(\"header\", \"true\") \\\n",
    "    .json(file_path).persist()\n",
    "df_raw.columns"
   ]
  },
  {
   "cell_type": "markdown",
   "metadata": {
    "id": "TeMQZn0v2-pe"
   },
   "source": [
    "* Conferindo número de partições e conteúdo"
   ]
  },
  {
   "cell_type": "code",
   "execution_count": 10,
   "metadata": {
    "colab": {
     "base_uri": "https://localhost:8080/"
    },
    "executionInfo": {
     "elapsed": 8,
     "status": "ok",
     "timestamp": 1684604842382,
     "user": {
      "displayName": "",
      "userId": ""
     },
     "user_tz": 180
    },
    "id": "7qQiUs1v2-pe",
    "outputId": "b978eb4c-2266-463c-a3ba-5579720cbe22",
    "pycharm": {
     "name": "#%%\n"
    },
    "ExecuteTime": {
     "end_time": "2023-06-20T02:11:26.775491355Z",
     "start_time": "2023-06-20T02:11:26.680021838Z"
    }
   },
   "outputs": [
    {
     "name": "stdout",
     "output_type": "stream",
     "text": [
      "20\n"
     ]
    }
   ],
   "source": [
    "print(df_raw.rdd.getNumPartitions())"
   ]
  },
  {
   "cell_type": "code",
   "execution_count": 11,
   "metadata": {
    "pycharm": {
     "name": "#%%\n"
    },
    "ExecuteTime": {
     "end_time": "2023-06-20T02:11:27.311536415Z",
     "start_time": "2023-06-20T02:11:26.741065530Z"
    }
   },
   "outputs": [
    {
     "name": "stdout",
     "output_type": "stream",
     "text": [
      "+--------------------+--------+\n",
      "|              events| session|\n",
      "+--------------------+--------+\n",
      "|[{59625, 16617240...|12899779|\n",
      "|[{1142000, 166172...|12899780|\n",
      "|[{141736, 1661724...|12899781|\n",
      "|[{1669402, 166172...|12899782|\n",
      "|[{255297, 1661724...|12899783|\n",
      "|[{1036375, 166172...|12899784|\n",
      "|[{1784451, 166172...|12899785|\n",
      "|[{955252, 1661724...|12899786|\n",
      "|[{1682750, 166172...|12899787|\n",
      "|[{245131, 1661724...|12899788|\n",
      "+--------------------+--------+\n",
      "only showing top 10 rows\n",
      "\n"
     ]
    }
   ],
   "source": [
    "df_raw.show(10)"
   ]
  },
  {
   "cell_type": "markdown",
   "metadata": {
    "id": "GODq7Emr2-pe"
   },
   "source": [
    "* Contagem de linhas em arquivo bruto"
   ]
  },
  {
   "cell_type": "code",
   "execution_count": 12,
   "metadata": {
    "colab": {
     "base_uri": "https://localhost:8080/"
    },
    "executionInfo": {
     "elapsed": 122663,
     "status": "ok",
     "timestamp": 1684604965854,
     "user": {
      "displayName": "",
      "userId": ""
     },
     "user_tz": 180
    },
    "id": "9pVb84I72-pe",
    "outputId": "05574ab2-ef56-40f8-85a3-67c1d34944c3",
    "pycharm": {
     "name": "#%%\n"
    },
    "ExecuteTime": {
     "end_time": "2023-06-20T02:11:28.782330520Z",
     "start_time": "2023-06-20T02:11:27.310376622Z"
    }
   },
   "outputs": [
    {
     "name": "stderr",
     "output_type": "stream",
     "text": [
      "                                                                                \r"
     ]
    },
    {
     "data": {
      "text/plain": "1671803"
     },
     "execution_count": 12,
     "metadata": {},
     "output_type": "execute_result"
    }
   ],
   "source": [
    "df_raw.count()"
   ]
  },
  {
   "cell_type": "code",
   "execution_count": 13,
   "metadata": {
    "colab": {
     "base_uri": "https://localhost:8080/"
    },
    "executionInfo": {
     "elapsed": 12,
     "status": "ok",
     "timestamp": 1684604965854,
     "user": {
      "displayName": "",
      "userId": ""
     },
     "user_tz": 180
    },
    "id": "FfeSe3Cv2-pf",
    "outputId": "400b16fd-b888-4253-e7a5-e9d737cf0067",
    "pycharm": {
     "name": "#%%\n"
    },
    "ExecuteTime": {
     "end_time": "2023-06-20T02:11:28.785382859Z",
     "start_time": "2023-06-20T02:11:28.780875491Z"
    }
   },
   "outputs": [
    {
     "name": "stdout",
     "output_type": "stream",
     "text": [
      "root\n",
      " |-- events: array (nullable = true)\n",
      " |    |-- element: struct (containsNull = true)\n",
      " |    |    |-- aid: long (nullable = true)\n",
      " |    |    |-- ts: long (nullable = true)\n",
      " |    |    |-- type: string (nullable = true)\n",
      " |-- session: long (nullable = true)\n",
      "\n"
     ]
    }
   ],
   "source": [
    "df_raw.printSchema()"
   ]
  },
  {
   "cell_type": "markdown",
   "metadata": {
    "id": "YLWu6w3R2-pf"
   },
   "source": [
    "* Processamento de Json para formato tabular"
   ]
  },
  {
   "cell_type": "code",
   "execution_count": 14,
   "metadata": {
    "colab": {
     "base_uri": "https://localhost:8080/"
    },
    "executionInfo": {
     "elapsed": 702,
     "status": "ok",
     "timestamp": 1684604966546,
     "user": {
      "displayName": "",
      "userId": ""
     },
     "user_tz": 180
    },
    "id": "1KhqqFOX2-pf",
    "outputId": "79149793-333d-4e68-b275-08094da666dc",
    "pycharm": {
     "name": "#%%\n"
    },
    "ExecuteTime": {
     "end_time": "2023-06-20T02:11:28.797737139Z",
     "start_time": "2023-06-20T02:11:28.788178516Z"
    }
   },
   "outputs": [],
   "source": [
    "from pyspark.sql import functions as F\n",
    "from pyspark.sql import types as T"
   ]
  },
  {
   "cell_type": "code",
   "execution_count": 15,
   "outputs": [],
   "source": [
    "def explode_df_json_to_tabular(df_raw):\n",
    "    df_explode = df_raw.withColumn('events_explode', F.explode('events'))\\\n",
    "                    .withColumn('session', F.col('session').cast(T.IntegerType()))\\\n",
    "                    .withColumn('aid', F.col('events_explode.aid').cast(T.IntegerType()))\\\n",
    "                    .withColumn('ts', F.col('events_explode.ts'))\\\n",
    "                    .withColumn('type', F.col('events_explode.type'))\\\n",
    "                    .drop('events', 'events_explode')\n",
    "    return df_explode"
   ],
   "metadata": {
    "collapsed": false,
    "ExecuteTime": {
     "end_time": "2023-06-20T02:11:28.842735847Z",
     "start_time": "2023-06-20T02:11:28.799312183Z"
    }
   }
  },
  {
   "cell_type": "code",
   "execution_count": 16,
   "outputs": [
    {
     "name": "stdout",
     "output_type": "stream",
     "text": [
      "+--------+-------+-------------+------+\n",
      "| session|    aid|           ts|  type|\n",
      "+--------+-------+-------------+------+\n",
      "|12899779|  59625|1661724000278|clicks|\n",
      "|12899780|1142000|1661724000378|clicks|\n",
      "|12899780| 582732|1661724058352|clicks|\n",
      "|12899780| 973453|1661724109199|clicks|\n",
      "|12899780| 736515|1661724136868|clicks|\n",
      "|12899780|1142000|1661724155248|clicks|\n",
      "|12899781| 141736|1661724000559|clicks|\n",
      "|12899781| 199008|1661724022851|clicks|\n",
      "|12899781|  57315|1661724170835|clicks|\n",
      "|12899781| 194067|1661724246188|clicks|\n",
      "+--------+-------+-------------+------+\n",
      "only showing top 10 rows\n",
      "\n"
     ]
    }
   ],
   "source": [
    "df_explode = explode_df_json_to_tabular(df_raw)\n",
    "df_explode.show(10)"
   ],
   "metadata": {
    "collapsed": false,
    "ExecuteTime": {
     "end_time": "2023-06-20T02:11:29.024153898Z",
     "start_time": "2023-06-20T02:11:28.804439660Z"
    }
   }
  },
  {
   "cell_type": "markdown",
   "metadata": {
    "id": "Zzfeydt02-pf"
   },
   "source": [
    "* Contagem de linhas após o tratamento"
   ]
  },
  {
   "cell_type": "code",
   "execution_count": 17,
   "metadata": {
    "colab": {
     "base_uri": "https://localhost:8080/"
    },
    "executionInfo": {
     "elapsed": 429864,
     "status": "ok",
     "timestamp": 1684605396407,
     "user": {
      "displayName": "",
      "userId": ""
     },
     "user_tz": 180
    },
    "id": "ySwmjzMS2-pf",
    "outputId": "17e64b00-47bd-45cd-f64b-ba1a3b890e04",
    "pycharm": {
     "name": "#%%\n"
    },
    "ExecuteTime": {
     "end_time": "2023-06-20T02:11:29.484315009Z",
     "start_time": "2023-06-20T02:11:29.023967809Z"
    }
   },
   "outputs": [
    {
     "data": {
      "text/plain": "6928123"
     },
     "execution_count": 17,
     "metadata": {},
     "output_type": "execute_result"
    }
   ],
   "source": [
    "df_explode.count()"
   ]
  },
  {
   "cell_type": "markdown",
   "metadata": {
    "id": "x7yVJdnI2-pf"
   },
   "source": [
    "* Schema pós tratamento"
   ]
  },
  {
   "cell_type": "code",
   "execution_count": 18,
   "metadata": {
    "colab": {
     "base_uri": "https://localhost:8080/"
    },
    "executionInfo": {
     "elapsed": 11,
     "status": "ok",
     "timestamp": 1684605396407,
     "user": {
      "displayName": "",
      "userId": ""
     },
     "user_tz": 180
    },
    "id": "8ZxgIbj32-pf",
    "outputId": "847edba3-7bad-4675-d84b-c6530f370f64",
    "pycharm": {
     "name": "#%%\n"
    },
    "ExecuteTime": {
     "end_time": "2023-06-20T02:11:29.488077519Z",
     "start_time": "2023-06-20T02:11:29.482257394Z"
    }
   },
   "outputs": [
    {
     "name": "stdout",
     "output_type": "stream",
     "text": [
      "root\n",
      " |-- session: integer (nullable = true)\n",
      " |-- aid: integer (nullable = true)\n",
      " |-- ts: long (nullable = true)\n",
      " |-- type: string (nullable = true)\n",
      "\n"
     ]
    }
   ],
   "source": [
    "df_explode.printSchema()"
   ]
  },
  {
   "cell_type": "markdown",
   "metadata": {
    "id": "5TT0UYu02-pf"
   },
   "source": [
    "* Categorização de coluna alvo string"
   ]
  },
  {
   "cell_type": "code",
   "execution_count": 19,
   "metadata": {
    "id": "SqWrsvrd2-pg",
    "pycharm": {
     "name": "#%%\n"
    },
    "ExecuteTime": {
     "end_time": "2023-06-20T02:11:29.607577813Z",
     "start_time": "2023-06-20T02:11:29.488433202Z"
    }
   },
   "outputs": [],
   "source": [
    "from pyspark.ml.feature import StringIndexer\n",
    "\n",
    "def transform_indexer(df_explode):\n",
    "    indexer = StringIndexer(inputCol='type', outputCol='type_cat')\n",
    "    indexer_fitted = indexer.fit(df_explode)\n",
    "    df_indexed = indexer_fitted.transform(df_explode)\n",
    "    df_indexed_type = df_indexed.withColumn('type_cat', F.col('type_cat').cast(T.IntegerType())).drop('type')\n",
    "    df_indexed_type_renamed = df_indexed_type.withColumnRenamed('session','userCol')\n",
    "    df_indexed_droped = df_indexed_type_renamed.dropDuplicates()\n",
    "    df = df_indexed_droped.drop('ts')\n",
    "    return df"
   ]
  },
  {
   "cell_type": "code",
   "execution_count": 20,
   "outputs": [
    {
     "name": "stderr",
     "output_type": "stream",
     "text": [
      "[Stage 12:>                                                       (0 + 20) / 20]\r"
     ]
    },
    {
     "name": "stdout",
     "output_type": "stream",
     "text": [
      "+--------+-------+--------+\n",
      "| userCol|    aid|type_cat|\n",
      "+--------+-------+--------+\n",
      "|12900138| 633293|       1|\n",
      "|12900140| 520771|       0|\n",
      "|12900385|1370091|       0|\n",
      "|12900801|1702775|       0|\n",
      "|12901274|1764783|       0|\n",
      "|12901436| 993764|       0|\n",
      "|12901576|1484327|       0|\n",
      "|12901644| 690731|       0|\n",
      "|12901667|1092343|       0|\n",
      "|12902016|1540384|       0|\n",
      "+--------+-------+--------+\n",
      "only showing top 10 rows\n",
      "\n"
     ]
    },
    {
     "name": "stderr",
     "output_type": "stream",
     "text": [
      "                                                                                \r"
     ]
    }
   ],
   "source": [
    "df_indexed = transform_indexer(df_explode).persist()\n",
    "df_indexed.show(10)"
   ],
   "metadata": {
    "collapsed": false,
    "ExecuteTime": {
     "end_time": "2023-06-20T02:11:31.478931308Z",
     "start_time": "2023-06-20T02:11:29.608489905Z"
    }
   }
  },
  {
   "cell_type": "markdown",
   "metadata": {
    "id": "9sBflvQP2-pg"
   },
   "source": [
    "* Conferência de schema pós tratativas"
   ]
  },
  {
   "cell_type": "code",
   "execution_count": 21,
   "metadata": {
    "id": "XlYapJnq2-pg",
    "pycharm": {
     "name": "#%%\n"
    },
    "ExecuteTime": {
     "end_time": "2023-06-20T02:11:31.482504604Z",
     "start_time": "2023-06-20T02:11:31.479365164Z"
    }
   },
   "outputs": [
    {
     "name": "stdout",
     "output_type": "stream",
     "text": [
      "root\n",
      " |-- userCol: integer (nullable = true)\n",
      " |-- aid: integer (nullable = true)\n",
      " |-- type_cat: integer (nullable = true)\n",
      "\n"
     ]
    }
   ],
   "source": [
    "df_indexed.printSchema()"
   ]
  },
  {
   "cell_type": "markdown",
   "metadata": {
    "id": "uz5hvXWe2-pg"
   },
   "source": [
    "## Análise de Clientes"
   ]
  },
  {
   "cell_type": "markdown",
   "metadata": {
    "id": "g-hOLkW72-pg"
   },
   "source": [
    "* Quantidade de clientes únicos"
   ]
  },
  {
   "cell_type": "code",
   "execution_count": 22,
   "metadata": {
    "id": "88JSNEcL2-pg",
    "pycharm": {
     "name": "#%%\n"
    },
    "ExecuteTime": {
     "end_time": "2023-06-20T02:11:37.835606734Z",
     "start_time": "2023-06-20T02:11:31.482412293Z"
    }
   },
   "outputs": [
    {
     "name": "stderr",
     "output_type": "stream",
     "text": [
      "                                                                                \r"
     ]
    },
    {
     "data": {
      "text/plain": "1671803"
     },
     "execution_count": 22,
     "metadata": {},
     "output_type": "execute_result"
    }
   ],
   "source": [
    "df_indexed.select('userCol').distinct().count()"
   ]
  },
  {
   "cell_type": "markdown",
   "metadata": {
    "id": "_QhaPkaL2-pg"
   },
   "source": [
    "## Análise de Produtos"
   ]
  },
  {
   "cell_type": "markdown",
   "metadata": {
    "id": "kyGzhjmU2-pg"
   },
   "source": [
    "* Quantidade de produtos únicos"
   ]
  },
  {
   "cell_type": "code",
   "execution_count": 23,
   "metadata": {
    "id": "Kovb8Gd02-pg",
    "pycharm": {
     "name": "#%%\n"
    },
    "ExecuteTime": {
     "end_time": "2023-06-20T02:11:42.478855908Z",
     "start_time": "2023-06-20T02:11:37.836346977Z"
    }
   },
   "outputs": [
    {
     "name": "stderr",
     "output_type": "stream",
     "text": [
      "                                                                                \r"
     ]
    },
    {
     "data": {
      "text/plain": "783486"
     },
     "execution_count": 23,
     "metadata": {},
     "output_type": "execute_result"
    }
   ],
   "source": [
    "df_indexed.select('aid').distinct().count()"
   ]
  },
  {
   "cell_type": "markdown",
   "source": [
    "# Escrita de DataFrame tratado"
   ],
   "metadata": {
    "collapsed": false
   }
  },
  {
   "cell_type": "code",
   "execution_count": 24,
   "outputs": [
    {
     "name": "stderr",
     "output_type": "stream",
     "text": [
      "                                                                                \r"
     ]
    }
   ],
   "source": [
    "df_indexed.write.format('parquet')\\\n",
    "                       .mode(\"overwrite\")\\\n",
    "                       .save('/'.join([os.getcwd(), 'refined-dataset']))"
   ],
   "metadata": {
    "collapsed": false,
    "pycharm": {
     "name": "#%%\n"
    },
    "ExecuteTime": {
     "end_time": "2023-06-20T02:11:45.633632496Z",
     "start_time": "2023-06-20T02:11:42.478576314Z"
    }
   }
  },
  {
   "cell_type": "code",
   "execution_count": 25,
   "outputs": [
    {
     "data": {
      "text/plain": "DataFrame[userCol: int, aid: int, type_cat: int]"
     },
     "execution_count": 25,
     "metadata": {},
     "output_type": "execute_result"
    }
   ],
   "source": [
    "df_raw.unpersist()\n",
    "df_explode.unpersist()\n",
    "df_indexed.unpersist()"
   ],
   "metadata": {
    "collapsed": false,
    "pycharm": {
     "name": "#%%\n"
    },
    "ExecuteTime": {
     "end_time": "2023-06-20T02:11:45.684009673Z",
     "start_time": "2023-06-20T02:11:45.632120532Z"
    }
   }
  },
  {
   "cell_type": "markdown",
   "metadata": {
    "id": "LJEw7zThN6sq"
   },
   "source": [
    "# Lendo o dataset refinado"
   ]
  },
  {
   "cell_type": "code",
   "execution_count": 26,
   "outputs": [
    {
     "name": "stdout",
     "output_type": "stream",
     "text": [
      "+--------+-------+--------+\n",
      "| userCol|    aid|type_cat|\n",
      "+--------+-------+--------+\n",
      "|12899845| 314210|       0|\n",
      "|12899913|1531805|       0|\n",
      "|12900133|1060926|       0|\n",
      "|12900341| 142677|       0|\n",
      "|12900389| 423932|       0|\n",
      "|12901030| 348492|       0|\n",
      "|12901439|  97836|       0|\n",
      "|12901506|1144769|       0|\n",
      "|12901684| 800913|       0|\n",
      "|12902019|1559880|       0|\n",
      "|12902234|  64218|       0|\n",
      "|12902301| 235135|       0|\n",
      "|12902383| 674590|       0|\n",
      "|12902392|1336393|       0|\n",
      "|12902834| 528280|       0|\n",
      "|12903483|  83856|       2|\n",
      "|12904044| 274237|       0|\n",
      "|12904078| 190818|       0|\n",
      "|12904260| 788288|       0|\n",
      "|12904696| 527568|       1|\n",
      "+--------+-------+--------+\n",
      "only showing top 20 rows\n",
      "\n"
     ]
    }
   ],
   "source": [
    "df_refined = spark.read.format('parquet').load('refined-dataset').persist()\n",
    "df_refined.show()"
   ],
   "metadata": {
    "collapsed": false,
    "pycharm": {
     "name": "#%%\n"
    },
    "ExecuteTime": {
     "end_time": "2023-06-20T02:11:46.168333702Z",
     "start_time": "2023-06-20T02:11:45.685068608Z"
    }
   }
  },
  {
   "cell_type": "code",
   "execution_count": 27,
   "metadata": {
    "id": "dOufeEDdN56X",
    "ExecuteTime": {
     "end_time": "2023-06-20T02:11:46.201212579Z",
     "start_time": "2023-06-20T02:11:46.168546009Z"
    }
   },
   "outputs": [
    {
     "name": "stdout",
     "output_type": "stream",
     "text": [
      "+--------+-------+--------+\n",
      "| userCol|    aid|type_cat|\n",
      "+--------+-------+--------+\n",
      "|12899845| 314210|       0|\n",
      "|12899913|1531805|       0|\n",
      "|12900133|1060926|       0|\n",
      "|12900341| 142677|       0|\n",
      "|12900389| 423932|       0|\n",
      "|12901030| 348492|       0|\n",
      "|12901439|  97836|       0|\n",
      "|12901506|1144769|       0|\n",
      "|12901684| 800913|       0|\n",
      "|12902019|1559880|       0|\n",
      "|12902234|  64218|       0|\n",
      "|12902301| 235135|       0|\n",
      "|12902383| 674590|       0|\n",
      "|12902392|1336393|       0|\n",
      "|12902834| 528280|       0|\n",
      "|12903483|  83856|       2|\n",
      "|12904044| 274237|       0|\n",
      "|12904078| 190818|       0|\n",
      "|12904260| 788288|       0|\n",
      "|12904696| 527568|       1|\n",
      "+--------+-------+--------+\n",
      "only showing top 20 rows\n",
      "\n"
     ]
    }
   ],
   "source": [
    "# df_pre_moodel = df_refined.select(df_refined.columns).where(F.col('type_cat') == 2)\n",
    "df_pre_moodel = df_refined\n",
    "df_pre_moodel.show()"
   ]
  },
  {
   "cell_type": "code",
   "execution_count": 28,
   "outputs": [
    {
     "name": "stderr",
     "output_type": "stream",
     "text": [
      "                                                                                \r"
     ]
    },
    {
     "data": {
      "text/plain": "1671803"
     },
     "execution_count": 28,
     "metadata": {},
     "output_type": "execute_result"
    }
   ],
   "source": [
    "df_pre_moodel.select('userCol').distinct().count()"
   ],
   "metadata": {
    "collapsed": false,
    "ExecuteTime": {
     "end_time": "2023-06-20T02:11:47.822256116Z",
     "start_time": "2023-06-20T02:11:46.189325883Z"
    }
   }
  },
  {
   "cell_type": "code",
   "execution_count": 29,
   "outputs": [
    {
     "data": {
      "text/plain": "6924640"
     },
     "execution_count": 29,
     "metadata": {},
     "output_type": "execute_result"
    }
   ],
   "source": [
    "df_pre_moodel.count()"
   ],
   "metadata": {
    "collapsed": false,
    "ExecuteTime": {
     "end_time": "2023-06-20T02:11:47.883896591Z",
     "start_time": "2023-06-20T02:11:47.823044851Z"
    }
   }
  },
  {
   "cell_type": "code",
   "execution_count": 30,
   "metadata": {
    "pycharm": {
     "name": "#%%\n"
    },
    "ExecuteTime": {
     "end_time": "2023-06-20T02:11:47.884064689Z",
     "start_time": "2023-06-20T02:11:47.862568903Z"
    }
   },
   "outputs": [],
   "source": [
    "from pyspark.ml.evaluation import RegressionEvaluator\n",
    "from pyspark.ml.recommendation import ALS\n",
    "from pyspark.sql import Row\n",
    "\n",
    "# (training, test) = df_pre_moodel.randomSplit([0.6, 0.4])\n",
    "training = df_pre_moodel"
   ]
  },
  {
   "cell_type": "code",
   "execution_count": 31,
   "outputs": [
    {
     "name": "stderr",
     "output_type": "stream",
     "text": [
      "                                                                                \r"
     ]
    }
   ],
   "source": [
    "# Build the recommendation model using ALS on the training data\n",
    "# Note we set cold start strategy to 'drop' to ensure we don't get NaN evaluation metrics\n",
    "als = ALS(maxIter=5,\n",
    "          regParam=0.01,\n",
    "          userCol=\"userCol\",\n",
    "          itemCol=\"aid\",\n",
    "          ratingCol=\"type_cat\",\n",
    "          coldStartStrategy=\"drop\",\n",
    "          implicitPrefs=True)\n",
    "model = als.fit(training)"
   ],
   "metadata": {
    "collapsed": false,
    "pycharm": {
     "name": "#%%\n"
    },
    "ExecuteTime": {
     "end_time": "2023-06-20T02:11:57.735479260Z",
     "start_time": "2023-06-20T02:11:47.865473018Z"
    }
   }
  },
  {
   "cell_type": "code",
   "execution_count": 32,
   "outputs": [],
   "source": [
    "# # Evaluate the model by computing the RMSE on the test data\n",
    "# predictions = model.transform(test)\n",
    "# evaluator = RegressionEvaluator(metricName=\"rmse\", labelCol=\"type_cat\",\n",
    "#                                 predictionCol=\"prediction\")\n",
    "# rmse = evaluator.evaluate(predictions)\n",
    "# print(\"Root-mean-square error = \" + str(rmse))"
   ],
   "metadata": {
    "collapsed": false,
    "pycharm": {
     "name": "#%%\n"
    },
    "ExecuteTime": {
     "end_time": "2023-06-20T02:11:57.738592510Z",
     "start_time": "2023-06-20T02:11:57.737070462Z"
    }
   }
  },
  {
   "cell_type": "markdown",
   "source": [
    "# Utilizando dataset de teste da competição"
   ],
   "metadata": {
    "collapsed": false
   }
  },
  {
   "cell_type": "code",
   "execution_count": 33,
   "outputs": [],
   "source": [
    "file_name = 'test.jsonl'\n",
    "file_path = '/'.join([os.getcwd(), file_name])"
   ],
   "metadata": {
    "collapsed": false,
    "ExecuteTime": {
     "end_time": "2023-06-20T02:11:57.750323926Z",
     "start_time": "2023-06-20T02:11:57.738702191Z"
    }
   }
  },
  {
   "cell_type": "code",
   "execution_count": 34,
   "outputs": [],
   "source": [
    "df_test = spark.read \\\n",
    "    .format(\"json\") \\\n",
    "    .option(\"inferSchema\", \"true\") \\\n",
    "    .option(\"header\", \"true\") \\\n",
    "    .json(file_path).persist()"
   ],
   "metadata": {
    "collapsed": false,
    "ExecuteTime": {
     "end_time": "2023-06-20T02:11:58.254431591Z",
     "start_time": "2023-06-20T02:11:57.751027998Z"
    }
   }
  },
  {
   "cell_type": "code",
   "execution_count": 35,
   "outputs": [
    {
     "name": "stdout",
     "output_type": "stream",
     "text": [
      "+--------------------+--------+\n",
      "|              events| session|\n",
      "+--------------------+--------+\n",
      "|[{59625, 16617240...|12899779|\n",
      "|[{1142000, 166172...|12899780|\n",
      "|[{141736, 1661724...|12899781|\n",
      "|[{1669402, 166172...|12899782|\n",
      "|[{255297, 1661724...|12899783|\n",
      "|[{1036375, 166172...|12899784|\n",
      "|[{1784451, 166172...|12899785|\n",
      "|[{955252, 1661724...|12899786|\n",
      "|[{1682750, 166172...|12899787|\n",
      "|[{245131, 1661724...|12899788|\n",
      "|[{525156, 1661724...|12899789|\n",
      "|[{1219653, 166172...|12899790|\n",
      "|[{915175, 1661724...|12899791|\n",
      "|[{1537160, 166172...|12899792|\n",
      "|[{1181781, 166172...|12899793|\n",
      "|[{1746099, 166172...|12899794|\n",
      "|[{207754, 1661724...|12899795|\n",
      "|[{4503, 166172400...|12899796|\n",
      "|[{1335784, 166172...|12899797|\n",
      "|[{379440, 1661724...|12899798|\n",
      "+--------------------+--------+\n",
      "only showing top 20 rows\n",
      "\n"
     ]
    }
   ],
   "source": [
    "df_test.show()"
   ],
   "metadata": {
    "collapsed": false,
    "ExecuteTime": {
     "end_time": "2023-06-20T02:11:59.972280945Z",
     "start_time": "2023-06-20T02:11:59.700601583Z"
    }
   }
  },
  {
   "cell_type": "code",
   "execution_count": 36,
   "outputs": [
    {
     "name": "stderr",
     "output_type": "stream",
     "text": [
      "                                                                                \r"
     ]
    },
    {
     "data": {
      "text/plain": "1671803"
     },
     "execution_count": 36,
     "metadata": {},
     "output_type": "execute_result"
    }
   ],
   "source": [
    "df_test.count()"
   ],
   "metadata": {
    "collapsed": false,
    "ExecuteTime": {
     "end_time": "2023-06-20T02:12:01.883613494Z",
     "start_time": "2023-06-20T02:12:00.988066412Z"
    }
   }
  },
  {
   "cell_type": "markdown",
   "source": [
    "# Tratamento de subset para recomendações"
   ],
   "metadata": {
    "collapsed": false
   }
  },
  {
   "cell_type": "code",
   "execution_count": 37,
   "outputs": [
    {
     "data": {
      "text/plain": "6928123"
     },
     "execution_count": 37,
     "metadata": {},
     "output_type": "execute_result"
    }
   ],
   "source": [
    "df_pre_transform = explode_df_json_to_tabular(df_test)\n",
    "df_pre_transform.count()"
   ],
   "metadata": {
    "collapsed": false,
    "ExecuteTime": {
     "end_time": "2023-06-20T02:12:18.978172089Z",
     "start_time": "2023-06-20T02:12:18.841739599Z"
    }
   }
  },
  {
   "cell_type": "code",
   "execution_count": 38,
   "outputs": [
    {
     "data": {
      "text/plain": "1671803"
     },
     "execution_count": 38,
     "metadata": {},
     "output_type": "execute_result"
    }
   ],
   "source": [
    "df_subset = transform_indexer(df_pre_transform).select('userCol').distinct()\n",
    "df_subset.count()"
   ],
   "metadata": {
    "collapsed": false,
    "ExecuteTime": {
     "end_time": "2023-06-20T02:12:20.594254254Z",
     "start_time": "2023-06-20T02:12:19.688915403Z"
    }
   }
  },
  {
   "cell_type": "code",
   "execution_count": 39,
   "outputs": [
    {
     "name": "stderr",
     "output_type": "stream",
     "text": [
      "                                                                                \r"
     ]
    },
    {
     "data": {
      "text/plain": "1671803"
     },
     "execution_count": 39,
     "metadata": {},
     "output_type": "execute_result"
    }
   ],
   "source": [
    "df_pre_moodel.join(df_subset, df_pre_moodel.userCol == df_subset.userCol, 'inner')\\\n",
    "                    .drop(df_subset.userCol).select('userCol').distinct().count()"
   ],
   "metadata": {
    "collapsed": false,
    "ExecuteTime": {
     "end_time": "2023-06-20T02:12:22.186071587Z",
     "start_time": "2023-06-20T02:12:20.594576382Z"
    }
   }
  },
  {
   "cell_type": "code",
   "execution_count": 40,
   "outputs": [
    {
     "name": "stdout",
     "output_type": "stream",
     "text": [
      "root\n",
      " |-- userCol: integer (nullable = false)\n",
      " |-- recommendations: array (nullable = true)\n",
      " |    |-- element: struct (containsNull = true)\n",
      " |    |    |-- aid: integer (nullable = true)\n",
      " |    |    |-- rating: float (nullable = true)\n",
      "\n"
     ]
    }
   ],
   "source": [
    "df_recommend = model.recommendForUserSubset(df_subset, 20)\n",
    "df_recommend.printSchema()"
   ],
   "metadata": {
    "collapsed": false,
    "pycharm": {
     "name": "#%%\n"
    },
    "ExecuteTime": {
     "end_time": "2023-06-20T02:12:22.216777359Z",
     "start_time": "2023-06-20T02:12:22.158118324Z"
    }
   }
  },
  {
   "cell_type": "markdown",
   "source": [
    "# Escrevendo Dataset de Recomendações em JSON"
   ],
   "metadata": {
    "collapsed": false
   }
  },
  {
   "cell_type": "code",
   "execution_count": null,
   "outputs": [
    {
     "name": "stderr",
     "output_type": "stream",
     "text": [
      "[Stage 220:===================>                             (3926 + 20) / 10000]\r"
     ]
    }
   ],
   "source": [
    "df_recommend.write.format('json')\\\n",
    "                  .mode(\"overwrite\")\\\n",
    "                  .save('/'.join([os.getcwd(), 'raw_predictions.json']))"
   ],
   "metadata": {
    "collapsed": false,
    "pycharm": {
     "name": "#%%\n"
    },
    "is_executing": true,
    "ExecuteTime": {
     "start_time": "2023-06-20T02:12:28.058864812Z"
    }
   }
  },
  {
   "cell_type": "code",
   "execution_count": 49,
   "outputs": [
    {
     "data": {
      "text/plain": "DataFrame[userCol: int, recommendations: array<struct<aid:int,rating:float>>]"
     },
     "execution_count": 49,
     "metadata": {},
     "output_type": "execute_result"
    }
   ],
   "source": [
    "df_recommend.unpersist()"
   ],
   "metadata": {
    "collapsed": false,
    "pycharm": {
     "name": "#%%\n"
    },
    "ExecuteTime": {
     "end_time": "2023-06-20T02:56:36.582231917Z",
     "start_time": "2023-06-20T02:56:36.581872550Z"
    }
   }
  },
  {
   "cell_type": "markdown",
   "source": [
    "# Leitura de Dataset RAW_PREDICTIONS\n",
    "Nesta etapa será realizada a conversão do objeto JSON em formato tabular, para se adequar ao formato de submissão da competição."
   ],
   "metadata": {
    "collapsed": false
   }
  },
  {
   "cell_type": "code",
   "execution_count": 50,
   "outputs": [
    {
     "name": "stderr",
     "output_type": "stream",
     "text": [
      "[Stage 248:=======================================>               (15 + 6) / 21]\r"
     ]
    },
    {
     "name": "stdout",
     "output_type": "stream",
     "text": [
      "root\n",
      " |-- recommendations: array (nullable = true)\n",
      " |    |-- element: struct (containsNull = true)\n",
      " |    |    |-- aid: long (nullable = true)\n",
      " |    |    |-- rating: double (nullable = true)\n",
      " |-- userCol: long (nullable = true)\n",
      "\n"
     ]
    },
    {
     "name": "stderr",
     "output_type": "stream",
     "text": [
      "                                                                                \r"
     ]
    }
   ],
   "source": [
    "df_recommend_json = spark.read.format('json').load('./raw_predictions.json').persist()\n",
    "df_recommend_json.printSchema()"
   ],
   "metadata": {
    "collapsed": false,
    "pycharm": {
     "name": "#%%\n"
    },
    "ExecuteTime": {
     "end_time": "2023-06-20T02:56:42.691772588Z",
     "start_time": "2023-06-20T02:56:41.108524440Z"
    }
   }
  },
  {
   "cell_type": "code",
   "execution_count": 51,
   "outputs": [
    {
     "name": "stdout",
     "output_type": "stream",
     "text": [
      "+------------------------------------------------------------------------------------------------------------------------------------------------------------------------------------------------------------------------------------------------------------------------------------------------------------------------------------------------------------------------------------------------------------------------------------------------------------------------------------------------------+--------+\n",
      "|recommendations                                                                                                                                                                                                                                                                                                                                                                                                                                                                                       |userCol |\n",
      "+------------------------------------------------------------------------------------------------------------------------------------------------------------------------------------------------------------------------------------------------------------------------------------------------------------------------------------------------------------------------------------------------------------------------------------------------------------------------------------------------------+--------+\n",
      "|[{1848840, 0.0}, {1848836, 0.0}, {1848820, 0.0}, {1848816, 0.0}, {1848810, 0.0}, {1848796, 0.0}, {1848776, 0.0}, {1848770, 0.0}, {1848750, 0.0}, {1848736, 0.0}, {1848720, 0.0}, {1848710, 0.0}, {1848706, 0.0}, {1848676, 0.0}, {1848660, 0.0}, {1848656, 0.0}, {1848650, 0.0}, {1848640, 0.0}, {1848626, 0.0}, {1848616, 0.0}]                                                                                                                                                                      |12899804|\n",
      "|[{1848840, 0.0}, {1848836, 0.0}, {1848820, 0.0}, {1848816, 0.0}, {1848810, 0.0}, {1848796, 0.0}, {1848776, 0.0}, {1848770, 0.0}, {1848750, 0.0}, {1848736, 0.0}, {1848720, 0.0}, {1848710, 0.0}, {1848706, 0.0}, {1848676, 0.0}, {1848660, 0.0}, {1848656, 0.0}, {1848650, 0.0}, {1848640, 0.0}, {1848626, 0.0}, {1848616, 0.0}]                                                                                                                                                                      |12899817|\n",
      "|[{29735, 8.6644286E-4}, {329725, 4.3214604E-4}, {986164, 2.745614E-4}, {399315, 2.6410777E-4}, {1282769, 2.5779288E-4}, {1734475, 2.447505E-4}, {688602, 2.3792467E-4}, {836852, 2.3508197E-4}, {823143, 2.2885611E-4}, {1729597, 2.0862345E-4}, {172856, 2.0671694E-4}, {1825743, 1.9082717E-4}, {832192, 1.8399244E-4}, {933444, 1.8385652E-4}, {1654170, 1.7764555E-4}, {445334, 1.755782E-4}, {1685214, 1.616229E-4}, {496180, 1.5682064E-4}, {249152, 1.5600286E-4}, {62957, 1.4661717E-4}]      |12899822|\n",
      "|[{986164, 0.04060258}, {1462420, 0.038476866}, {326904, 0.03195172}, {688602, 0.029516228}, {332654, 0.02831803}, {496180, 0.027246298}, {1286213, 0.024197415}, {108125, 0.024150584}, {1758331, 0.020728333}, {660655, 0.018980315}, {1104469, 0.018267801}, {554660, 0.016619679}, {258353, 0.016228965}, {408008, 0.015996216}, {1006198, 0.015459355}, {1338099, 0.015369002}, {1626731, 0.014871924}, {1003550, 0.014805948}, {1434081, 0.014729703}, {836852, 0.014680166}]                    |12899852|\n",
      "|[{496180, 0.002646994}, {108125, 0.0023994897}, {508883, 0.0022372496}, {670066, 0.0020868087}, {986164, 0.0020418006}, {326904, 0.0017149618}, {258353, 0.0015861137}, {332654, 0.001527393}, {823143, 0.0013502614}, {1292042, 0.0013317103}, {1758331, 0.0012310983}, {558573, 0.001220319}, {147526, 0.0011406059}, {1006198, 0.0011402823}, {1104469, 0.0010782278}, {166037, 0.0010746011}, {1449873, 0.0010487902}, {29735, 0.001030361}, {329725, 0.001022098}, {249152, 9.0469583E-4}]       |12899875|\n",
      "|[{1848840, 0.0}, {1848836, 0.0}, {1848820, 0.0}, {1848816, 0.0}, {1848810, 0.0}, {1848796, 0.0}, {1848776, 0.0}, {1848770, 0.0}, {1848750, 0.0}, {1848736, 0.0}, {1848720, 0.0}, {1848710, 0.0}, {1848706, 0.0}, {1848676, 0.0}, {1848660, 0.0}, {1848656, 0.0}, {1848650, 0.0}, {1848640, 0.0}, {1848626, 0.0}, {1848616, 0.0}]                                                                                                                                                                      |12899876|\n",
      "|[{558573, 2.9745997E-5}, {986164, 2.5453337E-5}, {1829291, 2.4529938E-5}, {714524, 2.1287731E-5}, {554660, 2.1078138E-5}, {25964, 1.9623512E-5}, {406829, 1.811254E-5}, {1617379, 1.7668104E-5}, {1474169, 1.7171284E-5}, {832192, 1.7140785E-5}, {1043508, 1.6027005E-5}, {1052859, 1.5168103E-5}, {1662401, 1.5020358E-5}, {1257293, 1.38233445E-5}, {881286, 1.3362275E-5}, {332654, 1.3208139E-5}, {445334, 1.31961E-5}, {1460571, 1.3135865E-5}, {821889, 1.2378102E-5}, {1495817, 1.2358259E-5}]|12899903|\n",
      "|[{836852, 0.0017704731}, {1022566, 0.0012667557}, {1778843, 8.886996E-4}, {579690, 8.493885E-4}, {554660, 7.8578637E-4}, {1338099, 7.053193E-4}, {108125, 6.902441E-4}, {1003550, 6.196343E-4}, {1685214, 6.1948004E-4}, {1434081, 6.1695627E-4}, {544144, 6.021242E-4}, {1462420, 5.751247E-4}, {1140470, 5.195549E-4}, {78453, 4.7990194E-4}, {1146575, 4.6446084E-4}, {249152, 4.4979938E-4}, {74875, 4.1616117E-4}, {1050488, 3.9128342E-4}, {1236775, 3.8961292E-4}, {615566, 3.7209564E-4}]     |12899913|\n",
      "|[{1848840, 0.0}, {1848836, 0.0}, {1848820, 0.0}, {1848816, 0.0}, {1848810, 0.0}, {1848796, 0.0}, {1848776, 0.0}, {1848770, 0.0}, {1848750, 0.0}, {1848736, 0.0}, {1848720, 0.0}, {1848710, 0.0}, {1848706, 0.0}, {1848676, 0.0}, {1848660, 0.0}, {1848656, 0.0}, {1848650, 0.0}, {1848640, 0.0}, {1848626, 0.0}, {1848616, 0.0}]                                                                                                                                                                      |12899927|\n",
      "|[{579690, 0.009803042}, {986164, 0.009542192}, {29735, 0.008478721}, {1146575, 0.008211069}, {1043508, 0.008200788}, {108125, 0.007107204}, {1825743, 0.006849844}, {272744, 0.005986749}, {496180, 0.005520177}, {615566, 0.0053148875}, {1758331, 0.0048715845}, {1413049, 0.004658115}, {832192, 0.004549592}, {1109220, 0.004485011}, {508883, 0.004428004}, {887666, 0.0043054144}, {1668343, 0.0040584104}, {1734475, 0.00381262}, {485256, 0.0038042066}, {1449873, 0.0035524399}]             |12899950|\n",
      "+------------------------------------------------------------------------------------------------------------------------------------------------------------------------------------------------------------------------------------------------------------------------------------------------------------------------------------------------------------------------------------------------------------------------------------------------------------------------------------------------------+--------+\n",
      "only showing top 10 rows\n",
      "\n"
     ]
    }
   ],
   "source": [
    "df_recommend_json.show(10, truncate=False)"
   ],
   "metadata": {
    "collapsed": false,
    "pycharm": {
     "name": "#%%\n"
    },
    "ExecuteTime": {
     "end_time": "2023-06-20T02:56:45.310867203Z",
     "start_time": "2023-06-20T02:56:45.285554849Z"
    }
   }
  },
  {
   "cell_type": "markdown",
   "source": [
    "* Tratamento JSON->Tabular"
   ],
   "metadata": {
    "collapsed": false
   }
  },
  {
   "cell_type": "code",
   "execution_count": 52,
   "outputs": [
    {
     "name": "stdout",
     "output_type": "stream",
     "text": [
      "root\n",
      " |-- userCol: long (nullable = true)\n",
      " |-- aid: integer (nullable = true)\n",
      "\n"
     ]
    }
   ],
   "source": [
    "df_recommend_json_exploded = df_recommend_json.withColumn('recommendations_explode', F.explode('recommendations'))\\\n",
    "                                    .withColumn('aid', F.col('recommendations_explode.aid').cast(T.IntegerType()))\\\n",
    "                                    .drop('recommendations_explode', 'recommendations')\n",
    "df_recommend_json_exploded.printSchema()"
   ],
   "metadata": {
    "collapsed": false,
    "ExecuteTime": {
     "end_time": "2023-06-20T02:56:49.134608470Z",
     "start_time": "2023-06-20T02:56:49.123634204Z"
    }
   }
  },
  {
   "cell_type": "code",
   "execution_count": 53,
   "outputs": [
    {
     "name": "stdout",
     "output_type": "stream",
     "text": [
      "+--------+-------+\n",
      "| userCol|    aid|\n",
      "+--------+-------+\n",
      "|12899804|1848840|\n",
      "|12899804|1848836|\n",
      "|12899804|1848820|\n",
      "|12899804|1848816|\n",
      "|12899804|1848810|\n",
      "|12899804|1848796|\n",
      "|12899804|1848776|\n",
      "|12899804|1848770|\n",
      "|12899804|1848750|\n",
      "|12899804|1848736|\n",
      "+--------+-------+\n",
      "only showing top 10 rows\n",
      "\n"
     ]
    }
   ],
   "source": [
    "df_recommend_json_exploded.show(10)"
   ],
   "metadata": {
    "collapsed": false,
    "ExecuteTime": {
     "end_time": "2023-06-20T02:56:51.421075139Z",
     "start_time": "2023-06-20T02:56:51.386362606Z"
    }
   }
  },
  {
   "cell_type": "markdown",
   "source": [
    "# Agrupando top 20 itens por usuário"
   ],
   "metadata": {
    "collapsed": false
   }
  },
  {
   "cell_type": "code",
   "execution_count": 54,
   "outputs": [
    {
     "name": "stdout",
     "output_type": "stream",
     "text": [
      "+------------+------------------------------------------------------------------------------------------------------------------------------------------------------------------------------------+\n",
      "|session_type|labels                                                                                                                                                                              |\n",
      "+------------+------------------------------------------------------------------------------------------------------------------------------------------------------------------------------------+\n",
      "|12900014    |[485256, 714524, 1571865, 1495817, 1604220, 25964, 471073, 579690, 1236775, 1257293, 832192, 1043508, 272744, 1626731, 480314, 345875, 1829291, 1022566, 508883, 615566]            |\n",
      "|12903226    |[1848840, 1848836, 1848820, 1848816, 1848810, 1848796, 1848776, 1848770, 1848750, 1848736, 1848720, 1848710, 1848706, 1848676, 1848660, 1848656, 1848650, 1848640, 1848626, 1848616]|\n",
      "|12903765    |[1848840, 1848836, 1848820, 1848816, 1848810, 1848796, 1848776, 1848770, 1848750, 1848736, 1848720, 1848710, 1848706, 1848676, 1848660, 1848656, 1848650, 1848640, 1848626, 1848616]|\n",
      "|12904744    |[1848840, 1848836, 1848820, 1848816, 1848810, 1848796, 1848776, 1848770, 1848750, 1848736, 1848720, 1848710, 1848706, 1848676, 1848660, 1848656, 1848650, 1848640, 1848626, 1848616]|\n",
      "|12905817    |[1848840, 1848836, 1848820, 1848816, 1848810, 1848796, 1848776, 1848770, 1848750, 1848736, 1848720, 1848710, 1848706, 1848676, 1848660, 1848656, 1848650, 1848640, 1848626, 1848616]|\n",
      "|12906542    |[1848840, 1848836, 1848820, 1848816, 1848810, 1848796, 1848776, 1848770, 1848750, 1848736, 1848720, 1848710, 1848706, 1848676, 1848660, 1848656, 1848650, 1848640, 1848626, 1848616]|\n",
      "|12906954    |[1848840, 1848836, 1848820, 1848816, 1848810, 1848796, 1848776, 1848770, 1848750, 1848736, 1848720, 1848710, 1848706, 1848676, 1848660, 1848656, 1848650, 1848640, 1848626, 1848616]|\n",
      "|12908578    |[1848840, 1848836, 1848820, 1848816, 1848810, 1848796, 1848776, 1848770, 1848750, 1848736, 1848720, 1848710, 1848706, 1848676, 1848660, 1848656, 1848650, 1848640, 1848626, 1848616]|\n",
      "|12908814    |[1848840, 1848836, 1848820, 1848816, 1848810, 1848796, 1848776, 1848770, 1848750, 1848736, 1848720, 1848710, 1848706, 1848676, 1848660, 1848656, 1848650, 1848640, 1848626, 1848616]|\n",
      "|12909880    |[1848840, 1848836, 1848820, 1848816, 1848810, 1848796, 1848776, 1848770, 1848750, 1848736, 1848720, 1848710, 1848706, 1848676, 1848660, 1848656, 1848650, 1848640, 1848626, 1848616]|\n",
      "+------------+------------------------------------------------------------------------------------------------------------------------------------------------------------------------------------+\n",
      "only showing top 10 rows\n",
      "\n"
     ]
    }
   ],
   "source": [
    "df_submission_raw = df_recommend_json_exploded.withColumn('userCol', F.col('userCol').cast(T.StringType()))\\\n",
    "                                                .groupby('userCol').agg(F.collect_list('aid').alias(\"labels\")).persist()\n",
    "df_submission_raw = df_submission_raw.withColumnRenamed('userCol', 'session_type')\n",
    "df_submission_raw.show(10, truncate=False)"
   ],
   "metadata": {
    "collapsed": false,
    "ExecuteTime": {
     "end_time": "2023-06-20T02:56:54.840581938Z",
     "start_time": "2023-06-20T02:56:54.800363810Z"
    }
   }
  },
  {
   "cell_type": "code",
   "execution_count": 55,
   "outputs": [
    {
     "data": {
      "text/plain": "1671803"
     },
     "execution_count": 55,
     "metadata": {},
     "output_type": "execute_result"
    }
   ],
   "source": [
    "df_submission_raw.count()"
   ],
   "metadata": {
    "collapsed": false,
    "ExecuteTime": {
     "end_time": "2023-06-20T02:56:57.172454738Z",
     "start_time": "2023-06-20T02:56:56.845088687Z"
    }
   }
  },
  {
   "cell_type": "markdown",
   "source": [
    "# Criando dataset no formato de submissão"
   ],
   "metadata": {
    "collapsed": false
   }
  },
  {
   "cell_type": "code",
   "execution_count": 56,
   "outputs": [
    {
     "data": {
      "text/plain": "['12900014', '12903226', '12903765', '12904744', '12905817']"
     },
     "execution_count": 56,
     "metadata": {},
     "output_type": "execute_result"
    }
   ],
   "source": [
    "users_list_raw = [r[0] for r in df_submission_raw.select('session_type').toLocalIterator()]\n",
    "users_list_raw[:5]"
   ],
   "metadata": {
    "collapsed": false,
    "ExecuteTime": {
     "end_time": "2023-06-20T02:58:05.965891623Z",
     "start_time": "2023-06-20T02:57:14.065097220Z"
    }
   }
  },
  {
   "cell_type": "code",
   "execution_count": 57,
   "outputs": [
    {
     "data": {
      "text/plain": "['12900014_clicks',\n '12903226_clicks',\n '12903765_clicks',\n '12904744_clicks',\n '12905817_clicks']"
     },
     "execution_count": 57,
     "metadata": {},
     "output_type": "execute_result"
    }
   ],
   "source": [
    "users_list_clicks = [s + '_clicks' for s in users_list_raw]\n",
    "users_list_clicks[:5]"
   ],
   "metadata": {
    "collapsed": false,
    "ExecuteTime": {
     "end_time": "2023-06-20T02:58:05.984246790Z",
     "start_time": "2023-06-20T02:58:05.949961123Z"
    }
   }
  },
  {
   "cell_type": "code",
   "execution_count": 58,
   "outputs": [
    {
     "data": {
      "text/plain": "['12900014_carts',\n '12903226_carts',\n '12903765_carts',\n '12904744_carts',\n '12905817_carts']"
     },
     "execution_count": 58,
     "metadata": {},
     "output_type": "execute_result"
    }
   ],
   "source": [
    "users_list_carts = [s + '_carts' for s in users_list_raw]\n",
    "users_list_carts[:5]"
   ],
   "metadata": {
    "collapsed": false,
    "ExecuteTime": {
     "end_time": "2023-06-20T02:58:06.107373996Z",
     "start_time": "2023-06-20T02:58:05.999595230Z"
    }
   }
  },
  {
   "cell_type": "code",
   "execution_count": 59,
   "outputs": [
    {
     "data": {
      "text/plain": "['12900014_orders',\n '12903226_orders',\n '12903765_orders',\n '12904744_orders',\n '12905817_orders']"
     },
     "execution_count": 59,
     "metadata": {},
     "output_type": "execute_result"
    }
   ],
   "source": [
    "users_list_orders = [s + '_orders' for s in users_list_raw]\n",
    "users_list_orders[:5]"
   ],
   "metadata": {
    "collapsed": false,
    "ExecuteTime": {
     "end_time": "2023-06-20T02:58:06.150377472Z",
     "start_time": "2023-06-20T02:58:06.149941240Z"
    }
   }
  },
  {
   "cell_type": "code",
   "execution_count": 60,
   "outputs": [
    {
     "data": {
      "text/plain": "[[485256,\n  714524,\n  1571865,\n  1495817,\n  1604220,\n  25964,\n  471073,\n  579690,\n  1236775,\n  1257293,\n  832192,\n  1043508,\n  272744,\n  1626731,\n  480314,\n  345875,\n  1829291,\n  1022566,\n  508883,\n  615566],\n [1848840,\n  1848836,\n  1848820,\n  1848816,\n  1848810,\n  1848796,\n  1848776,\n  1848770,\n  1848750,\n  1848736,\n  1848720,\n  1848710,\n  1848706,\n  1848676,\n  1848660,\n  1848656,\n  1848650,\n  1848640,\n  1848626,\n  1848616],\n [1848840,\n  1848836,\n  1848820,\n  1848816,\n  1848810,\n  1848796,\n  1848776,\n  1848770,\n  1848750,\n  1848736,\n  1848720,\n  1848710,\n  1848706,\n  1848676,\n  1848660,\n  1848656,\n  1848650,\n  1848640,\n  1848626,\n  1848616],\n [1848840,\n  1848836,\n  1848820,\n  1848816,\n  1848810,\n  1848796,\n  1848776,\n  1848770,\n  1848750,\n  1848736,\n  1848720,\n  1848710,\n  1848706,\n  1848676,\n  1848660,\n  1848656,\n  1848650,\n  1848640,\n  1848626,\n  1848616],\n [1848840,\n  1848836,\n  1848820,\n  1848816,\n  1848810,\n  1848796,\n  1848776,\n  1848770,\n  1848750,\n  1848736,\n  1848720,\n  1848710,\n  1848706,\n  1848676,\n  1848660,\n  1848656,\n  1848650,\n  1848640,\n  1848626,\n  1848616]]"
     },
     "execution_count": 60,
     "metadata": {},
     "output_type": "execute_result"
    }
   ],
   "source": [
    "labels_list = [r[0] for r in df_submission_raw.select('labels').toLocalIterator()]\n",
    "labels_list[:5]"
   ],
   "metadata": {
    "collapsed": false,
    "ExecuteTime": {
     "end_time": "2023-06-20T02:58:18.363333085Z",
     "start_time": "2023-06-20T02:58:06.150112100Z"
    }
   }
  },
  {
   "cell_type": "code",
   "execution_count": 61,
   "outputs": [
    {
     "name": "stdout",
     "output_type": "stream",
     "text": [
      "+---------------+--------------------+\n",
      "|   session_type|              labels|\n",
      "+---------------+--------------------+\n",
      "|12900014_clicks|[485256, 714524, ...|\n",
      "|12903226_clicks|[1848840, 1848836...|\n",
      "|12903765_clicks|[1848840, 1848836...|\n",
      "|12904744_clicks|[1848840, 1848836...|\n",
      "|12905817_clicks|[1848840, 1848836...|\n",
      "+---------------+--------------------+\n",
      "only showing top 5 rows\n",
      "\n"
     ]
    },
    {
     "name": "stderr",
     "output_type": "stream",
     "text": [
      "Current mem limits: -1 of max -1\n",
      "\n",
      "Setting mem limits to 34359738368 of max 34359738368\n",
      "\n"
     ]
    }
   ],
   "source": [
    "df_clicks = spark.createDataFrame(zip(users_list_clicks, labels_list), ['session_type', 'labels'])\n",
    "df_clicks.show(5)"
   ],
   "metadata": {
    "collapsed": false,
    "ExecuteTime": {
     "end_time": "2023-06-20T02:58:55.378164053Z",
     "start_time": "2023-06-20T02:58:18.363797307Z"
    }
   }
  },
  {
   "cell_type": "code",
   "execution_count": 62,
   "outputs": [
    {
     "name": "stdout",
     "output_type": "stream",
     "text": [
      "+--------------+--------------------+\n",
      "|  session_type|              labels|\n",
      "+--------------+--------------------+\n",
      "|12900014_carts|[485256, 714524, ...|\n",
      "|12903226_carts|[1848840, 1848836...|\n",
      "|12903765_carts|[1848840, 1848836...|\n",
      "|12904744_carts|[1848840, 1848836...|\n",
      "|12905817_carts|[1848840, 1848836...|\n",
      "+--------------+--------------------+\n",
      "only showing top 5 rows\n",
      "\n"
     ]
    },
    {
     "name": "stderr",
     "output_type": "stream",
     "text": [
      "Current mem limits: -1 of max -1\n",
      "\n",
      "Setting mem limits to 34359738368 of max 34359738368\n",
      "\n"
     ]
    }
   ],
   "source": [
    "df_carts = spark.createDataFrame(zip(users_list_carts, labels_list), ['session_type', 'labels'])\n",
    "df_carts.show(5)"
   ],
   "metadata": {
    "collapsed": false,
    "ExecuteTime": {
     "end_time": "2023-06-20T02:59:31.584415776Z",
     "start_time": "2023-06-20T02:58:55.377950251Z"
    }
   }
  },
  {
   "cell_type": "code",
   "execution_count": 63,
   "outputs": [
    {
     "name": "stdout",
     "output_type": "stream",
     "text": [
      "+---------------+--------------------+\n",
      "|   session_type|              labels|\n",
      "+---------------+--------------------+\n",
      "|12900014_orders|[485256, 714524, ...|\n",
      "|12903226_orders|[1848840, 1848836...|\n",
      "|12903765_orders|[1848840, 1848836...|\n",
      "|12904744_orders|[1848840, 1848836...|\n",
      "|12905817_orders|[1848840, 1848836...|\n",
      "+---------------+--------------------+\n",
      "only showing top 5 rows\n",
      "\n"
     ]
    },
    {
     "name": "stderr",
     "output_type": "stream",
     "text": [
      "Current mem limits: -1 of max -1\n",
      "\n",
      "Setting mem limits to 34359738368 of max 34359738368\n",
      "\n"
     ]
    }
   ],
   "source": [
    "df_orders = spark.createDataFrame(zip(users_list_orders, labels_list), ['session_type', 'labels'])\n",
    "df_orders.show(5)"
   ],
   "metadata": {
    "collapsed": false,
    "ExecuteTime": {
     "end_time": "2023-06-20T03:00:06.800369807Z",
     "start_time": "2023-06-20T02:59:31.582041265Z"
    }
   }
  },
  {
   "cell_type": "code",
   "execution_count": 64,
   "outputs": [
    {
     "name": "stderr",
     "output_type": "stream",
     "text": [
      "Current mem limits: -1 of max -1\n",
      "\n",
      "Setting mem limits to 34359738368 of max 34359738368\n",
      "\n"
     ]
    },
    {
     "name": "stdout",
     "output_type": "stream",
     "text": [
      "+---------------+--------------------+\n",
      "|   session_type|              labels|\n",
      "+---------------+--------------------+\n",
      "|12900014_clicks|485256 714524 157...|\n",
      "|12903226_clicks|1848840 1848836 1...|\n",
      "|12903765_clicks|1848840 1848836 1...|\n",
      "|12904744_clicks|1848840 1848836 1...|\n",
      "|12905817_clicks|1848840 1848836 1...|\n",
      "|12906542_clicks|1848840 1848836 1...|\n",
      "|12906954_clicks|1848840 1848836 1...|\n",
      "|12908578_clicks|1848840 1848836 1...|\n",
      "|12908814_clicks|1848840 1848836 1...|\n",
      "|12909880_clicks|1848840 1848836 1...|\n",
      "|12910609_clicks|1848840 1848836 1...|\n",
      "|12910767_clicks|1848840 1848836 1...|\n",
      "|12914402_clicks|1043508 508883 29...|\n",
      "|12916785_clicks|1848840 1848836 1...|\n",
      "|12918158_clicks|1848840 1848836 1...|\n",
      "|12918726_clicks|1848840 1848836 1...|\n",
      "|12920450_clicks|1848840 1848836 1...|\n",
      "|12923982_clicks|1848840 1848836 1...|\n",
      "|12925451_clicks|1848840 1848836 1...|\n",
      "|12929071_clicks|1848840 1848836 1...|\n",
      "+---------------+--------------------+\n",
      "only showing top 20 rows\n",
      "\n"
     ]
    }
   ],
   "source": [
    "from functools import reduce\n",
    "from pyspark.sql import DataFrame\n",
    "\n",
    "dfs = [df_clicks,df_carts,df_orders]\n",
    "df_submission = reduce(DataFrame.unionAll, dfs).persist()\n",
    "df_submission = df_submission.withColumn(\"labels\",F.concat_ws(\" \",F.col(\"labels\")))\n",
    "df_submission.show()"
   ],
   "metadata": {
    "collapsed": false,
    "ExecuteTime": {
     "end_time": "2023-06-20T03:00:07.062377580Z",
     "start_time": "2023-06-20T03:00:06.782000179Z"
    }
   }
  },
  {
   "cell_type": "code",
   "execution_count": 65,
   "outputs": [
    {
     "name": "stderr",
     "output_type": "stream",
     "text": [
      "Current mem limits: 34359738368 of max 34359738368\n",
      "\n",
      "Current mem limits: -1 of max -1\n",
      "\n",
      "Setting mem limits to 34359738368 of max 34359738368\n",
      "\n",
      "Current mem limits: -1 of max -1\n",
      "\n",
      "Setting mem limits to 34359738368 of max 34359738368\n",
      "\n",
      "Current mem limits: -1 of max -1\n",
      "\n",
      "Setting mem limits to 34359738368 of max 34359738368\n",
      "\n",
      "Current mem limits: -1 of max -1\n",
      "\n",
      "Setting mem limits to 34359738368 of max 34359738368\n",
      "\n",
      "Current mem limits: -1 of max -1\n",
      "\n",
      "Setting mem limits to 34359738368 of max 34359738368\n",
      "\n",
      "Current mem limits: -1 of max -1\n",
      "\n",
      "Setting mem limits to 34359738368 of max 34359738368\n",
      "\n",
      "Current mem limits: -1 of max -1\n",
      "\n",
      "Setting mem limits to 34359738368 of max 34359738368\n",
      "\n",
      "Current mem limits: -1 of max -1\n",
      "\n",
      "Setting mem limits to 34359738368 of max 34359738368\n",
      "\n",
      "Current mem limits: -1 of max -1\n",
      "\n",
      "Setting mem limits to 34359738368 of max 34359738368\n",
      "\n",
      "Current mem limits: -1 of max -1\n",
      "\n",
      "Setting mem limits to 34359738368 of max 34359738368\n",
      "\n",
      "Current mem limits: -1 of max -1\n",
      "\n",
      "Setting mem limits to 34359738368 of max 34359738368\n",
      "\n",
      "Current mem limits: -1 of max -1\n",
      "\n",
      "Setting mem limits to 34359738368 of max 34359738368\n",
      "\n",
      "Current mem limits: -1 of max -1\n",
      "\n",
      "Setting mem limits to 34359738368 of max 34359738368\n",
      "\n",
      "Current mem limits: -1 of max -1\n",
      "\n",
      "Setting mem limits to 34359738368 of max 34359738368\n",
      "\n",
      "Current mem limits: -1 of max -1\n",
      "\n",
      "Setting mem limits to 34359738368 of max 34359738368\n",
      "\n",
      "Current mem limits: -1 of max -1\n",
      "\n",
      "Setting mem limits to 34359738368 of max 34359738368\n",
      "\n",
      "Current mem limits: -1 of max -1\n",
      "\n",
      "Setting mem limits to 34359738368 of max 34359738368\n",
      "\n",
      "Current mem limits: -1 of max -1\n",
      "\n",
      "Setting mem limits to 34359738368 of max 34359738368\n",
      "\n",
      "Current mem limits: -1 of max -1\n",
      "\n",
      "Setting mem limits to 34359738368 of max 34359738368\n",
      "\n",
      "Current mem limits: 34359738368 of max 34359738368                (2 + 20) / 60]\n",
      "\n",
      "Current mem limits: 34359738368 of max 34359738368\n",
      "\n",
      "Current mem limits: 34359738368 of max 34359738368\n",
      "\n",
      "Current mem limits: 34359738368 of max 34359738368\n",
      "\n",
      "Current mem limits: 34359738368 of max 34359738368\n",
      "\n",
      "Current mem limits: 34359738368 of max 34359738368\n",
      "\n",
      "Current mem limits: 34359738368 of max 34359738368\n",
      "\n",
      "Current mem limits: 34359738368 of max 34359738368\n",
      "\n",
      "Current mem limits: 34359738368 of max 34359738368\n",
      "\n",
      "Current mem limits: 34359738368 of max 34359738368\n",
      "\n",
      "Current mem limits: 34359738368 of max 34359738368               (12 + 20) / 60]\n",
      "\n",
      "Current mem limits: 34359738368 of max 34359738368\n",
      "\n",
      "Current mem limits: 34359738368 of max 34359738368\n",
      "\n",
      "Current mem limits: 34359738368 of max 34359738368\n",
      "\n",
      "Current mem limits: 34359738368 of max 34359738368\n",
      "\n",
      "Current mem limits: 34359738368 of max 34359738368\n",
      "Current mem limits: 34359738368 of max 34359738368\n",
      "\n",
      "\n",
      "Current mem limits: 34359738368 of max 34359738368               (18 + 20) / 60]\n",
      "\n",
      "Current mem limits: 34359738368 of max 34359738368\n",
      "\n",
      "Current mem limits: 34359738368 of max 34359738368\n",
      "\n",
      "Current mem limits: 34359738368 of max 34359738368               (21 + 20) / 60]\n",
      "\n",
      "Current mem limits: 34359738368 of max 34359738368               (22 + 20) / 60]\n",
      "\n",
      "Current mem limits: 34359738368 of max 34359738368\n",
      "\n",
      "Current mem limits: 34359738368 of max 34359738368\n",
      "\n",
      "Current mem limits: 34359738368 of max 34359738368\n",
      "\n",
      "Current mem limits: 34359738368 of max 34359738368               (27 + 20) / 60]\n",
      "\n",
      "Current mem limits: 34359738368 of max 34359738368\n",
      "\n",
      "Current mem limits: 34359738368 of max 34359738368\n",
      "\n",
      "Current mem limits: 34359738368 of max 34359738368\n",
      "\n",
      "Current mem limits: 34359738368 of max 34359738368\n",
      "\n",
      "Current mem limits: 34359738368 of max 34359738368\n",
      "\n",
      "Current mem limits: 34359738368 of max 34359738368               (34 + 20) / 60]\n",
      "\n",
      "Current mem limits: 34359738368 of max 34359738368\n",
      "\n",
      "Current mem limits: 34359738368 of max 34359738368\n",
      "\n",
      "Current mem limits: 34359738368 of max 34359738368\n",
      "\n",
      "Current mem limits: 34359738368 of max 34359738368\n",
      "\n",
      "Current mem limits: 34359738368 of max 34359738368\n",
      "\n",
      "Current mem limits: 34359738368 of max 34359738368\n",
      "\n",
      "Current mem limits: 34359738368 of max 34359738368\n",
      "\n",
      "                                                                                \r"
     ]
    },
    {
     "data": {
      "text/plain": "5015409"
     },
     "execution_count": 65,
     "metadata": {},
     "output_type": "execute_result"
    }
   ],
   "source": [
    "df_submission.count()"
   ],
   "metadata": {
    "collapsed": false,
    "ExecuteTime": {
     "end_time": "2023-06-20T03:00:10.743481168Z",
     "start_time": "2023-06-20T03:00:07.063132256Z"
    }
   }
  },
  {
   "cell_type": "markdown",
   "source": [
    "# Escrevendo dataset de submissão"
   ],
   "metadata": {
    "collapsed": false
   }
  },
  {
   "cell_type": "code",
   "execution_count": 66,
   "outputs": [
    {
     "name": "stderr",
     "output_type": "stream",
     "text": [
      "                                                                                \r"
     ]
    }
   ],
   "source": [
    "df_submission.orderBy('session_type').coalesce(1)\\\n",
    "                                     .write.format('csv')\\\n",
    "                                     .mode(\"overwrite\")\\\n",
    "                                     .option(\"header\", True)\\\n",
    "                                     .save('/'.join([os.getcwd(), 'submission']))"
   ],
   "metadata": {
    "collapsed": false,
    "ExecuteTime": {
     "end_time": "2023-06-20T03:00:30.060679802Z",
     "start_time": "2023-06-20T03:00:22.179298150Z"
    }
   }
  },
  {
   "cell_type": "code",
   "execution_count": null,
   "metadata": {
    "id": "WhRKBAOXN5NK"
   },
   "outputs": [],
   "source": []
  },
  {
   "cell_type": "markdown",
   "metadata": {
    "id": "OVMqenPL2-ps",
    "pycharm": {
     "name": "#%% md\n"
    }
   },
   "source": [
    "# Referências Bibliográficas\n",
    "\n",
    "> https://github.com/Kaggle/kaggle-api, acessado em 24/01/2023.\n",
    "\n",
    "> https://www.youtube.com/watch?v=aBNQzWV_UmE, acessado em 24/01/2023.\n",
    "\n",
    "> https://databricks-prod-cloudfront.cloud.databricks.com/public/4027ec902e239c93eaaa8714f173bcfc/968100988546031/157591980591166/8836542754149149/latest.html, acessado em 25/01/2023.\n",
    "\n",
    "> https://blog.clairvoyantsoft.com/apache-spark-out-of-memory-issue-b63c7987fff, acessado em 25/01/2023.\n",
    "\n",
    "> https://spark.apache.org/docs/latest/api/python/getting_started/quickstart_ps.html, acessado em 26/01/2023.\n",
    "\n",
    "> https://docs.fast.ai/collab.html, acessado em 24/01/2023.\n",
    "\n",
    "> https://course.fast.ai/Lessons/lesson7.html, acessado em 24/01/2023.\n",
    "\n",
    "> https://github.com/fastai/fastbook/blob/master/08_collab.ipynb, acessado em 24/01/2023.\n",
    "\n",
    "> https://www.kaggle.com/code/vchulski/tutorial-collaborative-filtering-with-pyspark\n",
    "\n",
    "> https://medium.com/analytics-vidhya/crafting-recommendation-engine-in-pyspark-a7ca242ad40a\n",
    "\n",
    "> https://www.freecodecamp.org/news/8-clustering-algorithms-in-machine-learning-that-all-data-scientists-should-know/\n",
    "\n",
    "> https://www.youtube.com/watch?v=fpqa0_U4zb4\n",
    "\n",
    "> https://www.youtube.com/watch?v=58OjaDH2FI0&t=742s\n",
    "\n",
    "> https://spark.apache.org/docs/latest/ml-collaborative-filtering.html\n",
    "\n",
    "> https://spark.apache.org/docs/latest/configuration.html#memory-management"
   ]
  },
  {
   "cell_type": "code",
   "execution_count": null,
   "metadata": {
    "id": "UKVRFgzxPPxz"
   },
   "outputs": [],
   "source": []
  }
 ],
 "metadata": {
  "colab": {
   "provenance": [
    {
     "file_id": "https://github.com/paulohgontijoo/fastaiOnCampus/blob/main/artigos/lesson-7/150143800_paulohgontijoo_Paulo_Henrique_Costa_Gontijo.ipynb",
     "timestamp": 1684605532949
    }
   ]
  },
  "gpuClass": "standard",
  "jupytext": {
   "split_at_heading": true
  },
  "kernelspec": {
   "display_name": "Python 3 (ipykernel)",
   "language": "python",
   "name": "python3"
  },
  "language_info": {
   "codemirror_mode": {
    "name": "ipython",
    "version": 3
   },
   "file_extension": ".py",
   "mimetype": "text/x-python",
   "name": "python",
   "nbconvert_exporter": "python",
   "pygments_lexer": "ipython3",
   "version": "3.10.6"
  }
 },
 "nbformat": 4,
 "nbformat_minor": 1
}
